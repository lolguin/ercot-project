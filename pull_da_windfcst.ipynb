{
 "cells": [
  {
   "cell_type": "code",
   "execution_count": 15,
   "metadata": {},
   "outputs": [],
   "source": [
    "from bs4 import BeautifulSoup as bs\n",
    "import requests\n",
    "import pandas as pd\n",
    "import datetime\n",
    "import os"
   ]
  },
  {
   "cell_type": "code",
   "execution_count": 16,
   "metadata": {},
   "outputs": [],
   "source": [
    "#Wind Power Production - Hourly Averaged Actual and Forecasted Values\n",
    "url = 'http://mis.ercot.com/misapp/GetReports.do?reportTypeId=13028&reportTitle=Wind%20Power%20Production%20-%20Hourly%20Averaged%20Actual%20and%20Forecasted%20Values&showHTMLView=&mimicKey'"
   ]
  },
  {
   "cell_type": "code",
   "execution_count": 17,
   "metadata": {},
   "outputs": [],
   "source": [
    "response = requests.get(url)"
   ]
  },
  {
   "cell_type": "code",
   "execution_count": 18,
   "metadata": {},
   "outputs": [],
   "source": [
    "soup = bs(response.text, 'html.parser')"
   ]
  },
  {
   "cell_type": "code",
   "execution_count": 19,
   "metadata": {},
   "outputs": [],
   "source": [
    "title_results = soup.find_all('td', class_='labelOptional_ind')"
   ]
  },
  {
   "cell_type": "code",
   "execution_count": 20,
   "metadata": {},
   "outputs": [],
   "source": [
    "url_results = soup.find_all('td', class_='labelOptional', text=True)"
   ]
  },
  {
   "cell_type": "code",
   "execution_count": 21,
   "metadata": {},
   "outputs": [],
   "source": [
    "base_url = 'http://mis.ercot.com'\n",
    "\n",
    "data_urls = []\n",
    "\n",
    "for result in url_results:\n",
    "    try:\n",
    "        end_url = result.find('div').a['href']\n",
    "        full_url = base_url + end_url\n",
    "        data_urls.append(full_url)\n",
    "        #print(full_url)\n",
    "    except:\n",
    "        pass"
   ]
  },
  {
   "cell_type": "markdown",
   "metadata": {},
   "source": [
    "## Extract Zip File from URL"
   ]
  },
  {
   "cell_type": "code",
   "execution_count": 93,
   "metadata": {},
   "outputs": [],
   "source": [
    "data = requests.get(data_urls[0], stream=True)"
   ]
  },
  {
   "cell_type": "code",
   "execution_count": 94,
   "metadata": {},
   "outputs": [
    {
     "name": "stdout",
     "output_type": "stream",
     "text": [
      "File Name: cdr.00013028.0000000000000000.20200727.175518.WPPHRLYAVGACTNP4732.csv\n"
     ]
    }
   ],
   "source": [
    "import requests, zipfile, io\n",
    "\n",
    "z = zipfile.ZipFile(io.BytesIO(data.content))\n",
    "z.extractall()\n",
    "file = z.namelist()[0]\n",
    "\n",
    "print(f'File Name: {file}')"
   ]
  },
  {
   "cell_type": "code",
   "execution_count": 95,
   "metadata": {},
   "outputs": [],
   "source": [
    "#load zip file to df\n",
    "wind_fcst = pd.read_csv(file)\n",
    "\n",
    "#delete zip file after reading\n",
    "os.remove(file)"
   ]
  },
  {
   "cell_type": "code",
   "execution_count": 96,
   "metadata": {
    "scrolled": true
   },
   "outputs": [
    {
     "data": {
      "text/html": [
       "<div>\n",
       "<style scoped>\n",
       "    .dataframe tbody tr th:only-of-type {\n",
       "        vertical-align: middle;\n",
       "    }\n",
       "\n",
       "    .dataframe tbody tr th {\n",
       "        vertical-align: top;\n",
       "    }\n",
       "\n",
       "    .dataframe thead th {\n",
       "        text-align: right;\n",
       "    }\n",
       "</style>\n",
       "<table border=\"1\" class=\"dataframe\">\n",
       "  <thead>\n",
       "    <tr style=\"text-align: right;\">\n",
       "      <th></th>\n",
       "      <th>DELIVERY_DATE</th>\n",
       "      <th>HOUR_ENDING</th>\n",
       "      <th>ACTUAL_SYSTEM_WIDE</th>\n",
       "      <th>COP_HSL_SYSTEM_WIDE</th>\n",
       "      <th>STWPF_SYSTEM_WIDE</th>\n",
       "      <th>WGRPP_SYSTEM_WIDE</th>\n",
       "      <th>ACTUAL_LZ_SOUTH_HOUSTON</th>\n",
       "      <th>COP_HSL_LZ_SOUTH_HOUSTON</th>\n",
       "      <th>STWPF_LZ_SOUTH_HOUSTON</th>\n",
       "      <th>WGRPP_LZ_SOUTH_HOUSTON</th>\n",
       "      <th>ACTUAL_LZ_WEST</th>\n",
       "      <th>COP_HSL_LZ_WEST</th>\n",
       "      <th>STWPF_LZ_WEST</th>\n",
       "      <th>WGRPP_LZ_WEST</th>\n",
       "      <th>ACTUAL_LZ_NORTH</th>\n",
       "      <th>COP_HSL_LZ_NORTH</th>\n",
       "      <th>STWPF_LZ_NORTH</th>\n",
       "      <th>WGRPP_LZ_NORTH</th>\n",
       "      <th>DSTFlag</th>\n",
       "    </tr>\n",
       "  </thead>\n",
       "  <tbody>\n",
       "    <tr>\n",
       "      <td>0</td>\n",
       "      <td>07/25/2020</td>\n",
       "      <td>19</td>\n",
       "      <td>11615.28</td>\n",
       "      <td>11091.1</td>\n",
       "      <td>11541.2</td>\n",
       "      <td>8171.9</td>\n",
       "      <td>3062.63</td>\n",
       "      <td>2565.8</td>\n",
       "      <td>3180.5</td>\n",
       "      <td>2556.7</td>\n",
       "      <td>8204.33</td>\n",
       "      <td>8102.6</td>\n",
       "      <td>8025.4</td>\n",
       "      <td>5389.7</td>\n",
       "      <td>348.32</td>\n",
       "      <td>422.7</td>\n",
       "      <td>335.3</td>\n",
       "      <td>225.5</td>\n",
       "      <td>N</td>\n",
       "    </tr>\n",
       "    <tr>\n",
       "      <td>1</td>\n",
       "      <td>07/25/2020</td>\n",
       "      <td>20</td>\n",
       "      <td>13013.58</td>\n",
       "      <td>11403.1</td>\n",
       "      <td>13033.6</td>\n",
       "      <td>9431.8</td>\n",
       "      <td>3017.51</td>\n",
       "      <td>2670.8</td>\n",
       "      <td>3180.2</td>\n",
       "      <td>2522.4</td>\n",
       "      <td>9605.64</td>\n",
       "      <td>8305.4</td>\n",
       "      <td>9422.4</td>\n",
       "      <td>6589.7</td>\n",
       "      <td>390.43</td>\n",
       "      <td>426.9</td>\n",
       "      <td>431.0</td>\n",
       "      <td>319.7</td>\n",
       "      <td>N</td>\n",
       "    </tr>\n",
       "    <tr>\n",
       "      <td>2</td>\n",
       "      <td>07/25/2020</td>\n",
       "      <td>21</td>\n",
       "      <td>13106.96</td>\n",
       "      <td>11223.7</td>\n",
       "      <td>13405.3</td>\n",
       "      <td>9814.5</td>\n",
       "      <td>2631.14</td>\n",
       "      <td>2574.6</td>\n",
       "      <td>2788.8</td>\n",
       "      <td>2140.2</td>\n",
       "      <td>10239.67</td>\n",
       "      <td>8382.8</td>\n",
       "      <td>10389.4</td>\n",
       "      <td>7535.8</td>\n",
       "      <td>236.15</td>\n",
       "      <td>266.3</td>\n",
       "      <td>227.1</td>\n",
       "      <td>138.5</td>\n",
       "      <td>N</td>\n",
       "    </tr>\n",
       "    <tr>\n",
       "      <td>3</td>\n",
       "      <td>07/25/2020</td>\n",
       "      <td>22</td>\n",
       "      <td>12548.09</td>\n",
       "      <td>12545.4</td>\n",
       "      <td>12638.2</td>\n",
       "      <td>9055.9</td>\n",
       "      <td>2382.70</td>\n",
       "      <td>2610.6</td>\n",
       "      <td>2569.0</td>\n",
       "      <td>1936.1</td>\n",
       "      <td>9900.46</td>\n",
       "      <td>9593.7</td>\n",
       "      <td>9806.9</td>\n",
       "      <td>6965.6</td>\n",
       "      <td>264.93</td>\n",
       "      <td>341.1</td>\n",
       "      <td>262.3</td>\n",
       "      <td>154.2</td>\n",
       "      <td>N</td>\n",
       "    </tr>\n",
       "    <tr>\n",
       "      <td>4</td>\n",
       "      <td>07/25/2020</td>\n",
       "      <td>23</td>\n",
       "      <td>13496.18</td>\n",
       "      <td>13135.8</td>\n",
       "      <td>13807.6</td>\n",
       "      <td>10231.8</td>\n",
       "      <td>2427.12</td>\n",
       "      <td>2485.7</td>\n",
       "      <td>2688.3</td>\n",
       "      <td>2067.7</td>\n",
       "      <td>10793.17</td>\n",
       "      <td>10403.1</td>\n",
       "      <td>10828.4</td>\n",
       "      <td>7983.6</td>\n",
       "      <td>275.89</td>\n",
       "      <td>247.0</td>\n",
       "      <td>290.9</td>\n",
       "      <td>180.5</td>\n",
       "      <td>N</td>\n",
       "    </tr>\n",
       "    <tr>\n",
       "      <td>...</td>\n",
       "      <td>...</td>\n",
       "      <td>...</td>\n",
       "      <td>...</td>\n",
       "      <td>...</td>\n",
       "      <td>...</td>\n",
       "      <td>...</td>\n",
       "      <td>...</td>\n",
       "      <td>...</td>\n",
       "      <td>...</td>\n",
       "      <td>...</td>\n",
       "      <td>...</td>\n",
       "      <td>...</td>\n",
       "      <td>...</td>\n",
       "      <td>...</td>\n",
       "      <td>...</td>\n",
       "      <td>...</td>\n",
       "      <td>...</td>\n",
       "      <td>...</td>\n",
       "      <td>...</td>\n",
       "    </tr>\n",
       "    <tr>\n",
       "      <td>210</td>\n",
       "      <td>08/03/2020</td>\n",
       "      <td>13</td>\n",
       "      <td>NaN</td>\n",
       "      <td>1638.7</td>\n",
       "      <td>1470.7</td>\n",
       "      <td>481.4</td>\n",
       "      <td>NaN</td>\n",
       "      <td>352.2</td>\n",
       "      <td>156.1</td>\n",
       "      <td>54.1</td>\n",
       "      <td>NaN</td>\n",
       "      <td>1253.2</td>\n",
       "      <td>1281.3</td>\n",
       "      <td>415.4</td>\n",
       "      <td>NaN</td>\n",
       "      <td>33.3</td>\n",
       "      <td>33.3</td>\n",
       "      <td>11.9</td>\n",
       "      <td>N</td>\n",
       "    </tr>\n",
       "    <tr>\n",
       "      <td>211</td>\n",
       "      <td>08/03/2020</td>\n",
       "      <td>14</td>\n",
       "      <td>NaN</td>\n",
       "      <td>1707.8</td>\n",
       "      <td>1538.1</td>\n",
       "      <td>510.1</td>\n",
       "      <td>NaN</td>\n",
       "      <td>408.4</td>\n",
       "      <td>217.2</td>\n",
       "      <td>77.5</td>\n",
       "      <td>NaN</td>\n",
       "      <td>1258.7</td>\n",
       "      <td>1280.2</td>\n",
       "      <td>417.4</td>\n",
       "      <td>NaN</td>\n",
       "      <td>40.7</td>\n",
       "      <td>40.7</td>\n",
       "      <td>15.2</td>\n",
       "      <td>N</td>\n",
       "    </tr>\n",
       "    <tr>\n",
       "      <td>212</td>\n",
       "      <td>08/03/2020</td>\n",
       "      <td>15</td>\n",
       "      <td>NaN</td>\n",
       "      <td>2279.7</td>\n",
       "      <td>2131.9</td>\n",
       "      <td>718.5</td>\n",
       "      <td>NaN</td>\n",
       "      <td>566.2</td>\n",
       "      <td>386.6</td>\n",
       "      <td>140.8</td>\n",
       "      <td>NaN</td>\n",
       "      <td>1641.7</td>\n",
       "      <td>1673.5</td>\n",
       "      <td>551.4</td>\n",
       "      <td>NaN</td>\n",
       "      <td>71.8</td>\n",
       "      <td>71.8</td>\n",
       "      <td>26.3</td>\n",
       "      <td>N</td>\n",
       "    </tr>\n",
       "    <tr>\n",
       "      <td>213</td>\n",
       "      <td>08/03/2020</td>\n",
       "      <td>16</td>\n",
       "      <td>NaN</td>\n",
       "      <td>2900.7</td>\n",
       "      <td>2777.1</td>\n",
       "      <td>948.6</td>\n",
       "      <td>NaN</td>\n",
       "      <td>733.6</td>\n",
       "      <td>566.0</td>\n",
       "      <td>204.2</td>\n",
       "      <td>NaN</td>\n",
       "      <td>2062.0</td>\n",
       "      <td>2106.0</td>\n",
       "      <td>705.8</td>\n",
       "      <td>NaN</td>\n",
       "      <td>105.1</td>\n",
       "      <td>105.1</td>\n",
       "      <td>38.6</td>\n",
       "      <td>N</td>\n",
       "    </tr>\n",
       "    <tr>\n",
       "      <td>214</td>\n",
       "      <td>08/03/2020</td>\n",
       "      <td>17</td>\n",
       "      <td>NaN</td>\n",
       "      <td>3022.3</td>\n",
       "      <td>3426.9</td>\n",
       "      <td>1191.5</td>\n",
       "      <td>NaN</td>\n",
       "      <td>759.7</td>\n",
       "      <td>746.5</td>\n",
       "      <td>270.4</td>\n",
       "      <td>NaN</td>\n",
       "      <td>2153.8</td>\n",
       "      <td>2541.9</td>\n",
       "      <td>868.0</td>\n",
       "      <td>NaN</td>\n",
       "      <td>108.8</td>\n",
       "      <td>138.5</td>\n",
       "      <td>53.1</td>\n",
       "      <td>N</td>\n",
       "    </tr>\n",
       "  </tbody>\n",
       "</table>\n",
       "<p>215 rows × 19 columns</p>\n",
       "</div>"
      ],
      "text/plain": [
       "    DELIVERY_DATE  HOUR_ENDING  ACTUAL_SYSTEM_WIDE  COP_HSL_SYSTEM_WIDE  \\\n",
       "0      07/25/2020           19            11615.28              11091.1   \n",
       "1      07/25/2020           20            13013.58              11403.1   \n",
       "2      07/25/2020           21            13106.96              11223.7   \n",
       "3      07/25/2020           22            12548.09              12545.4   \n",
       "4      07/25/2020           23            13496.18              13135.8   \n",
       "..            ...          ...                 ...                  ...   \n",
       "210    08/03/2020           13                 NaN               1638.7   \n",
       "211    08/03/2020           14                 NaN               1707.8   \n",
       "212    08/03/2020           15                 NaN               2279.7   \n",
       "213    08/03/2020           16                 NaN               2900.7   \n",
       "214    08/03/2020           17                 NaN               3022.3   \n",
       "\n",
       "     STWPF_SYSTEM_WIDE  WGRPP_SYSTEM_WIDE  ACTUAL_LZ_SOUTH_HOUSTON  \\\n",
       "0              11541.2             8171.9                  3062.63   \n",
       "1              13033.6             9431.8                  3017.51   \n",
       "2              13405.3             9814.5                  2631.14   \n",
       "3              12638.2             9055.9                  2382.70   \n",
       "4              13807.6            10231.8                  2427.12   \n",
       "..                 ...                ...                      ...   \n",
       "210             1470.7              481.4                      NaN   \n",
       "211             1538.1              510.1                      NaN   \n",
       "212             2131.9              718.5                      NaN   \n",
       "213             2777.1              948.6                      NaN   \n",
       "214             3426.9             1191.5                      NaN   \n",
       "\n",
       "     COP_HSL_LZ_SOUTH_HOUSTON  STWPF_LZ_SOUTH_HOUSTON  WGRPP_LZ_SOUTH_HOUSTON  \\\n",
       "0                      2565.8                  3180.5                  2556.7   \n",
       "1                      2670.8                  3180.2                  2522.4   \n",
       "2                      2574.6                  2788.8                  2140.2   \n",
       "3                      2610.6                  2569.0                  1936.1   \n",
       "4                      2485.7                  2688.3                  2067.7   \n",
       "..                        ...                     ...                     ...   \n",
       "210                     352.2                   156.1                    54.1   \n",
       "211                     408.4                   217.2                    77.5   \n",
       "212                     566.2                   386.6                   140.8   \n",
       "213                     733.6                   566.0                   204.2   \n",
       "214                     759.7                   746.5                   270.4   \n",
       "\n",
       "     ACTUAL_LZ_WEST  COP_HSL_LZ_WEST  STWPF_LZ_WEST  WGRPP_LZ_WEST  \\\n",
       "0           8204.33           8102.6         8025.4         5389.7   \n",
       "1           9605.64           8305.4         9422.4         6589.7   \n",
       "2          10239.67           8382.8        10389.4         7535.8   \n",
       "3           9900.46           9593.7         9806.9         6965.6   \n",
       "4          10793.17          10403.1        10828.4         7983.6   \n",
       "..              ...              ...            ...            ...   \n",
       "210             NaN           1253.2         1281.3          415.4   \n",
       "211             NaN           1258.7         1280.2          417.4   \n",
       "212             NaN           1641.7         1673.5          551.4   \n",
       "213             NaN           2062.0         2106.0          705.8   \n",
       "214             NaN           2153.8         2541.9          868.0   \n",
       "\n",
       "     ACTUAL_LZ_NORTH  COP_HSL_LZ_NORTH  STWPF_LZ_NORTH  WGRPP_LZ_NORTH DSTFlag  \n",
       "0             348.32             422.7           335.3           225.5       N  \n",
       "1             390.43             426.9           431.0           319.7       N  \n",
       "2             236.15             266.3           227.1           138.5       N  \n",
       "3             264.93             341.1           262.3           154.2       N  \n",
       "4             275.89             247.0           290.9           180.5       N  \n",
       "..               ...               ...             ...             ...     ...  \n",
       "210              NaN              33.3            33.3            11.9       N  \n",
       "211              NaN              40.7            40.7            15.2       N  \n",
       "212              NaN              71.8            71.8            26.3       N  \n",
       "213              NaN             105.1           105.1            38.6       N  \n",
       "214              NaN             108.8           138.5            53.1       N  \n",
       "\n",
       "[215 rows x 19 columns]"
      ]
     },
     "execution_count": 96,
     "metadata": {},
     "output_type": "execute_result"
    }
   ],
   "source": [
    "wind_fcst"
   ]
  },
  {
   "cell_type": "code",
   "execution_count": 130,
   "metadata": {},
   "outputs": [],
   "source": [
    "#clean existing columns\n",
    "wind_fcst['DELIVERY_DATE'] = pd.to_datetime(wind_fcst.DELIVERY_DATE).dt.normalize()\n",
    "\n",
    "#add file name and process info to df\n",
    "wind_fcst['FileName'] = z.namelist()[0]\n",
    "wind_fcst['ProcessDate'] = pd.to_datetime(wind_fcst.FileName.str.split('.').str[3]).dt.normalize()\n",
    "wind_fcst['ProcessHour'] = wind_fcst.FileName.str.split('.').str[4]\n",
    "wind_fcst['ProcessDT'] = pd.to_datetime(wind_fcst.FileName.str.split('.').str[3] + wind_fcst.FileName.str.split('.').str[4])\n",
    "wind_fcst['ProcessHour'] = wind_fcst.ProcessHour.str[0:2]\n",
    "\n",
    "#change hour ending data type to string\n",
    "wind_fcst.HOUR_ENDING = wind_fcst.HOUR_ENDING.astype(str)\n",
    "\n",
    "#add delivery date time\n",
    "wind_fcst['DeliveryDT'] = pd.to_datetime(wind_fcst.DELIVERY_DATE) + wind_fcst.HOUR_ENDING.astype('timedelta64[h]')\n",
    "\n",
    "#add weekday columns\n",
    "wind_fcst['Weekday'] = wind_fcst.DeliveryDT.dt.day_name().str.upper()"
   ]
  },
  {
   "cell_type": "code",
   "execution_count": 131,
   "metadata": {},
   "outputs": [
    {
     "data": {
      "text/html": [
       "<div>\n",
       "<style scoped>\n",
       "    .dataframe tbody tr th:only-of-type {\n",
       "        vertical-align: middle;\n",
       "    }\n",
       "\n",
       "    .dataframe tbody tr th {\n",
       "        vertical-align: top;\n",
       "    }\n",
       "\n",
       "    .dataframe thead th {\n",
       "        text-align: right;\n",
       "    }\n",
       "</style>\n",
       "<table border=\"1\" class=\"dataframe\">\n",
       "  <thead>\n",
       "    <tr style=\"text-align: right;\">\n",
       "      <th></th>\n",
       "      <th>DELIVERY_DATE</th>\n",
       "      <th>HOUR_ENDING</th>\n",
       "      <th>ACTUAL_SYSTEM_WIDE</th>\n",
       "      <th>COP_HSL_SYSTEM_WIDE</th>\n",
       "      <th>STWPF_SYSTEM_WIDE</th>\n",
       "      <th>WGRPP_SYSTEM_WIDE</th>\n",
       "      <th>ACTUAL_LZ_SOUTH_HOUSTON</th>\n",
       "      <th>COP_HSL_LZ_SOUTH_HOUSTON</th>\n",
       "      <th>STWPF_LZ_SOUTH_HOUSTON</th>\n",
       "      <th>WGRPP_LZ_SOUTH_HOUSTON</th>\n",
       "      <th>...</th>\n",
       "      <th>COP_HSL_LZ_NORTH</th>\n",
       "      <th>STWPF_LZ_NORTH</th>\n",
       "      <th>WGRPP_LZ_NORTH</th>\n",
       "      <th>DSTFlag</th>\n",
       "      <th>FileName</th>\n",
       "      <th>ProcessDate</th>\n",
       "      <th>ProcessHour</th>\n",
       "      <th>ProcessDT</th>\n",
       "      <th>DeliveryDT</th>\n",
       "      <th>Weekday</th>\n",
       "    </tr>\n",
       "  </thead>\n",
       "  <tbody>\n",
       "    <tr>\n",
       "      <td>0</td>\n",
       "      <td>2020-07-25</td>\n",
       "      <td>19</td>\n",
       "      <td>11615.28</td>\n",
       "      <td>11091.1</td>\n",
       "      <td>11541.2</td>\n",
       "      <td>8171.9</td>\n",
       "      <td>3062.63</td>\n",
       "      <td>2565.8</td>\n",
       "      <td>3180.5</td>\n",
       "      <td>2556.7</td>\n",
       "      <td>...</td>\n",
       "      <td>422.7</td>\n",
       "      <td>335.3</td>\n",
       "      <td>225.5</td>\n",
       "      <td>N</td>\n",
       "      <td>cdr.00013028.0000000000000000.20200727.175518....</td>\n",
       "      <td>2020-07-27</td>\n",
       "      <td>17</td>\n",
       "      <td>2020-07-27 17:55:18</td>\n",
       "      <td>2020-07-25 19:00:00</td>\n",
       "      <td>SATURDAY</td>\n",
       "    </tr>\n",
       "    <tr>\n",
       "      <td>1</td>\n",
       "      <td>2020-07-25</td>\n",
       "      <td>20</td>\n",
       "      <td>13013.58</td>\n",
       "      <td>11403.1</td>\n",
       "      <td>13033.6</td>\n",
       "      <td>9431.8</td>\n",
       "      <td>3017.51</td>\n",
       "      <td>2670.8</td>\n",
       "      <td>3180.2</td>\n",
       "      <td>2522.4</td>\n",
       "      <td>...</td>\n",
       "      <td>426.9</td>\n",
       "      <td>431.0</td>\n",
       "      <td>319.7</td>\n",
       "      <td>N</td>\n",
       "      <td>cdr.00013028.0000000000000000.20200727.175518....</td>\n",
       "      <td>2020-07-27</td>\n",
       "      <td>17</td>\n",
       "      <td>2020-07-27 17:55:18</td>\n",
       "      <td>2020-07-25 20:00:00</td>\n",
       "      <td>SATURDAY</td>\n",
       "    </tr>\n",
       "    <tr>\n",
       "      <td>2</td>\n",
       "      <td>2020-07-25</td>\n",
       "      <td>21</td>\n",
       "      <td>13106.96</td>\n",
       "      <td>11223.7</td>\n",
       "      <td>13405.3</td>\n",
       "      <td>9814.5</td>\n",
       "      <td>2631.14</td>\n",
       "      <td>2574.6</td>\n",
       "      <td>2788.8</td>\n",
       "      <td>2140.2</td>\n",
       "      <td>...</td>\n",
       "      <td>266.3</td>\n",
       "      <td>227.1</td>\n",
       "      <td>138.5</td>\n",
       "      <td>N</td>\n",
       "      <td>cdr.00013028.0000000000000000.20200727.175518....</td>\n",
       "      <td>2020-07-27</td>\n",
       "      <td>17</td>\n",
       "      <td>2020-07-27 17:55:18</td>\n",
       "      <td>2020-07-25 21:00:00</td>\n",
       "      <td>SATURDAY</td>\n",
       "    </tr>\n",
       "    <tr>\n",
       "      <td>3</td>\n",
       "      <td>2020-07-25</td>\n",
       "      <td>22</td>\n",
       "      <td>12548.09</td>\n",
       "      <td>12545.4</td>\n",
       "      <td>12638.2</td>\n",
       "      <td>9055.9</td>\n",
       "      <td>2382.70</td>\n",
       "      <td>2610.6</td>\n",
       "      <td>2569.0</td>\n",
       "      <td>1936.1</td>\n",
       "      <td>...</td>\n",
       "      <td>341.1</td>\n",
       "      <td>262.3</td>\n",
       "      <td>154.2</td>\n",
       "      <td>N</td>\n",
       "      <td>cdr.00013028.0000000000000000.20200727.175518....</td>\n",
       "      <td>2020-07-27</td>\n",
       "      <td>17</td>\n",
       "      <td>2020-07-27 17:55:18</td>\n",
       "      <td>2020-07-25 22:00:00</td>\n",
       "      <td>SATURDAY</td>\n",
       "    </tr>\n",
       "    <tr>\n",
       "      <td>4</td>\n",
       "      <td>2020-07-25</td>\n",
       "      <td>23</td>\n",
       "      <td>13496.18</td>\n",
       "      <td>13135.8</td>\n",
       "      <td>13807.6</td>\n",
       "      <td>10231.8</td>\n",
       "      <td>2427.12</td>\n",
       "      <td>2485.7</td>\n",
       "      <td>2688.3</td>\n",
       "      <td>2067.7</td>\n",
       "      <td>...</td>\n",
       "      <td>247.0</td>\n",
       "      <td>290.9</td>\n",
       "      <td>180.5</td>\n",
       "      <td>N</td>\n",
       "      <td>cdr.00013028.0000000000000000.20200727.175518....</td>\n",
       "      <td>2020-07-27</td>\n",
       "      <td>17</td>\n",
       "      <td>2020-07-27 17:55:18</td>\n",
       "      <td>2020-07-25 23:00:00</td>\n",
       "      <td>SATURDAY</td>\n",
       "    </tr>\n",
       "  </tbody>\n",
       "</table>\n",
       "<p>5 rows × 25 columns</p>\n",
       "</div>"
      ],
      "text/plain": [
       "  DELIVERY_DATE HOUR_ENDING  ACTUAL_SYSTEM_WIDE  COP_HSL_SYSTEM_WIDE  \\\n",
       "0    2020-07-25          19            11615.28              11091.1   \n",
       "1    2020-07-25          20            13013.58              11403.1   \n",
       "2    2020-07-25          21            13106.96              11223.7   \n",
       "3    2020-07-25          22            12548.09              12545.4   \n",
       "4    2020-07-25          23            13496.18              13135.8   \n",
       "\n",
       "   STWPF_SYSTEM_WIDE  WGRPP_SYSTEM_WIDE  ACTUAL_LZ_SOUTH_HOUSTON  \\\n",
       "0            11541.2             8171.9                  3062.63   \n",
       "1            13033.6             9431.8                  3017.51   \n",
       "2            13405.3             9814.5                  2631.14   \n",
       "3            12638.2             9055.9                  2382.70   \n",
       "4            13807.6            10231.8                  2427.12   \n",
       "\n",
       "   COP_HSL_LZ_SOUTH_HOUSTON  STWPF_LZ_SOUTH_HOUSTON  WGRPP_LZ_SOUTH_HOUSTON  \\\n",
       "0                    2565.8                  3180.5                  2556.7   \n",
       "1                    2670.8                  3180.2                  2522.4   \n",
       "2                    2574.6                  2788.8                  2140.2   \n",
       "3                    2610.6                  2569.0                  1936.1   \n",
       "4                    2485.7                  2688.3                  2067.7   \n",
       "\n",
       "   ...  COP_HSL_LZ_NORTH  STWPF_LZ_NORTH  WGRPP_LZ_NORTH  DSTFlag  \\\n",
       "0  ...             422.7           335.3           225.5        N   \n",
       "1  ...             426.9           431.0           319.7        N   \n",
       "2  ...             266.3           227.1           138.5        N   \n",
       "3  ...             341.1           262.3           154.2        N   \n",
       "4  ...             247.0           290.9           180.5        N   \n",
       "\n",
       "                                            FileName  ProcessDate  \\\n",
       "0  cdr.00013028.0000000000000000.20200727.175518....   2020-07-27   \n",
       "1  cdr.00013028.0000000000000000.20200727.175518....   2020-07-27   \n",
       "2  cdr.00013028.0000000000000000.20200727.175518....   2020-07-27   \n",
       "3  cdr.00013028.0000000000000000.20200727.175518....   2020-07-27   \n",
       "4  cdr.00013028.0000000000000000.20200727.175518....   2020-07-27   \n",
       "\n",
       "   ProcessHour           ProcessDT          DeliveryDT   Weekday  \n",
       "0           17 2020-07-27 17:55:18 2020-07-25 19:00:00  SATURDAY  \n",
       "1           17 2020-07-27 17:55:18 2020-07-25 20:00:00  SATURDAY  \n",
       "2           17 2020-07-27 17:55:18 2020-07-25 21:00:00  SATURDAY  \n",
       "3           17 2020-07-27 17:55:18 2020-07-25 22:00:00  SATURDAY  \n",
       "4           17 2020-07-27 17:55:18 2020-07-25 23:00:00  SATURDAY  \n",
       "\n",
       "[5 rows x 25 columns]"
      ]
     },
     "execution_count": 131,
     "metadata": {},
     "output_type": "execute_result"
    }
   ],
   "source": [
    "wind_fcst.head()"
   ]
  },
  {
   "cell_type": "code",
   "execution_count": 132,
   "metadata": {},
   "outputs": [
    {
     "data": {
      "text/html": [
       "<div>\n",
       "<style scoped>\n",
       "    .dataframe tbody tr th:only-of-type {\n",
       "        vertical-align: middle;\n",
       "    }\n",
       "\n",
       "    .dataframe tbody tr th {\n",
       "        vertical-align: top;\n",
       "    }\n",
       "\n",
       "    .dataframe thead th {\n",
       "        text-align: right;\n",
       "    }\n",
       "</style>\n",
       "<table border=\"1\" class=\"dataframe\">\n",
       "  <thead>\n",
       "    <tr style=\"text-align: right;\">\n",
       "      <th></th>\n",
       "      <th>ACTUAL_SYSTEM_WIDE</th>\n",
       "      <th>COP_HSL_SYSTEM_WIDE</th>\n",
       "      <th>STWPF_SYSTEM_WIDE</th>\n",
       "      <th>WGRPP_SYSTEM_WIDE</th>\n",
       "      <th>ACTUAL_LZ_SOUTH_HOUSTON</th>\n",
       "      <th>COP_HSL_LZ_SOUTH_HOUSTON</th>\n",
       "      <th>STWPF_LZ_SOUTH_HOUSTON</th>\n",
       "      <th>WGRPP_LZ_SOUTH_HOUSTON</th>\n",
       "      <th>ACTUAL_LZ_WEST</th>\n",
       "      <th>COP_HSL_LZ_WEST</th>\n",
       "      <th>STWPF_LZ_WEST</th>\n",
       "      <th>WGRPP_LZ_WEST</th>\n",
       "      <th>ACTUAL_LZ_NORTH</th>\n",
       "      <th>COP_HSL_LZ_NORTH</th>\n",
       "      <th>STWPF_LZ_NORTH</th>\n",
       "      <th>WGRPP_LZ_NORTH</th>\n",
       "    </tr>\n",
       "  </thead>\n",
       "  <tbody>\n",
       "    <tr>\n",
       "      <td>count</td>\n",
       "      <td>47.000000</td>\n",
       "      <td>215.000000</td>\n",
       "      <td>215.000000</td>\n",
       "      <td>215.000000</td>\n",
       "      <td>47.000000</td>\n",
       "      <td>215.000000</td>\n",
       "      <td>215.000000</td>\n",
       "      <td>215.000000</td>\n",
       "      <td>47.000000</td>\n",
       "      <td>215.000000</td>\n",
       "      <td>215.000000</td>\n",
       "      <td>215.000000</td>\n",
       "      <td>47.000000</td>\n",
       "      <td>215.000000</td>\n",
       "      <td>215.000000</td>\n",
       "      <td>215.000000</td>\n",
       "    </tr>\n",
       "    <tr>\n",
       "      <td>mean</td>\n",
       "      <td>7456.702979</td>\n",
       "      <td>6943.808837</td>\n",
       "      <td>6930.069767</td>\n",
       "      <td>4042.835349</td>\n",
       "      <td>2112.464255</td>\n",
       "      <td>1785.668837</td>\n",
       "      <td>1709.127907</td>\n",
       "      <td>996.760000</td>\n",
       "      <td>5129.305957</td>\n",
       "      <td>4828.646047</td>\n",
       "      <td>4894.849302</td>\n",
       "      <td>2849.160930</td>\n",
       "      <td>214.932766</td>\n",
       "      <td>329.493953</td>\n",
       "      <td>326.092558</td>\n",
       "      <td>196.914419</td>\n",
       "    </tr>\n",
       "    <tr>\n",
       "      <td>std</td>\n",
       "      <td>3121.751826</td>\n",
       "      <td>3669.857433</td>\n",
       "      <td>3756.589149</td>\n",
       "      <td>2723.710596</td>\n",
       "      <td>752.290393</td>\n",
       "      <td>907.232189</td>\n",
       "      <td>936.112001</td>\n",
       "      <td>670.413749</td>\n",
       "      <td>2729.902442</td>\n",
       "      <td>2955.837368</td>\n",
       "      <td>3000.412641</td>\n",
       "      <td>2182.526489</td>\n",
       "      <td>130.980488</td>\n",
       "      <td>219.478125</td>\n",
       "      <td>222.790624</td>\n",
       "      <td>168.817398</td>\n",
       "    </tr>\n",
       "    <tr>\n",
       "      <td>min</td>\n",
       "      <td>1986.870000</td>\n",
       "      <td>756.200000</td>\n",
       "      <td>568.500000</td>\n",
       "      <td>184.100000</td>\n",
       "      <td>581.100000</td>\n",
       "      <td>350.200000</td>\n",
       "      <td>156.100000</td>\n",
       "      <td>53.500000</td>\n",
       "      <td>1324.960000</td>\n",
       "      <td>331.800000</td>\n",
       "      <td>337.700000</td>\n",
       "      <td>100.700000</td>\n",
       "      <td>12.490000</td>\n",
       "      <td>23.500000</td>\n",
       "      <td>12.200000</td>\n",
       "      <td>4.700000</td>\n",
       "    </tr>\n",
       "    <tr>\n",
       "      <td>25%</td>\n",
       "      <td>5556.635000</td>\n",
       "      <td>3777.650000</td>\n",
       "      <td>3737.050000</td>\n",
       "      <td>1675.400000</td>\n",
       "      <td>1352.365000</td>\n",
       "      <td>1017.750000</td>\n",
       "      <td>931.750000</td>\n",
       "      <td>413.950000</td>\n",
       "      <td>2868.200000</td>\n",
       "      <td>2288.700000</td>\n",
       "      <td>2406.900000</td>\n",
       "      <td>1021.250000</td>\n",
       "      <td>68.955000</td>\n",
       "      <td>164.000000</td>\n",
       "      <td>154.850000</td>\n",
       "      <td>71.950000</td>\n",
       "    </tr>\n",
       "    <tr>\n",
       "      <td>50%</td>\n",
       "      <td>6701.570000</td>\n",
       "      <td>6869.000000</td>\n",
       "      <td>6789.800000</td>\n",
       "      <td>3787.300000</td>\n",
       "      <td>2382.700000</td>\n",
       "      <td>1604.300000</td>\n",
       "      <td>1562.400000</td>\n",
       "      <td>854.300000</td>\n",
       "      <td>4613.940000</td>\n",
       "      <td>4426.300000</td>\n",
       "      <td>4437.500000</td>\n",
       "      <td>2379.800000</td>\n",
       "      <td>242.390000</td>\n",
       "      <td>281.600000</td>\n",
       "      <td>281.600000</td>\n",
       "      <td>141.200000</td>\n",
       "    </tr>\n",
       "    <tr>\n",
       "      <td>75%</td>\n",
       "      <td>9631.825000</td>\n",
       "      <td>9542.250000</td>\n",
       "      <td>9584.450000</td>\n",
       "      <td>5727.400000</td>\n",
       "      <td>2693.460000</td>\n",
       "      <td>2612.050000</td>\n",
       "      <td>2548.100000</td>\n",
       "      <td>1534.200000</td>\n",
       "      <td>7381.190000</td>\n",
       "      <td>6914.050000</td>\n",
       "      <td>7001.450000</td>\n",
       "      <td>4279.150000</td>\n",
       "      <td>342.770000</td>\n",
       "      <td>426.300000</td>\n",
       "      <td>429.700000</td>\n",
       "      <td>271.400000</td>\n",
       "    </tr>\n",
       "    <tr>\n",
       "      <td>max</td>\n",
       "      <td>13496.180000</td>\n",
       "      <td>15803.100000</td>\n",
       "      <td>15964.000000</td>\n",
       "      <td>11438.000000</td>\n",
       "      <td>3104.010000</td>\n",
       "      <td>3660.700000</td>\n",
       "      <td>3660.700000</td>\n",
       "      <td>2556.700000</td>\n",
       "      <td>10793.170000</td>\n",
       "      <td>11944.700000</td>\n",
       "      <td>12105.600000</td>\n",
       "      <td>8769.200000</td>\n",
       "      <td>428.370000</td>\n",
       "      <td>913.600000</td>\n",
       "      <td>913.600000</td>\n",
       "      <td>733.400000</td>\n",
       "    </tr>\n",
       "  </tbody>\n",
       "</table>\n",
       "</div>"
      ],
      "text/plain": [
       "       ACTUAL_SYSTEM_WIDE  COP_HSL_SYSTEM_WIDE  STWPF_SYSTEM_WIDE  \\\n",
       "count           47.000000           215.000000         215.000000   \n",
       "mean          7456.702979          6943.808837        6930.069767   \n",
       "std           3121.751826          3669.857433        3756.589149   \n",
       "min           1986.870000           756.200000         568.500000   \n",
       "25%           5556.635000          3777.650000        3737.050000   \n",
       "50%           6701.570000          6869.000000        6789.800000   \n",
       "75%           9631.825000          9542.250000        9584.450000   \n",
       "max          13496.180000         15803.100000       15964.000000   \n",
       "\n",
       "       WGRPP_SYSTEM_WIDE  ACTUAL_LZ_SOUTH_HOUSTON  COP_HSL_LZ_SOUTH_HOUSTON  \\\n",
       "count         215.000000                47.000000                215.000000   \n",
       "mean         4042.835349              2112.464255               1785.668837   \n",
       "std          2723.710596               752.290393                907.232189   \n",
       "min           184.100000               581.100000                350.200000   \n",
       "25%          1675.400000              1352.365000               1017.750000   \n",
       "50%          3787.300000              2382.700000               1604.300000   \n",
       "75%          5727.400000              2693.460000               2612.050000   \n",
       "max         11438.000000              3104.010000               3660.700000   \n",
       "\n",
       "       STWPF_LZ_SOUTH_HOUSTON  WGRPP_LZ_SOUTH_HOUSTON  ACTUAL_LZ_WEST  \\\n",
       "count              215.000000              215.000000       47.000000   \n",
       "mean              1709.127907              996.760000     5129.305957   \n",
       "std                936.112001              670.413749     2729.902442   \n",
       "min                156.100000               53.500000     1324.960000   \n",
       "25%                931.750000              413.950000     2868.200000   \n",
       "50%               1562.400000              854.300000     4613.940000   \n",
       "75%               2548.100000             1534.200000     7381.190000   \n",
       "max               3660.700000             2556.700000    10793.170000   \n",
       "\n",
       "       COP_HSL_LZ_WEST  STWPF_LZ_WEST  WGRPP_LZ_WEST  ACTUAL_LZ_NORTH  \\\n",
       "count       215.000000     215.000000     215.000000        47.000000   \n",
       "mean       4828.646047    4894.849302    2849.160930       214.932766   \n",
       "std        2955.837368    3000.412641    2182.526489       130.980488   \n",
       "min         331.800000     337.700000     100.700000        12.490000   \n",
       "25%        2288.700000    2406.900000    1021.250000        68.955000   \n",
       "50%        4426.300000    4437.500000    2379.800000       242.390000   \n",
       "75%        6914.050000    7001.450000    4279.150000       342.770000   \n",
       "max       11944.700000   12105.600000    8769.200000       428.370000   \n",
       "\n",
       "       COP_HSL_LZ_NORTH  STWPF_LZ_NORTH  WGRPP_LZ_NORTH  \n",
       "count        215.000000      215.000000      215.000000  \n",
       "mean         329.493953      326.092558      196.914419  \n",
       "std          219.478125      222.790624      168.817398  \n",
       "min           23.500000       12.200000        4.700000  \n",
       "25%          164.000000      154.850000       71.950000  \n",
       "50%          281.600000      281.600000      141.200000  \n",
       "75%          426.300000      429.700000      271.400000  \n",
       "max          913.600000      913.600000      733.400000  "
      ]
     },
     "execution_count": 132,
     "metadata": {},
     "output_type": "execute_result"
    }
   ],
   "source": [
    "wind_fcst.describe()"
   ]
  },
  {
   "cell_type": "code",
   "execution_count": 133,
   "metadata": {},
   "outputs": [
    {
     "data": {
      "text/plain": [
       "DELIVERY_DATE               datetime64[ns]\n",
       "HOUR_ENDING                         object\n",
       "ACTUAL_SYSTEM_WIDE                 float64\n",
       "COP_HSL_SYSTEM_WIDE                float64\n",
       "STWPF_SYSTEM_WIDE                  float64\n",
       "WGRPP_SYSTEM_WIDE                  float64\n",
       "ACTUAL_LZ_SOUTH_HOUSTON            float64\n",
       "COP_HSL_LZ_SOUTH_HOUSTON           float64\n",
       "STWPF_LZ_SOUTH_HOUSTON             float64\n",
       "WGRPP_LZ_SOUTH_HOUSTON             float64\n",
       "ACTUAL_LZ_WEST                     float64\n",
       "COP_HSL_LZ_WEST                    float64\n",
       "STWPF_LZ_WEST                      float64\n",
       "WGRPP_LZ_WEST                      float64\n",
       "ACTUAL_LZ_NORTH                    float64\n",
       "COP_HSL_LZ_NORTH                   float64\n",
       "STWPF_LZ_NORTH                     float64\n",
       "WGRPP_LZ_NORTH                     float64\n",
       "DSTFlag                             object\n",
       "FileName                            object\n",
       "ProcessDate                 datetime64[ns]\n",
       "ProcessHour                         object\n",
       "ProcessDT                   datetime64[ns]\n",
       "DeliveryDT                  datetime64[ns]\n",
       "Weekday                             object\n",
       "dtype: object"
      ]
     },
     "execution_count": 133,
     "metadata": {},
     "output_type": "execute_result"
    }
   ],
   "source": [
    "wind_fcst.dtypes"
   ]
  },
  {
   "cell_type": "markdown",
   "metadata": {},
   "source": [
    "### Convert DF to Long Format (i.e. Unpivot Forecast columns)"
   ]
  },
  {
   "cell_type": "code",
   "execution_count": 134,
   "metadata": {},
   "outputs": [
    {
     "data": {
      "text/html": [
       "<div>\n",
       "<style scoped>\n",
       "    .dataframe tbody tr th:only-of-type {\n",
       "        vertical-align: middle;\n",
       "    }\n",
       "\n",
       "    .dataframe tbody tr th {\n",
       "        vertical-align: top;\n",
       "    }\n",
       "\n",
       "    .dataframe thead th {\n",
       "        text-align: right;\n",
       "    }\n",
       "</style>\n",
       "<table border=\"1\" class=\"dataframe\">\n",
       "  <thead>\n",
       "    <tr style=\"text-align: right;\">\n",
       "      <th></th>\n",
       "      <th>delivery_dt</th>\n",
       "      <th>delivery_date</th>\n",
       "      <th>delivery_hour</th>\n",
       "      <th>dst_flag</th>\n",
       "      <th>weekday</th>\n",
       "      <th>type</th>\n",
       "      <th>zone</th>\n",
       "      <th>mw</th>\n",
       "      <th>process_date</th>\n",
       "      <th>process_hour</th>\n",
       "      <th>process_dt</th>\n",
       "      <th>file_name</th>\n",
       "    </tr>\n",
       "  </thead>\n",
       "  <tbody>\n",
       "    <tr>\n",
       "      <td>0</td>\n",
       "      <td>2020-07-25 19:00:00</td>\n",
       "      <td>2020-07-25</td>\n",
       "      <td>19</td>\n",
       "      <td>N</td>\n",
       "      <td>SATURDAY</td>\n",
       "      <td>ACTUAL</td>\n",
       "      <td>SYSTEM_WIDE</td>\n",
       "      <td>11615.28</td>\n",
       "      <td>2020-07-27</td>\n",
       "      <td>17</td>\n",
       "      <td>2020-07-27 17:55:18</td>\n",
       "      <td>cdr.00013028.0000000000000000.20200727.175518....</td>\n",
       "    </tr>\n",
       "    <tr>\n",
       "      <td>1</td>\n",
       "      <td>2020-07-25 20:00:00</td>\n",
       "      <td>2020-07-25</td>\n",
       "      <td>20</td>\n",
       "      <td>N</td>\n",
       "      <td>SATURDAY</td>\n",
       "      <td>ACTUAL</td>\n",
       "      <td>SYSTEM_WIDE</td>\n",
       "      <td>13013.58</td>\n",
       "      <td>2020-07-27</td>\n",
       "      <td>17</td>\n",
       "      <td>2020-07-27 17:55:18</td>\n",
       "      <td>cdr.00013028.0000000000000000.20200727.175518....</td>\n",
       "    </tr>\n",
       "    <tr>\n",
       "      <td>2</td>\n",
       "      <td>2020-07-25 21:00:00</td>\n",
       "      <td>2020-07-25</td>\n",
       "      <td>21</td>\n",
       "      <td>N</td>\n",
       "      <td>SATURDAY</td>\n",
       "      <td>ACTUAL</td>\n",
       "      <td>SYSTEM_WIDE</td>\n",
       "      <td>13106.96</td>\n",
       "      <td>2020-07-27</td>\n",
       "      <td>17</td>\n",
       "      <td>2020-07-27 17:55:18</td>\n",
       "      <td>cdr.00013028.0000000000000000.20200727.175518....</td>\n",
       "    </tr>\n",
       "    <tr>\n",
       "      <td>3</td>\n",
       "      <td>2020-07-25 22:00:00</td>\n",
       "      <td>2020-07-25</td>\n",
       "      <td>22</td>\n",
       "      <td>N</td>\n",
       "      <td>SATURDAY</td>\n",
       "      <td>ACTUAL</td>\n",
       "      <td>SYSTEM_WIDE</td>\n",
       "      <td>12548.09</td>\n",
       "      <td>2020-07-27</td>\n",
       "      <td>17</td>\n",
       "      <td>2020-07-27 17:55:18</td>\n",
       "      <td>cdr.00013028.0000000000000000.20200727.175518....</td>\n",
       "    </tr>\n",
       "    <tr>\n",
       "      <td>4</td>\n",
       "      <td>2020-07-25 23:00:00</td>\n",
       "      <td>2020-07-25</td>\n",
       "      <td>23</td>\n",
       "      <td>N</td>\n",
       "      <td>SATURDAY</td>\n",
       "      <td>ACTUAL</td>\n",
       "      <td>SYSTEM_WIDE</td>\n",
       "      <td>13496.18</td>\n",
       "      <td>2020-07-27</td>\n",
       "      <td>17</td>\n",
       "      <td>2020-07-27 17:55:18</td>\n",
       "      <td>cdr.00013028.0000000000000000.20200727.175518....</td>\n",
       "    </tr>\n",
       "    <tr>\n",
       "      <td>...</td>\n",
       "      <td>...</td>\n",
       "      <td>...</td>\n",
       "      <td>...</td>\n",
       "      <td>...</td>\n",
       "      <td>...</td>\n",
       "      <td>...</td>\n",
       "      <td>...</td>\n",
       "      <td>...</td>\n",
       "      <td>...</td>\n",
       "      <td>...</td>\n",
       "      <td>...</td>\n",
       "      <td>...</td>\n",
       "    </tr>\n",
       "    <tr>\n",
       "      <td>3435</td>\n",
       "      <td>2020-08-03 13:00:00</td>\n",
       "      <td>2020-08-03</td>\n",
       "      <td>13</td>\n",
       "      <td>N</td>\n",
       "      <td>MONDAY</td>\n",
       "      <td>WGRPP</td>\n",
       "      <td>LZ_NORTH</td>\n",
       "      <td>11.90</td>\n",
       "      <td>2020-07-27</td>\n",
       "      <td>17</td>\n",
       "      <td>2020-07-27 17:55:18</td>\n",
       "      <td>cdr.00013028.0000000000000000.20200727.175518....</td>\n",
       "    </tr>\n",
       "    <tr>\n",
       "      <td>3436</td>\n",
       "      <td>2020-08-03 14:00:00</td>\n",
       "      <td>2020-08-03</td>\n",
       "      <td>14</td>\n",
       "      <td>N</td>\n",
       "      <td>MONDAY</td>\n",
       "      <td>WGRPP</td>\n",
       "      <td>LZ_NORTH</td>\n",
       "      <td>15.20</td>\n",
       "      <td>2020-07-27</td>\n",
       "      <td>17</td>\n",
       "      <td>2020-07-27 17:55:18</td>\n",
       "      <td>cdr.00013028.0000000000000000.20200727.175518....</td>\n",
       "    </tr>\n",
       "    <tr>\n",
       "      <td>3437</td>\n",
       "      <td>2020-08-03 15:00:00</td>\n",
       "      <td>2020-08-03</td>\n",
       "      <td>15</td>\n",
       "      <td>N</td>\n",
       "      <td>MONDAY</td>\n",
       "      <td>WGRPP</td>\n",
       "      <td>LZ_NORTH</td>\n",
       "      <td>26.30</td>\n",
       "      <td>2020-07-27</td>\n",
       "      <td>17</td>\n",
       "      <td>2020-07-27 17:55:18</td>\n",
       "      <td>cdr.00013028.0000000000000000.20200727.175518....</td>\n",
       "    </tr>\n",
       "    <tr>\n",
       "      <td>3438</td>\n",
       "      <td>2020-08-03 16:00:00</td>\n",
       "      <td>2020-08-03</td>\n",
       "      <td>16</td>\n",
       "      <td>N</td>\n",
       "      <td>MONDAY</td>\n",
       "      <td>WGRPP</td>\n",
       "      <td>LZ_NORTH</td>\n",
       "      <td>38.60</td>\n",
       "      <td>2020-07-27</td>\n",
       "      <td>17</td>\n",
       "      <td>2020-07-27 17:55:18</td>\n",
       "      <td>cdr.00013028.0000000000000000.20200727.175518....</td>\n",
       "    </tr>\n",
       "    <tr>\n",
       "      <td>3439</td>\n",
       "      <td>2020-08-03 17:00:00</td>\n",
       "      <td>2020-08-03</td>\n",
       "      <td>17</td>\n",
       "      <td>N</td>\n",
       "      <td>MONDAY</td>\n",
       "      <td>WGRPP</td>\n",
       "      <td>LZ_NORTH</td>\n",
       "      <td>53.10</td>\n",
       "      <td>2020-07-27</td>\n",
       "      <td>17</td>\n",
       "      <td>2020-07-27 17:55:18</td>\n",
       "      <td>cdr.00013028.0000000000000000.20200727.175518....</td>\n",
       "    </tr>\n",
       "  </tbody>\n",
       "</table>\n",
       "<p>3440 rows × 12 columns</p>\n",
       "</div>"
      ],
      "text/plain": [
       "             delivery_dt delivery_date delivery_hour dst_flag   weekday  \\\n",
       "0    2020-07-25 19:00:00    2020-07-25            19        N  SATURDAY   \n",
       "1    2020-07-25 20:00:00    2020-07-25            20        N  SATURDAY   \n",
       "2    2020-07-25 21:00:00    2020-07-25            21        N  SATURDAY   \n",
       "3    2020-07-25 22:00:00    2020-07-25            22        N  SATURDAY   \n",
       "4    2020-07-25 23:00:00    2020-07-25            23        N  SATURDAY   \n",
       "...                  ...           ...           ...      ...       ...   \n",
       "3435 2020-08-03 13:00:00    2020-08-03            13        N    MONDAY   \n",
       "3436 2020-08-03 14:00:00    2020-08-03            14        N    MONDAY   \n",
       "3437 2020-08-03 15:00:00    2020-08-03            15        N    MONDAY   \n",
       "3438 2020-08-03 16:00:00    2020-08-03            16        N    MONDAY   \n",
       "3439 2020-08-03 17:00:00    2020-08-03            17        N    MONDAY   \n",
       "\n",
       "        type         zone        mw process_date process_hour  \\\n",
       "0     ACTUAL  SYSTEM_WIDE  11615.28   2020-07-27           17   \n",
       "1     ACTUAL  SYSTEM_WIDE  13013.58   2020-07-27           17   \n",
       "2     ACTUAL  SYSTEM_WIDE  13106.96   2020-07-27           17   \n",
       "3     ACTUAL  SYSTEM_WIDE  12548.09   2020-07-27           17   \n",
       "4     ACTUAL  SYSTEM_WIDE  13496.18   2020-07-27           17   \n",
       "...      ...          ...       ...          ...          ...   \n",
       "3435   WGRPP     LZ_NORTH     11.90   2020-07-27           17   \n",
       "3436   WGRPP     LZ_NORTH     15.20   2020-07-27           17   \n",
       "3437   WGRPP     LZ_NORTH     26.30   2020-07-27           17   \n",
       "3438   WGRPP     LZ_NORTH     38.60   2020-07-27           17   \n",
       "3439   WGRPP     LZ_NORTH     53.10   2020-07-27           17   \n",
       "\n",
       "              process_dt                                          file_name  \n",
       "0    2020-07-27 17:55:18  cdr.00013028.0000000000000000.20200727.175518....  \n",
       "1    2020-07-27 17:55:18  cdr.00013028.0000000000000000.20200727.175518....  \n",
       "2    2020-07-27 17:55:18  cdr.00013028.0000000000000000.20200727.175518....  \n",
       "3    2020-07-27 17:55:18  cdr.00013028.0000000000000000.20200727.175518....  \n",
       "4    2020-07-27 17:55:18  cdr.00013028.0000000000000000.20200727.175518....  \n",
       "...                  ...                                                ...  \n",
       "3435 2020-07-27 17:55:18  cdr.00013028.0000000000000000.20200727.175518....  \n",
       "3436 2020-07-27 17:55:18  cdr.00013028.0000000000000000.20200727.175518....  \n",
       "3437 2020-07-27 17:55:18  cdr.00013028.0000000000000000.20200727.175518....  \n",
       "3438 2020-07-27 17:55:18  cdr.00013028.0000000000000000.20200727.175518....  \n",
       "3439 2020-07-27 17:55:18  cdr.00013028.0000000000000000.20200727.175518....  \n",
       "\n",
       "[3440 rows x 12 columns]"
      ]
     },
     "execution_count": 134,
     "metadata": {},
     "output_type": "execute_result"
    }
   ],
   "source": [
    "#use pd.melt to unpivot columns\n",
    "long_wind_fcst = pd.melt(wind_fcst, id_vars=['DELIVERY_DATE', 'HOUR_ENDING', 'DSTFlag', 'FileName', 'ProcessDate', 'ProcessHour', 'ProcessDT', 'DeliveryDT', 'Weekday'],var_name='WindZone', value_name ='MW')\n",
    "\n",
    "#extract type and zone from WindZone column\n",
    "long_wind_fcst['Type'] = long_wind_fcst.WindZone.str.split('_').str[0]\n",
    "long_wind_fcst['Zone'] = long_wind_fcst.WindZone.str.split('_', n=1).str[1]\n",
    "\n",
    "\n",
    "#rename columns\n",
    "long_wind_fcst = long_wind_fcst.rename(columns = {'DeliveryDT':'delivery_dt', 'DELIVERY_DATE':'delivery_date', 'HOUR_ENDING':'delivery_hour', \n",
    "                                                  'DSTFlag':'dst_flag', 'Weekday':'weekday', 'Type':'type', 'Zone':'zone', 'MW':'mw', \n",
    "                                                  'ProcessDate':'process_date', 'ProcessHour':'process_hour', 'ProcessDT':'process_dt', 'FileName':'file_name'}, inplace=False)\n",
    "#reorder columns\n",
    "arranged_columns = ['delivery_dt', 'delivery_date', 'delivery_hour', 'dst_flag', 'weekday', 'type', 'zone', 'mw', 'process_date', 'process_hour',\n",
    "                    'process_dt', 'file_name']\n",
    "\n",
    "long_wind_fcst = long_wind_fcst[arranged_columns]\n",
    "\n",
    "long_wind_fcst"
   ]
  },
  {
   "cell_type": "markdown",
   "metadata": {},
   "source": [
    "## Plotting Forecasts"
   ]
  },
  {
   "cell_type": "code",
   "execution_count": 135,
   "metadata": {},
   "outputs": [],
   "source": [
    "import plotly.express as px"
   ]
  },
  {
   "cell_type": "code",
   "execution_count": 136,
   "metadata": {},
   "outputs": [
    {
     "data": {
      "application/vnd.plotly.v1+json": {
       "config": {
        "plotlyServerURL": "https://plot.ly"
       },
       "data": [
        {
         "hovertemplate": "zone=HSL_SYSTEM_WIDE<br>delivery_dt=%{x}<br>mw=%{y}<extra></extra>",
         "legendgroup": "HSL_SYSTEM_WIDE",
         "line": {
          "color": "#636efa",
          "dash": "solid"
         },
         "mode": "lines",
         "name": "HSL_SYSTEM_WIDE",
         "showlegend": true,
         "type": "scatter",
         "x": [
          "2020-07-25T19:00:00",
          "2020-07-25T20:00:00",
          "2020-07-25T21:00:00",
          "2020-07-25T22:00:00",
          "2020-07-25T23:00:00",
          "2020-07-26T00:00:00",
          "2020-07-26T01:00:00",
          "2020-07-26T02:00:00",
          "2020-07-26T03:00:00",
          "2020-07-26T04:00:00",
          "2020-07-26T05:00:00",
          "2020-07-26T06:00:00",
          "2020-07-26T07:00:00",
          "2020-07-26T08:00:00",
          "2020-07-26T09:00:00",
          "2020-07-26T10:00:00",
          "2020-07-26T11:00:00",
          "2020-07-26T12:00:00",
          "2020-07-26T13:00:00",
          "2020-07-26T14:00:00",
          "2020-07-26T15:00:00",
          "2020-07-26T16:00:00",
          "2020-07-26T17:00:00",
          "2020-07-26T18:00:00",
          "2020-07-26T19:00:00",
          "2020-07-26T20:00:00",
          "2020-07-26T21:00:00",
          "2020-07-26T22:00:00",
          "2020-07-26T23:00:00",
          "2020-07-27T00:00:00",
          "2020-07-27T01:00:00",
          "2020-07-27T02:00:00",
          "2020-07-27T03:00:00",
          "2020-07-27T04:00:00",
          "2020-07-27T05:00:00",
          "2020-07-27T06:00:00",
          "2020-07-27T07:00:00",
          "2020-07-27T08:00:00",
          "2020-07-27T09:00:00",
          "2020-07-27T10:00:00",
          "2020-07-27T11:00:00",
          "2020-07-27T12:00:00",
          "2020-07-27T13:00:00",
          "2020-07-27T14:00:00",
          "2020-07-27T15:00:00",
          "2020-07-27T16:00:00",
          "2020-07-27T17:00:00",
          "2020-07-27T18:00:00",
          "2020-07-27T19:00:00",
          "2020-07-27T20:00:00",
          "2020-07-27T21:00:00",
          "2020-07-27T22:00:00",
          "2020-07-27T23:00:00",
          "2020-07-28T00:00:00",
          "2020-07-28T01:00:00",
          "2020-07-28T02:00:00",
          "2020-07-28T03:00:00",
          "2020-07-28T04:00:00",
          "2020-07-28T05:00:00",
          "2020-07-28T06:00:00",
          "2020-07-28T07:00:00",
          "2020-07-28T08:00:00",
          "2020-07-28T09:00:00",
          "2020-07-28T10:00:00",
          "2020-07-28T11:00:00",
          "2020-07-28T12:00:00",
          "2020-07-28T13:00:00",
          "2020-07-28T14:00:00",
          "2020-07-28T15:00:00",
          "2020-07-28T16:00:00",
          "2020-07-28T17:00:00",
          "2020-07-28T18:00:00",
          "2020-07-28T19:00:00",
          "2020-07-28T20:00:00",
          "2020-07-28T21:00:00",
          "2020-07-28T22:00:00",
          "2020-07-28T23:00:00",
          "2020-07-29T00:00:00",
          "2020-07-29T01:00:00",
          "2020-07-29T02:00:00",
          "2020-07-29T03:00:00",
          "2020-07-29T04:00:00",
          "2020-07-29T05:00:00",
          "2020-07-29T06:00:00",
          "2020-07-29T07:00:00",
          "2020-07-29T08:00:00",
          "2020-07-29T09:00:00",
          "2020-07-29T10:00:00",
          "2020-07-29T11:00:00",
          "2020-07-29T12:00:00",
          "2020-07-29T13:00:00",
          "2020-07-29T14:00:00",
          "2020-07-29T15:00:00",
          "2020-07-29T16:00:00",
          "2020-07-29T17:00:00",
          "2020-07-29T18:00:00",
          "2020-07-29T19:00:00",
          "2020-07-29T20:00:00",
          "2020-07-29T21:00:00",
          "2020-07-29T22:00:00",
          "2020-07-29T23:00:00",
          "2020-07-30T00:00:00",
          "2020-07-30T01:00:00",
          "2020-07-30T02:00:00",
          "2020-07-30T03:00:00",
          "2020-07-30T04:00:00",
          "2020-07-30T05:00:00",
          "2020-07-30T06:00:00",
          "2020-07-30T07:00:00",
          "2020-07-30T08:00:00",
          "2020-07-30T09:00:00",
          "2020-07-30T10:00:00",
          "2020-07-30T11:00:00",
          "2020-07-30T12:00:00",
          "2020-07-30T13:00:00",
          "2020-07-30T14:00:00",
          "2020-07-30T15:00:00",
          "2020-07-30T16:00:00",
          "2020-07-30T17:00:00",
          "2020-07-30T18:00:00",
          "2020-07-30T19:00:00",
          "2020-07-30T20:00:00",
          "2020-07-30T21:00:00",
          "2020-07-30T22:00:00",
          "2020-07-30T23:00:00",
          "2020-07-31T00:00:00",
          "2020-07-31T01:00:00",
          "2020-07-31T02:00:00",
          "2020-07-31T03:00:00",
          "2020-07-31T04:00:00",
          "2020-07-31T05:00:00",
          "2020-07-31T06:00:00",
          "2020-07-31T07:00:00",
          "2020-07-31T08:00:00",
          "2020-07-31T09:00:00",
          "2020-07-31T10:00:00",
          "2020-07-31T11:00:00",
          "2020-07-31T12:00:00",
          "2020-07-31T13:00:00",
          "2020-07-31T14:00:00",
          "2020-07-31T15:00:00",
          "2020-07-31T16:00:00",
          "2020-07-31T17:00:00",
          "2020-07-31T18:00:00",
          "2020-07-31T19:00:00",
          "2020-07-31T20:00:00",
          "2020-07-31T21:00:00",
          "2020-07-31T22:00:00",
          "2020-07-31T23:00:00",
          "2020-08-01T00:00:00",
          "2020-08-01T01:00:00",
          "2020-08-01T02:00:00",
          "2020-08-01T03:00:00",
          "2020-08-01T04:00:00",
          "2020-08-01T05:00:00",
          "2020-08-01T06:00:00",
          "2020-08-01T07:00:00",
          "2020-08-01T08:00:00",
          "2020-08-01T09:00:00",
          "2020-08-01T10:00:00",
          "2020-08-01T11:00:00",
          "2020-08-01T12:00:00",
          "2020-08-01T13:00:00",
          "2020-08-01T14:00:00",
          "2020-08-01T15:00:00",
          "2020-08-01T16:00:00",
          "2020-08-01T17:00:00",
          "2020-08-01T18:00:00",
          "2020-08-01T19:00:00",
          "2020-08-01T20:00:00",
          "2020-08-01T21:00:00",
          "2020-08-01T22:00:00",
          "2020-08-01T23:00:00",
          "2020-08-02T00:00:00",
          "2020-08-02T01:00:00",
          "2020-08-02T02:00:00",
          "2020-08-02T03:00:00",
          "2020-08-02T04:00:00",
          "2020-08-02T05:00:00",
          "2020-08-02T06:00:00",
          "2020-08-02T07:00:00",
          "2020-08-02T08:00:00",
          "2020-08-02T09:00:00",
          "2020-08-02T10:00:00",
          "2020-08-02T11:00:00",
          "2020-08-02T12:00:00",
          "2020-08-02T13:00:00",
          "2020-08-02T14:00:00",
          "2020-08-02T15:00:00",
          "2020-08-02T16:00:00",
          "2020-08-02T17:00:00",
          "2020-08-02T18:00:00",
          "2020-08-02T19:00:00",
          "2020-08-02T20:00:00",
          "2020-08-02T21:00:00",
          "2020-08-02T22:00:00",
          "2020-08-02T23:00:00",
          "2020-08-03T00:00:00",
          "2020-08-03T01:00:00",
          "2020-08-03T02:00:00",
          "2020-08-03T03:00:00",
          "2020-08-03T04:00:00",
          "2020-08-03T05:00:00",
          "2020-08-03T06:00:00",
          "2020-08-03T07:00:00",
          "2020-08-03T08:00:00",
          "2020-08-03T09:00:00",
          "2020-08-03T10:00:00",
          "2020-08-03T11:00:00",
          "2020-08-03T12:00:00",
          "2020-08-03T13:00:00",
          "2020-08-03T14:00:00",
          "2020-08-03T15:00:00",
          "2020-08-03T16:00:00",
          "2020-08-03T17:00:00"
         ],
         "xaxis": "x",
         "y": [
          11091.1,
          11403.1,
          11223.7,
          12545.4,
          13135.8,
          12875.7,
          13240.9,
          11489.2,
          9414.6,
          8161.1,
          6758.1,
          5977.4,
          5121.1,
          5070.9,
          5493,
          5364,
          5463.9,
          6950.7,
          6243.4,
          5853.9,
          5900.4,
          6255.4,
          6839.4,
          7425,
          7324.1,
          7990.7,
          8332.1,
          8796,
          8563.5,
          9985.4,
          10525.7,
          10340.8,
          10093.8,
          8473.8,
          7668.5,
          6918,
          6603.6,
          6088,
          5972.2,
          4913.9,
          3796.9,
          3498.1,
          2935.2,
          2720.8,
          2509.7,
          2725.4,
          2717.2,
          3409.6,
          3462.1,
          3760.3,
          4390.3,
          5540.2,
          6552.6,
          7300.4,
          7783.4,
          8109.9,
          7821.9,
          6869,
          5856.9,
          4848.7,
          4067.8,
          3336.4,
          2701.9,
          2375.5,
          2337.4,
          1985.2,
          1602.9,
          1500.2,
          1693.6,
          2271.6,
          3201.1,
          4137.5,
          4999.1,
          6051.1,
          7649.3,
          9074.4,
          10226.7,
          11119.1,
          11584.9,
          12199.5,
          12421,
          12299.9,
          11929.2,
          11530.1,
          11134.8,
          10491,
          10097.8,
          10200.9,
          10272.6,
          10119.6,
          9669.9,
          9083.8,
          8799.2,
          8625.1,
          8610.2,
          8886.8,
          9392,
          10191.8,
          11483.5,
          13285.9,
          14735.3,
          15498,
          15803.1,
          15782,
          15401,
          14867.4,
          14297.1,
          13502.4,
          12465.4,
          11611.8,
          11334.5,
          10625.3,
          9204.1,
          7818.3,
          6585.4,
          5776.3,
          5562.3,
          5731.4,
          6178,
          7063.4,
          8086.4,
          8948.8,
          9823.9,
          10608.3,
          11608.6,
          12496.5,
          13247,
          13211.2,
          12758.5,
          12253.8,
          11376.5,
          10177.7,
          9019.3,
          8353.7,
          8059.4,
          7794.5,
          7485.8,
          7141.9,
          6843.7,
          6895.4,
          7239,
          7609,
          7900,
          8129.9,
          8457.5,
          8427.7,
          8226.9,
          7996.8,
          7805.6,
          7666,
          7495.3,
          6942.6,
          6395.6,
          5859.9,
          5237.4,
          4541.2,
          3848.9,
          3275.8,
          2794.3,
          2321.9,
          2007.7,
          1831.1,
          1650.2,
          1588.3,
          1595.6,
          1610.6,
          1756.8,
          2014.4,
          2296.5,
          3117.4,
          4350.9,
          5611.6,
          6080.5,
          5849.8,
          5572.5,
          5234.2,
          4814.5,
          4385.4,
          4049.4,
          3795,
          3536.7,
          3155.1,
          2681.3,
          2201.6,
          1716.9,
          1230,
          763.6,
          756.2,
          1101.9,
          1477.6,
          1865.9,
          2262.9,
          2683.1,
          3614.3,
          4938.2,
          6297.2,
          7622.1,
          8917.9,
          9929.6,
          9985.3,
          9158.6,
          8249.1,
          7331.7,
          6412.5,
          5499.9,
          4743.7,
          4108.2,
          3483.4,
          2859.1,
          2232.8,
          1638.7,
          1707.8,
          2279.7,
          2900.7,
          3022.3
         ],
         "yaxis": "y"
        }
       ],
       "layout": {
        "legend": {
         "title": {
          "text": "zone"
         },
         "tracegroupgap": 0
        },
        "template": {
         "data": {
          "bar": [
           {
            "error_x": {
             "color": "#2a3f5f"
            },
            "error_y": {
             "color": "#2a3f5f"
            },
            "marker": {
             "line": {
              "color": "#E5ECF6",
              "width": 0.5
             }
            },
            "type": "bar"
           }
          ],
          "barpolar": [
           {
            "marker": {
             "line": {
              "color": "#E5ECF6",
              "width": 0.5
             }
            },
            "type": "barpolar"
           }
          ],
          "carpet": [
           {
            "aaxis": {
             "endlinecolor": "#2a3f5f",
             "gridcolor": "white",
             "linecolor": "white",
             "minorgridcolor": "white",
             "startlinecolor": "#2a3f5f"
            },
            "baxis": {
             "endlinecolor": "#2a3f5f",
             "gridcolor": "white",
             "linecolor": "white",
             "minorgridcolor": "white",
             "startlinecolor": "#2a3f5f"
            },
            "type": "carpet"
           }
          ],
          "choropleth": [
           {
            "colorbar": {
             "outlinewidth": 0,
             "ticks": ""
            },
            "type": "choropleth"
           }
          ],
          "contour": [
           {
            "colorbar": {
             "outlinewidth": 0,
             "ticks": ""
            },
            "colorscale": [
             [
              0,
              "#0d0887"
             ],
             [
              0.1111111111111111,
              "#46039f"
             ],
             [
              0.2222222222222222,
              "#7201a8"
             ],
             [
              0.3333333333333333,
              "#9c179e"
             ],
             [
              0.4444444444444444,
              "#bd3786"
             ],
             [
              0.5555555555555556,
              "#d8576b"
             ],
             [
              0.6666666666666666,
              "#ed7953"
             ],
             [
              0.7777777777777778,
              "#fb9f3a"
             ],
             [
              0.8888888888888888,
              "#fdca26"
             ],
             [
              1,
              "#f0f921"
             ]
            ],
            "type": "contour"
           }
          ],
          "contourcarpet": [
           {
            "colorbar": {
             "outlinewidth": 0,
             "ticks": ""
            },
            "type": "contourcarpet"
           }
          ],
          "heatmap": [
           {
            "colorbar": {
             "outlinewidth": 0,
             "ticks": ""
            },
            "colorscale": [
             [
              0,
              "#0d0887"
             ],
             [
              0.1111111111111111,
              "#46039f"
             ],
             [
              0.2222222222222222,
              "#7201a8"
             ],
             [
              0.3333333333333333,
              "#9c179e"
             ],
             [
              0.4444444444444444,
              "#bd3786"
             ],
             [
              0.5555555555555556,
              "#d8576b"
             ],
             [
              0.6666666666666666,
              "#ed7953"
             ],
             [
              0.7777777777777778,
              "#fb9f3a"
             ],
             [
              0.8888888888888888,
              "#fdca26"
             ],
             [
              1,
              "#f0f921"
             ]
            ],
            "type": "heatmap"
           }
          ],
          "heatmapgl": [
           {
            "colorbar": {
             "outlinewidth": 0,
             "ticks": ""
            },
            "colorscale": [
             [
              0,
              "#0d0887"
             ],
             [
              0.1111111111111111,
              "#46039f"
             ],
             [
              0.2222222222222222,
              "#7201a8"
             ],
             [
              0.3333333333333333,
              "#9c179e"
             ],
             [
              0.4444444444444444,
              "#bd3786"
             ],
             [
              0.5555555555555556,
              "#d8576b"
             ],
             [
              0.6666666666666666,
              "#ed7953"
             ],
             [
              0.7777777777777778,
              "#fb9f3a"
             ],
             [
              0.8888888888888888,
              "#fdca26"
             ],
             [
              1,
              "#f0f921"
             ]
            ],
            "type": "heatmapgl"
           }
          ],
          "histogram": [
           {
            "marker": {
             "colorbar": {
              "outlinewidth": 0,
              "ticks": ""
             }
            },
            "type": "histogram"
           }
          ],
          "histogram2d": [
           {
            "colorbar": {
             "outlinewidth": 0,
             "ticks": ""
            },
            "colorscale": [
             [
              0,
              "#0d0887"
             ],
             [
              0.1111111111111111,
              "#46039f"
             ],
             [
              0.2222222222222222,
              "#7201a8"
             ],
             [
              0.3333333333333333,
              "#9c179e"
             ],
             [
              0.4444444444444444,
              "#bd3786"
             ],
             [
              0.5555555555555556,
              "#d8576b"
             ],
             [
              0.6666666666666666,
              "#ed7953"
             ],
             [
              0.7777777777777778,
              "#fb9f3a"
             ],
             [
              0.8888888888888888,
              "#fdca26"
             ],
             [
              1,
              "#f0f921"
             ]
            ],
            "type": "histogram2d"
           }
          ],
          "histogram2dcontour": [
           {
            "colorbar": {
             "outlinewidth": 0,
             "ticks": ""
            },
            "colorscale": [
             [
              0,
              "#0d0887"
             ],
             [
              0.1111111111111111,
              "#46039f"
             ],
             [
              0.2222222222222222,
              "#7201a8"
             ],
             [
              0.3333333333333333,
              "#9c179e"
             ],
             [
              0.4444444444444444,
              "#bd3786"
             ],
             [
              0.5555555555555556,
              "#d8576b"
             ],
             [
              0.6666666666666666,
              "#ed7953"
             ],
             [
              0.7777777777777778,
              "#fb9f3a"
             ],
             [
              0.8888888888888888,
              "#fdca26"
             ],
             [
              1,
              "#f0f921"
             ]
            ],
            "type": "histogram2dcontour"
           }
          ],
          "mesh3d": [
           {
            "colorbar": {
             "outlinewidth": 0,
             "ticks": ""
            },
            "type": "mesh3d"
           }
          ],
          "parcoords": [
           {
            "line": {
             "colorbar": {
              "outlinewidth": 0,
              "ticks": ""
             }
            },
            "type": "parcoords"
           }
          ],
          "pie": [
           {
            "automargin": true,
            "type": "pie"
           }
          ],
          "scatter": [
           {
            "marker": {
             "colorbar": {
              "outlinewidth": 0,
              "ticks": ""
             }
            },
            "type": "scatter"
           }
          ],
          "scatter3d": [
           {
            "line": {
             "colorbar": {
              "outlinewidth": 0,
              "ticks": ""
             }
            },
            "marker": {
             "colorbar": {
              "outlinewidth": 0,
              "ticks": ""
             }
            },
            "type": "scatter3d"
           }
          ],
          "scattercarpet": [
           {
            "marker": {
             "colorbar": {
              "outlinewidth": 0,
              "ticks": ""
             }
            },
            "type": "scattercarpet"
           }
          ],
          "scattergeo": [
           {
            "marker": {
             "colorbar": {
              "outlinewidth": 0,
              "ticks": ""
             }
            },
            "type": "scattergeo"
           }
          ],
          "scattergl": [
           {
            "marker": {
             "colorbar": {
              "outlinewidth": 0,
              "ticks": ""
             }
            },
            "type": "scattergl"
           }
          ],
          "scattermapbox": [
           {
            "marker": {
             "colorbar": {
              "outlinewidth": 0,
              "ticks": ""
             }
            },
            "type": "scattermapbox"
           }
          ],
          "scatterpolar": [
           {
            "marker": {
             "colorbar": {
              "outlinewidth": 0,
              "ticks": ""
             }
            },
            "type": "scatterpolar"
           }
          ],
          "scatterpolargl": [
           {
            "marker": {
             "colorbar": {
              "outlinewidth": 0,
              "ticks": ""
             }
            },
            "type": "scatterpolargl"
           }
          ],
          "scatterternary": [
           {
            "marker": {
             "colorbar": {
              "outlinewidth": 0,
              "ticks": ""
             }
            },
            "type": "scatterternary"
           }
          ],
          "surface": [
           {
            "colorbar": {
             "outlinewidth": 0,
             "ticks": ""
            },
            "colorscale": [
             [
              0,
              "#0d0887"
             ],
             [
              0.1111111111111111,
              "#46039f"
             ],
             [
              0.2222222222222222,
              "#7201a8"
             ],
             [
              0.3333333333333333,
              "#9c179e"
             ],
             [
              0.4444444444444444,
              "#bd3786"
             ],
             [
              0.5555555555555556,
              "#d8576b"
             ],
             [
              0.6666666666666666,
              "#ed7953"
             ],
             [
              0.7777777777777778,
              "#fb9f3a"
             ],
             [
              0.8888888888888888,
              "#fdca26"
             ],
             [
              1,
              "#f0f921"
             ]
            ],
            "type": "surface"
           }
          ],
          "table": [
           {
            "cells": {
             "fill": {
              "color": "#EBF0F8"
             },
             "line": {
              "color": "white"
             }
            },
            "header": {
             "fill": {
              "color": "#C8D4E3"
             },
             "line": {
              "color": "white"
             }
            },
            "type": "table"
           }
          ]
         },
         "layout": {
          "annotationdefaults": {
           "arrowcolor": "#2a3f5f",
           "arrowhead": 0,
           "arrowwidth": 1
          },
          "coloraxis": {
           "colorbar": {
            "outlinewidth": 0,
            "ticks": ""
           }
          },
          "colorscale": {
           "diverging": [
            [
             0,
             "#8e0152"
            ],
            [
             0.1,
             "#c51b7d"
            ],
            [
             0.2,
             "#de77ae"
            ],
            [
             0.3,
             "#f1b6da"
            ],
            [
             0.4,
             "#fde0ef"
            ],
            [
             0.5,
             "#f7f7f7"
            ],
            [
             0.6,
             "#e6f5d0"
            ],
            [
             0.7,
             "#b8e186"
            ],
            [
             0.8,
             "#7fbc41"
            ],
            [
             0.9,
             "#4d9221"
            ],
            [
             1,
             "#276419"
            ]
           ],
           "sequential": [
            [
             0,
             "#0d0887"
            ],
            [
             0.1111111111111111,
             "#46039f"
            ],
            [
             0.2222222222222222,
             "#7201a8"
            ],
            [
             0.3333333333333333,
             "#9c179e"
            ],
            [
             0.4444444444444444,
             "#bd3786"
            ],
            [
             0.5555555555555556,
             "#d8576b"
            ],
            [
             0.6666666666666666,
             "#ed7953"
            ],
            [
             0.7777777777777778,
             "#fb9f3a"
            ],
            [
             0.8888888888888888,
             "#fdca26"
            ],
            [
             1,
             "#f0f921"
            ]
           ],
           "sequentialminus": [
            [
             0,
             "#0d0887"
            ],
            [
             0.1111111111111111,
             "#46039f"
            ],
            [
             0.2222222222222222,
             "#7201a8"
            ],
            [
             0.3333333333333333,
             "#9c179e"
            ],
            [
             0.4444444444444444,
             "#bd3786"
            ],
            [
             0.5555555555555556,
             "#d8576b"
            ],
            [
             0.6666666666666666,
             "#ed7953"
            ],
            [
             0.7777777777777778,
             "#fb9f3a"
            ],
            [
             0.8888888888888888,
             "#fdca26"
            ],
            [
             1,
             "#f0f921"
            ]
           ]
          },
          "colorway": [
           "#636efa",
           "#EF553B",
           "#00cc96",
           "#ab63fa",
           "#FFA15A",
           "#19d3f3",
           "#FF6692",
           "#B6E880",
           "#FF97FF",
           "#FECB52"
          ],
          "font": {
           "color": "#2a3f5f"
          },
          "geo": {
           "bgcolor": "white",
           "lakecolor": "white",
           "landcolor": "#E5ECF6",
           "showlakes": true,
           "showland": true,
           "subunitcolor": "white"
          },
          "hoverlabel": {
           "align": "left"
          },
          "hovermode": "closest",
          "mapbox": {
           "style": "light"
          },
          "paper_bgcolor": "white",
          "plot_bgcolor": "#E5ECF6",
          "polar": {
           "angularaxis": {
            "gridcolor": "white",
            "linecolor": "white",
            "ticks": ""
           },
           "bgcolor": "#E5ECF6",
           "radialaxis": {
            "gridcolor": "white",
            "linecolor": "white",
            "ticks": ""
           }
          },
          "scene": {
           "xaxis": {
            "backgroundcolor": "#E5ECF6",
            "gridcolor": "white",
            "gridwidth": 2,
            "linecolor": "white",
            "showbackground": true,
            "ticks": "",
            "zerolinecolor": "white"
           },
           "yaxis": {
            "backgroundcolor": "#E5ECF6",
            "gridcolor": "white",
            "gridwidth": 2,
            "linecolor": "white",
            "showbackground": true,
            "ticks": "",
            "zerolinecolor": "white"
           },
           "zaxis": {
            "backgroundcolor": "#E5ECF6",
            "gridcolor": "white",
            "gridwidth": 2,
            "linecolor": "white",
            "showbackground": true,
            "ticks": "",
            "zerolinecolor": "white"
           }
          },
          "shapedefaults": {
           "line": {
            "color": "#2a3f5f"
           }
          },
          "ternary": {
           "aaxis": {
            "gridcolor": "white",
            "linecolor": "white",
            "ticks": ""
           },
           "baxis": {
            "gridcolor": "white",
            "linecolor": "white",
            "ticks": ""
           },
           "bgcolor": "#E5ECF6",
           "caxis": {
            "gridcolor": "white",
            "linecolor": "white",
            "ticks": ""
           }
          },
          "title": {
           "x": 0.05
          },
          "xaxis": {
           "automargin": true,
           "gridcolor": "white",
           "linecolor": "white",
           "ticks": "",
           "title": {
            "standoff": 15
           },
           "zerolinecolor": "white",
           "zerolinewidth": 2
          },
          "yaxis": {
           "automargin": true,
           "gridcolor": "white",
           "linecolor": "white",
           "ticks": "",
           "title": {
            "standoff": 15
           },
           "zerolinecolor": "white",
           "zerolinewidth": 2
          }
         }
        },
        "title": {
         "text": "System Level Forecasts"
        },
        "xaxis": {
         "anchor": "y",
         "domain": [
          0,
          1
         ],
         "title": {
          "text": "delivery_dt"
         }
        },
        "yaxis": {
         "anchor": "x",
         "domain": [
          0,
          1
         ],
         "title": {
          "text": "mw"
         }
        }
       }
      },
      "text/html": [
       "<div>\n",
       "        \n",
       "        \n",
       "            <div id=\"595a7037-5a0a-4fea-a4bb-2bbef595d280\" class=\"plotly-graph-div\" style=\"height:525px; width:100%;\"></div>\n",
       "            <script type=\"text/javascript\">\n",
       "                require([\"plotly\"], function(Plotly) {\n",
       "                    window.PLOTLYENV=window.PLOTLYENV || {};\n",
       "                    \n",
       "                if (document.getElementById(\"595a7037-5a0a-4fea-a4bb-2bbef595d280\")) {\n",
       "                    Plotly.newPlot(\n",
       "                        '595a7037-5a0a-4fea-a4bb-2bbef595d280',\n",
       "                        [{\"hovertemplate\": \"zone=HSL_SYSTEM_WIDE<br>delivery_dt=%{x}<br>mw=%{y}<extra></extra>\", \"legendgroup\": \"HSL_SYSTEM_WIDE\", \"line\": {\"color\": \"#636efa\", \"dash\": \"solid\"}, \"mode\": \"lines\", \"name\": \"HSL_SYSTEM_WIDE\", \"showlegend\": true, \"type\": \"scatter\", \"x\": [\"2020-07-25T19:00:00\", \"2020-07-25T20:00:00\", \"2020-07-25T21:00:00\", \"2020-07-25T22:00:00\", \"2020-07-25T23:00:00\", \"2020-07-26T00:00:00\", \"2020-07-26T01:00:00\", \"2020-07-26T02:00:00\", \"2020-07-26T03:00:00\", \"2020-07-26T04:00:00\", \"2020-07-26T05:00:00\", \"2020-07-26T06:00:00\", \"2020-07-26T07:00:00\", \"2020-07-26T08:00:00\", \"2020-07-26T09:00:00\", \"2020-07-26T10:00:00\", \"2020-07-26T11:00:00\", \"2020-07-26T12:00:00\", \"2020-07-26T13:00:00\", \"2020-07-26T14:00:00\", \"2020-07-26T15:00:00\", \"2020-07-26T16:00:00\", \"2020-07-26T17:00:00\", \"2020-07-26T18:00:00\", \"2020-07-26T19:00:00\", \"2020-07-26T20:00:00\", \"2020-07-26T21:00:00\", \"2020-07-26T22:00:00\", \"2020-07-26T23:00:00\", \"2020-07-27T00:00:00\", \"2020-07-27T01:00:00\", \"2020-07-27T02:00:00\", \"2020-07-27T03:00:00\", \"2020-07-27T04:00:00\", \"2020-07-27T05:00:00\", \"2020-07-27T06:00:00\", \"2020-07-27T07:00:00\", \"2020-07-27T08:00:00\", \"2020-07-27T09:00:00\", \"2020-07-27T10:00:00\", \"2020-07-27T11:00:00\", \"2020-07-27T12:00:00\", \"2020-07-27T13:00:00\", \"2020-07-27T14:00:00\", \"2020-07-27T15:00:00\", \"2020-07-27T16:00:00\", \"2020-07-27T17:00:00\", \"2020-07-27T18:00:00\", \"2020-07-27T19:00:00\", \"2020-07-27T20:00:00\", \"2020-07-27T21:00:00\", \"2020-07-27T22:00:00\", \"2020-07-27T23:00:00\", \"2020-07-28T00:00:00\", \"2020-07-28T01:00:00\", \"2020-07-28T02:00:00\", \"2020-07-28T03:00:00\", \"2020-07-28T04:00:00\", \"2020-07-28T05:00:00\", \"2020-07-28T06:00:00\", \"2020-07-28T07:00:00\", \"2020-07-28T08:00:00\", \"2020-07-28T09:00:00\", \"2020-07-28T10:00:00\", \"2020-07-28T11:00:00\", \"2020-07-28T12:00:00\", \"2020-07-28T13:00:00\", \"2020-07-28T14:00:00\", \"2020-07-28T15:00:00\", \"2020-07-28T16:00:00\", \"2020-07-28T17:00:00\", \"2020-07-28T18:00:00\", \"2020-07-28T19:00:00\", \"2020-07-28T20:00:00\", \"2020-07-28T21:00:00\", \"2020-07-28T22:00:00\", \"2020-07-28T23:00:00\", \"2020-07-29T00:00:00\", \"2020-07-29T01:00:00\", \"2020-07-29T02:00:00\", \"2020-07-29T03:00:00\", \"2020-07-29T04:00:00\", \"2020-07-29T05:00:00\", \"2020-07-29T06:00:00\", \"2020-07-29T07:00:00\", \"2020-07-29T08:00:00\", \"2020-07-29T09:00:00\", \"2020-07-29T10:00:00\", \"2020-07-29T11:00:00\", \"2020-07-29T12:00:00\", \"2020-07-29T13:00:00\", \"2020-07-29T14:00:00\", \"2020-07-29T15:00:00\", \"2020-07-29T16:00:00\", \"2020-07-29T17:00:00\", \"2020-07-29T18:00:00\", \"2020-07-29T19:00:00\", \"2020-07-29T20:00:00\", \"2020-07-29T21:00:00\", \"2020-07-29T22:00:00\", \"2020-07-29T23:00:00\", \"2020-07-30T00:00:00\", \"2020-07-30T01:00:00\", \"2020-07-30T02:00:00\", \"2020-07-30T03:00:00\", \"2020-07-30T04:00:00\", \"2020-07-30T05:00:00\", \"2020-07-30T06:00:00\", \"2020-07-30T07:00:00\", \"2020-07-30T08:00:00\", \"2020-07-30T09:00:00\", \"2020-07-30T10:00:00\", \"2020-07-30T11:00:00\", \"2020-07-30T12:00:00\", \"2020-07-30T13:00:00\", \"2020-07-30T14:00:00\", \"2020-07-30T15:00:00\", \"2020-07-30T16:00:00\", \"2020-07-30T17:00:00\", \"2020-07-30T18:00:00\", \"2020-07-30T19:00:00\", \"2020-07-30T20:00:00\", \"2020-07-30T21:00:00\", \"2020-07-30T22:00:00\", \"2020-07-30T23:00:00\", \"2020-07-31T00:00:00\", \"2020-07-31T01:00:00\", \"2020-07-31T02:00:00\", \"2020-07-31T03:00:00\", \"2020-07-31T04:00:00\", \"2020-07-31T05:00:00\", \"2020-07-31T06:00:00\", \"2020-07-31T07:00:00\", \"2020-07-31T08:00:00\", \"2020-07-31T09:00:00\", \"2020-07-31T10:00:00\", \"2020-07-31T11:00:00\", \"2020-07-31T12:00:00\", \"2020-07-31T13:00:00\", \"2020-07-31T14:00:00\", \"2020-07-31T15:00:00\", \"2020-07-31T16:00:00\", \"2020-07-31T17:00:00\", \"2020-07-31T18:00:00\", \"2020-07-31T19:00:00\", \"2020-07-31T20:00:00\", \"2020-07-31T21:00:00\", \"2020-07-31T22:00:00\", \"2020-07-31T23:00:00\", \"2020-08-01T00:00:00\", \"2020-08-01T01:00:00\", \"2020-08-01T02:00:00\", \"2020-08-01T03:00:00\", \"2020-08-01T04:00:00\", \"2020-08-01T05:00:00\", \"2020-08-01T06:00:00\", \"2020-08-01T07:00:00\", \"2020-08-01T08:00:00\", \"2020-08-01T09:00:00\", \"2020-08-01T10:00:00\", \"2020-08-01T11:00:00\", \"2020-08-01T12:00:00\", \"2020-08-01T13:00:00\", \"2020-08-01T14:00:00\", \"2020-08-01T15:00:00\", \"2020-08-01T16:00:00\", \"2020-08-01T17:00:00\", \"2020-08-01T18:00:00\", \"2020-08-01T19:00:00\", \"2020-08-01T20:00:00\", \"2020-08-01T21:00:00\", \"2020-08-01T22:00:00\", \"2020-08-01T23:00:00\", \"2020-08-02T00:00:00\", \"2020-08-02T01:00:00\", \"2020-08-02T02:00:00\", \"2020-08-02T03:00:00\", \"2020-08-02T04:00:00\", \"2020-08-02T05:00:00\", \"2020-08-02T06:00:00\", \"2020-08-02T07:00:00\", \"2020-08-02T08:00:00\", \"2020-08-02T09:00:00\", \"2020-08-02T10:00:00\", \"2020-08-02T11:00:00\", \"2020-08-02T12:00:00\", \"2020-08-02T13:00:00\", \"2020-08-02T14:00:00\", \"2020-08-02T15:00:00\", \"2020-08-02T16:00:00\", \"2020-08-02T17:00:00\", \"2020-08-02T18:00:00\", \"2020-08-02T19:00:00\", \"2020-08-02T20:00:00\", \"2020-08-02T21:00:00\", \"2020-08-02T22:00:00\", \"2020-08-02T23:00:00\", \"2020-08-03T00:00:00\", \"2020-08-03T01:00:00\", \"2020-08-03T02:00:00\", \"2020-08-03T03:00:00\", \"2020-08-03T04:00:00\", \"2020-08-03T05:00:00\", \"2020-08-03T06:00:00\", \"2020-08-03T07:00:00\", \"2020-08-03T08:00:00\", \"2020-08-03T09:00:00\", \"2020-08-03T10:00:00\", \"2020-08-03T11:00:00\", \"2020-08-03T12:00:00\", \"2020-08-03T13:00:00\", \"2020-08-03T14:00:00\", \"2020-08-03T15:00:00\", \"2020-08-03T16:00:00\", \"2020-08-03T17:00:00\"], \"xaxis\": \"x\", \"y\": [11091.1, 11403.1, 11223.7, 12545.4, 13135.8, 12875.7, 13240.9, 11489.2, 9414.6, 8161.1, 6758.1, 5977.4, 5121.1, 5070.9, 5493.0, 5364.0, 5463.9, 6950.7, 6243.4, 5853.9, 5900.4, 6255.4, 6839.4, 7425.0, 7324.1, 7990.7, 8332.1, 8796.0, 8563.5, 9985.4, 10525.7, 10340.8, 10093.8, 8473.8, 7668.5, 6918.0, 6603.6, 6088.0, 5972.2, 4913.9, 3796.9, 3498.1, 2935.2, 2720.8, 2509.7, 2725.4, 2717.2, 3409.6, 3462.1, 3760.3, 4390.3, 5540.2, 6552.6, 7300.4, 7783.4, 8109.9, 7821.9, 6869.0, 5856.9, 4848.7, 4067.8, 3336.4, 2701.9, 2375.5, 2337.4, 1985.2, 1602.9, 1500.2, 1693.6, 2271.6, 3201.1, 4137.5, 4999.1, 6051.1, 7649.3, 9074.4, 10226.7, 11119.1, 11584.9, 12199.5, 12421.0, 12299.9, 11929.2, 11530.1, 11134.8, 10491.0, 10097.8, 10200.9, 10272.6, 10119.6, 9669.9, 9083.8, 8799.2, 8625.1, 8610.2, 8886.8, 9392.0, 10191.8, 11483.5, 13285.9, 14735.3, 15498.0, 15803.1, 15782.0, 15401.0, 14867.4, 14297.1, 13502.4, 12465.4, 11611.8, 11334.5, 10625.3, 9204.1, 7818.3, 6585.4, 5776.3, 5562.3, 5731.4, 6178.0, 7063.4, 8086.4, 8948.8, 9823.9, 10608.3, 11608.6, 12496.5, 13247.0, 13211.2, 12758.5, 12253.8, 11376.5, 10177.7, 9019.3, 8353.7, 8059.4, 7794.5, 7485.8, 7141.9, 6843.7, 6895.4, 7239.0, 7609.0, 7900.0, 8129.9, 8457.5, 8427.7, 8226.9, 7996.8, 7805.6, 7666.0, 7495.3, 6942.6, 6395.6, 5859.9, 5237.4, 4541.2, 3848.9, 3275.8, 2794.3, 2321.9, 2007.7, 1831.1, 1650.2, 1588.3, 1595.6, 1610.6, 1756.8, 2014.4, 2296.5, 3117.4, 4350.9, 5611.6, 6080.5, 5849.8, 5572.5, 5234.2, 4814.5, 4385.4, 4049.4, 3795.0, 3536.7, 3155.1, 2681.3, 2201.6, 1716.9, 1230.0, 763.6, 756.2, 1101.9, 1477.6, 1865.9, 2262.9, 2683.1, 3614.3, 4938.2, 6297.2, 7622.1, 8917.9, 9929.6, 9985.3, 9158.6, 8249.1, 7331.7, 6412.5, 5499.9, 4743.7, 4108.2, 3483.4, 2859.1, 2232.8, 1638.7, 1707.8, 2279.7, 2900.7, 3022.3], \"yaxis\": \"y\"}],\n",
       "                        {\"legend\": {\"title\": {\"text\": \"zone\"}, \"tracegroupgap\": 0}, \"template\": {\"data\": {\"bar\": [{\"error_x\": {\"color\": \"#2a3f5f\"}, \"error_y\": {\"color\": \"#2a3f5f\"}, \"marker\": {\"line\": {\"color\": \"#E5ECF6\", \"width\": 0.5}}, \"type\": \"bar\"}], \"barpolar\": [{\"marker\": {\"line\": {\"color\": \"#E5ECF6\", \"width\": 0.5}}, \"type\": \"barpolar\"}], \"carpet\": [{\"aaxis\": {\"endlinecolor\": \"#2a3f5f\", \"gridcolor\": \"white\", \"linecolor\": \"white\", \"minorgridcolor\": \"white\", \"startlinecolor\": \"#2a3f5f\"}, \"baxis\": {\"endlinecolor\": \"#2a3f5f\", \"gridcolor\": \"white\", \"linecolor\": \"white\", \"minorgridcolor\": \"white\", \"startlinecolor\": \"#2a3f5f\"}, \"type\": \"carpet\"}], \"choropleth\": [{\"colorbar\": {\"outlinewidth\": 0, \"ticks\": \"\"}, \"type\": \"choropleth\"}], \"contour\": [{\"colorbar\": {\"outlinewidth\": 0, \"ticks\": \"\"}, \"colorscale\": [[0.0, \"#0d0887\"], [0.1111111111111111, \"#46039f\"], [0.2222222222222222, \"#7201a8\"], [0.3333333333333333, \"#9c179e\"], [0.4444444444444444, \"#bd3786\"], [0.5555555555555556, \"#d8576b\"], [0.6666666666666666, \"#ed7953\"], [0.7777777777777778, \"#fb9f3a\"], [0.8888888888888888, \"#fdca26\"], [1.0, \"#f0f921\"]], \"type\": \"contour\"}], \"contourcarpet\": [{\"colorbar\": {\"outlinewidth\": 0, \"ticks\": \"\"}, \"type\": \"contourcarpet\"}], \"heatmap\": [{\"colorbar\": {\"outlinewidth\": 0, \"ticks\": \"\"}, \"colorscale\": [[0.0, \"#0d0887\"], [0.1111111111111111, \"#46039f\"], [0.2222222222222222, \"#7201a8\"], [0.3333333333333333, \"#9c179e\"], [0.4444444444444444, \"#bd3786\"], [0.5555555555555556, \"#d8576b\"], [0.6666666666666666, \"#ed7953\"], [0.7777777777777778, \"#fb9f3a\"], [0.8888888888888888, \"#fdca26\"], [1.0, \"#f0f921\"]], \"type\": \"heatmap\"}], \"heatmapgl\": [{\"colorbar\": {\"outlinewidth\": 0, \"ticks\": \"\"}, \"colorscale\": [[0.0, \"#0d0887\"], [0.1111111111111111, \"#46039f\"], [0.2222222222222222, \"#7201a8\"], [0.3333333333333333, \"#9c179e\"], [0.4444444444444444, \"#bd3786\"], [0.5555555555555556, \"#d8576b\"], [0.6666666666666666, \"#ed7953\"], [0.7777777777777778, \"#fb9f3a\"], [0.8888888888888888, \"#fdca26\"], [1.0, \"#f0f921\"]], \"type\": \"heatmapgl\"}], \"histogram\": [{\"marker\": {\"colorbar\": {\"outlinewidth\": 0, \"ticks\": \"\"}}, \"type\": \"histogram\"}], \"histogram2d\": [{\"colorbar\": {\"outlinewidth\": 0, \"ticks\": \"\"}, \"colorscale\": [[0.0, \"#0d0887\"], [0.1111111111111111, \"#46039f\"], [0.2222222222222222, \"#7201a8\"], [0.3333333333333333, \"#9c179e\"], [0.4444444444444444, \"#bd3786\"], [0.5555555555555556, \"#d8576b\"], [0.6666666666666666, \"#ed7953\"], [0.7777777777777778, \"#fb9f3a\"], [0.8888888888888888, \"#fdca26\"], [1.0, \"#f0f921\"]], \"type\": \"histogram2d\"}], \"histogram2dcontour\": [{\"colorbar\": {\"outlinewidth\": 0, \"ticks\": \"\"}, \"colorscale\": [[0.0, \"#0d0887\"], [0.1111111111111111, \"#46039f\"], [0.2222222222222222, \"#7201a8\"], [0.3333333333333333, \"#9c179e\"], [0.4444444444444444, \"#bd3786\"], [0.5555555555555556, \"#d8576b\"], [0.6666666666666666, \"#ed7953\"], [0.7777777777777778, \"#fb9f3a\"], [0.8888888888888888, \"#fdca26\"], [1.0, \"#f0f921\"]], \"type\": \"histogram2dcontour\"}], \"mesh3d\": [{\"colorbar\": {\"outlinewidth\": 0, \"ticks\": \"\"}, \"type\": \"mesh3d\"}], \"parcoords\": [{\"line\": {\"colorbar\": {\"outlinewidth\": 0, \"ticks\": \"\"}}, \"type\": \"parcoords\"}], \"pie\": [{\"automargin\": true, \"type\": \"pie\"}], \"scatter\": [{\"marker\": {\"colorbar\": {\"outlinewidth\": 0, \"ticks\": \"\"}}, \"type\": \"scatter\"}], \"scatter3d\": [{\"line\": {\"colorbar\": {\"outlinewidth\": 0, \"ticks\": \"\"}}, \"marker\": {\"colorbar\": {\"outlinewidth\": 0, \"ticks\": \"\"}}, \"type\": \"scatter3d\"}], \"scattercarpet\": [{\"marker\": {\"colorbar\": {\"outlinewidth\": 0, \"ticks\": \"\"}}, \"type\": \"scattercarpet\"}], \"scattergeo\": [{\"marker\": {\"colorbar\": {\"outlinewidth\": 0, \"ticks\": \"\"}}, \"type\": \"scattergeo\"}], \"scattergl\": [{\"marker\": {\"colorbar\": {\"outlinewidth\": 0, \"ticks\": \"\"}}, \"type\": \"scattergl\"}], \"scattermapbox\": [{\"marker\": {\"colorbar\": {\"outlinewidth\": 0, \"ticks\": \"\"}}, \"type\": \"scattermapbox\"}], \"scatterpolar\": [{\"marker\": {\"colorbar\": {\"outlinewidth\": 0, \"ticks\": \"\"}}, \"type\": \"scatterpolar\"}], \"scatterpolargl\": [{\"marker\": {\"colorbar\": {\"outlinewidth\": 0, \"ticks\": \"\"}}, \"type\": \"scatterpolargl\"}], \"scatterternary\": [{\"marker\": {\"colorbar\": {\"outlinewidth\": 0, \"ticks\": \"\"}}, \"type\": \"scatterternary\"}], \"surface\": [{\"colorbar\": {\"outlinewidth\": 0, \"ticks\": \"\"}, \"colorscale\": [[0.0, \"#0d0887\"], [0.1111111111111111, \"#46039f\"], [0.2222222222222222, \"#7201a8\"], [0.3333333333333333, \"#9c179e\"], [0.4444444444444444, \"#bd3786\"], [0.5555555555555556, \"#d8576b\"], [0.6666666666666666, \"#ed7953\"], [0.7777777777777778, \"#fb9f3a\"], [0.8888888888888888, \"#fdca26\"], [1.0, \"#f0f921\"]], \"type\": \"surface\"}], \"table\": [{\"cells\": {\"fill\": {\"color\": \"#EBF0F8\"}, \"line\": {\"color\": \"white\"}}, \"header\": {\"fill\": {\"color\": \"#C8D4E3\"}, \"line\": {\"color\": \"white\"}}, \"type\": \"table\"}]}, \"layout\": {\"annotationdefaults\": {\"arrowcolor\": \"#2a3f5f\", \"arrowhead\": 0, \"arrowwidth\": 1}, \"coloraxis\": {\"colorbar\": {\"outlinewidth\": 0, \"ticks\": \"\"}}, \"colorscale\": {\"diverging\": [[0, \"#8e0152\"], [0.1, \"#c51b7d\"], [0.2, \"#de77ae\"], [0.3, \"#f1b6da\"], [0.4, \"#fde0ef\"], [0.5, \"#f7f7f7\"], [0.6, \"#e6f5d0\"], [0.7, \"#b8e186\"], [0.8, \"#7fbc41\"], [0.9, \"#4d9221\"], [1, \"#276419\"]], \"sequential\": [[0.0, \"#0d0887\"], [0.1111111111111111, \"#46039f\"], [0.2222222222222222, \"#7201a8\"], [0.3333333333333333, \"#9c179e\"], [0.4444444444444444, \"#bd3786\"], [0.5555555555555556, \"#d8576b\"], [0.6666666666666666, \"#ed7953\"], [0.7777777777777778, \"#fb9f3a\"], [0.8888888888888888, \"#fdca26\"], [1.0, \"#f0f921\"]], \"sequentialminus\": [[0.0, \"#0d0887\"], [0.1111111111111111, \"#46039f\"], [0.2222222222222222, \"#7201a8\"], [0.3333333333333333, \"#9c179e\"], [0.4444444444444444, \"#bd3786\"], [0.5555555555555556, \"#d8576b\"], [0.6666666666666666, \"#ed7953\"], [0.7777777777777778, \"#fb9f3a\"], [0.8888888888888888, \"#fdca26\"], [1.0, \"#f0f921\"]]}, \"colorway\": [\"#636efa\", \"#EF553B\", \"#00cc96\", \"#ab63fa\", \"#FFA15A\", \"#19d3f3\", \"#FF6692\", \"#B6E880\", \"#FF97FF\", \"#FECB52\"], \"font\": {\"color\": \"#2a3f5f\"}, \"geo\": {\"bgcolor\": \"white\", \"lakecolor\": \"white\", \"landcolor\": \"#E5ECF6\", \"showlakes\": true, \"showland\": true, \"subunitcolor\": \"white\"}, \"hoverlabel\": {\"align\": \"left\"}, \"hovermode\": \"closest\", \"mapbox\": {\"style\": \"light\"}, \"paper_bgcolor\": \"white\", \"plot_bgcolor\": \"#E5ECF6\", \"polar\": {\"angularaxis\": {\"gridcolor\": \"white\", \"linecolor\": \"white\", \"ticks\": \"\"}, \"bgcolor\": \"#E5ECF6\", \"radialaxis\": {\"gridcolor\": \"white\", \"linecolor\": \"white\", \"ticks\": \"\"}}, \"scene\": {\"xaxis\": {\"backgroundcolor\": \"#E5ECF6\", \"gridcolor\": \"white\", \"gridwidth\": 2, \"linecolor\": \"white\", \"showbackground\": true, \"ticks\": \"\", \"zerolinecolor\": \"white\"}, \"yaxis\": {\"backgroundcolor\": \"#E5ECF6\", \"gridcolor\": \"white\", \"gridwidth\": 2, \"linecolor\": \"white\", \"showbackground\": true, \"ticks\": \"\", \"zerolinecolor\": \"white\"}, \"zaxis\": {\"backgroundcolor\": \"#E5ECF6\", \"gridcolor\": \"white\", \"gridwidth\": 2, \"linecolor\": \"white\", \"showbackground\": true, \"ticks\": \"\", \"zerolinecolor\": \"white\"}}, \"shapedefaults\": {\"line\": {\"color\": \"#2a3f5f\"}}, \"ternary\": {\"aaxis\": {\"gridcolor\": \"white\", \"linecolor\": \"white\", \"ticks\": \"\"}, \"baxis\": {\"gridcolor\": \"white\", \"linecolor\": \"white\", \"ticks\": \"\"}, \"bgcolor\": \"#E5ECF6\", \"caxis\": {\"gridcolor\": \"white\", \"linecolor\": \"white\", \"ticks\": \"\"}}, \"title\": {\"x\": 0.05}, \"xaxis\": {\"automargin\": true, \"gridcolor\": \"white\", \"linecolor\": \"white\", \"ticks\": \"\", \"title\": {\"standoff\": 15}, \"zerolinecolor\": \"white\", \"zerolinewidth\": 2}, \"yaxis\": {\"automargin\": true, \"gridcolor\": \"white\", \"linecolor\": \"white\", \"ticks\": \"\", \"title\": {\"standoff\": 15}, \"zerolinecolor\": \"white\", \"zerolinewidth\": 2}}}, \"title\": {\"text\": \"System Level Forecasts\"}, \"xaxis\": {\"anchor\": \"y\", \"domain\": [0.0, 1.0], \"title\": {\"text\": \"delivery_dt\"}}, \"yaxis\": {\"anchor\": \"x\", \"domain\": [0.0, 1.0], \"title\": {\"text\": \"mw\"}}},\n",
       "                        {\"responsive\": true}\n",
       "                    ).then(function(){\n",
       "                            \n",
       "var gd = document.getElementById('595a7037-5a0a-4fea-a4bb-2bbef595d280');\n",
       "var x = new MutationObserver(function (mutations, observer) {{\n",
       "        var display = window.getComputedStyle(gd).display;\n",
       "        if (!display || display === 'none') {{\n",
       "            console.log([gd, 'removed!']);\n",
       "            Plotly.purge(gd);\n",
       "            observer.disconnect();\n",
       "        }}\n",
       "}});\n",
       "\n",
       "// Listen for the removal of the full notebook cells\n",
       "var notebookContainer = gd.closest('#notebook-container');\n",
       "if (notebookContainer) {{\n",
       "    x.observe(notebookContainer, {childList: true});\n",
       "}}\n",
       "\n",
       "// Listen for the clearing of the current output cell\n",
       "var outputEl = gd.closest('.output');\n",
       "if (outputEl) {{\n",
       "    x.observe(outputEl, {childList: true});\n",
       "}}\n",
       "\n",
       "                        })\n",
       "                };\n",
       "                });\n",
       "            </script>\n",
       "        </div>"
      ]
     },
     "metadata": {},
     "output_type": "display_data"
    }
   ],
   "source": [
    "system_df = long_wind_fcst.loc[(long_wind_fcst.type == 'COP') & (long_wind_fcst.zone == 'HSL_SYSTEM_WIDE'), :] \n",
    "\n",
    "system_df.head()\n",
    "\n",
    "systemFig = px.line(system_df, x=\"delivery_dt\", y=\"mw\", title='System Level Forecasts', color = 'zone')\n",
    "\n",
    "systemFig.show()"
   ]
  },
  {
   "cell_type": "code",
   "execution_count": 137,
   "metadata": {},
   "outputs": [
    {
     "data": {
      "application/vnd.plotly.v1+json": {
       "config": {
        "plotlyServerURL": "https://plot.ly"
       },
       "data": [
        {
         "hovertemplate": "zone=HSL_LZ_SOUTH_HOUSTON<br>delivery_dt=%{x}<br>mw=%{y}<extra></extra>",
         "legendgroup": "HSL_LZ_SOUTH_HOUSTON",
         "line": {
          "color": "#636efa",
          "dash": "solid"
         },
         "mode": "lines",
         "name": "HSL_LZ_SOUTH_HOUSTON",
         "showlegend": true,
         "type": "scatter",
         "x": [
          "2020-07-25T19:00:00",
          "2020-07-25T20:00:00",
          "2020-07-25T21:00:00",
          "2020-07-25T22:00:00",
          "2020-07-25T23:00:00",
          "2020-07-26T00:00:00",
          "2020-07-26T01:00:00",
          "2020-07-26T02:00:00",
          "2020-07-26T03:00:00",
          "2020-07-26T04:00:00",
          "2020-07-26T05:00:00",
          "2020-07-26T06:00:00",
          "2020-07-26T07:00:00",
          "2020-07-26T08:00:00",
          "2020-07-26T09:00:00",
          "2020-07-26T10:00:00",
          "2020-07-26T11:00:00",
          "2020-07-26T12:00:00",
          "2020-07-26T13:00:00",
          "2020-07-26T14:00:00",
          "2020-07-26T15:00:00",
          "2020-07-26T16:00:00",
          "2020-07-26T17:00:00",
          "2020-07-26T18:00:00",
          "2020-07-26T19:00:00",
          "2020-07-26T20:00:00",
          "2020-07-26T21:00:00",
          "2020-07-26T22:00:00",
          "2020-07-26T23:00:00",
          "2020-07-27T00:00:00",
          "2020-07-27T01:00:00",
          "2020-07-27T02:00:00",
          "2020-07-27T03:00:00",
          "2020-07-27T04:00:00",
          "2020-07-27T05:00:00",
          "2020-07-27T06:00:00",
          "2020-07-27T07:00:00",
          "2020-07-27T08:00:00",
          "2020-07-27T09:00:00",
          "2020-07-27T10:00:00",
          "2020-07-27T11:00:00",
          "2020-07-27T12:00:00",
          "2020-07-27T13:00:00",
          "2020-07-27T14:00:00",
          "2020-07-27T15:00:00",
          "2020-07-27T16:00:00",
          "2020-07-27T17:00:00",
          "2020-07-27T18:00:00",
          "2020-07-27T19:00:00",
          "2020-07-27T20:00:00",
          "2020-07-27T21:00:00",
          "2020-07-27T22:00:00",
          "2020-07-27T23:00:00",
          "2020-07-28T00:00:00",
          "2020-07-28T01:00:00",
          "2020-07-28T02:00:00",
          "2020-07-28T03:00:00",
          "2020-07-28T04:00:00",
          "2020-07-28T05:00:00",
          "2020-07-28T06:00:00",
          "2020-07-28T07:00:00",
          "2020-07-28T08:00:00",
          "2020-07-28T09:00:00",
          "2020-07-28T10:00:00",
          "2020-07-28T11:00:00",
          "2020-07-28T12:00:00",
          "2020-07-28T13:00:00",
          "2020-07-28T14:00:00",
          "2020-07-28T15:00:00",
          "2020-07-28T16:00:00",
          "2020-07-28T17:00:00",
          "2020-07-28T18:00:00",
          "2020-07-28T19:00:00",
          "2020-07-28T20:00:00",
          "2020-07-28T21:00:00",
          "2020-07-28T22:00:00",
          "2020-07-28T23:00:00",
          "2020-07-29T00:00:00",
          "2020-07-29T01:00:00",
          "2020-07-29T02:00:00",
          "2020-07-29T03:00:00",
          "2020-07-29T04:00:00",
          "2020-07-29T05:00:00",
          "2020-07-29T06:00:00",
          "2020-07-29T07:00:00",
          "2020-07-29T08:00:00",
          "2020-07-29T09:00:00",
          "2020-07-29T10:00:00",
          "2020-07-29T11:00:00",
          "2020-07-29T12:00:00",
          "2020-07-29T13:00:00",
          "2020-07-29T14:00:00",
          "2020-07-29T15:00:00",
          "2020-07-29T16:00:00",
          "2020-07-29T17:00:00",
          "2020-07-29T18:00:00",
          "2020-07-29T19:00:00",
          "2020-07-29T20:00:00",
          "2020-07-29T21:00:00",
          "2020-07-29T22:00:00",
          "2020-07-29T23:00:00",
          "2020-07-30T00:00:00",
          "2020-07-30T01:00:00",
          "2020-07-30T02:00:00",
          "2020-07-30T03:00:00",
          "2020-07-30T04:00:00",
          "2020-07-30T05:00:00",
          "2020-07-30T06:00:00",
          "2020-07-30T07:00:00",
          "2020-07-30T08:00:00",
          "2020-07-30T09:00:00",
          "2020-07-30T10:00:00",
          "2020-07-30T11:00:00",
          "2020-07-30T12:00:00",
          "2020-07-30T13:00:00",
          "2020-07-30T14:00:00",
          "2020-07-30T15:00:00",
          "2020-07-30T16:00:00",
          "2020-07-30T17:00:00",
          "2020-07-30T18:00:00",
          "2020-07-30T19:00:00",
          "2020-07-30T20:00:00",
          "2020-07-30T21:00:00",
          "2020-07-30T22:00:00",
          "2020-07-30T23:00:00",
          "2020-07-31T00:00:00",
          "2020-07-31T01:00:00",
          "2020-07-31T02:00:00",
          "2020-07-31T03:00:00",
          "2020-07-31T04:00:00",
          "2020-07-31T05:00:00",
          "2020-07-31T06:00:00",
          "2020-07-31T07:00:00",
          "2020-07-31T08:00:00",
          "2020-07-31T09:00:00",
          "2020-07-31T10:00:00",
          "2020-07-31T11:00:00",
          "2020-07-31T12:00:00",
          "2020-07-31T13:00:00",
          "2020-07-31T14:00:00",
          "2020-07-31T15:00:00",
          "2020-07-31T16:00:00",
          "2020-07-31T17:00:00",
          "2020-07-31T18:00:00",
          "2020-07-31T19:00:00",
          "2020-07-31T20:00:00",
          "2020-07-31T21:00:00",
          "2020-07-31T22:00:00",
          "2020-07-31T23:00:00",
          "2020-08-01T00:00:00",
          "2020-08-01T01:00:00",
          "2020-08-01T02:00:00",
          "2020-08-01T03:00:00",
          "2020-08-01T04:00:00",
          "2020-08-01T05:00:00",
          "2020-08-01T06:00:00",
          "2020-08-01T07:00:00",
          "2020-08-01T08:00:00",
          "2020-08-01T09:00:00",
          "2020-08-01T10:00:00",
          "2020-08-01T11:00:00",
          "2020-08-01T12:00:00",
          "2020-08-01T13:00:00",
          "2020-08-01T14:00:00",
          "2020-08-01T15:00:00",
          "2020-08-01T16:00:00",
          "2020-08-01T17:00:00",
          "2020-08-01T18:00:00",
          "2020-08-01T19:00:00",
          "2020-08-01T20:00:00",
          "2020-08-01T21:00:00",
          "2020-08-01T22:00:00",
          "2020-08-01T23:00:00",
          "2020-08-02T00:00:00",
          "2020-08-02T01:00:00",
          "2020-08-02T02:00:00",
          "2020-08-02T03:00:00",
          "2020-08-02T04:00:00",
          "2020-08-02T05:00:00",
          "2020-08-02T06:00:00",
          "2020-08-02T07:00:00",
          "2020-08-02T08:00:00",
          "2020-08-02T09:00:00",
          "2020-08-02T10:00:00",
          "2020-08-02T11:00:00",
          "2020-08-02T12:00:00",
          "2020-08-02T13:00:00",
          "2020-08-02T14:00:00",
          "2020-08-02T15:00:00",
          "2020-08-02T16:00:00",
          "2020-08-02T17:00:00",
          "2020-08-02T18:00:00",
          "2020-08-02T19:00:00",
          "2020-08-02T20:00:00",
          "2020-08-02T21:00:00",
          "2020-08-02T22:00:00",
          "2020-08-02T23:00:00",
          "2020-08-03T00:00:00",
          "2020-08-03T01:00:00",
          "2020-08-03T02:00:00",
          "2020-08-03T03:00:00",
          "2020-08-03T04:00:00",
          "2020-08-03T05:00:00",
          "2020-08-03T06:00:00",
          "2020-08-03T07:00:00",
          "2020-08-03T08:00:00",
          "2020-08-03T09:00:00",
          "2020-08-03T10:00:00",
          "2020-08-03T11:00:00",
          "2020-08-03T12:00:00",
          "2020-08-03T13:00:00",
          "2020-08-03T14:00:00",
          "2020-08-03T15:00:00",
          "2020-08-03T16:00:00",
          "2020-08-03T17:00:00"
         ],
         "xaxis": "x",
         "y": [
          2565.8,
          2670.8,
          2574.6,
          2610.6,
          2485.7,
          2367.1,
          2825.2,
          2770.9,
          2469.8,
          2589.7,
          2760.8,
          2678.7,
          2478.4,
          2550.6,
          2575.9,
          2476.9,
          2719.5,
          3028.7,
          3076.4,
          3180.2,
          3131,
          3054.9,
          3022.3,
          2778,
          2581.4,
          2731.6,
          2629,
          2753.2,
          2313.7,
          2278.3,
          2232.4,
          1987.3,
          1778.7,
          1427.1,
          1257.3,
          1254.1,
          1346.4,
          1343.5,
          1402.7,
          1242.8,
          1172.1,
          1006,
          1002.6,
          1221.1,
          993,
          957.3,
          786.7,
          1242,
          1343.6,
          1412.5,
          1282.5,
          1254.3,
          1176.1,
          1101.7,
          1093.9,
          1030.1,
          923.7,
          779.5,
          607.2,
          486.2,
          436.1,
          454.1,
          475.6,
          522,
          563.7,
          586.9,
          536.6,
          533,
          612.7,
          754.9,
          936.8,
          1065.8,
          1132.8,
          1141.6,
          1274.4,
          1353.2,
          1425.2,
          1490.8,
          1544.9,
          1604.3,
          1543.1,
          1427.7,
          1320.2,
          1278.5,
          1326.8,
          1439.1,
          1526.2,
          1665.6,
          1805.6,
          1901.2,
          1949.8,
          1991.6,
          2128.5,
          2223.9,
          2225.8,
          2328.5,
          2540.7,
          2646.7,
          2718,
          2812.9,
          2915,
          2972,
          3004.6,
          3057,
          2907.7,
          2692.6,
          2485.8,
          2317.3,
          2218.2,
          2292.1,
          2641.9,
          2970.7,
          3096.3,
          3101.2,
          3021.7,
          3020.7,
          3171.9,
          3339.6,
          3492.1,
          3623,
          3660.7,
          3406,
          3238.9,
          3115.7,
          3078.4,
          3033.9,
          3081.8,
          2859,
          2598.4,
          2335.5,
          2175.1,
          2105.4,
          2047.6,
          2162.5,
          2408.8,
          2663.4,
          2717.5,
          2595.1,
          2505.3,
          2521.6,
          2641.5,
          2771.8,
          2856.5,
          2907.5,
          3056.5,
          2989.7,
          2848.1,
          2696,
          2613.5,
          2594.9,
          2551.2,
          2312.6,
          2056.3,
          1810.2,
          1588.9,
          1388,
          1190.6,
          1029.7,
          894.4,
          761.9,
          659,
          582.4,
          507.9,
          486.1,
          503,
          523.7,
          596.7,
          715.5,
          842,
          1133,
          1550,
          1973.8,
          2086.7,
          1924.4,
          1721,
          1587.1,
          1468.9,
          1351.6,
          1230.7,
          1105.9,
          981.3,
          865.4,
          756.8,
          649.7,
          546.2,
          445.4,
          350.2,
          379.3,
          502.1,
          633.2,
          765.2,
          897.8,
          1029.5,
          1155.3,
          1276.5,
          1397.1,
          1518.4,
          1640.7,
          1714.7,
          1678.6,
          1527.4,
          1365.4,
          1204.9,
          1046.3,
          889.8,
          772,
          684,
          599.3,
          514.9,
          430.2,
          352.2,
          408.4,
          566.2,
          733.6,
          759.7
         ],
         "yaxis": "y"
        },
        {
         "hovertemplate": "zone=HSL_LZ_WEST<br>delivery_dt=%{x}<br>mw=%{y}<extra></extra>",
         "legendgroup": "HSL_LZ_WEST",
         "line": {
          "color": "#EF553B",
          "dash": "solid"
         },
         "mode": "lines",
         "name": "HSL_LZ_WEST",
         "showlegend": true,
         "type": "scatter",
         "x": [
          "2020-07-25T19:00:00",
          "2020-07-25T20:00:00",
          "2020-07-25T21:00:00",
          "2020-07-25T22:00:00",
          "2020-07-25T23:00:00",
          "2020-07-26T00:00:00",
          "2020-07-26T01:00:00",
          "2020-07-26T02:00:00",
          "2020-07-26T03:00:00",
          "2020-07-26T04:00:00",
          "2020-07-26T05:00:00",
          "2020-07-26T06:00:00",
          "2020-07-26T07:00:00",
          "2020-07-26T08:00:00",
          "2020-07-26T09:00:00",
          "2020-07-26T10:00:00",
          "2020-07-26T11:00:00",
          "2020-07-26T12:00:00",
          "2020-07-26T13:00:00",
          "2020-07-26T14:00:00",
          "2020-07-26T15:00:00",
          "2020-07-26T16:00:00",
          "2020-07-26T17:00:00",
          "2020-07-26T18:00:00",
          "2020-07-26T19:00:00",
          "2020-07-26T20:00:00",
          "2020-07-26T21:00:00",
          "2020-07-26T22:00:00",
          "2020-07-26T23:00:00",
          "2020-07-27T00:00:00",
          "2020-07-27T01:00:00",
          "2020-07-27T02:00:00",
          "2020-07-27T03:00:00",
          "2020-07-27T04:00:00",
          "2020-07-27T05:00:00",
          "2020-07-27T06:00:00",
          "2020-07-27T07:00:00",
          "2020-07-27T08:00:00",
          "2020-07-27T09:00:00",
          "2020-07-27T10:00:00",
          "2020-07-27T11:00:00",
          "2020-07-27T12:00:00",
          "2020-07-27T13:00:00",
          "2020-07-27T14:00:00",
          "2020-07-27T15:00:00",
          "2020-07-27T16:00:00",
          "2020-07-27T17:00:00",
          "2020-07-27T18:00:00",
          "2020-07-27T19:00:00",
          "2020-07-27T20:00:00",
          "2020-07-27T21:00:00",
          "2020-07-27T22:00:00",
          "2020-07-27T23:00:00",
          "2020-07-28T00:00:00",
          "2020-07-28T01:00:00",
          "2020-07-28T02:00:00",
          "2020-07-28T03:00:00",
          "2020-07-28T04:00:00",
          "2020-07-28T05:00:00",
          "2020-07-28T06:00:00",
          "2020-07-28T07:00:00",
          "2020-07-28T08:00:00",
          "2020-07-28T09:00:00",
          "2020-07-28T10:00:00",
          "2020-07-28T11:00:00",
          "2020-07-28T12:00:00",
          "2020-07-28T13:00:00",
          "2020-07-28T14:00:00",
          "2020-07-28T15:00:00",
          "2020-07-28T16:00:00",
          "2020-07-28T17:00:00",
          "2020-07-28T18:00:00",
          "2020-07-28T19:00:00",
          "2020-07-28T20:00:00",
          "2020-07-28T21:00:00",
          "2020-07-28T22:00:00",
          "2020-07-28T23:00:00",
          "2020-07-29T00:00:00",
          "2020-07-29T01:00:00",
          "2020-07-29T02:00:00",
          "2020-07-29T03:00:00",
          "2020-07-29T04:00:00",
          "2020-07-29T05:00:00",
          "2020-07-29T06:00:00",
          "2020-07-29T07:00:00",
          "2020-07-29T08:00:00",
          "2020-07-29T09:00:00",
          "2020-07-29T10:00:00",
          "2020-07-29T11:00:00",
          "2020-07-29T12:00:00",
          "2020-07-29T13:00:00",
          "2020-07-29T14:00:00",
          "2020-07-29T15:00:00",
          "2020-07-29T16:00:00",
          "2020-07-29T17:00:00",
          "2020-07-29T18:00:00",
          "2020-07-29T19:00:00",
          "2020-07-29T20:00:00",
          "2020-07-29T21:00:00",
          "2020-07-29T22:00:00",
          "2020-07-29T23:00:00",
          "2020-07-30T00:00:00",
          "2020-07-30T01:00:00",
          "2020-07-30T02:00:00",
          "2020-07-30T03:00:00",
          "2020-07-30T04:00:00",
          "2020-07-30T05:00:00",
          "2020-07-30T06:00:00",
          "2020-07-30T07:00:00",
          "2020-07-30T08:00:00",
          "2020-07-30T09:00:00",
          "2020-07-30T10:00:00",
          "2020-07-30T11:00:00",
          "2020-07-30T12:00:00",
          "2020-07-30T13:00:00",
          "2020-07-30T14:00:00",
          "2020-07-30T15:00:00",
          "2020-07-30T16:00:00",
          "2020-07-30T17:00:00",
          "2020-07-30T18:00:00",
          "2020-07-30T19:00:00",
          "2020-07-30T20:00:00",
          "2020-07-30T21:00:00",
          "2020-07-30T22:00:00",
          "2020-07-30T23:00:00",
          "2020-07-31T00:00:00",
          "2020-07-31T01:00:00",
          "2020-07-31T02:00:00",
          "2020-07-31T03:00:00",
          "2020-07-31T04:00:00",
          "2020-07-31T05:00:00",
          "2020-07-31T06:00:00",
          "2020-07-31T07:00:00",
          "2020-07-31T08:00:00",
          "2020-07-31T09:00:00",
          "2020-07-31T10:00:00",
          "2020-07-31T11:00:00",
          "2020-07-31T12:00:00",
          "2020-07-31T13:00:00",
          "2020-07-31T14:00:00",
          "2020-07-31T15:00:00",
          "2020-07-31T16:00:00",
          "2020-07-31T17:00:00",
          "2020-07-31T18:00:00",
          "2020-07-31T19:00:00",
          "2020-07-31T20:00:00",
          "2020-07-31T21:00:00",
          "2020-07-31T22:00:00",
          "2020-07-31T23:00:00",
          "2020-08-01T00:00:00",
          "2020-08-01T01:00:00",
          "2020-08-01T02:00:00",
          "2020-08-01T03:00:00",
          "2020-08-01T04:00:00",
          "2020-08-01T05:00:00",
          "2020-08-01T06:00:00",
          "2020-08-01T07:00:00",
          "2020-08-01T08:00:00",
          "2020-08-01T09:00:00",
          "2020-08-01T10:00:00",
          "2020-08-01T11:00:00",
          "2020-08-01T12:00:00",
          "2020-08-01T13:00:00",
          "2020-08-01T14:00:00",
          "2020-08-01T15:00:00",
          "2020-08-01T16:00:00",
          "2020-08-01T17:00:00",
          "2020-08-01T18:00:00",
          "2020-08-01T19:00:00",
          "2020-08-01T20:00:00",
          "2020-08-01T21:00:00",
          "2020-08-01T22:00:00",
          "2020-08-01T23:00:00",
          "2020-08-02T00:00:00",
          "2020-08-02T01:00:00",
          "2020-08-02T02:00:00",
          "2020-08-02T03:00:00",
          "2020-08-02T04:00:00",
          "2020-08-02T05:00:00",
          "2020-08-02T06:00:00",
          "2020-08-02T07:00:00",
          "2020-08-02T08:00:00",
          "2020-08-02T09:00:00",
          "2020-08-02T10:00:00",
          "2020-08-02T11:00:00",
          "2020-08-02T12:00:00",
          "2020-08-02T13:00:00",
          "2020-08-02T14:00:00",
          "2020-08-02T15:00:00",
          "2020-08-02T16:00:00",
          "2020-08-02T17:00:00",
          "2020-08-02T18:00:00",
          "2020-08-02T19:00:00",
          "2020-08-02T20:00:00",
          "2020-08-02T21:00:00",
          "2020-08-02T22:00:00",
          "2020-08-02T23:00:00",
          "2020-08-03T00:00:00",
          "2020-08-03T01:00:00",
          "2020-08-03T02:00:00",
          "2020-08-03T03:00:00",
          "2020-08-03T04:00:00",
          "2020-08-03T05:00:00",
          "2020-08-03T06:00:00",
          "2020-08-03T07:00:00",
          "2020-08-03T08:00:00",
          "2020-08-03T09:00:00",
          "2020-08-03T10:00:00",
          "2020-08-03T11:00:00",
          "2020-08-03T12:00:00",
          "2020-08-03T13:00:00",
          "2020-08-03T14:00:00",
          "2020-08-03T15:00:00",
          "2020-08-03T16:00:00",
          "2020-08-03T17:00:00"
         ],
         "xaxis": "x",
         "y": [
          8102.6,
          8305.4,
          8382.8,
          9593.7,
          10403.1,
          10195.3,
          10114.2,
          8428.2,
          6623.4,
          5246.8,
          3666.7,
          2957.3,
          2287.9,
          2148.4,
          2637.6,
          2651.4,
          2575.6,
          3808.5,
          3094,
          2600,
          2690.9,
          3060.7,
          3635.1,
          4321.7,
          4588.5,
          5095.5,
          5373.5,
          5814.1,
          5956.5,
          7295.4,
          7946.7,
          7985.1,
          7952.5,
          6707.3,
          6166.3,
          5397.8,
          5060.7,
          4572.3,
          4402.8,
          3530.4,
          2542.5,
          2442,
          1901.2,
          1476.2,
          1491.6,
          1702.5,
          1850.8,
          1979.7,
          1964.8,
          2203.2,
          2924.5,
          4027.4,
          5049.2,
          5828.4,
          6308.3,
          6659.6,
          6498.7,
          5740.1,
          4898,
          4057.7,
          3394.6,
          2701.6,
          2095.4,
          1762.7,
          1698.1,
          1340,
          1015.8,
          913.1,
          989.4,
          1358,
          2031.3,
          2790.1,
          3573.9,
          4624.8,
          6059.9,
          7348.4,
          8363.7,
          9133.5,
          9473.1,
          9931.4,
          10186.7,
          10194.9,
          9954.1,
          9618.3,
          9207.5,
          8519.8,
          8085.5,
          8055.9,
          7996.2,
          7765.6,
          7292.4,
          6683.6,
          6246.7,
          5943.4,
          5881.4,
          5998.4,
          6241.5,
          6895.5,
          8056,
          9688.5,
          10997.9,
          11695.3,
          11944.7,
          11820.6,
          11579.7,
          11283,
          10960.1,
          10378.1,
          9489.2,
          8632.1,
          8003.3,
          6932.6,
          5410.6,
          4075.8,
          2991,
          2255.9,
          1964.7,
          2018.1,
          2314.6,
          3041.4,
          3997.3,
          5049.5,
          6024.2,
          6854,
          7814.9,
          8696.1,
          9362.5,
          9557.8,
          9396.5,
          9187.3,
          8495.3,
          7384.4,
          6304,
          5584.6,
          5135.7,
          4710.8,
          4431.3,
          4282.6,
          4145.2,
          4210.6,
          4433.1,
          4668.8,
          4871.2,
          5046.8,
          5220.6,
          5225.2,
          5112.8,
          4979.8,
          4843.2,
          4717.6,
          4569,
          4210.7,
          3915.6,
          3633.9,
          3278.2,
          2861.4,
          2442.7,
          2061.9,
          1712.9,
          1367.3,
          1166.6,
          1091.5,
          1009.4,
          980,
          970.9,
          964.8,
          1029.6,
          1152.9,
          1292.9,
          1804.1,
          2600.1,
          3416.1,
          3762.6,
          3695,
          3621.5,
          3417.5,
          3116.1,
          2804.2,
          2581.1,
          2436.6,
          2289.5,
          2039.4,
          1712,
          1379.5,
          1038.3,
          692.1,
          359.5,
          331.8,
          540.5,
          768.9,
          1008.9,
          1257,
          1528.6,
          2304.4,
          3468.2,
          4666.6,
          5830.1,
          6963.6,
          7863,
          7956.1,
          7311.5,
          6597.9,
          5875.1,
          5148.4,
          4426.3,
          3816.6,
          3294.1,
          2778.7,
          2263.3,
          1746.3,
          1253.2,
          1258.7,
          1641.7,
          2062,
          2153.8
         ],
         "yaxis": "y"
        },
        {
         "hovertemplate": "zone=HSL_LZ_NORTH<br>delivery_dt=%{x}<br>mw=%{y}<extra></extra>",
         "legendgroup": "HSL_LZ_NORTH",
         "line": {
          "color": "#00cc96",
          "dash": "solid"
         },
         "mode": "lines",
         "name": "HSL_LZ_NORTH",
         "showlegend": true,
         "type": "scatter",
         "x": [
          "2020-07-25T19:00:00",
          "2020-07-25T20:00:00",
          "2020-07-25T21:00:00",
          "2020-07-25T22:00:00",
          "2020-07-25T23:00:00",
          "2020-07-26T00:00:00",
          "2020-07-26T01:00:00",
          "2020-07-26T02:00:00",
          "2020-07-26T03:00:00",
          "2020-07-26T04:00:00",
          "2020-07-26T05:00:00",
          "2020-07-26T06:00:00",
          "2020-07-26T07:00:00",
          "2020-07-26T08:00:00",
          "2020-07-26T09:00:00",
          "2020-07-26T10:00:00",
          "2020-07-26T11:00:00",
          "2020-07-26T12:00:00",
          "2020-07-26T13:00:00",
          "2020-07-26T14:00:00",
          "2020-07-26T15:00:00",
          "2020-07-26T16:00:00",
          "2020-07-26T17:00:00",
          "2020-07-26T18:00:00",
          "2020-07-26T19:00:00",
          "2020-07-26T20:00:00",
          "2020-07-26T21:00:00",
          "2020-07-26T22:00:00",
          "2020-07-26T23:00:00",
          "2020-07-27T00:00:00",
          "2020-07-27T01:00:00",
          "2020-07-27T02:00:00",
          "2020-07-27T03:00:00",
          "2020-07-27T04:00:00",
          "2020-07-27T05:00:00",
          "2020-07-27T06:00:00",
          "2020-07-27T07:00:00",
          "2020-07-27T08:00:00",
          "2020-07-27T09:00:00",
          "2020-07-27T10:00:00",
          "2020-07-27T11:00:00",
          "2020-07-27T12:00:00",
          "2020-07-27T13:00:00",
          "2020-07-27T14:00:00",
          "2020-07-27T15:00:00",
          "2020-07-27T16:00:00",
          "2020-07-27T17:00:00",
          "2020-07-27T18:00:00",
          "2020-07-27T19:00:00",
          "2020-07-27T20:00:00",
          "2020-07-27T21:00:00",
          "2020-07-27T22:00:00",
          "2020-07-27T23:00:00",
          "2020-07-28T00:00:00",
          "2020-07-28T01:00:00",
          "2020-07-28T02:00:00",
          "2020-07-28T03:00:00",
          "2020-07-28T04:00:00",
          "2020-07-28T05:00:00",
          "2020-07-28T06:00:00",
          "2020-07-28T07:00:00",
          "2020-07-28T08:00:00",
          "2020-07-28T09:00:00",
          "2020-07-28T10:00:00",
          "2020-07-28T11:00:00",
          "2020-07-28T12:00:00",
          "2020-07-28T13:00:00",
          "2020-07-28T14:00:00",
          "2020-07-28T15:00:00",
          "2020-07-28T16:00:00",
          "2020-07-28T17:00:00",
          "2020-07-28T18:00:00",
          "2020-07-28T19:00:00",
          "2020-07-28T20:00:00",
          "2020-07-28T21:00:00",
          "2020-07-28T22:00:00",
          "2020-07-28T23:00:00",
          "2020-07-29T00:00:00",
          "2020-07-29T01:00:00",
          "2020-07-29T02:00:00",
          "2020-07-29T03:00:00",
          "2020-07-29T04:00:00",
          "2020-07-29T05:00:00",
          "2020-07-29T06:00:00",
          "2020-07-29T07:00:00",
          "2020-07-29T08:00:00",
          "2020-07-29T09:00:00",
          "2020-07-29T10:00:00",
          "2020-07-29T11:00:00",
          "2020-07-29T12:00:00",
          "2020-07-29T13:00:00",
          "2020-07-29T14:00:00",
          "2020-07-29T15:00:00",
          "2020-07-29T16:00:00",
          "2020-07-29T17:00:00",
          "2020-07-29T18:00:00",
          "2020-07-29T19:00:00",
          "2020-07-29T20:00:00",
          "2020-07-29T21:00:00",
          "2020-07-29T22:00:00",
          "2020-07-29T23:00:00",
          "2020-07-30T00:00:00",
          "2020-07-30T01:00:00",
          "2020-07-30T02:00:00",
          "2020-07-30T03:00:00",
          "2020-07-30T04:00:00",
          "2020-07-30T05:00:00",
          "2020-07-30T06:00:00",
          "2020-07-30T07:00:00",
          "2020-07-30T08:00:00",
          "2020-07-30T09:00:00",
          "2020-07-30T10:00:00",
          "2020-07-30T11:00:00",
          "2020-07-30T12:00:00",
          "2020-07-30T13:00:00",
          "2020-07-30T14:00:00",
          "2020-07-30T15:00:00",
          "2020-07-30T16:00:00",
          "2020-07-30T17:00:00",
          "2020-07-30T18:00:00",
          "2020-07-30T19:00:00",
          "2020-07-30T20:00:00",
          "2020-07-30T21:00:00",
          "2020-07-30T22:00:00",
          "2020-07-30T23:00:00",
          "2020-07-31T00:00:00",
          "2020-07-31T01:00:00",
          "2020-07-31T02:00:00",
          "2020-07-31T03:00:00",
          "2020-07-31T04:00:00",
          "2020-07-31T05:00:00",
          "2020-07-31T06:00:00",
          "2020-07-31T07:00:00",
          "2020-07-31T08:00:00",
          "2020-07-31T09:00:00",
          "2020-07-31T10:00:00",
          "2020-07-31T11:00:00",
          "2020-07-31T12:00:00",
          "2020-07-31T13:00:00",
          "2020-07-31T14:00:00",
          "2020-07-31T15:00:00",
          "2020-07-31T16:00:00",
          "2020-07-31T17:00:00",
          "2020-07-31T18:00:00",
          "2020-07-31T19:00:00",
          "2020-07-31T20:00:00",
          "2020-07-31T21:00:00",
          "2020-07-31T22:00:00",
          "2020-07-31T23:00:00",
          "2020-08-01T00:00:00",
          "2020-08-01T01:00:00",
          "2020-08-01T02:00:00",
          "2020-08-01T03:00:00",
          "2020-08-01T04:00:00",
          "2020-08-01T05:00:00",
          "2020-08-01T06:00:00",
          "2020-08-01T07:00:00",
          "2020-08-01T08:00:00",
          "2020-08-01T09:00:00",
          "2020-08-01T10:00:00",
          "2020-08-01T11:00:00",
          "2020-08-01T12:00:00",
          "2020-08-01T13:00:00",
          "2020-08-01T14:00:00",
          "2020-08-01T15:00:00",
          "2020-08-01T16:00:00",
          "2020-08-01T17:00:00",
          "2020-08-01T18:00:00",
          "2020-08-01T19:00:00",
          "2020-08-01T20:00:00",
          "2020-08-01T21:00:00",
          "2020-08-01T22:00:00",
          "2020-08-01T23:00:00",
          "2020-08-02T00:00:00",
          "2020-08-02T01:00:00",
          "2020-08-02T02:00:00",
          "2020-08-02T03:00:00",
          "2020-08-02T04:00:00",
          "2020-08-02T05:00:00",
          "2020-08-02T06:00:00",
          "2020-08-02T07:00:00",
          "2020-08-02T08:00:00",
          "2020-08-02T09:00:00",
          "2020-08-02T10:00:00",
          "2020-08-02T11:00:00",
          "2020-08-02T12:00:00",
          "2020-08-02T13:00:00",
          "2020-08-02T14:00:00",
          "2020-08-02T15:00:00",
          "2020-08-02T16:00:00",
          "2020-08-02T17:00:00",
          "2020-08-02T18:00:00",
          "2020-08-02T19:00:00",
          "2020-08-02T20:00:00",
          "2020-08-02T21:00:00",
          "2020-08-02T22:00:00",
          "2020-08-02T23:00:00",
          "2020-08-03T00:00:00",
          "2020-08-03T01:00:00",
          "2020-08-03T02:00:00",
          "2020-08-03T03:00:00",
          "2020-08-03T04:00:00",
          "2020-08-03T05:00:00",
          "2020-08-03T06:00:00",
          "2020-08-03T07:00:00",
          "2020-08-03T08:00:00",
          "2020-08-03T09:00:00",
          "2020-08-03T10:00:00",
          "2020-08-03T11:00:00",
          "2020-08-03T12:00:00",
          "2020-08-03T13:00:00",
          "2020-08-03T14:00:00",
          "2020-08-03T15:00:00",
          "2020-08-03T16:00:00",
          "2020-08-03T17:00:00"
         ],
         "xaxis": "x",
         "y": [
          422.7,
          426.9,
          266.3,
          341.1,
          247,
          313.3,
          301.5,
          290.1,
          321.4,
          324.6,
          330.6,
          341.4,
          354.8,
          371.9,
          279.5,
          235.7,
          168.8,
          113.5,
          73,
          73.7,
          78.5,
          139.8,
          182,
          325.3,
          154.2,
          163.6,
          329.6,
          228.7,
          293.3,
          411.7,
          346.6,
          368.4,
          362.6,
          339.4,
          244.9,
          266.1,
          196.5,
          172.2,
          166.7,
          140.7,
          82.3,
          50.1,
          31.4,
          23.5,
          25.1,
          65.6,
          79.7,
          187.9,
          153.7,
          144.6,
          183.3,
          258.5,
          327.3,
          370.3,
          381.2,
          420.2,
          399.5,
          349.4,
          351.7,
          304.8,
          237.1,
          180.7,
          130.9,
          90.8,
          75.6,
          58.3,
          50.5,
          54.1,
          91.5,
          158.7,
          233,
          281.6,
          292.4,
          284.7,
          315,
          372.8,
          437.8,
          494.8,
          566.9,
          663.8,
          691.2,
          677.3,
          654.9,
          633.3,
          600.5,
          532.1,
          486.1,
          479.4,
          470.8,
          452.8,
          427.7,
          408.6,
          424,
          457.8,
          503,
          559.9,
          609.8,
          649.6,
          709.5,
          784.5,
          822.4,
          830.7,
          853.8,
          904.4,
          913.6,
          891.8,
          851.2,
          807,
          758,
          687.6,
          689.3,
          722,
          697.2,
          641.3,
          572.7,
          499.7,
          425.7,
          373.7,
          371.3,
          399,
          428.4,
          493.3,
          560.8,
          638.6,
          715.3,
          766.5,
          802.7,
          794.4,
          763.6,
          731,
          706.1,
          687.9,
          667.7,
          606.6,
          514.9,
          420.3,
          337,
          264.2,
          193.2,
          163.2,
          164.4,
          168.4,
          172.3,
          175.6,
          180.4,
          212.8,
          266,
          321,
          348.9,
          353.5,
          375.1,
          419.3,
          423.7,
          415.8,
          370.3,
          291.8,
          215.6,
          184.2,
          187,
          192.7,
          182.1,
          157.2,
          132.9,
          122.2,
          121.7,
          122.1,
          130.5,
          146,
          161.6,
          180.3,
          200.8,
          221.7,
          231.2,
          230.4,
          230,
          229.6,
          229.5,
          229.6,
          237.6,
          252.5,
          265.9,
          250.3,
          212.5,
          172.4,
          132.4,
          92.5,
          53.9,
          45.1,
          59.3,
          75.5,
          91.8,
          108.1,
          125,
          154.6,
          193.5,
          233.5,
          273.6,
          313.6,
          351.9,
          350.6,
          319.7,
          285.8,
          251.7,
          217.8,
          183.8,
          155.1,
          130.1,
          105.4,
          80.9,
          56.3,
          33.3,
          40.7,
          71.8,
          105.1,
          108.8
         ],
         "yaxis": "y"
        }
       ],
       "layout": {
        "legend": {
         "title": {
          "text": "zone"
         },
         "tracegroupgap": 0
        },
        "template": {
         "data": {
          "bar": [
           {
            "error_x": {
             "color": "#2a3f5f"
            },
            "error_y": {
             "color": "#2a3f5f"
            },
            "marker": {
             "line": {
              "color": "#E5ECF6",
              "width": 0.5
             }
            },
            "type": "bar"
           }
          ],
          "barpolar": [
           {
            "marker": {
             "line": {
              "color": "#E5ECF6",
              "width": 0.5
             }
            },
            "type": "barpolar"
           }
          ],
          "carpet": [
           {
            "aaxis": {
             "endlinecolor": "#2a3f5f",
             "gridcolor": "white",
             "linecolor": "white",
             "minorgridcolor": "white",
             "startlinecolor": "#2a3f5f"
            },
            "baxis": {
             "endlinecolor": "#2a3f5f",
             "gridcolor": "white",
             "linecolor": "white",
             "minorgridcolor": "white",
             "startlinecolor": "#2a3f5f"
            },
            "type": "carpet"
           }
          ],
          "choropleth": [
           {
            "colorbar": {
             "outlinewidth": 0,
             "ticks": ""
            },
            "type": "choropleth"
           }
          ],
          "contour": [
           {
            "colorbar": {
             "outlinewidth": 0,
             "ticks": ""
            },
            "colorscale": [
             [
              0,
              "#0d0887"
             ],
             [
              0.1111111111111111,
              "#46039f"
             ],
             [
              0.2222222222222222,
              "#7201a8"
             ],
             [
              0.3333333333333333,
              "#9c179e"
             ],
             [
              0.4444444444444444,
              "#bd3786"
             ],
             [
              0.5555555555555556,
              "#d8576b"
             ],
             [
              0.6666666666666666,
              "#ed7953"
             ],
             [
              0.7777777777777778,
              "#fb9f3a"
             ],
             [
              0.8888888888888888,
              "#fdca26"
             ],
             [
              1,
              "#f0f921"
             ]
            ],
            "type": "contour"
           }
          ],
          "contourcarpet": [
           {
            "colorbar": {
             "outlinewidth": 0,
             "ticks": ""
            },
            "type": "contourcarpet"
           }
          ],
          "heatmap": [
           {
            "colorbar": {
             "outlinewidth": 0,
             "ticks": ""
            },
            "colorscale": [
             [
              0,
              "#0d0887"
             ],
             [
              0.1111111111111111,
              "#46039f"
             ],
             [
              0.2222222222222222,
              "#7201a8"
             ],
             [
              0.3333333333333333,
              "#9c179e"
             ],
             [
              0.4444444444444444,
              "#bd3786"
             ],
             [
              0.5555555555555556,
              "#d8576b"
             ],
             [
              0.6666666666666666,
              "#ed7953"
             ],
             [
              0.7777777777777778,
              "#fb9f3a"
             ],
             [
              0.8888888888888888,
              "#fdca26"
             ],
             [
              1,
              "#f0f921"
             ]
            ],
            "type": "heatmap"
           }
          ],
          "heatmapgl": [
           {
            "colorbar": {
             "outlinewidth": 0,
             "ticks": ""
            },
            "colorscale": [
             [
              0,
              "#0d0887"
             ],
             [
              0.1111111111111111,
              "#46039f"
             ],
             [
              0.2222222222222222,
              "#7201a8"
             ],
             [
              0.3333333333333333,
              "#9c179e"
             ],
             [
              0.4444444444444444,
              "#bd3786"
             ],
             [
              0.5555555555555556,
              "#d8576b"
             ],
             [
              0.6666666666666666,
              "#ed7953"
             ],
             [
              0.7777777777777778,
              "#fb9f3a"
             ],
             [
              0.8888888888888888,
              "#fdca26"
             ],
             [
              1,
              "#f0f921"
             ]
            ],
            "type": "heatmapgl"
           }
          ],
          "histogram": [
           {
            "marker": {
             "colorbar": {
              "outlinewidth": 0,
              "ticks": ""
             }
            },
            "type": "histogram"
           }
          ],
          "histogram2d": [
           {
            "colorbar": {
             "outlinewidth": 0,
             "ticks": ""
            },
            "colorscale": [
             [
              0,
              "#0d0887"
             ],
             [
              0.1111111111111111,
              "#46039f"
             ],
             [
              0.2222222222222222,
              "#7201a8"
             ],
             [
              0.3333333333333333,
              "#9c179e"
             ],
             [
              0.4444444444444444,
              "#bd3786"
             ],
             [
              0.5555555555555556,
              "#d8576b"
             ],
             [
              0.6666666666666666,
              "#ed7953"
             ],
             [
              0.7777777777777778,
              "#fb9f3a"
             ],
             [
              0.8888888888888888,
              "#fdca26"
             ],
             [
              1,
              "#f0f921"
             ]
            ],
            "type": "histogram2d"
           }
          ],
          "histogram2dcontour": [
           {
            "colorbar": {
             "outlinewidth": 0,
             "ticks": ""
            },
            "colorscale": [
             [
              0,
              "#0d0887"
             ],
             [
              0.1111111111111111,
              "#46039f"
             ],
             [
              0.2222222222222222,
              "#7201a8"
             ],
             [
              0.3333333333333333,
              "#9c179e"
             ],
             [
              0.4444444444444444,
              "#bd3786"
             ],
             [
              0.5555555555555556,
              "#d8576b"
             ],
             [
              0.6666666666666666,
              "#ed7953"
             ],
             [
              0.7777777777777778,
              "#fb9f3a"
             ],
             [
              0.8888888888888888,
              "#fdca26"
             ],
             [
              1,
              "#f0f921"
             ]
            ],
            "type": "histogram2dcontour"
           }
          ],
          "mesh3d": [
           {
            "colorbar": {
             "outlinewidth": 0,
             "ticks": ""
            },
            "type": "mesh3d"
           }
          ],
          "parcoords": [
           {
            "line": {
             "colorbar": {
              "outlinewidth": 0,
              "ticks": ""
             }
            },
            "type": "parcoords"
           }
          ],
          "pie": [
           {
            "automargin": true,
            "type": "pie"
           }
          ],
          "scatter": [
           {
            "marker": {
             "colorbar": {
              "outlinewidth": 0,
              "ticks": ""
             }
            },
            "type": "scatter"
           }
          ],
          "scatter3d": [
           {
            "line": {
             "colorbar": {
              "outlinewidth": 0,
              "ticks": ""
             }
            },
            "marker": {
             "colorbar": {
              "outlinewidth": 0,
              "ticks": ""
             }
            },
            "type": "scatter3d"
           }
          ],
          "scattercarpet": [
           {
            "marker": {
             "colorbar": {
              "outlinewidth": 0,
              "ticks": ""
             }
            },
            "type": "scattercarpet"
           }
          ],
          "scattergeo": [
           {
            "marker": {
             "colorbar": {
              "outlinewidth": 0,
              "ticks": ""
             }
            },
            "type": "scattergeo"
           }
          ],
          "scattergl": [
           {
            "marker": {
             "colorbar": {
              "outlinewidth": 0,
              "ticks": ""
             }
            },
            "type": "scattergl"
           }
          ],
          "scattermapbox": [
           {
            "marker": {
             "colorbar": {
              "outlinewidth": 0,
              "ticks": ""
             }
            },
            "type": "scattermapbox"
           }
          ],
          "scatterpolar": [
           {
            "marker": {
             "colorbar": {
              "outlinewidth": 0,
              "ticks": ""
             }
            },
            "type": "scatterpolar"
           }
          ],
          "scatterpolargl": [
           {
            "marker": {
             "colorbar": {
              "outlinewidth": 0,
              "ticks": ""
             }
            },
            "type": "scatterpolargl"
           }
          ],
          "scatterternary": [
           {
            "marker": {
             "colorbar": {
              "outlinewidth": 0,
              "ticks": ""
             }
            },
            "type": "scatterternary"
           }
          ],
          "surface": [
           {
            "colorbar": {
             "outlinewidth": 0,
             "ticks": ""
            },
            "colorscale": [
             [
              0,
              "#0d0887"
             ],
             [
              0.1111111111111111,
              "#46039f"
             ],
             [
              0.2222222222222222,
              "#7201a8"
             ],
             [
              0.3333333333333333,
              "#9c179e"
             ],
             [
              0.4444444444444444,
              "#bd3786"
             ],
             [
              0.5555555555555556,
              "#d8576b"
             ],
             [
              0.6666666666666666,
              "#ed7953"
             ],
             [
              0.7777777777777778,
              "#fb9f3a"
             ],
             [
              0.8888888888888888,
              "#fdca26"
             ],
             [
              1,
              "#f0f921"
             ]
            ],
            "type": "surface"
           }
          ],
          "table": [
           {
            "cells": {
             "fill": {
              "color": "#EBF0F8"
             },
             "line": {
              "color": "white"
             }
            },
            "header": {
             "fill": {
              "color": "#C8D4E3"
             },
             "line": {
              "color": "white"
             }
            },
            "type": "table"
           }
          ]
         },
         "layout": {
          "annotationdefaults": {
           "arrowcolor": "#2a3f5f",
           "arrowhead": 0,
           "arrowwidth": 1
          },
          "coloraxis": {
           "colorbar": {
            "outlinewidth": 0,
            "ticks": ""
           }
          },
          "colorscale": {
           "diverging": [
            [
             0,
             "#8e0152"
            ],
            [
             0.1,
             "#c51b7d"
            ],
            [
             0.2,
             "#de77ae"
            ],
            [
             0.3,
             "#f1b6da"
            ],
            [
             0.4,
             "#fde0ef"
            ],
            [
             0.5,
             "#f7f7f7"
            ],
            [
             0.6,
             "#e6f5d0"
            ],
            [
             0.7,
             "#b8e186"
            ],
            [
             0.8,
             "#7fbc41"
            ],
            [
             0.9,
             "#4d9221"
            ],
            [
             1,
             "#276419"
            ]
           ],
           "sequential": [
            [
             0,
             "#0d0887"
            ],
            [
             0.1111111111111111,
             "#46039f"
            ],
            [
             0.2222222222222222,
             "#7201a8"
            ],
            [
             0.3333333333333333,
             "#9c179e"
            ],
            [
             0.4444444444444444,
             "#bd3786"
            ],
            [
             0.5555555555555556,
             "#d8576b"
            ],
            [
             0.6666666666666666,
             "#ed7953"
            ],
            [
             0.7777777777777778,
             "#fb9f3a"
            ],
            [
             0.8888888888888888,
             "#fdca26"
            ],
            [
             1,
             "#f0f921"
            ]
           ],
           "sequentialminus": [
            [
             0,
             "#0d0887"
            ],
            [
             0.1111111111111111,
             "#46039f"
            ],
            [
             0.2222222222222222,
             "#7201a8"
            ],
            [
             0.3333333333333333,
             "#9c179e"
            ],
            [
             0.4444444444444444,
             "#bd3786"
            ],
            [
             0.5555555555555556,
             "#d8576b"
            ],
            [
             0.6666666666666666,
             "#ed7953"
            ],
            [
             0.7777777777777778,
             "#fb9f3a"
            ],
            [
             0.8888888888888888,
             "#fdca26"
            ],
            [
             1,
             "#f0f921"
            ]
           ]
          },
          "colorway": [
           "#636efa",
           "#EF553B",
           "#00cc96",
           "#ab63fa",
           "#FFA15A",
           "#19d3f3",
           "#FF6692",
           "#B6E880",
           "#FF97FF",
           "#FECB52"
          ],
          "font": {
           "color": "#2a3f5f"
          },
          "geo": {
           "bgcolor": "white",
           "lakecolor": "white",
           "landcolor": "#E5ECF6",
           "showlakes": true,
           "showland": true,
           "subunitcolor": "white"
          },
          "hoverlabel": {
           "align": "left"
          },
          "hovermode": "closest",
          "mapbox": {
           "style": "light"
          },
          "paper_bgcolor": "white",
          "plot_bgcolor": "#E5ECF6",
          "polar": {
           "angularaxis": {
            "gridcolor": "white",
            "linecolor": "white",
            "ticks": ""
           },
           "bgcolor": "#E5ECF6",
           "radialaxis": {
            "gridcolor": "white",
            "linecolor": "white",
            "ticks": ""
           }
          },
          "scene": {
           "xaxis": {
            "backgroundcolor": "#E5ECF6",
            "gridcolor": "white",
            "gridwidth": 2,
            "linecolor": "white",
            "showbackground": true,
            "ticks": "",
            "zerolinecolor": "white"
           },
           "yaxis": {
            "backgroundcolor": "#E5ECF6",
            "gridcolor": "white",
            "gridwidth": 2,
            "linecolor": "white",
            "showbackground": true,
            "ticks": "",
            "zerolinecolor": "white"
           },
           "zaxis": {
            "backgroundcolor": "#E5ECF6",
            "gridcolor": "white",
            "gridwidth": 2,
            "linecolor": "white",
            "showbackground": true,
            "ticks": "",
            "zerolinecolor": "white"
           }
          },
          "shapedefaults": {
           "line": {
            "color": "#2a3f5f"
           }
          },
          "ternary": {
           "aaxis": {
            "gridcolor": "white",
            "linecolor": "white",
            "ticks": ""
           },
           "baxis": {
            "gridcolor": "white",
            "linecolor": "white",
            "ticks": ""
           },
           "bgcolor": "#E5ECF6",
           "caxis": {
            "gridcolor": "white",
            "linecolor": "white",
            "ticks": ""
           }
          },
          "title": {
           "x": 0.05
          },
          "xaxis": {
           "automargin": true,
           "gridcolor": "white",
           "linecolor": "white",
           "ticks": "",
           "title": {
            "standoff": 15
           },
           "zerolinecolor": "white",
           "zerolinewidth": 2
          },
          "yaxis": {
           "automargin": true,
           "gridcolor": "white",
           "linecolor": "white",
           "ticks": "",
           "title": {
            "standoff": 15
           },
           "zerolinecolor": "white",
           "zerolinewidth": 2
          }
         }
        },
        "title": {
         "text": "System Level Forecasts"
        },
        "xaxis": {
         "anchor": "y",
         "domain": [
          0,
          1
         ],
         "title": {
          "text": "delivery_dt"
         }
        },
        "yaxis": {
         "anchor": "x",
         "domain": [
          0,
          1
         ],
         "title": {
          "text": "mw"
         }
        }
       }
      },
      "text/html": [
       "<div>\n",
       "        \n",
       "        \n",
       "            <div id=\"58939728-6470-444d-b148-ed8d8c53053a\" class=\"plotly-graph-div\" style=\"height:525px; width:100%;\"></div>\n",
       "            <script type=\"text/javascript\">\n",
       "                require([\"plotly\"], function(Plotly) {\n",
       "                    window.PLOTLYENV=window.PLOTLYENV || {};\n",
       "                    \n",
       "                if (document.getElementById(\"58939728-6470-444d-b148-ed8d8c53053a\")) {\n",
       "                    Plotly.newPlot(\n",
       "                        '58939728-6470-444d-b148-ed8d8c53053a',\n",
       "                        [{\"hovertemplate\": \"zone=HSL_LZ_SOUTH_HOUSTON<br>delivery_dt=%{x}<br>mw=%{y}<extra></extra>\", \"legendgroup\": \"HSL_LZ_SOUTH_HOUSTON\", \"line\": {\"color\": \"#636efa\", \"dash\": \"solid\"}, \"mode\": \"lines\", \"name\": \"HSL_LZ_SOUTH_HOUSTON\", \"showlegend\": true, \"type\": \"scatter\", \"x\": [\"2020-07-25T19:00:00\", \"2020-07-25T20:00:00\", \"2020-07-25T21:00:00\", \"2020-07-25T22:00:00\", \"2020-07-25T23:00:00\", \"2020-07-26T00:00:00\", \"2020-07-26T01:00:00\", \"2020-07-26T02:00:00\", \"2020-07-26T03:00:00\", \"2020-07-26T04:00:00\", \"2020-07-26T05:00:00\", \"2020-07-26T06:00:00\", \"2020-07-26T07:00:00\", \"2020-07-26T08:00:00\", \"2020-07-26T09:00:00\", \"2020-07-26T10:00:00\", \"2020-07-26T11:00:00\", \"2020-07-26T12:00:00\", \"2020-07-26T13:00:00\", \"2020-07-26T14:00:00\", \"2020-07-26T15:00:00\", \"2020-07-26T16:00:00\", \"2020-07-26T17:00:00\", \"2020-07-26T18:00:00\", \"2020-07-26T19:00:00\", \"2020-07-26T20:00:00\", \"2020-07-26T21:00:00\", \"2020-07-26T22:00:00\", \"2020-07-26T23:00:00\", \"2020-07-27T00:00:00\", \"2020-07-27T01:00:00\", \"2020-07-27T02:00:00\", \"2020-07-27T03:00:00\", \"2020-07-27T04:00:00\", \"2020-07-27T05:00:00\", \"2020-07-27T06:00:00\", \"2020-07-27T07:00:00\", \"2020-07-27T08:00:00\", \"2020-07-27T09:00:00\", \"2020-07-27T10:00:00\", \"2020-07-27T11:00:00\", \"2020-07-27T12:00:00\", \"2020-07-27T13:00:00\", \"2020-07-27T14:00:00\", \"2020-07-27T15:00:00\", \"2020-07-27T16:00:00\", \"2020-07-27T17:00:00\", \"2020-07-27T18:00:00\", \"2020-07-27T19:00:00\", \"2020-07-27T20:00:00\", \"2020-07-27T21:00:00\", \"2020-07-27T22:00:00\", \"2020-07-27T23:00:00\", \"2020-07-28T00:00:00\", \"2020-07-28T01:00:00\", \"2020-07-28T02:00:00\", \"2020-07-28T03:00:00\", \"2020-07-28T04:00:00\", \"2020-07-28T05:00:00\", \"2020-07-28T06:00:00\", \"2020-07-28T07:00:00\", \"2020-07-28T08:00:00\", \"2020-07-28T09:00:00\", \"2020-07-28T10:00:00\", \"2020-07-28T11:00:00\", \"2020-07-28T12:00:00\", \"2020-07-28T13:00:00\", \"2020-07-28T14:00:00\", \"2020-07-28T15:00:00\", \"2020-07-28T16:00:00\", \"2020-07-28T17:00:00\", \"2020-07-28T18:00:00\", \"2020-07-28T19:00:00\", \"2020-07-28T20:00:00\", \"2020-07-28T21:00:00\", \"2020-07-28T22:00:00\", \"2020-07-28T23:00:00\", \"2020-07-29T00:00:00\", \"2020-07-29T01:00:00\", \"2020-07-29T02:00:00\", \"2020-07-29T03:00:00\", \"2020-07-29T04:00:00\", \"2020-07-29T05:00:00\", \"2020-07-29T06:00:00\", \"2020-07-29T07:00:00\", \"2020-07-29T08:00:00\", \"2020-07-29T09:00:00\", \"2020-07-29T10:00:00\", \"2020-07-29T11:00:00\", \"2020-07-29T12:00:00\", \"2020-07-29T13:00:00\", \"2020-07-29T14:00:00\", \"2020-07-29T15:00:00\", \"2020-07-29T16:00:00\", \"2020-07-29T17:00:00\", \"2020-07-29T18:00:00\", \"2020-07-29T19:00:00\", \"2020-07-29T20:00:00\", \"2020-07-29T21:00:00\", \"2020-07-29T22:00:00\", \"2020-07-29T23:00:00\", \"2020-07-30T00:00:00\", \"2020-07-30T01:00:00\", \"2020-07-30T02:00:00\", \"2020-07-30T03:00:00\", \"2020-07-30T04:00:00\", \"2020-07-30T05:00:00\", \"2020-07-30T06:00:00\", \"2020-07-30T07:00:00\", \"2020-07-30T08:00:00\", \"2020-07-30T09:00:00\", \"2020-07-30T10:00:00\", \"2020-07-30T11:00:00\", \"2020-07-30T12:00:00\", \"2020-07-30T13:00:00\", \"2020-07-30T14:00:00\", \"2020-07-30T15:00:00\", \"2020-07-30T16:00:00\", \"2020-07-30T17:00:00\", \"2020-07-30T18:00:00\", \"2020-07-30T19:00:00\", \"2020-07-30T20:00:00\", \"2020-07-30T21:00:00\", \"2020-07-30T22:00:00\", \"2020-07-30T23:00:00\", \"2020-07-31T00:00:00\", \"2020-07-31T01:00:00\", \"2020-07-31T02:00:00\", \"2020-07-31T03:00:00\", \"2020-07-31T04:00:00\", \"2020-07-31T05:00:00\", \"2020-07-31T06:00:00\", \"2020-07-31T07:00:00\", \"2020-07-31T08:00:00\", \"2020-07-31T09:00:00\", \"2020-07-31T10:00:00\", \"2020-07-31T11:00:00\", \"2020-07-31T12:00:00\", \"2020-07-31T13:00:00\", \"2020-07-31T14:00:00\", \"2020-07-31T15:00:00\", \"2020-07-31T16:00:00\", \"2020-07-31T17:00:00\", \"2020-07-31T18:00:00\", \"2020-07-31T19:00:00\", \"2020-07-31T20:00:00\", \"2020-07-31T21:00:00\", \"2020-07-31T22:00:00\", \"2020-07-31T23:00:00\", \"2020-08-01T00:00:00\", \"2020-08-01T01:00:00\", \"2020-08-01T02:00:00\", \"2020-08-01T03:00:00\", \"2020-08-01T04:00:00\", \"2020-08-01T05:00:00\", \"2020-08-01T06:00:00\", \"2020-08-01T07:00:00\", \"2020-08-01T08:00:00\", \"2020-08-01T09:00:00\", \"2020-08-01T10:00:00\", \"2020-08-01T11:00:00\", \"2020-08-01T12:00:00\", \"2020-08-01T13:00:00\", \"2020-08-01T14:00:00\", \"2020-08-01T15:00:00\", \"2020-08-01T16:00:00\", \"2020-08-01T17:00:00\", \"2020-08-01T18:00:00\", \"2020-08-01T19:00:00\", \"2020-08-01T20:00:00\", \"2020-08-01T21:00:00\", \"2020-08-01T22:00:00\", \"2020-08-01T23:00:00\", \"2020-08-02T00:00:00\", \"2020-08-02T01:00:00\", \"2020-08-02T02:00:00\", \"2020-08-02T03:00:00\", \"2020-08-02T04:00:00\", \"2020-08-02T05:00:00\", \"2020-08-02T06:00:00\", \"2020-08-02T07:00:00\", \"2020-08-02T08:00:00\", \"2020-08-02T09:00:00\", \"2020-08-02T10:00:00\", \"2020-08-02T11:00:00\", \"2020-08-02T12:00:00\", \"2020-08-02T13:00:00\", \"2020-08-02T14:00:00\", \"2020-08-02T15:00:00\", \"2020-08-02T16:00:00\", \"2020-08-02T17:00:00\", \"2020-08-02T18:00:00\", \"2020-08-02T19:00:00\", \"2020-08-02T20:00:00\", \"2020-08-02T21:00:00\", \"2020-08-02T22:00:00\", \"2020-08-02T23:00:00\", \"2020-08-03T00:00:00\", \"2020-08-03T01:00:00\", \"2020-08-03T02:00:00\", \"2020-08-03T03:00:00\", \"2020-08-03T04:00:00\", \"2020-08-03T05:00:00\", \"2020-08-03T06:00:00\", \"2020-08-03T07:00:00\", \"2020-08-03T08:00:00\", \"2020-08-03T09:00:00\", \"2020-08-03T10:00:00\", \"2020-08-03T11:00:00\", \"2020-08-03T12:00:00\", \"2020-08-03T13:00:00\", \"2020-08-03T14:00:00\", \"2020-08-03T15:00:00\", \"2020-08-03T16:00:00\", \"2020-08-03T17:00:00\"], \"xaxis\": \"x\", \"y\": [2565.8, 2670.8, 2574.6, 2610.6, 2485.7, 2367.1, 2825.2, 2770.9, 2469.8, 2589.7, 2760.8, 2678.7, 2478.4, 2550.6, 2575.9, 2476.9, 2719.5, 3028.7, 3076.4, 3180.2, 3131.0, 3054.9, 3022.3, 2778.0, 2581.4, 2731.6, 2629.0, 2753.2, 2313.7, 2278.3, 2232.4, 1987.3, 1778.7, 1427.1, 1257.3, 1254.1, 1346.4, 1343.5, 1402.7, 1242.8, 1172.1, 1006.0, 1002.6, 1221.1, 993.0, 957.3, 786.7, 1242.0, 1343.6, 1412.5, 1282.5, 1254.3, 1176.1, 1101.7, 1093.9, 1030.1, 923.7, 779.5, 607.2, 486.2, 436.1, 454.1, 475.6, 522.0, 563.7, 586.9, 536.6, 533.0, 612.7, 754.9, 936.8, 1065.8, 1132.8, 1141.6, 1274.4, 1353.2, 1425.2, 1490.8, 1544.9, 1604.3, 1543.1, 1427.7, 1320.2, 1278.5, 1326.8, 1439.1, 1526.2, 1665.6, 1805.6, 1901.2, 1949.8, 1991.6, 2128.5, 2223.9, 2225.8, 2328.5, 2540.7, 2646.7, 2718.0, 2812.9, 2915.0, 2972.0, 3004.6, 3057.0, 2907.7, 2692.6, 2485.8, 2317.3, 2218.2, 2292.1, 2641.9, 2970.7, 3096.3, 3101.2, 3021.7, 3020.7, 3171.9, 3339.6, 3492.1, 3623.0, 3660.7, 3406.0, 3238.9, 3115.7, 3078.4, 3033.9, 3081.8, 2859.0, 2598.4, 2335.5, 2175.1, 2105.4, 2047.6, 2162.5, 2408.8, 2663.4, 2717.5, 2595.1, 2505.3, 2521.6, 2641.5, 2771.8, 2856.5, 2907.5, 3056.5, 2989.7, 2848.1, 2696.0, 2613.5, 2594.9, 2551.2, 2312.6, 2056.3, 1810.2, 1588.9, 1388.0, 1190.6, 1029.7, 894.4, 761.9, 659.0, 582.4, 507.9, 486.1, 503.0, 523.7, 596.7, 715.5, 842.0, 1133.0, 1550.0, 1973.8, 2086.7, 1924.4, 1721.0, 1587.1, 1468.9, 1351.6, 1230.7, 1105.9, 981.3, 865.4, 756.8, 649.7, 546.2, 445.4, 350.2, 379.3, 502.1, 633.2, 765.2, 897.8, 1029.5, 1155.3, 1276.5, 1397.1, 1518.4, 1640.7, 1714.7, 1678.6, 1527.4, 1365.4, 1204.9, 1046.3, 889.8, 772.0, 684.0, 599.3, 514.9, 430.2, 352.2, 408.4, 566.2, 733.6, 759.7], \"yaxis\": \"y\"}, {\"hovertemplate\": \"zone=HSL_LZ_WEST<br>delivery_dt=%{x}<br>mw=%{y}<extra></extra>\", \"legendgroup\": \"HSL_LZ_WEST\", \"line\": {\"color\": \"#EF553B\", \"dash\": \"solid\"}, \"mode\": \"lines\", \"name\": \"HSL_LZ_WEST\", \"showlegend\": true, \"type\": \"scatter\", \"x\": [\"2020-07-25T19:00:00\", \"2020-07-25T20:00:00\", \"2020-07-25T21:00:00\", \"2020-07-25T22:00:00\", \"2020-07-25T23:00:00\", \"2020-07-26T00:00:00\", \"2020-07-26T01:00:00\", \"2020-07-26T02:00:00\", \"2020-07-26T03:00:00\", \"2020-07-26T04:00:00\", \"2020-07-26T05:00:00\", \"2020-07-26T06:00:00\", \"2020-07-26T07:00:00\", \"2020-07-26T08:00:00\", \"2020-07-26T09:00:00\", \"2020-07-26T10:00:00\", \"2020-07-26T11:00:00\", \"2020-07-26T12:00:00\", \"2020-07-26T13:00:00\", \"2020-07-26T14:00:00\", \"2020-07-26T15:00:00\", \"2020-07-26T16:00:00\", \"2020-07-26T17:00:00\", \"2020-07-26T18:00:00\", \"2020-07-26T19:00:00\", \"2020-07-26T20:00:00\", \"2020-07-26T21:00:00\", \"2020-07-26T22:00:00\", \"2020-07-26T23:00:00\", \"2020-07-27T00:00:00\", \"2020-07-27T01:00:00\", \"2020-07-27T02:00:00\", \"2020-07-27T03:00:00\", \"2020-07-27T04:00:00\", \"2020-07-27T05:00:00\", \"2020-07-27T06:00:00\", \"2020-07-27T07:00:00\", \"2020-07-27T08:00:00\", \"2020-07-27T09:00:00\", \"2020-07-27T10:00:00\", \"2020-07-27T11:00:00\", \"2020-07-27T12:00:00\", \"2020-07-27T13:00:00\", \"2020-07-27T14:00:00\", \"2020-07-27T15:00:00\", \"2020-07-27T16:00:00\", \"2020-07-27T17:00:00\", \"2020-07-27T18:00:00\", \"2020-07-27T19:00:00\", \"2020-07-27T20:00:00\", \"2020-07-27T21:00:00\", \"2020-07-27T22:00:00\", \"2020-07-27T23:00:00\", \"2020-07-28T00:00:00\", \"2020-07-28T01:00:00\", \"2020-07-28T02:00:00\", \"2020-07-28T03:00:00\", \"2020-07-28T04:00:00\", \"2020-07-28T05:00:00\", \"2020-07-28T06:00:00\", \"2020-07-28T07:00:00\", \"2020-07-28T08:00:00\", \"2020-07-28T09:00:00\", \"2020-07-28T10:00:00\", \"2020-07-28T11:00:00\", \"2020-07-28T12:00:00\", \"2020-07-28T13:00:00\", \"2020-07-28T14:00:00\", \"2020-07-28T15:00:00\", \"2020-07-28T16:00:00\", \"2020-07-28T17:00:00\", \"2020-07-28T18:00:00\", \"2020-07-28T19:00:00\", \"2020-07-28T20:00:00\", \"2020-07-28T21:00:00\", \"2020-07-28T22:00:00\", \"2020-07-28T23:00:00\", \"2020-07-29T00:00:00\", \"2020-07-29T01:00:00\", \"2020-07-29T02:00:00\", \"2020-07-29T03:00:00\", \"2020-07-29T04:00:00\", \"2020-07-29T05:00:00\", \"2020-07-29T06:00:00\", \"2020-07-29T07:00:00\", \"2020-07-29T08:00:00\", \"2020-07-29T09:00:00\", \"2020-07-29T10:00:00\", \"2020-07-29T11:00:00\", \"2020-07-29T12:00:00\", \"2020-07-29T13:00:00\", \"2020-07-29T14:00:00\", \"2020-07-29T15:00:00\", \"2020-07-29T16:00:00\", \"2020-07-29T17:00:00\", \"2020-07-29T18:00:00\", \"2020-07-29T19:00:00\", \"2020-07-29T20:00:00\", \"2020-07-29T21:00:00\", \"2020-07-29T22:00:00\", \"2020-07-29T23:00:00\", \"2020-07-30T00:00:00\", \"2020-07-30T01:00:00\", \"2020-07-30T02:00:00\", \"2020-07-30T03:00:00\", \"2020-07-30T04:00:00\", \"2020-07-30T05:00:00\", \"2020-07-30T06:00:00\", \"2020-07-30T07:00:00\", \"2020-07-30T08:00:00\", \"2020-07-30T09:00:00\", \"2020-07-30T10:00:00\", \"2020-07-30T11:00:00\", \"2020-07-30T12:00:00\", \"2020-07-30T13:00:00\", \"2020-07-30T14:00:00\", \"2020-07-30T15:00:00\", \"2020-07-30T16:00:00\", \"2020-07-30T17:00:00\", \"2020-07-30T18:00:00\", \"2020-07-30T19:00:00\", \"2020-07-30T20:00:00\", \"2020-07-30T21:00:00\", \"2020-07-30T22:00:00\", \"2020-07-30T23:00:00\", \"2020-07-31T00:00:00\", \"2020-07-31T01:00:00\", \"2020-07-31T02:00:00\", \"2020-07-31T03:00:00\", \"2020-07-31T04:00:00\", \"2020-07-31T05:00:00\", \"2020-07-31T06:00:00\", \"2020-07-31T07:00:00\", \"2020-07-31T08:00:00\", \"2020-07-31T09:00:00\", \"2020-07-31T10:00:00\", \"2020-07-31T11:00:00\", \"2020-07-31T12:00:00\", \"2020-07-31T13:00:00\", \"2020-07-31T14:00:00\", \"2020-07-31T15:00:00\", \"2020-07-31T16:00:00\", \"2020-07-31T17:00:00\", \"2020-07-31T18:00:00\", \"2020-07-31T19:00:00\", \"2020-07-31T20:00:00\", \"2020-07-31T21:00:00\", \"2020-07-31T22:00:00\", \"2020-07-31T23:00:00\", \"2020-08-01T00:00:00\", \"2020-08-01T01:00:00\", \"2020-08-01T02:00:00\", \"2020-08-01T03:00:00\", \"2020-08-01T04:00:00\", \"2020-08-01T05:00:00\", \"2020-08-01T06:00:00\", \"2020-08-01T07:00:00\", \"2020-08-01T08:00:00\", \"2020-08-01T09:00:00\", \"2020-08-01T10:00:00\", \"2020-08-01T11:00:00\", \"2020-08-01T12:00:00\", \"2020-08-01T13:00:00\", \"2020-08-01T14:00:00\", \"2020-08-01T15:00:00\", \"2020-08-01T16:00:00\", \"2020-08-01T17:00:00\", \"2020-08-01T18:00:00\", \"2020-08-01T19:00:00\", \"2020-08-01T20:00:00\", \"2020-08-01T21:00:00\", \"2020-08-01T22:00:00\", \"2020-08-01T23:00:00\", \"2020-08-02T00:00:00\", \"2020-08-02T01:00:00\", \"2020-08-02T02:00:00\", \"2020-08-02T03:00:00\", \"2020-08-02T04:00:00\", \"2020-08-02T05:00:00\", \"2020-08-02T06:00:00\", \"2020-08-02T07:00:00\", \"2020-08-02T08:00:00\", \"2020-08-02T09:00:00\", \"2020-08-02T10:00:00\", \"2020-08-02T11:00:00\", \"2020-08-02T12:00:00\", \"2020-08-02T13:00:00\", \"2020-08-02T14:00:00\", \"2020-08-02T15:00:00\", \"2020-08-02T16:00:00\", \"2020-08-02T17:00:00\", \"2020-08-02T18:00:00\", \"2020-08-02T19:00:00\", \"2020-08-02T20:00:00\", \"2020-08-02T21:00:00\", \"2020-08-02T22:00:00\", \"2020-08-02T23:00:00\", \"2020-08-03T00:00:00\", \"2020-08-03T01:00:00\", \"2020-08-03T02:00:00\", \"2020-08-03T03:00:00\", \"2020-08-03T04:00:00\", \"2020-08-03T05:00:00\", \"2020-08-03T06:00:00\", \"2020-08-03T07:00:00\", \"2020-08-03T08:00:00\", \"2020-08-03T09:00:00\", \"2020-08-03T10:00:00\", \"2020-08-03T11:00:00\", \"2020-08-03T12:00:00\", \"2020-08-03T13:00:00\", \"2020-08-03T14:00:00\", \"2020-08-03T15:00:00\", \"2020-08-03T16:00:00\", \"2020-08-03T17:00:00\"], \"xaxis\": \"x\", \"y\": [8102.6, 8305.4, 8382.8, 9593.7, 10403.1, 10195.3, 10114.2, 8428.2, 6623.4, 5246.8, 3666.7, 2957.3, 2287.9, 2148.4, 2637.6, 2651.4, 2575.6, 3808.5, 3094.0, 2600.0, 2690.9, 3060.7, 3635.1, 4321.7, 4588.5, 5095.5, 5373.5, 5814.1, 5956.5, 7295.4, 7946.7, 7985.1, 7952.5, 6707.3, 6166.3, 5397.8, 5060.7, 4572.3, 4402.8, 3530.4, 2542.5, 2442.0, 1901.2, 1476.2, 1491.6, 1702.5, 1850.8, 1979.7, 1964.8, 2203.2, 2924.5, 4027.4, 5049.2, 5828.4, 6308.3, 6659.6, 6498.7, 5740.1, 4898.0, 4057.7, 3394.6, 2701.6, 2095.4, 1762.7, 1698.1, 1340.0, 1015.8, 913.1, 989.4, 1358.0, 2031.3, 2790.1, 3573.9, 4624.8, 6059.9, 7348.4, 8363.7, 9133.5, 9473.1, 9931.4, 10186.7, 10194.9, 9954.1, 9618.3, 9207.5, 8519.8, 8085.5, 8055.9, 7996.2, 7765.6, 7292.4, 6683.6, 6246.7, 5943.4, 5881.4, 5998.4, 6241.5, 6895.5, 8056.0, 9688.5, 10997.9, 11695.3, 11944.7, 11820.6, 11579.7, 11283.0, 10960.1, 10378.1, 9489.2, 8632.1, 8003.3, 6932.6, 5410.6, 4075.8, 2991.0, 2255.9, 1964.7, 2018.1, 2314.6, 3041.4, 3997.3, 5049.5, 6024.2, 6854.0, 7814.9, 8696.1, 9362.5, 9557.8, 9396.5, 9187.3, 8495.3, 7384.4, 6304.0, 5584.6, 5135.7, 4710.8, 4431.3, 4282.6, 4145.2, 4210.6, 4433.1, 4668.8, 4871.2, 5046.8, 5220.6, 5225.2, 5112.8, 4979.8, 4843.2, 4717.6, 4569.0, 4210.7, 3915.6, 3633.9, 3278.2, 2861.4, 2442.7, 2061.9, 1712.9, 1367.3, 1166.6, 1091.5, 1009.4, 980.0, 970.9, 964.8, 1029.6, 1152.9, 1292.9, 1804.1, 2600.1, 3416.1, 3762.6, 3695.0, 3621.5, 3417.5, 3116.1, 2804.2, 2581.1, 2436.6, 2289.5, 2039.4, 1712.0, 1379.5, 1038.3, 692.1, 359.5, 331.8, 540.5, 768.9, 1008.9, 1257.0, 1528.6, 2304.4, 3468.2, 4666.6, 5830.1, 6963.6, 7863.0, 7956.1, 7311.5, 6597.9, 5875.1, 5148.4, 4426.3, 3816.6, 3294.1, 2778.7, 2263.3, 1746.3, 1253.2, 1258.7, 1641.7, 2062.0, 2153.8], \"yaxis\": \"y\"}, {\"hovertemplate\": \"zone=HSL_LZ_NORTH<br>delivery_dt=%{x}<br>mw=%{y}<extra></extra>\", \"legendgroup\": \"HSL_LZ_NORTH\", \"line\": {\"color\": \"#00cc96\", \"dash\": \"solid\"}, \"mode\": \"lines\", \"name\": \"HSL_LZ_NORTH\", \"showlegend\": true, \"type\": \"scatter\", \"x\": [\"2020-07-25T19:00:00\", \"2020-07-25T20:00:00\", \"2020-07-25T21:00:00\", \"2020-07-25T22:00:00\", \"2020-07-25T23:00:00\", \"2020-07-26T00:00:00\", \"2020-07-26T01:00:00\", \"2020-07-26T02:00:00\", \"2020-07-26T03:00:00\", \"2020-07-26T04:00:00\", \"2020-07-26T05:00:00\", \"2020-07-26T06:00:00\", \"2020-07-26T07:00:00\", \"2020-07-26T08:00:00\", \"2020-07-26T09:00:00\", \"2020-07-26T10:00:00\", \"2020-07-26T11:00:00\", \"2020-07-26T12:00:00\", \"2020-07-26T13:00:00\", \"2020-07-26T14:00:00\", \"2020-07-26T15:00:00\", \"2020-07-26T16:00:00\", \"2020-07-26T17:00:00\", \"2020-07-26T18:00:00\", \"2020-07-26T19:00:00\", \"2020-07-26T20:00:00\", \"2020-07-26T21:00:00\", \"2020-07-26T22:00:00\", \"2020-07-26T23:00:00\", \"2020-07-27T00:00:00\", \"2020-07-27T01:00:00\", \"2020-07-27T02:00:00\", \"2020-07-27T03:00:00\", \"2020-07-27T04:00:00\", \"2020-07-27T05:00:00\", \"2020-07-27T06:00:00\", \"2020-07-27T07:00:00\", \"2020-07-27T08:00:00\", \"2020-07-27T09:00:00\", \"2020-07-27T10:00:00\", \"2020-07-27T11:00:00\", \"2020-07-27T12:00:00\", \"2020-07-27T13:00:00\", \"2020-07-27T14:00:00\", \"2020-07-27T15:00:00\", \"2020-07-27T16:00:00\", \"2020-07-27T17:00:00\", \"2020-07-27T18:00:00\", \"2020-07-27T19:00:00\", \"2020-07-27T20:00:00\", \"2020-07-27T21:00:00\", \"2020-07-27T22:00:00\", \"2020-07-27T23:00:00\", \"2020-07-28T00:00:00\", \"2020-07-28T01:00:00\", \"2020-07-28T02:00:00\", \"2020-07-28T03:00:00\", \"2020-07-28T04:00:00\", \"2020-07-28T05:00:00\", \"2020-07-28T06:00:00\", \"2020-07-28T07:00:00\", \"2020-07-28T08:00:00\", \"2020-07-28T09:00:00\", \"2020-07-28T10:00:00\", \"2020-07-28T11:00:00\", \"2020-07-28T12:00:00\", \"2020-07-28T13:00:00\", \"2020-07-28T14:00:00\", \"2020-07-28T15:00:00\", \"2020-07-28T16:00:00\", \"2020-07-28T17:00:00\", \"2020-07-28T18:00:00\", \"2020-07-28T19:00:00\", \"2020-07-28T20:00:00\", \"2020-07-28T21:00:00\", \"2020-07-28T22:00:00\", \"2020-07-28T23:00:00\", \"2020-07-29T00:00:00\", \"2020-07-29T01:00:00\", \"2020-07-29T02:00:00\", \"2020-07-29T03:00:00\", \"2020-07-29T04:00:00\", \"2020-07-29T05:00:00\", \"2020-07-29T06:00:00\", \"2020-07-29T07:00:00\", \"2020-07-29T08:00:00\", \"2020-07-29T09:00:00\", \"2020-07-29T10:00:00\", \"2020-07-29T11:00:00\", \"2020-07-29T12:00:00\", \"2020-07-29T13:00:00\", \"2020-07-29T14:00:00\", \"2020-07-29T15:00:00\", \"2020-07-29T16:00:00\", \"2020-07-29T17:00:00\", \"2020-07-29T18:00:00\", \"2020-07-29T19:00:00\", \"2020-07-29T20:00:00\", \"2020-07-29T21:00:00\", \"2020-07-29T22:00:00\", \"2020-07-29T23:00:00\", \"2020-07-30T00:00:00\", \"2020-07-30T01:00:00\", \"2020-07-30T02:00:00\", \"2020-07-30T03:00:00\", \"2020-07-30T04:00:00\", \"2020-07-30T05:00:00\", \"2020-07-30T06:00:00\", \"2020-07-30T07:00:00\", \"2020-07-30T08:00:00\", \"2020-07-30T09:00:00\", \"2020-07-30T10:00:00\", \"2020-07-30T11:00:00\", \"2020-07-30T12:00:00\", \"2020-07-30T13:00:00\", \"2020-07-30T14:00:00\", \"2020-07-30T15:00:00\", \"2020-07-30T16:00:00\", \"2020-07-30T17:00:00\", \"2020-07-30T18:00:00\", \"2020-07-30T19:00:00\", \"2020-07-30T20:00:00\", \"2020-07-30T21:00:00\", \"2020-07-30T22:00:00\", \"2020-07-30T23:00:00\", \"2020-07-31T00:00:00\", \"2020-07-31T01:00:00\", \"2020-07-31T02:00:00\", \"2020-07-31T03:00:00\", \"2020-07-31T04:00:00\", \"2020-07-31T05:00:00\", \"2020-07-31T06:00:00\", \"2020-07-31T07:00:00\", \"2020-07-31T08:00:00\", \"2020-07-31T09:00:00\", \"2020-07-31T10:00:00\", \"2020-07-31T11:00:00\", \"2020-07-31T12:00:00\", \"2020-07-31T13:00:00\", \"2020-07-31T14:00:00\", \"2020-07-31T15:00:00\", \"2020-07-31T16:00:00\", \"2020-07-31T17:00:00\", \"2020-07-31T18:00:00\", \"2020-07-31T19:00:00\", \"2020-07-31T20:00:00\", \"2020-07-31T21:00:00\", \"2020-07-31T22:00:00\", \"2020-07-31T23:00:00\", \"2020-08-01T00:00:00\", \"2020-08-01T01:00:00\", \"2020-08-01T02:00:00\", \"2020-08-01T03:00:00\", \"2020-08-01T04:00:00\", \"2020-08-01T05:00:00\", \"2020-08-01T06:00:00\", \"2020-08-01T07:00:00\", \"2020-08-01T08:00:00\", \"2020-08-01T09:00:00\", \"2020-08-01T10:00:00\", \"2020-08-01T11:00:00\", \"2020-08-01T12:00:00\", \"2020-08-01T13:00:00\", \"2020-08-01T14:00:00\", \"2020-08-01T15:00:00\", \"2020-08-01T16:00:00\", \"2020-08-01T17:00:00\", \"2020-08-01T18:00:00\", \"2020-08-01T19:00:00\", \"2020-08-01T20:00:00\", \"2020-08-01T21:00:00\", \"2020-08-01T22:00:00\", \"2020-08-01T23:00:00\", \"2020-08-02T00:00:00\", \"2020-08-02T01:00:00\", \"2020-08-02T02:00:00\", \"2020-08-02T03:00:00\", \"2020-08-02T04:00:00\", \"2020-08-02T05:00:00\", \"2020-08-02T06:00:00\", \"2020-08-02T07:00:00\", \"2020-08-02T08:00:00\", \"2020-08-02T09:00:00\", \"2020-08-02T10:00:00\", \"2020-08-02T11:00:00\", \"2020-08-02T12:00:00\", \"2020-08-02T13:00:00\", \"2020-08-02T14:00:00\", \"2020-08-02T15:00:00\", \"2020-08-02T16:00:00\", \"2020-08-02T17:00:00\", \"2020-08-02T18:00:00\", \"2020-08-02T19:00:00\", \"2020-08-02T20:00:00\", \"2020-08-02T21:00:00\", \"2020-08-02T22:00:00\", \"2020-08-02T23:00:00\", \"2020-08-03T00:00:00\", \"2020-08-03T01:00:00\", \"2020-08-03T02:00:00\", \"2020-08-03T03:00:00\", \"2020-08-03T04:00:00\", \"2020-08-03T05:00:00\", \"2020-08-03T06:00:00\", \"2020-08-03T07:00:00\", \"2020-08-03T08:00:00\", \"2020-08-03T09:00:00\", \"2020-08-03T10:00:00\", \"2020-08-03T11:00:00\", \"2020-08-03T12:00:00\", \"2020-08-03T13:00:00\", \"2020-08-03T14:00:00\", \"2020-08-03T15:00:00\", \"2020-08-03T16:00:00\", \"2020-08-03T17:00:00\"], \"xaxis\": \"x\", \"y\": [422.7, 426.9, 266.3, 341.1, 247.0, 313.3, 301.5, 290.1, 321.4, 324.6, 330.6, 341.4, 354.8, 371.9, 279.5, 235.7, 168.8, 113.5, 73.0, 73.7, 78.5, 139.8, 182.0, 325.3, 154.2, 163.6, 329.6, 228.7, 293.3, 411.7, 346.6, 368.4, 362.6, 339.4, 244.9, 266.1, 196.5, 172.2, 166.7, 140.7, 82.3, 50.1, 31.4, 23.5, 25.1, 65.6, 79.7, 187.9, 153.7, 144.6, 183.3, 258.5, 327.3, 370.3, 381.2, 420.2, 399.5, 349.4, 351.7, 304.8, 237.1, 180.7, 130.9, 90.8, 75.6, 58.3, 50.5, 54.1, 91.5, 158.7, 233.0, 281.6, 292.4, 284.7, 315.0, 372.8, 437.8, 494.8, 566.9, 663.8, 691.2, 677.3, 654.9, 633.3, 600.5, 532.1, 486.1, 479.4, 470.8, 452.8, 427.7, 408.6, 424.0, 457.8, 503.0, 559.9, 609.8, 649.6, 709.5, 784.5, 822.4, 830.7, 853.8, 904.4, 913.6, 891.8, 851.2, 807.0, 758.0, 687.6, 689.3, 722.0, 697.2, 641.3, 572.7, 499.7, 425.7, 373.7, 371.3, 399.0, 428.4, 493.3, 560.8, 638.6, 715.3, 766.5, 802.7, 794.4, 763.6, 731.0, 706.1, 687.9, 667.7, 606.6, 514.9, 420.3, 337.0, 264.2, 193.2, 163.2, 164.4, 168.4, 172.3, 175.6, 180.4, 212.8, 266.0, 321.0, 348.9, 353.5, 375.1, 419.3, 423.7, 415.8, 370.3, 291.8, 215.6, 184.2, 187.0, 192.7, 182.1, 157.2, 132.9, 122.2, 121.7, 122.1, 130.5, 146.0, 161.6, 180.3, 200.8, 221.7, 231.2, 230.4, 230.0, 229.6, 229.5, 229.6, 237.6, 252.5, 265.9, 250.3, 212.5, 172.4, 132.4, 92.5, 53.9, 45.1, 59.3, 75.5, 91.8, 108.1, 125.0, 154.6, 193.5, 233.5, 273.6, 313.6, 351.9, 350.6, 319.7, 285.8, 251.7, 217.8, 183.8, 155.1, 130.1, 105.4, 80.9, 56.3, 33.3, 40.7, 71.8, 105.1, 108.8], \"yaxis\": \"y\"}],\n",
       "                        {\"legend\": {\"title\": {\"text\": \"zone\"}, \"tracegroupgap\": 0}, \"template\": {\"data\": {\"bar\": [{\"error_x\": {\"color\": \"#2a3f5f\"}, \"error_y\": {\"color\": \"#2a3f5f\"}, \"marker\": {\"line\": {\"color\": \"#E5ECF6\", \"width\": 0.5}}, \"type\": \"bar\"}], \"barpolar\": [{\"marker\": {\"line\": {\"color\": \"#E5ECF6\", \"width\": 0.5}}, \"type\": \"barpolar\"}], \"carpet\": [{\"aaxis\": {\"endlinecolor\": \"#2a3f5f\", \"gridcolor\": \"white\", \"linecolor\": \"white\", \"minorgridcolor\": \"white\", \"startlinecolor\": \"#2a3f5f\"}, \"baxis\": {\"endlinecolor\": \"#2a3f5f\", \"gridcolor\": \"white\", \"linecolor\": \"white\", \"minorgridcolor\": \"white\", \"startlinecolor\": \"#2a3f5f\"}, \"type\": \"carpet\"}], \"choropleth\": [{\"colorbar\": {\"outlinewidth\": 0, \"ticks\": \"\"}, \"type\": \"choropleth\"}], \"contour\": [{\"colorbar\": {\"outlinewidth\": 0, \"ticks\": \"\"}, \"colorscale\": [[0.0, \"#0d0887\"], [0.1111111111111111, \"#46039f\"], [0.2222222222222222, \"#7201a8\"], [0.3333333333333333, \"#9c179e\"], [0.4444444444444444, \"#bd3786\"], [0.5555555555555556, \"#d8576b\"], [0.6666666666666666, \"#ed7953\"], [0.7777777777777778, \"#fb9f3a\"], [0.8888888888888888, \"#fdca26\"], [1.0, \"#f0f921\"]], \"type\": \"contour\"}], \"contourcarpet\": [{\"colorbar\": {\"outlinewidth\": 0, \"ticks\": \"\"}, \"type\": \"contourcarpet\"}], \"heatmap\": [{\"colorbar\": {\"outlinewidth\": 0, \"ticks\": \"\"}, \"colorscale\": [[0.0, \"#0d0887\"], [0.1111111111111111, \"#46039f\"], [0.2222222222222222, \"#7201a8\"], [0.3333333333333333, \"#9c179e\"], [0.4444444444444444, \"#bd3786\"], [0.5555555555555556, \"#d8576b\"], [0.6666666666666666, \"#ed7953\"], [0.7777777777777778, \"#fb9f3a\"], [0.8888888888888888, \"#fdca26\"], [1.0, \"#f0f921\"]], \"type\": \"heatmap\"}], \"heatmapgl\": [{\"colorbar\": {\"outlinewidth\": 0, \"ticks\": \"\"}, \"colorscale\": [[0.0, \"#0d0887\"], [0.1111111111111111, \"#46039f\"], [0.2222222222222222, \"#7201a8\"], [0.3333333333333333, \"#9c179e\"], [0.4444444444444444, \"#bd3786\"], [0.5555555555555556, \"#d8576b\"], [0.6666666666666666, \"#ed7953\"], [0.7777777777777778, \"#fb9f3a\"], [0.8888888888888888, \"#fdca26\"], [1.0, \"#f0f921\"]], \"type\": \"heatmapgl\"}], \"histogram\": [{\"marker\": {\"colorbar\": {\"outlinewidth\": 0, \"ticks\": \"\"}}, \"type\": \"histogram\"}], \"histogram2d\": [{\"colorbar\": {\"outlinewidth\": 0, \"ticks\": \"\"}, \"colorscale\": [[0.0, \"#0d0887\"], [0.1111111111111111, \"#46039f\"], [0.2222222222222222, \"#7201a8\"], [0.3333333333333333, \"#9c179e\"], [0.4444444444444444, \"#bd3786\"], [0.5555555555555556, \"#d8576b\"], [0.6666666666666666, \"#ed7953\"], [0.7777777777777778, \"#fb9f3a\"], [0.8888888888888888, \"#fdca26\"], [1.0, \"#f0f921\"]], \"type\": \"histogram2d\"}], \"histogram2dcontour\": [{\"colorbar\": {\"outlinewidth\": 0, \"ticks\": \"\"}, \"colorscale\": [[0.0, \"#0d0887\"], [0.1111111111111111, \"#46039f\"], [0.2222222222222222, \"#7201a8\"], [0.3333333333333333, \"#9c179e\"], [0.4444444444444444, \"#bd3786\"], [0.5555555555555556, \"#d8576b\"], [0.6666666666666666, \"#ed7953\"], [0.7777777777777778, \"#fb9f3a\"], [0.8888888888888888, \"#fdca26\"], [1.0, \"#f0f921\"]], \"type\": \"histogram2dcontour\"}], \"mesh3d\": [{\"colorbar\": {\"outlinewidth\": 0, \"ticks\": \"\"}, \"type\": \"mesh3d\"}], \"parcoords\": [{\"line\": {\"colorbar\": {\"outlinewidth\": 0, \"ticks\": \"\"}}, \"type\": \"parcoords\"}], \"pie\": [{\"automargin\": true, \"type\": \"pie\"}], \"scatter\": [{\"marker\": {\"colorbar\": {\"outlinewidth\": 0, \"ticks\": \"\"}}, \"type\": \"scatter\"}], \"scatter3d\": [{\"line\": {\"colorbar\": {\"outlinewidth\": 0, \"ticks\": \"\"}}, \"marker\": {\"colorbar\": {\"outlinewidth\": 0, \"ticks\": \"\"}}, \"type\": \"scatter3d\"}], \"scattercarpet\": [{\"marker\": {\"colorbar\": {\"outlinewidth\": 0, \"ticks\": \"\"}}, \"type\": \"scattercarpet\"}], \"scattergeo\": [{\"marker\": {\"colorbar\": {\"outlinewidth\": 0, \"ticks\": \"\"}}, \"type\": \"scattergeo\"}], \"scattergl\": [{\"marker\": {\"colorbar\": {\"outlinewidth\": 0, \"ticks\": \"\"}}, \"type\": \"scattergl\"}], \"scattermapbox\": [{\"marker\": {\"colorbar\": {\"outlinewidth\": 0, \"ticks\": \"\"}}, \"type\": \"scattermapbox\"}], \"scatterpolar\": [{\"marker\": {\"colorbar\": {\"outlinewidth\": 0, \"ticks\": \"\"}}, \"type\": \"scatterpolar\"}], \"scatterpolargl\": [{\"marker\": {\"colorbar\": {\"outlinewidth\": 0, \"ticks\": \"\"}}, \"type\": \"scatterpolargl\"}], \"scatterternary\": [{\"marker\": {\"colorbar\": {\"outlinewidth\": 0, \"ticks\": \"\"}}, \"type\": \"scatterternary\"}], \"surface\": [{\"colorbar\": {\"outlinewidth\": 0, \"ticks\": \"\"}, \"colorscale\": [[0.0, \"#0d0887\"], [0.1111111111111111, \"#46039f\"], [0.2222222222222222, \"#7201a8\"], [0.3333333333333333, \"#9c179e\"], [0.4444444444444444, \"#bd3786\"], [0.5555555555555556, \"#d8576b\"], [0.6666666666666666, \"#ed7953\"], [0.7777777777777778, \"#fb9f3a\"], [0.8888888888888888, \"#fdca26\"], [1.0, \"#f0f921\"]], \"type\": \"surface\"}], \"table\": [{\"cells\": {\"fill\": {\"color\": \"#EBF0F8\"}, \"line\": {\"color\": \"white\"}}, \"header\": {\"fill\": {\"color\": \"#C8D4E3\"}, \"line\": {\"color\": \"white\"}}, \"type\": \"table\"}]}, \"layout\": {\"annotationdefaults\": {\"arrowcolor\": \"#2a3f5f\", \"arrowhead\": 0, \"arrowwidth\": 1}, \"coloraxis\": {\"colorbar\": {\"outlinewidth\": 0, \"ticks\": \"\"}}, \"colorscale\": {\"diverging\": [[0, \"#8e0152\"], [0.1, \"#c51b7d\"], [0.2, \"#de77ae\"], [0.3, \"#f1b6da\"], [0.4, \"#fde0ef\"], [0.5, \"#f7f7f7\"], [0.6, \"#e6f5d0\"], [0.7, \"#b8e186\"], [0.8, \"#7fbc41\"], [0.9, \"#4d9221\"], [1, \"#276419\"]], \"sequential\": [[0.0, \"#0d0887\"], [0.1111111111111111, \"#46039f\"], [0.2222222222222222, \"#7201a8\"], [0.3333333333333333, \"#9c179e\"], [0.4444444444444444, \"#bd3786\"], [0.5555555555555556, \"#d8576b\"], [0.6666666666666666, \"#ed7953\"], [0.7777777777777778, \"#fb9f3a\"], [0.8888888888888888, \"#fdca26\"], [1.0, \"#f0f921\"]], \"sequentialminus\": [[0.0, \"#0d0887\"], [0.1111111111111111, \"#46039f\"], [0.2222222222222222, \"#7201a8\"], [0.3333333333333333, \"#9c179e\"], [0.4444444444444444, \"#bd3786\"], [0.5555555555555556, \"#d8576b\"], [0.6666666666666666, \"#ed7953\"], [0.7777777777777778, \"#fb9f3a\"], [0.8888888888888888, \"#fdca26\"], [1.0, \"#f0f921\"]]}, \"colorway\": [\"#636efa\", \"#EF553B\", \"#00cc96\", \"#ab63fa\", \"#FFA15A\", \"#19d3f3\", \"#FF6692\", \"#B6E880\", \"#FF97FF\", \"#FECB52\"], \"font\": {\"color\": \"#2a3f5f\"}, \"geo\": {\"bgcolor\": \"white\", \"lakecolor\": \"white\", \"landcolor\": \"#E5ECF6\", \"showlakes\": true, \"showland\": true, \"subunitcolor\": \"white\"}, \"hoverlabel\": {\"align\": \"left\"}, \"hovermode\": \"closest\", \"mapbox\": {\"style\": \"light\"}, \"paper_bgcolor\": \"white\", \"plot_bgcolor\": \"#E5ECF6\", \"polar\": {\"angularaxis\": {\"gridcolor\": \"white\", \"linecolor\": \"white\", \"ticks\": \"\"}, \"bgcolor\": \"#E5ECF6\", \"radialaxis\": {\"gridcolor\": \"white\", \"linecolor\": \"white\", \"ticks\": \"\"}}, \"scene\": {\"xaxis\": {\"backgroundcolor\": \"#E5ECF6\", \"gridcolor\": \"white\", \"gridwidth\": 2, \"linecolor\": \"white\", \"showbackground\": true, \"ticks\": \"\", \"zerolinecolor\": \"white\"}, \"yaxis\": {\"backgroundcolor\": \"#E5ECF6\", \"gridcolor\": \"white\", \"gridwidth\": 2, \"linecolor\": \"white\", \"showbackground\": true, \"ticks\": \"\", \"zerolinecolor\": \"white\"}, \"zaxis\": {\"backgroundcolor\": \"#E5ECF6\", \"gridcolor\": \"white\", \"gridwidth\": 2, \"linecolor\": \"white\", \"showbackground\": true, \"ticks\": \"\", \"zerolinecolor\": \"white\"}}, \"shapedefaults\": {\"line\": {\"color\": \"#2a3f5f\"}}, \"ternary\": {\"aaxis\": {\"gridcolor\": \"white\", \"linecolor\": \"white\", \"ticks\": \"\"}, \"baxis\": {\"gridcolor\": \"white\", \"linecolor\": \"white\", \"ticks\": \"\"}, \"bgcolor\": \"#E5ECF6\", \"caxis\": {\"gridcolor\": \"white\", \"linecolor\": \"white\", \"ticks\": \"\"}}, \"title\": {\"x\": 0.05}, \"xaxis\": {\"automargin\": true, \"gridcolor\": \"white\", \"linecolor\": \"white\", \"ticks\": \"\", \"title\": {\"standoff\": 15}, \"zerolinecolor\": \"white\", \"zerolinewidth\": 2}, \"yaxis\": {\"automargin\": true, \"gridcolor\": \"white\", \"linecolor\": \"white\", \"ticks\": \"\", \"title\": {\"standoff\": 15}, \"zerolinecolor\": \"white\", \"zerolinewidth\": 2}}}, \"title\": {\"text\": \"System Level Forecasts\"}, \"xaxis\": {\"anchor\": \"y\", \"domain\": [0.0, 1.0], \"title\": {\"text\": \"delivery_dt\"}}, \"yaxis\": {\"anchor\": \"x\", \"domain\": [0.0, 1.0], \"title\": {\"text\": \"mw\"}}},\n",
       "                        {\"responsive\": true}\n",
       "                    ).then(function(){\n",
       "                            \n",
       "var gd = document.getElementById('58939728-6470-444d-b148-ed8d8c53053a');\n",
       "var x = new MutationObserver(function (mutations, observer) {{\n",
       "        var display = window.getComputedStyle(gd).display;\n",
       "        if (!display || display === 'none') {{\n",
       "            console.log([gd, 'removed!']);\n",
       "            Plotly.purge(gd);\n",
       "            observer.disconnect();\n",
       "        }}\n",
       "}});\n",
       "\n",
       "// Listen for the removal of the full notebook cells\n",
       "var notebookContainer = gd.closest('#notebook-container');\n",
       "if (notebookContainer) {{\n",
       "    x.observe(notebookContainer, {childList: true});\n",
       "}}\n",
       "\n",
       "// Listen for the clearing of the current output cell\n",
       "var outputEl = gd.closest('.output');\n",
       "if (outputEl) {{\n",
       "    x.observe(outputEl, {childList: true});\n",
       "}}\n",
       "\n",
       "                        })\n",
       "                };\n",
       "                });\n",
       "            </script>\n",
       "        </div>"
      ]
     },
     "metadata": {},
     "output_type": "display_data"
    }
   ],
   "source": [
    "zonal_df = long_wind_fcst.loc[(long_wind_fcst.type == 'COP') & (long_wind_fcst.zone != 'HSL_SYSTEM_WIDE'), :] \n",
    "\n",
    "zonalFig = px.line(zonal_df, x=\"delivery_dt\", y=\"mw\", title='System Level Forecasts', color = 'zone')\n",
    "\n",
    "zonalFig.show()"
   ]
  },
  {
   "cell_type": "markdown",
   "metadata": {},
   "source": [
    "## Load Data to PostgreSQL Database"
   ]
  },
  {
   "cell_type": "code",
   "execution_count": 138,
   "metadata": {},
   "outputs": [],
   "source": [
    "from sqlalchemy import create_engine"
   ]
  },
  {
   "cell_type": "code",
   "execution_count": 139,
   "metadata": {},
   "outputs": [],
   "source": [
    "connection_string = f\"postgres:trumpet5@localhost:5432/ercot_db\"\n",
    "engine = create_engine(f'postgresql://{connection_string}')"
   ]
  },
  {
   "cell_type": "code",
   "execution_count": 140,
   "metadata": {},
   "outputs": [],
   "source": [
    "#fill table\n",
    "long_wind_fcst.to_sql(name='da_wind_fcst', con=engine, if_exists='append', index=False)"
   ]
  },
  {
   "cell_type": "code",
   "execution_count": 141,
   "metadata": {},
   "outputs": [
    {
     "data": {
      "text/html": [
       "<div>\n",
       "<style scoped>\n",
       "    .dataframe tbody tr th:only-of-type {\n",
       "        vertical-align: middle;\n",
       "    }\n",
       "\n",
       "    .dataframe tbody tr th {\n",
       "        vertical-align: top;\n",
       "    }\n",
       "\n",
       "    .dataframe thead th {\n",
       "        text-align: right;\n",
       "    }\n",
       "</style>\n",
       "<table border=\"1\" class=\"dataframe\">\n",
       "  <thead>\n",
       "    <tr style=\"text-align: right;\">\n",
       "      <th></th>\n",
       "      <th>delivery_dt</th>\n",
       "      <th>delivery_date</th>\n",
       "      <th>delivery_hour</th>\n",
       "      <th>dst_flag</th>\n",
       "      <th>weekday</th>\n",
       "      <th>type</th>\n",
       "      <th>zone</th>\n",
       "      <th>mw</th>\n",
       "      <th>process_date</th>\n",
       "      <th>process_hour</th>\n",
       "      <th>process_dt</th>\n",
       "      <th>file_name</th>\n",
       "    </tr>\n",
       "  </thead>\n",
       "  <tbody>\n",
       "    <tr>\n",
       "      <td>0</td>\n",
       "      <td>2020-07-25 19:00:00</td>\n",
       "      <td>2020-07-25</td>\n",
       "      <td>19</td>\n",
       "      <td>N</td>\n",
       "      <td>SATURDAY</td>\n",
       "      <td>ACTUAL</td>\n",
       "      <td>SYSTEM_WIDE</td>\n",
       "      <td>11615.28</td>\n",
       "      <td>2020-07-27</td>\n",
       "      <td>17</td>\n",
       "      <td>2020-07-27 17:55:18</td>\n",
       "      <td>cdr.00013028.0000000000000000.20200727.175518....</td>\n",
       "    </tr>\n",
       "    <tr>\n",
       "      <td>1</td>\n",
       "      <td>2020-07-25 20:00:00</td>\n",
       "      <td>2020-07-25</td>\n",
       "      <td>20</td>\n",
       "      <td>N</td>\n",
       "      <td>SATURDAY</td>\n",
       "      <td>ACTUAL</td>\n",
       "      <td>SYSTEM_WIDE</td>\n",
       "      <td>13013.58</td>\n",
       "      <td>2020-07-27</td>\n",
       "      <td>17</td>\n",
       "      <td>2020-07-27 17:55:18</td>\n",
       "      <td>cdr.00013028.0000000000000000.20200727.175518....</td>\n",
       "    </tr>\n",
       "    <tr>\n",
       "      <td>2</td>\n",
       "      <td>2020-07-25 21:00:00</td>\n",
       "      <td>2020-07-25</td>\n",
       "      <td>21</td>\n",
       "      <td>N</td>\n",
       "      <td>SATURDAY</td>\n",
       "      <td>ACTUAL</td>\n",
       "      <td>SYSTEM_WIDE</td>\n",
       "      <td>13106.96</td>\n",
       "      <td>2020-07-27</td>\n",
       "      <td>17</td>\n",
       "      <td>2020-07-27 17:55:18</td>\n",
       "      <td>cdr.00013028.0000000000000000.20200727.175518....</td>\n",
       "    </tr>\n",
       "    <tr>\n",
       "      <td>3</td>\n",
       "      <td>2020-07-25 22:00:00</td>\n",
       "      <td>2020-07-25</td>\n",
       "      <td>22</td>\n",
       "      <td>N</td>\n",
       "      <td>SATURDAY</td>\n",
       "      <td>ACTUAL</td>\n",
       "      <td>SYSTEM_WIDE</td>\n",
       "      <td>12548.09</td>\n",
       "      <td>2020-07-27</td>\n",
       "      <td>17</td>\n",
       "      <td>2020-07-27 17:55:18</td>\n",
       "      <td>cdr.00013028.0000000000000000.20200727.175518....</td>\n",
       "    </tr>\n",
       "    <tr>\n",
       "      <td>4</td>\n",
       "      <td>2020-07-25 23:00:00</td>\n",
       "      <td>2020-07-25</td>\n",
       "      <td>23</td>\n",
       "      <td>N</td>\n",
       "      <td>SATURDAY</td>\n",
       "      <td>ACTUAL</td>\n",
       "      <td>SYSTEM_WIDE</td>\n",
       "      <td>13496.18</td>\n",
       "      <td>2020-07-27</td>\n",
       "      <td>17</td>\n",
       "      <td>2020-07-27 17:55:18</td>\n",
       "      <td>cdr.00013028.0000000000000000.20200727.175518....</td>\n",
       "    </tr>\n",
       "    <tr>\n",
       "      <td>...</td>\n",
       "      <td>...</td>\n",
       "      <td>...</td>\n",
       "      <td>...</td>\n",
       "      <td>...</td>\n",
       "      <td>...</td>\n",
       "      <td>...</td>\n",
       "      <td>...</td>\n",
       "      <td>...</td>\n",
       "      <td>...</td>\n",
       "      <td>...</td>\n",
       "      <td>...</td>\n",
       "      <td>...</td>\n",
       "    </tr>\n",
       "    <tr>\n",
       "      <td>3435</td>\n",
       "      <td>2020-08-03 13:00:00</td>\n",
       "      <td>2020-08-03</td>\n",
       "      <td>13</td>\n",
       "      <td>N</td>\n",
       "      <td>MONDAY</td>\n",
       "      <td>WGRPP</td>\n",
       "      <td>LZ_NORTH</td>\n",
       "      <td>11.90</td>\n",
       "      <td>2020-07-27</td>\n",
       "      <td>17</td>\n",
       "      <td>2020-07-27 17:55:18</td>\n",
       "      <td>cdr.00013028.0000000000000000.20200727.175518....</td>\n",
       "    </tr>\n",
       "    <tr>\n",
       "      <td>3436</td>\n",
       "      <td>2020-08-03 14:00:00</td>\n",
       "      <td>2020-08-03</td>\n",
       "      <td>14</td>\n",
       "      <td>N</td>\n",
       "      <td>MONDAY</td>\n",
       "      <td>WGRPP</td>\n",
       "      <td>LZ_NORTH</td>\n",
       "      <td>15.20</td>\n",
       "      <td>2020-07-27</td>\n",
       "      <td>17</td>\n",
       "      <td>2020-07-27 17:55:18</td>\n",
       "      <td>cdr.00013028.0000000000000000.20200727.175518....</td>\n",
       "    </tr>\n",
       "    <tr>\n",
       "      <td>3437</td>\n",
       "      <td>2020-08-03 15:00:00</td>\n",
       "      <td>2020-08-03</td>\n",
       "      <td>15</td>\n",
       "      <td>N</td>\n",
       "      <td>MONDAY</td>\n",
       "      <td>WGRPP</td>\n",
       "      <td>LZ_NORTH</td>\n",
       "      <td>26.30</td>\n",
       "      <td>2020-07-27</td>\n",
       "      <td>17</td>\n",
       "      <td>2020-07-27 17:55:18</td>\n",
       "      <td>cdr.00013028.0000000000000000.20200727.175518....</td>\n",
       "    </tr>\n",
       "    <tr>\n",
       "      <td>3438</td>\n",
       "      <td>2020-08-03 16:00:00</td>\n",
       "      <td>2020-08-03</td>\n",
       "      <td>16</td>\n",
       "      <td>N</td>\n",
       "      <td>MONDAY</td>\n",
       "      <td>WGRPP</td>\n",
       "      <td>LZ_NORTH</td>\n",
       "      <td>38.60</td>\n",
       "      <td>2020-07-27</td>\n",
       "      <td>17</td>\n",
       "      <td>2020-07-27 17:55:18</td>\n",
       "      <td>cdr.00013028.0000000000000000.20200727.175518....</td>\n",
       "    </tr>\n",
       "    <tr>\n",
       "      <td>3439</td>\n",
       "      <td>2020-08-03 17:00:00</td>\n",
       "      <td>2020-08-03</td>\n",
       "      <td>17</td>\n",
       "      <td>N</td>\n",
       "      <td>MONDAY</td>\n",
       "      <td>WGRPP</td>\n",
       "      <td>LZ_NORTH</td>\n",
       "      <td>53.10</td>\n",
       "      <td>2020-07-27</td>\n",
       "      <td>17</td>\n",
       "      <td>2020-07-27 17:55:18</td>\n",
       "      <td>cdr.00013028.0000000000000000.20200727.175518....</td>\n",
       "    </tr>\n",
       "  </tbody>\n",
       "</table>\n",
       "<p>3440 rows × 12 columns</p>\n",
       "</div>"
      ],
      "text/plain": [
       "             delivery_dt delivery_date delivery_hour dst_flag   weekday  \\\n",
       "0    2020-07-25 19:00:00    2020-07-25            19        N  SATURDAY   \n",
       "1    2020-07-25 20:00:00    2020-07-25            20        N  SATURDAY   \n",
       "2    2020-07-25 21:00:00    2020-07-25            21        N  SATURDAY   \n",
       "3    2020-07-25 22:00:00    2020-07-25            22        N  SATURDAY   \n",
       "4    2020-07-25 23:00:00    2020-07-25            23        N  SATURDAY   \n",
       "...                  ...           ...           ...      ...       ...   \n",
       "3435 2020-08-03 13:00:00    2020-08-03            13        N    MONDAY   \n",
       "3436 2020-08-03 14:00:00    2020-08-03            14        N    MONDAY   \n",
       "3437 2020-08-03 15:00:00    2020-08-03            15        N    MONDAY   \n",
       "3438 2020-08-03 16:00:00    2020-08-03            16        N    MONDAY   \n",
       "3439 2020-08-03 17:00:00    2020-08-03            17        N    MONDAY   \n",
       "\n",
       "        type         zone        mw process_date process_hour  \\\n",
       "0     ACTUAL  SYSTEM_WIDE  11615.28   2020-07-27           17   \n",
       "1     ACTUAL  SYSTEM_WIDE  13013.58   2020-07-27           17   \n",
       "2     ACTUAL  SYSTEM_WIDE  13106.96   2020-07-27           17   \n",
       "3     ACTUAL  SYSTEM_WIDE  12548.09   2020-07-27           17   \n",
       "4     ACTUAL  SYSTEM_WIDE  13496.18   2020-07-27           17   \n",
       "...      ...          ...       ...          ...          ...   \n",
       "3435   WGRPP     LZ_NORTH     11.90   2020-07-27           17   \n",
       "3436   WGRPP     LZ_NORTH     15.20   2020-07-27           17   \n",
       "3437   WGRPP     LZ_NORTH     26.30   2020-07-27           17   \n",
       "3438   WGRPP     LZ_NORTH     38.60   2020-07-27           17   \n",
       "3439   WGRPP     LZ_NORTH     53.10   2020-07-27           17   \n",
       "\n",
       "              process_dt                                          file_name  \n",
       "0    2020-07-27 17:55:18  cdr.00013028.0000000000000000.20200727.175518....  \n",
       "1    2020-07-27 17:55:18  cdr.00013028.0000000000000000.20200727.175518....  \n",
       "2    2020-07-27 17:55:18  cdr.00013028.0000000000000000.20200727.175518....  \n",
       "3    2020-07-27 17:55:18  cdr.00013028.0000000000000000.20200727.175518....  \n",
       "4    2020-07-27 17:55:18  cdr.00013028.0000000000000000.20200727.175518....  \n",
       "...                  ...                                                ...  \n",
       "3435 2020-07-27 17:55:18  cdr.00013028.0000000000000000.20200727.175518....  \n",
       "3436 2020-07-27 17:55:18  cdr.00013028.0000000000000000.20200727.175518....  \n",
       "3437 2020-07-27 17:55:18  cdr.00013028.0000000000000000.20200727.175518....  \n",
       "3438 2020-07-27 17:55:18  cdr.00013028.0000000000000000.20200727.175518....  \n",
       "3439 2020-07-27 17:55:18  cdr.00013028.0000000000000000.20200727.175518....  \n",
       "\n",
       "[3440 rows x 12 columns]"
      ]
     },
     "execution_count": 141,
     "metadata": {},
     "output_type": "execute_result"
    }
   ],
   "source": [
    "#Print Table\n",
    "pd.read_sql_query('select * from da_wind_fcst', con=engine)"
   ]
  },
  {
   "cell_type": "code",
   "execution_count": null,
   "metadata": {},
   "outputs": [],
   "source": []
  }
 ],
 "metadata": {
  "kernelspec": {
   "display_name": "Python 3",
   "language": "python",
   "name": "python3"
  },
  "language_info": {
   "codemirror_mode": {
    "name": "ipython",
    "version": 3
   },
   "file_extension": ".py",
   "mimetype": "text/x-python",
   "name": "python",
   "nbconvert_exporter": "python",
   "pygments_lexer": "ipython3",
   "version": "3.7.4"
  }
 },
 "nbformat": 4,
 "nbformat_minor": 2
}
