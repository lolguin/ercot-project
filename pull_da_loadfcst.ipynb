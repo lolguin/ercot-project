{
 "cells": [
  {
   "cell_type": "code",
   "execution_count": 86,
   "metadata": {},
   "outputs": [],
   "source": [
    "from bs4 import BeautifulSoup as bs\n",
    "import requests\n",
    "import pandas as pd"
   ]
  },
  {
   "cell_type": "code",
   "execution_count": 87,
   "metadata": {},
   "outputs": [],
   "source": [
    "#Seven-Day Load Forecast by Weather Zone URL\n",
    "url = 'http://mis.ercot.com/misapp/GetReports.do?reportTypeId=12312&reportTitle=Seven-Day%20Load%20Forecast%20by%20Weather%20Zone&showHTMLView=&mimicKey'"
   ]
  },
  {
   "cell_type": "code",
   "execution_count": 88,
   "metadata": {},
   "outputs": [],
   "source": [
    "response = requests.get(url)"
   ]
  },
  {
   "cell_type": "code",
   "execution_count": 89,
   "metadata": {},
   "outputs": [],
   "source": [
    "soup = bs(response.text, 'html.parser')"
   ]
  },
  {
   "cell_type": "code",
   "execution_count": 91,
   "metadata": {},
   "outputs": [],
   "source": [
    "title_results = soup.find_all('td', class_='labelOptional_ind')"
   ]
  },
  {
   "cell_type": "code",
   "execution_count": null,
   "metadata": {},
   "outputs": [],
   "source": [
    "for result in title_results:\n",
    "    print(result.text)"
   ]
  },
  {
   "cell_type": "code",
   "execution_count": 93,
   "metadata": {},
   "outputs": [],
   "source": [
    "url_results = soup.find_all('td', class_='labelOptional', text=True)"
   ]
  },
  {
   "cell_type": "code",
   "execution_count": null,
   "metadata": {},
   "outputs": [],
   "source": [
    "base_url = 'http://mis.ercot.com'\n",
    "\n",
    "data_urls = []\n",
    "\n",
    "for result in url_results:\n",
    "    try:\n",
    "        end_url = result.find('div').a['href']\n",
    "        full_url = base_url + end_url\n",
    "        data_urls.append(full_url)\n",
    "        #print(full_url)\n",
    "    except:\n",
    "        pass"
   ]
  },
  {
   "cell_type": "markdown",
   "metadata": {},
   "source": [
    "## Visit URL"
   ]
  },
  {
   "cell_type": "code",
   "execution_count": 99,
   "metadata": {},
   "outputs": [],
   "source": [
    "data = requests.get(data_urls[0], stream=True)"
   ]
  },
  {
   "cell_type": "code",
   "execution_count": 100,
   "metadata": {},
   "outputs": [],
   "source": [
    "import requests, zipfile, io"
   ]
  },
  {
   "cell_type": "code",
   "execution_count": 101,
   "metadata": {},
   "outputs": [],
   "source": [
    "z = zipfile.ZipFile(io.BytesIO(data.content))"
   ]
  },
  {
   "cell_type": "code",
   "execution_count": 102,
   "metadata": {},
   "outputs": [],
   "source": [
    "z.extractall()"
   ]
  },
  {
   "cell_type": "code",
   "execution_count": 103,
   "metadata": {},
   "outputs": [],
   "source": [
    "file = z.namelist()[0]"
   ]
  },
  {
   "cell_type": "code",
   "execution_count": 184,
   "metadata": {},
   "outputs": [],
   "source": [
    "load_fcst = pd.read_csv(file)"
   ]
  },
  {
   "cell_type": "code",
   "execution_count": 185,
   "metadata": {},
   "outputs": [
    {
     "data": {
      "text/html": [
       "<div>\n",
       "<style scoped>\n",
       "    .dataframe tbody tr th:only-of-type {\n",
       "        vertical-align: middle;\n",
       "    }\n",
       "\n",
       "    .dataframe tbody tr th {\n",
       "        vertical-align: top;\n",
       "    }\n",
       "\n",
       "    .dataframe thead th {\n",
       "        text-align: right;\n",
       "    }\n",
       "</style>\n",
       "<table border=\"1\" class=\"dataframe\">\n",
       "  <thead>\n",
       "    <tr style=\"text-align: right;\">\n",
       "      <th></th>\n",
       "      <th>DeliveryDate</th>\n",
       "      <th>HourEnding</th>\n",
       "      <th>Coast</th>\n",
       "      <th>East</th>\n",
       "      <th>FarWest</th>\n",
       "      <th>North</th>\n",
       "      <th>NorthCentral</th>\n",
       "      <th>SouthCentral</th>\n",
       "      <th>Southern</th>\n",
       "      <th>West</th>\n",
       "      <th>SystemTotal</th>\n",
       "      <th>DSTFlag</th>\n",
       "    </tr>\n",
       "  </thead>\n",
       "  <tbody>\n",
       "    <tr>\n",
       "      <td>0</td>\n",
       "      <td>07/25/2020</td>\n",
       "      <td>1:00</td>\n",
       "      <td>12911.0996</td>\n",
       "      <td>1788.4301</td>\n",
       "      <td>3915.1299</td>\n",
       "      <td>1063.8101</td>\n",
       "      <td>15900.7002</td>\n",
       "      <td>8495.8701</td>\n",
       "      <td>4015.9900</td>\n",
       "      <td>1633.4100</td>\n",
       "      <td>49724.4400</td>\n",
       "      <td>N</td>\n",
       "    </tr>\n",
       "    <tr>\n",
       "      <td>1</td>\n",
       "      <td>07/25/2020</td>\n",
       "      <td>2:00</td>\n",
       "      <td>12480.7998</td>\n",
       "      <td>1643.0800</td>\n",
       "      <td>3838.8899</td>\n",
       "      <td>1018.4600</td>\n",
       "      <td>14940.5996</td>\n",
       "      <td>7909.5098</td>\n",
       "      <td>3782.8899</td>\n",
       "      <td>1483.2300</td>\n",
       "      <td>47097.4590</td>\n",
       "      <td>N</td>\n",
       "    </tr>\n",
       "    <tr>\n",
       "      <td>2</td>\n",
       "      <td>07/25/2020</td>\n",
       "      <td>3:00</td>\n",
       "      <td>12031.5000</td>\n",
       "      <td>1589.1400</td>\n",
       "      <td>3795.8301</td>\n",
       "      <td>981.7140</td>\n",
       "      <td>14000.2002</td>\n",
       "      <td>7495.5498</td>\n",
       "      <td>3569.3799</td>\n",
       "      <td>1388.6801</td>\n",
       "      <td>44851.9941</td>\n",
       "      <td>N</td>\n",
       "    </tr>\n",
       "    <tr>\n",
       "      <td>3</td>\n",
       "      <td>07/25/2020</td>\n",
       "      <td>4:00</td>\n",
       "      <td>11798.2998</td>\n",
       "      <td>1557.9200</td>\n",
       "      <td>3735.1499</td>\n",
       "      <td>963.5380</td>\n",
       "      <td>13179.0000</td>\n",
       "      <td>6999.5298</td>\n",
       "      <td>3439.4399</td>\n",
       "      <td>1406.2400</td>\n",
       "      <td>43079.1174</td>\n",
       "      <td>N</td>\n",
       "    </tr>\n",
       "    <tr>\n",
       "      <td>4</td>\n",
       "      <td>07/25/2020</td>\n",
       "      <td>5:00</td>\n",
       "      <td>11677.5000</td>\n",
       "      <td>1506.8199</td>\n",
       "      <td>3679.6299</td>\n",
       "      <td>910.7460</td>\n",
       "      <td>12853.5000</td>\n",
       "      <td>6765.1899</td>\n",
       "      <td>3436.1899</td>\n",
       "      <td>1275.6801</td>\n",
       "      <td>42105.2557</td>\n",
       "      <td>N</td>\n",
       "    </tr>\n",
       "    <tr>\n",
       "      <td>...</td>\n",
       "      <td>...</td>\n",
       "      <td>...</td>\n",
       "      <td>...</td>\n",
       "      <td>...</td>\n",
       "      <td>...</td>\n",
       "      <td>...</td>\n",
       "      <td>...</td>\n",
       "      <td>...</td>\n",
       "      <td>...</td>\n",
       "      <td>...</td>\n",
       "      <td>...</td>\n",
       "      <td>...</td>\n",
       "    </tr>\n",
       "    <tr>\n",
       "      <td>187</td>\n",
       "      <td>08/01/2020</td>\n",
       "      <td>20:00</td>\n",
       "      <td>15860.7998</td>\n",
       "      <td>2173.7000</td>\n",
       "      <td>4259.8999</td>\n",
       "      <td>1383.9399</td>\n",
       "      <td>20614.5996</td>\n",
       "      <td>10854.2998</td>\n",
       "      <td>4844.5801</td>\n",
       "      <td>2004.5200</td>\n",
       "      <td>61996.3391</td>\n",
       "      <td>N</td>\n",
       "    </tr>\n",
       "    <tr>\n",
       "      <td>188</td>\n",
       "      <td>08/01/2020</td>\n",
       "      <td>21:00</td>\n",
       "      <td>15946.7002</td>\n",
       "      <td>2116.9199</td>\n",
       "      <td>4229.7700</td>\n",
       "      <td>1353.7900</td>\n",
       "      <td>19982.1992</td>\n",
       "      <td>10489.7998</td>\n",
       "      <td>4751.2202</td>\n",
       "      <td>1961.9800</td>\n",
       "      <td>60832.3793</td>\n",
       "      <td>N</td>\n",
       "    </tr>\n",
       "    <tr>\n",
       "      <td>189</td>\n",
       "      <td>08/01/2020</td>\n",
       "      <td>22:00</td>\n",
       "      <td>15535.5000</td>\n",
       "      <td>2071.5500</td>\n",
       "      <td>4218.3301</td>\n",
       "      <td>1303.0601</td>\n",
       "      <td>19329.5996</td>\n",
       "      <td>10049.2002</td>\n",
       "      <td>4697.8301</td>\n",
       "      <td>1907.8500</td>\n",
       "      <td>59112.9201</td>\n",
       "      <td>N</td>\n",
       "    </tr>\n",
       "    <tr>\n",
       "      <td>190</td>\n",
       "      <td>08/01/2020</td>\n",
       "      <td>23:00</td>\n",
       "      <td>14774.0000</td>\n",
       "      <td>1932.7900</td>\n",
       "      <td>4086.5500</td>\n",
       "      <td>1209.8600</td>\n",
       "      <td>18012.3008</td>\n",
       "      <td>9414.4004</td>\n",
       "      <td>4475.8799</td>\n",
       "      <td>1802.9000</td>\n",
       "      <td>55708.6811</td>\n",
       "      <td>N</td>\n",
       "    </tr>\n",
       "    <tr>\n",
       "      <td>191</td>\n",
       "      <td>08/01/2020</td>\n",
       "      <td>24:00</td>\n",
       "      <td>13874.0000</td>\n",
       "      <td>1825.9000</td>\n",
       "      <td>4005.2400</td>\n",
       "      <td>1127.4900</td>\n",
       "      <td>16355.7998</td>\n",
       "      <td>8685.2500</td>\n",
       "      <td>4223.2798</td>\n",
       "      <td>1725.6500</td>\n",
       "      <td>51822.6096</td>\n",
       "      <td>N</td>\n",
       "    </tr>\n",
       "  </tbody>\n",
       "</table>\n",
       "<p>192 rows × 12 columns</p>\n",
       "</div>"
      ],
      "text/plain": [
       "    DeliveryDate HourEnding       Coast       East    FarWest      North  \\\n",
       "0     07/25/2020       1:00  12911.0996  1788.4301  3915.1299  1063.8101   \n",
       "1     07/25/2020       2:00  12480.7998  1643.0800  3838.8899  1018.4600   \n",
       "2     07/25/2020       3:00  12031.5000  1589.1400  3795.8301   981.7140   \n",
       "3     07/25/2020       4:00  11798.2998  1557.9200  3735.1499   963.5380   \n",
       "4     07/25/2020       5:00  11677.5000  1506.8199  3679.6299   910.7460   \n",
       "..           ...        ...         ...        ...        ...        ...   \n",
       "187   08/01/2020      20:00  15860.7998  2173.7000  4259.8999  1383.9399   \n",
       "188   08/01/2020      21:00  15946.7002  2116.9199  4229.7700  1353.7900   \n",
       "189   08/01/2020      22:00  15535.5000  2071.5500  4218.3301  1303.0601   \n",
       "190   08/01/2020      23:00  14774.0000  1932.7900  4086.5500  1209.8600   \n",
       "191   08/01/2020      24:00  13874.0000  1825.9000  4005.2400  1127.4900   \n",
       "\n",
       "     NorthCentral  SouthCentral   Southern       West  SystemTotal DSTFlag  \n",
       "0      15900.7002     8495.8701  4015.9900  1633.4100   49724.4400       N  \n",
       "1      14940.5996     7909.5098  3782.8899  1483.2300   47097.4590       N  \n",
       "2      14000.2002     7495.5498  3569.3799  1388.6801   44851.9941       N  \n",
       "3      13179.0000     6999.5298  3439.4399  1406.2400   43079.1174       N  \n",
       "4      12853.5000     6765.1899  3436.1899  1275.6801   42105.2557       N  \n",
       "..            ...           ...        ...        ...          ...     ...  \n",
       "187    20614.5996    10854.2998  4844.5801  2004.5200   61996.3391       N  \n",
       "188    19982.1992    10489.7998  4751.2202  1961.9800   60832.3793       N  \n",
       "189    19329.5996    10049.2002  4697.8301  1907.8500   59112.9201       N  \n",
       "190    18012.3008     9414.4004  4475.8799  1802.9000   55708.6811       N  \n",
       "191    16355.7998     8685.2500  4223.2798  1725.6500   51822.6096       N  \n",
       "\n",
       "[192 rows x 12 columns]"
      ]
     },
     "execution_count": 185,
     "metadata": {},
     "output_type": "execute_result"
    }
   ],
   "source": [
    "load_fcst"
   ]
  },
  {
   "cell_type": "code",
   "execution_count": 186,
   "metadata": {},
   "outputs": [],
   "source": [
    "#clean existing columns\n",
    "load_fcst['DeliveryDate'] = pd.to_datetime(load_fcst.DeliveryDate)\n",
    "load_fcst['HourEnding'] = load_fcst.HourEnding.str.split(':').str[0]\n",
    "\n",
    "#add file name and process info to df\n",
    "load_fcst['FileName'] = z.namelist()[0]\n",
    "load_fcst['ProcessDate'] = pd.to_datetime(load_fcst.FileName.str.split('.').str[3])\n",
    "load_fcst['ProcessHour'] = load_fcst.FileName.str.split('.').str[4]\n",
    "load_fcst['DT'] = pd.to_datetime(load_fcst.FileName.str.split('.').str[3] + load_fcst.FileName.str.split('.').str[4])\n"
   ]
  },
  {
   "cell_type": "code",
   "execution_count": 187,
   "metadata": {},
   "outputs": [],
   "source": [
    "load_fcst['DeliveryDT'] = pd.to_datetime(load_fcst.DeliveryDate) + load_fcst.HourEnding.astype('timedelta64[h]')"
   ]
  },
  {
   "cell_type": "code",
   "execution_count": 188,
   "metadata": {},
   "outputs": [
    {
     "data": {
      "text/html": [
       "<div>\n",
       "<style scoped>\n",
       "    .dataframe tbody tr th:only-of-type {\n",
       "        vertical-align: middle;\n",
       "    }\n",
       "\n",
       "    .dataframe tbody tr th {\n",
       "        vertical-align: top;\n",
       "    }\n",
       "\n",
       "    .dataframe thead th {\n",
       "        text-align: right;\n",
       "    }\n",
       "</style>\n",
       "<table border=\"1\" class=\"dataframe\">\n",
       "  <thead>\n",
       "    <tr style=\"text-align: right;\">\n",
       "      <th></th>\n",
       "      <th>DeliveryDate</th>\n",
       "      <th>HourEnding</th>\n",
       "      <th>Coast</th>\n",
       "      <th>East</th>\n",
       "      <th>FarWest</th>\n",
       "      <th>North</th>\n",
       "      <th>NorthCentral</th>\n",
       "      <th>SouthCentral</th>\n",
       "      <th>Southern</th>\n",
       "      <th>West</th>\n",
       "      <th>SystemTotal</th>\n",
       "      <th>DSTFlag</th>\n",
       "      <th>FileName</th>\n",
       "      <th>ProcessDate</th>\n",
       "      <th>ProcessHour</th>\n",
       "      <th>DT</th>\n",
       "      <th>DeliveryDT</th>\n",
       "    </tr>\n",
       "  </thead>\n",
       "  <tbody>\n",
       "    <tr>\n",
       "      <td>0</td>\n",
       "      <td>2020-07-25</td>\n",
       "      <td>1</td>\n",
       "      <td>12911.0996</td>\n",
       "      <td>1788.4301</td>\n",
       "      <td>3915.1299</td>\n",
       "      <td>1063.8101</td>\n",
       "      <td>15900.7002</td>\n",
       "      <td>8495.8701</td>\n",
       "      <td>4015.9900</td>\n",
       "      <td>1633.4100</td>\n",
       "      <td>49724.4400</td>\n",
       "      <td>N</td>\n",
       "      <td>cdr.00012312.0000000000000000.20200725.213002....</td>\n",
       "      <td>2020-07-25</td>\n",
       "      <td>213002</td>\n",
       "      <td>2020-07-25 21:30:02</td>\n",
       "      <td>2020-07-25 01:00:00</td>\n",
       "    </tr>\n",
       "    <tr>\n",
       "      <td>1</td>\n",
       "      <td>2020-07-25</td>\n",
       "      <td>2</td>\n",
       "      <td>12480.7998</td>\n",
       "      <td>1643.0800</td>\n",
       "      <td>3838.8899</td>\n",
       "      <td>1018.4600</td>\n",
       "      <td>14940.5996</td>\n",
       "      <td>7909.5098</td>\n",
       "      <td>3782.8899</td>\n",
       "      <td>1483.2300</td>\n",
       "      <td>47097.4590</td>\n",
       "      <td>N</td>\n",
       "      <td>cdr.00012312.0000000000000000.20200725.213002....</td>\n",
       "      <td>2020-07-25</td>\n",
       "      <td>213002</td>\n",
       "      <td>2020-07-25 21:30:02</td>\n",
       "      <td>2020-07-25 02:00:00</td>\n",
       "    </tr>\n",
       "    <tr>\n",
       "      <td>2</td>\n",
       "      <td>2020-07-25</td>\n",
       "      <td>3</td>\n",
       "      <td>12031.5000</td>\n",
       "      <td>1589.1400</td>\n",
       "      <td>3795.8301</td>\n",
       "      <td>981.7140</td>\n",
       "      <td>14000.2002</td>\n",
       "      <td>7495.5498</td>\n",
       "      <td>3569.3799</td>\n",
       "      <td>1388.6801</td>\n",
       "      <td>44851.9941</td>\n",
       "      <td>N</td>\n",
       "      <td>cdr.00012312.0000000000000000.20200725.213002....</td>\n",
       "      <td>2020-07-25</td>\n",
       "      <td>213002</td>\n",
       "      <td>2020-07-25 21:30:02</td>\n",
       "      <td>2020-07-25 03:00:00</td>\n",
       "    </tr>\n",
       "    <tr>\n",
       "      <td>3</td>\n",
       "      <td>2020-07-25</td>\n",
       "      <td>4</td>\n",
       "      <td>11798.2998</td>\n",
       "      <td>1557.9200</td>\n",
       "      <td>3735.1499</td>\n",
       "      <td>963.5380</td>\n",
       "      <td>13179.0000</td>\n",
       "      <td>6999.5298</td>\n",
       "      <td>3439.4399</td>\n",
       "      <td>1406.2400</td>\n",
       "      <td>43079.1174</td>\n",
       "      <td>N</td>\n",
       "      <td>cdr.00012312.0000000000000000.20200725.213002....</td>\n",
       "      <td>2020-07-25</td>\n",
       "      <td>213002</td>\n",
       "      <td>2020-07-25 21:30:02</td>\n",
       "      <td>2020-07-25 04:00:00</td>\n",
       "    </tr>\n",
       "    <tr>\n",
       "      <td>4</td>\n",
       "      <td>2020-07-25</td>\n",
       "      <td>5</td>\n",
       "      <td>11677.5000</td>\n",
       "      <td>1506.8199</td>\n",
       "      <td>3679.6299</td>\n",
       "      <td>910.7460</td>\n",
       "      <td>12853.5000</td>\n",
       "      <td>6765.1899</td>\n",
       "      <td>3436.1899</td>\n",
       "      <td>1275.6801</td>\n",
       "      <td>42105.2557</td>\n",
       "      <td>N</td>\n",
       "      <td>cdr.00012312.0000000000000000.20200725.213002....</td>\n",
       "      <td>2020-07-25</td>\n",
       "      <td>213002</td>\n",
       "      <td>2020-07-25 21:30:02</td>\n",
       "      <td>2020-07-25 05:00:00</td>\n",
       "    </tr>\n",
       "  </tbody>\n",
       "</table>\n",
       "</div>"
      ],
      "text/plain": [
       "  DeliveryDate HourEnding       Coast       East    FarWest      North  \\\n",
       "0   2020-07-25          1  12911.0996  1788.4301  3915.1299  1063.8101   \n",
       "1   2020-07-25          2  12480.7998  1643.0800  3838.8899  1018.4600   \n",
       "2   2020-07-25          3  12031.5000  1589.1400  3795.8301   981.7140   \n",
       "3   2020-07-25          4  11798.2998  1557.9200  3735.1499   963.5380   \n",
       "4   2020-07-25          5  11677.5000  1506.8199  3679.6299   910.7460   \n",
       "\n",
       "   NorthCentral  SouthCentral   Southern       West  SystemTotal DSTFlag  \\\n",
       "0    15900.7002     8495.8701  4015.9900  1633.4100   49724.4400       N   \n",
       "1    14940.5996     7909.5098  3782.8899  1483.2300   47097.4590       N   \n",
       "2    14000.2002     7495.5498  3569.3799  1388.6801   44851.9941       N   \n",
       "3    13179.0000     6999.5298  3439.4399  1406.2400   43079.1174       N   \n",
       "4    12853.5000     6765.1899  3436.1899  1275.6801   42105.2557       N   \n",
       "\n",
       "                                            FileName ProcessDate ProcessHour  \\\n",
       "0  cdr.00012312.0000000000000000.20200725.213002....  2020-07-25      213002   \n",
       "1  cdr.00012312.0000000000000000.20200725.213002....  2020-07-25      213002   \n",
       "2  cdr.00012312.0000000000000000.20200725.213002....  2020-07-25      213002   \n",
       "3  cdr.00012312.0000000000000000.20200725.213002....  2020-07-25      213002   \n",
       "4  cdr.00012312.0000000000000000.20200725.213002....  2020-07-25      213002   \n",
       "\n",
       "                   DT          DeliveryDT  \n",
       "0 2020-07-25 21:30:02 2020-07-25 01:00:00  \n",
       "1 2020-07-25 21:30:02 2020-07-25 02:00:00  \n",
       "2 2020-07-25 21:30:02 2020-07-25 03:00:00  \n",
       "3 2020-07-25 21:30:02 2020-07-25 04:00:00  \n",
       "4 2020-07-25 21:30:02 2020-07-25 05:00:00  "
      ]
     },
     "execution_count": 188,
     "metadata": {},
     "output_type": "execute_result"
    }
   ],
   "source": [
    "load_fcst.head()"
   ]
  },
  {
   "cell_type": "code",
   "execution_count": 189,
   "metadata": {},
   "outputs": [
    {
     "data": {
      "text/html": [
       "<div>\n",
       "<style scoped>\n",
       "    .dataframe tbody tr th:only-of-type {\n",
       "        vertical-align: middle;\n",
       "    }\n",
       "\n",
       "    .dataframe tbody tr th {\n",
       "        vertical-align: top;\n",
       "    }\n",
       "\n",
       "    .dataframe thead th {\n",
       "        text-align: right;\n",
       "    }\n",
       "</style>\n",
       "<table border=\"1\" class=\"dataframe\">\n",
       "  <thead>\n",
       "    <tr style=\"text-align: right;\">\n",
       "      <th></th>\n",
       "      <th>Coast</th>\n",
       "      <th>East</th>\n",
       "      <th>FarWest</th>\n",
       "      <th>North</th>\n",
       "      <th>NorthCentral</th>\n",
       "      <th>SouthCentral</th>\n",
       "      <th>Southern</th>\n",
       "      <th>West</th>\n",
       "      <th>SystemTotal</th>\n",
       "    </tr>\n",
       "  </thead>\n",
       "  <tbody>\n",
       "    <tr>\n",
       "      <td>count</td>\n",
       "      <td>192.000000</td>\n",
       "      <td>192.000000</td>\n",
       "      <td>192.000000</td>\n",
       "      <td>192.000000</td>\n",
       "      <td>192.000000</td>\n",
       "      <td>192.000000</td>\n",
       "      <td>192.000000</td>\n",
       "      <td>192.000000</td>\n",
       "      <td>192.000000</td>\n",
       "    </tr>\n",
       "    <tr>\n",
       "      <td>mean</td>\n",
       "      <td>14010.461975</td>\n",
       "      <td>1858.842916</td>\n",
       "      <td>3984.097094</td>\n",
       "      <td>1149.205806</td>\n",
       "      <td>16762.620284</td>\n",
       "      <td>8345.451369</td>\n",
       "      <td>3893.957974</td>\n",
       "      <td>1654.156254</td>\n",
       "      <td>51658.793672</td>\n",
       "    </tr>\n",
       "    <tr>\n",
       "      <td>std</td>\n",
       "      <td>1959.017727</td>\n",
       "      <td>311.408995</td>\n",
       "      <td>204.511438</td>\n",
       "      <td>202.891299</td>\n",
       "      <td>3189.946438</td>\n",
       "      <td>1526.269735</td>\n",
       "      <td>621.887156</td>\n",
       "      <td>230.693455</td>\n",
       "      <td>8044.176924</td>\n",
       "    </tr>\n",
       "    <tr>\n",
       "      <td>min</td>\n",
       "      <td>10620.599600</td>\n",
       "      <td>1323.640000</td>\n",
       "      <td>3631.590100</td>\n",
       "      <td>832.943000</td>\n",
       "      <td>11643.099600</td>\n",
       "      <td>5735.259800</td>\n",
       "      <td>2858.889900</td>\n",
       "      <td>1194.310100</td>\n",
       "      <td>38242.183400</td>\n",
       "    </tr>\n",
       "    <tr>\n",
       "      <td>25%</td>\n",
       "      <td>12220.925050</td>\n",
       "      <td>1572.352500</td>\n",
       "      <td>3786.127575</td>\n",
       "      <td>959.908250</td>\n",
       "      <td>13727.974600</td>\n",
       "      <td>6978.800175</td>\n",
       "      <td>3427.520000</td>\n",
       "      <td>1458.907500</td>\n",
       "      <td>44154.169850</td>\n",
       "    </tr>\n",
       "    <tr>\n",
       "      <td>50%</td>\n",
       "      <td>13922.799800</td>\n",
       "      <td>1866.130050</td>\n",
       "      <td>3978.530050</td>\n",
       "      <td>1149.190000</td>\n",
       "      <td>16585.599600</td>\n",
       "      <td>8324.714800</td>\n",
       "      <td>3818.529900</td>\n",
       "      <td>1620.005000</td>\n",
       "      <td>51557.549100</td>\n",
       "    </tr>\n",
       "    <tr>\n",
       "      <td>75%</td>\n",
       "      <td>15730.274900</td>\n",
       "      <td>2151.205075</td>\n",
       "      <td>4171.835100</td>\n",
       "      <td>1305.710000</td>\n",
       "      <td>19518.174800</td>\n",
       "      <td>9615.652800</td>\n",
       "      <td>4226.227675</td>\n",
       "      <td>1853.970000</td>\n",
       "      <td>58427.178125</td>\n",
       "    </tr>\n",
       "    <tr>\n",
       "      <td>max</td>\n",
       "      <td>17737.500000</td>\n",
       "      <td>2398.450000</td>\n",
       "      <td>4358.390100</td>\n",
       "      <td>1557.660000</td>\n",
       "      <td>23073.699200</td>\n",
       "      <td>11318.099600</td>\n",
       "      <td>5332.549800</td>\n",
       "      <td>2096.530000</td>\n",
       "      <td>67583.549200</td>\n",
       "    </tr>\n",
       "  </tbody>\n",
       "</table>\n",
       "</div>"
      ],
      "text/plain": [
       "              Coast         East      FarWest        North  NorthCentral  \\\n",
       "count    192.000000   192.000000   192.000000   192.000000    192.000000   \n",
       "mean   14010.461975  1858.842916  3984.097094  1149.205806  16762.620284   \n",
       "std     1959.017727   311.408995   204.511438   202.891299   3189.946438   \n",
       "min    10620.599600  1323.640000  3631.590100   832.943000  11643.099600   \n",
       "25%    12220.925050  1572.352500  3786.127575   959.908250  13727.974600   \n",
       "50%    13922.799800  1866.130050  3978.530050  1149.190000  16585.599600   \n",
       "75%    15730.274900  2151.205075  4171.835100  1305.710000  19518.174800   \n",
       "max    17737.500000  2398.450000  4358.390100  1557.660000  23073.699200   \n",
       "\n",
       "       SouthCentral     Southern         West   SystemTotal  \n",
       "count    192.000000   192.000000   192.000000    192.000000  \n",
       "mean    8345.451369  3893.957974  1654.156254  51658.793672  \n",
       "std     1526.269735   621.887156   230.693455   8044.176924  \n",
       "min     5735.259800  2858.889900  1194.310100  38242.183400  \n",
       "25%     6978.800175  3427.520000  1458.907500  44154.169850  \n",
       "50%     8324.714800  3818.529900  1620.005000  51557.549100  \n",
       "75%     9615.652800  4226.227675  1853.970000  58427.178125  \n",
       "max    11318.099600  5332.549800  2096.530000  67583.549200  "
      ]
     },
     "execution_count": 189,
     "metadata": {},
     "output_type": "execute_result"
    }
   ],
   "source": [
    "load_fcst.describe()"
   ]
  },
  {
   "cell_type": "code",
   "execution_count": 190,
   "metadata": {},
   "outputs": [
    {
     "data": {
      "text/plain": [
       "DeliveryDate    datetime64[ns]\n",
       "HourEnding              object\n",
       "Coast                  float64\n",
       "East                   float64\n",
       "FarWest                float64\n",
       "North                  float64\n",
       "NorthCentral           float64\n",
       "SouthCentral           float64\n",
       "Southern               float64\n",
       "West                   float64\n",
       "SystemTotal            float64\n",
       "DSTFlag                 object\n",
       "FileName                object\n",
       "ProcessDate     datetime64[ns]\n",
       "ProcessHour             object\n",
       "DT              datetime64[ns]\n",
       "DeliveryDT      datetime64[ns]\n",
       "dtype: object"
      ]
     },
     "execution_count": 190,
     "metadata": {},
     "output_type": "execute_result"
    }
   ],
   "source": [
    "load_fcst.dtypes"
   ]
  },
  {
   "cell_type": "code",
   "execution_count": 191,
   "metadata": {},
   "outputs": [
    {
     "data": {
      "text/plain": [
       "'cdr.00012312.0000000000000000.20200725.213002.LFCWEATHERNP3561.csv'"
      ]
     },
     "execution_count": 191,
     "metadata": {},
     "output_type": "execute_result"
    }
   ],
   "source": [
    "z.namelist()[0]"
   ]
  },
  {
   "cell_type": "markdown",
   "metadata": {},
   "source": [
    "### Convert DF to Long Format (i.e. Unpivot Forecast columns)"
   ]
  },
  {
   "cell_type": "code",
   "execution_count": 208,
   "metadata": {},
   "outputs": [
    {
     "data": {
      "text/plain": [
       "0    DeliveryDate                                  2020-07-25 00:00:00\n",
       "     HourEnding                                                      1\n",
       "     Coast                                                     12911.1\n",
       "     East                                                      1788.43\n",
       "     FarWest                                                   3915.13\n",
       "                                           ...                        \n",
       "191  FileName        cdr.00012312.0000000000000000.20200725.213002....\n",
       "     ProcessDate                                   2020-07-25 00:00:00\n",
       "     ProcessHour                                                213002\n",
       "     DT                                            2020-07-25 21:30:02\n",
       "     DeliveryDT                                    2020-08-02 00:00:00\n",
       "Length: 3264, dtype: object"
      ]
     },
     "execution_count": 208,
     "metadata": {},
     "output_type": "execute_result"
    }
   ],
   "source": [
    "#long_load_fcst = pd.melt(load_fcst, id_vars=['Coast','East','FarWest','North','NorthCentral','SouthCentral','Southern','West','SystemTotal'],var_name='WeatherZone', value_name ='MW')\n",
    "#long_load_fcst = pd.melt(load_fcst, id_vars='DeliveryDT',var_name='WeatherZone', value_name ='MW')\n",
    "testdf = load_fcst.stack()\n",
    "\n",
    "testdf"
   ]
  },
  {
   "cell_type": "code",
   "execution_count": 205,
   "metadata": {},
   "outputs": [
    {
     "data": {
      "text/html": [
       "<div>\n",
       "<style scoped>\n",
       "    .dataframe tbody tr th:only-of-type {\n",
       "        vertical-align: middle;\n",
       "    }\n",
       "\n",
       "    .dataframe tbody tr th {\n",
       "        vertical-align: top;\n",
       "    }\n",
       "\n",
       "    .dataframe thead th {\n",
       "        text-align: right;\n",
       "    }\n",
       "</style>\n",
       "<table border=\"1\" class=\"dataframe\">\n",
       "  <thead>\n",
       "    <tr style=\"text-align: right;\">\n",
       "      <th></th>\n",
       "      <th>DeliveryDT</th>\n",
       "      <th>WeatherZone</th>\n",
       "      <th>MW</th>\n",
       "    </tr>\n",
       "  </thead>\n",
       "  <tbody>\n",
       "    <tr>\n",
       "      <td>0</td>\n",
       "      <td>2020-07-25 01:00:00</td>\n",
       "      <td>DeliveryDate</td>\n",
       "      <td>2020-07-25 00:00:00</td>\n",
       "    </tr>\n",
       "    <tr>\n",
       "      <td>1</td>\n",
       "      <td>2020-07-25 02:00:00</td>\n",
       "      <td>DeliveryDate</td>\n",
       "      <td>2020-07-25 00:00:00</td>\n",
       "    </tr>\n",
       "    <tr>\n",
       "      <td>2</td>\n",
       "      <td>2020-07-25 03:00:00</td>\n",
       "      <td>DeliveryDate</td>\n",
       "      <td>2020-07-25 00:00:00</td>\n",
       "    </tr>\n",
       "    <tr>\n",
       "      <td>3</td>\n",
       "      <td>2020-07-25 04:00:00</td>\n",
       "      <td>DeliveryDate</td>\n",
       "      <td>2020-07-25 00:00:00</td>\n",
       "    </tr>\n",
       "    <tr>\n",
       "      <td>4</td>\n",
       "      <td>2020-07-25 05:00:00</td>\n",
       "      <td>DeliveryDate</td>\n",
       "      <td>2020-07-25 00:00:00</td>\n",
       "    </tr>\n",
       "  </tbody>\n",
       "</table>\n",
       "</div>"
      ],
      "text/plain": [
       "           DeliveryDT   WeatherZone                   MW\n",
       "0 2020-07-25 01:00:00  DeliveryDate  2020-07-25 00:00:00\n",
       "1 2020-07-25 02:00:00  DeliveryDate  2020-07-25 00:00:00\n",
       "2 2020-07-25 03:00:00  DeliveryDate  2020-07-25 00:00:00\n",
       "3 2020-07-25 04:00:00  DeliveryDate  2020-07-25 00:00:00\n",
       "4 2020-07-25 05:00:00  DeliveryDate  2020-07-25 00:00:00"
      ]
     },
     "execution_count": 205,
     "metadata": {},
     "output_type": "execute_result"
    }
   ],
   "source": [
    "long_load_fcst.head()"
   ]
  },
  {
   "cell_type": "markdown",
   "metadata": {},
   "source": [
    "## Plotting Forecasts"
   ]
  },
  {
   "cell_type": "code",
   "execution_count": 192,
   "metadata": {},
   "outputs": [],
   "source": [
    "import plotly.express as px"
   ]
  },
  {
   "cell_type": "code",
   "execution_count": 193,
   "metadata": {},
   "outputs": [
    {
     "data": {
      "application/vnd.plotly.v1+json": {
       "config": {
        "plotlyServerURL": "https://plot.ly"
       },
       "data": [
        {
         "hovertemplate": "DeliveryDT=%{x}<br>SystemTotal=%{y}<extra></extra>",
         "legendgroup": "",
         "line": {
          "color": "#636efa",
          "dash": "solid"
         },
         "mode": "lines",
         "name": "",
         "showlegend": false,
         "type": "scatter",
         "x": [
          "2020-07-25T01:00:00",
          "2020-07-25T02:00:00",
          "2020-07-25T03:00:00",
          "2020-07-25T04:00:00",
          "2020-07-25T05:00:00",
          "2020-07-25T06:00:00",
          "2020-07-25T07:00:00",
          "2020-07-25T08:00:00",
          "2020-07-25T09:00:00",
          "2020-07-25T10:00:00",
          "2020-07-25T11:00:00",
          "2020-07-25T12:00:00",
          "2020-07-25T13:00:00",
          "2020-07-25T14:00:00",
          "2020-07-25T15:00:00",
          "2020-07-25T16:00:00",
          "2020-07-25T17:00:00",
          "2020-07-25T18:00:00",
          "2020-07-25T19:00:00",
          "2020-07-25T20:00:00",
          "2020-07-25T21:00:00",
          "2020-07-25T22:00:00",
          "2020-07-25T23:00:00",
          "2020-07-26T00:00:00",
          "2020-07-26T01:00:00",
          "2020-07-26T02:00:00",
          "2020-07-26T03:00:00",
          "2020-07-26T04:00:00",
          "2020-07-26T05:00:00",
          "2020-07-26T06:00:00",
          "2020-07-26T07:00:00",
          "2020-07-26T08:00:00",
          "2020-07-26T09:00:00",
          "2020-07-26T10:00:00",
          "2020-07-26T11:00:00",
          "2020-07-26T12:00:00",
          "2020-07-26T13:00:00",
          "2020-07-26T14:00:00",
          "2020-07-26T15:00:00",
          "2020-07-26T16:00:00",
          "2020-07-26T17:00:00",
          "2020-07-26T18:00:00",
          "2020-07-26T19:00:00",
          "2020-07-26T20:00:00",
          "2020-07-26T21:00:00",
          "2020-07-26T22:00:00",
          "2020-07-26T23:00:00",
          "2020-07-27T00:00:00",
          "2020-07-27T01:00:00",
          "2020-07-27T02:00:00",
          "2020-07-27T03:00:00",
          "2020-07-27T04:00:00",
          "2020-07-27T05:00:00",
          "2020-07-27T06:00:00",
          "2020-07-27T07:00:00",
          "2020-07-27T08:00:00",
          "2020-07-27T09:00:00",
          "2020-07-27T10:00:00",
          "2020-07-27T11:00:00",
          "2020-07-27T12:00:00",
          "2020-07-27T13:00:00",
          "2020-07-27T14:00:00",
          "2020-07-27T15:00:00",
          "2020-07-27T16:00:00",
          "2020-07-27T17:00:00",
          "2020-07-27T18:00:00",
          "2020-07-27T19:00:00",
          "2020-07-27T20:00:00",
          "2020-07-27T21:00:00",
          "2020-07-27T22:00:00",
          "2020-07-27T23:00:00",
          "2020-07-28T00:00:00",
          "2020-07-28T01:00:00",
          "2020-07-28T02:00:00",
          "2020-07-28T03:00:00",
          "2020-07-28T04:00:00",
          "2020-07-28T05:00:00",
          "2020-07-28T06:00:00",
          "2020-07-28T07:00:00",
          "2020-07-28T08:00:00",
          "2020-07-28T09:00:00",
          "2020-07-28T10:00:00",
          "2020-07-28T11:00:00",
          "2020-07-28T12:00:00",
          "2020-07-28T13:00:00",
          "2020-07-28T14:00:00",
          "2020-07-28T15:00:00",
          "2020-07-28T16:00:00",
          "2020-07-28T17:00:00",
          "2020-07-28T18:00:00",
          "2020-07-28T19:00:00",
          "2020-07-28T20:00:00",
          "2020-07-28T21:00:00",
          "2020-07-28T22:00:00",
          "2020-07-28T23:00:00",
          "2020-07-29T00:00:00",
          "2020-07-29T01:00:00",
          "2020-07-29T02:00:00",
          "2020-07-29T03:00:00",
          "2020-07-29T04:00:00",
          "2020-07-29T05:00:00",
          "2020-07-29T06:00:00",
          "2020-07-29T07:00:00",
          "2020-07-29T08:00:00",
          "2020-07-29T09:00:00",
          "2020-07-29T10:00:00",
          "2020-07-29T11:00:00",
          "2020-07-29T12:00:00",
          "2020-07-29T13:00:00",
          "2020-07-29T14:00:00",
          "2020-07-29T15:00:00",
          "2020-07-29T16:00:00",
          "2020-07-29T17:00:00",
          "2020-07-29T18:00:00",
          "2020-07-29T19:00:00",
          "2020-07-29T20:00:00",
          "2020-07-29T21:00:00",
          "2020-07-29T22:00:00",
          "2020-07-29T23:00:00",
          "2020-07-30T00:00:00",
          "2020-07-30T01:00:00",
          "2020-07-30T02:00:00",
          "2020-07-30T03:00:00",
          "2020-07-30T04:00:00",
          "2020-07-30T05:00:00",
          "2020-07-30T06:00:00",
          "2020-07-30T07:00:00",
          "2020-07-30T08:00:00",
          "2020-07-30T09:00:00",
          "2020-07-30T10:00:00",
          "2020-07-30T11:00:00",
          "2020-07-30T12:00:00",
          "2020-07-30T13:00:00",
          "2020-07-30T14:00:00",
          "2020-07-30T15:00:00",
          "2020-07-30T16:00:00",
          "2020-07-30T17:00:00",
          "2020-07-30T18:00:00",
          "2020-07-30T19:00:00",
          "2020-07-30T20:00:00",
          "2020-07-30T21:00:00",
          "2020-07-30T22:00:00",
          "2020-07-30T23:00:00",
          "2020-07-31T00:00:00",
          "2020-07-31T01:00:00",
          "2020-07-31T02:00:00",
          "2020-07-31T03:00:00",
          "2020-07-31T04:00:00",
          "2020-07-31T05:00:00",
          "2020-07-31T06:00:00",
          "2020-07-31T07:00:00",
          "2020-07-31T08:00:00",
          "2020-07-31T09:00:00",
          "2020-07-31T10:00:00",
          "2020-07-31T11:00:00",
          "2020-07-31T12:00:00",
          "2020-07-31T13:00:00",
          "2020-07-31T14:00:00",
          "2020-07-31T15:00:00",
          "2020-07-31T16:00:00",
          "2020-07-31T17:00:00",
          "2020-07-31T18:00:00",
          "2020-07-31T19:00:00",
          "2020-07-31T20:00:00",
          "2020-07-31T21:00:00",
          "2020-07-31T22:00:00",
          "2020-07-31T23:00:00",
          "2020-08-01T00:00:00",
          "2020-08-01T01:00:00",
          "2020-08-01T02:00:00",
          "2020-08-01T03:00:00",
          "2020-08-01T04:00:00",
          "2020-08-01T05:00:00",
          "2020-08-01T06:00:00",
          "2020-08-01T07:00:00",
          "2020-08-01T08:00:00",
          "2020-08-01T09:00:00",
          "2020-08-01T10:00:00",
          "2020-08-01T11:00:00",
          "2020-08-01T12:00:00",
          "2020-08-01T13:00:00",
          "2020-08-01T14:00:00",
          "2020-08-01T15:00:00",
          "2020-08-01T16:00:00",
          "2020-08-01T17:00:00",
          "2020-08-01T18:00:00",
          "2020-08-01T19:00:00",
          "2020-08-01T20:00:00",
          "2020-08-01T21:00:00",
          "2020-08-01T22:00:00",
          "2020-08-01T23:00:00",
          "2020-08-02T00:00:00"
         ],
         "xaxis": "x",
         "y": [
          49724.44,
          47097.459,
          44851.9941,
          43079.1174,
          42105.2557,
          41713.692,
          41625.255,
          42657.6944,
          44268.2607,
          45543.7798,
          48887.6502,
          50465.7594,
          53285.3598,
          55692.3391,
          56233.4794,
          56448.6303,
          56605.28,
          56719.9506,
          55207.9015,
          53424.2702,
          51927.1199,
          50903.8602,
          48699.4,
          46321.3296,
          44125.0013,
          42226.1998,
          40746.6999,
          39659.3407,
          39144.2912,
          38794.0825,
          38242.1834,
          39440.3018,
          41802.484,
          44552.4792,
          46962.8703,
          49698.0003,
          51947.9406,
          53828.1789,
          55818.7894,
          56827.8503,
          57624.4206,
          57488.91099999999,
          56064.9599,
          54609.58900000001,
          53120.8803,
          52573.0708,
          49779.9496,
          47046.8902,
          44714.3001,
          42651.4837,
          41019.7087,
          40337.1756,
          40059.5951,
          41122.9871,
          42512.6758,
          44163.8927,
          45637.8798,
          47868.7502,
          50315.7798,
          53486.8894,
          56120.6199,
          58732.4896,
          60608.6415,
          61796.2404,
          62402.8601,
          62103.931,
          60398.3994,
          58424.2808,
          56915.8799,
          55918.2895,
          52459.5804,
          49022.1398,
          45884.3642,
          43606.4463,
          41689.4731,
          40735.9405,
          40412.1601,
          41491.6292,
          42965.1834,
          44579.5204,
          46075.310999999994,
          48369.2396,
          51160.6506,
          54015.0091,
          56598.7892,
          59012.8209,
          60483.9421,
          61374.3287,
          62201.3485,
          61815.5004,
          60153.2598,
          58275.5204,
          56982.5811,
          56041.8495,
          52529.9099,
          49125.1997,
          46010.6853,
          43824.5822,
          41835.1052,
          40912.5762,
          40697.8929,
          41880.1261,
          43354.3332,
          44942.5382,
          46674.9829,
          48942.8602,
          51336.6695,
          54030.4204,
          56399.8414,
          59028.4907,
          60703.4802,
          61704.9395,
          62486.7018,
          62506.7499,
          60898.6689,
          59352.0396,
          57890.1899,
          56773.4312,
          53586.9697,
          50259.6905,
          47152.8724,
          44809.4317,
          42931.2534,
          41992.5925,
          41596.5169,
          42389.5345,
          43998.0596,
          45580.4041,
          47424.2109,
          49995.3405,
          52725.5196,
          55877.5693,
          58435.8701,
          61233.8479,
          63489.5996,
          64999.609000000004,
          66099.959,
          65896.8398,
          64257.7895,
          62269.4601,
          60308.1597,
          58918.9108,
          55451.9906,
          51778.4287,
          48181.5402,
          45636.247,
          43631.4517,
          42594.0169,
          42172.9574,
          43002.5883,
          44549.7096,
          46019.5477,
          47721.1506,
          50426.7398,
          53463.439000000006,
          56671.0294,
          59640.9502,
          62830.8692,
          64949.0299,
          66319.0001,
          67583.5492,
          67222.8588,
          65524.4206,
          63120.5305,
          61172.2793,
          59714.0886,
          56024.4812,
          52227.2002,
          48593.9099,
          45410.4468,
          43501.047,
          41990.4886,
          40403.3076,
          40524.9658,
          40475.0629,
          41170.4524,
          43953.08,
          47294.0008,
          51018.2808,
          54480.9793,
          58265.06,
          61265.8906,
          63738.4589,
          64918.5408,
          65572.4602,
          65769.5398,
          64632.9812,
          61996.3391,
          60832.3793,
          59112.9201,
          55708.6811,
          51822.6096
         ],
         "yaxis": "y"
        }
       ],
       "layout": {
        "legend": {
         "tracegroupgap": 0
        },
        "template": {
         "data": {
          "bar": [
           {
            "error_x": {
             "color": "#2a3f5f"
            },
            "error_y": {
             "color": "#2a3f5f"
            },
            "marker": {
             "line": {
              "color": "#E5ECF6",
              "width": 0.5
             }
            },
            "type": "bar"
           }
          ],
          "barpolar": [
           {
            "marker": {
             "line": {
              "color": "#E5ECF6",
              "width": 0.5
             }
            },
            "type": "barpolar"
           }
          ],
          "carpet": [
           {
            "aaxis": {
             "endlinecolor": "#2a3f5f",
             "gridcolor": "white",
             "linecolor": "white",
             "minorgridcolor": "white",
             "startlinecolor": "#2a3f5f"
            },
            "baxis": {
             "endlinecolor": "#2a3f5f",
             "gridcolor": "white",
             "linecolor": "white",
             "minorgridcolor": "white",
             "startlinecolor": "#2a3f5f"
            },
            "type": "carpet"
           }
          ],
          "choropleth": [
           {
            "colorbar": {
             "outlinewidth": 0,
             "ticks": ""
            },
            "type": "choropleth"
           }
          ],
          "contour": [
           {
            "colorbar": {
             "outlinewidth": 0,
             "ticks": ""
            },
            "colorscale": [
             [
              0,
              "#0d0887"
             ],
             [
              0.1111111111111111,
              "#46039f"
             ],
             [
              0.2222222222222222,
              "#7201a8"
             ],
             [
              0.3333333333333333,
              "#9c179e"
             ],
             [
              0.4444444444444444,
              "#bd3786"
             ],
             [
              0.5555555555555556,
              "#d8576b"
             ],
             [
              0.6666666666666666,
              "#ed7953"
             ],
             [
              0.7777777777777778,
              "#fb9f3a"
             ],
             [
              0.8888888888888888,
              "#fdca26"
             ],
             [
              1,
              "#f0f921"
             ]
            ],
            "type": "contour"
           }
          ],
          "contourcarpet": [
           {
            "colorbar": {
             "outlinewidth": 0,
             "ticks": ""
            },
            "type": "contourcarpet"
           }
          ],
          "heatmap": [
           {
            "colorbar": {
             "outlinewidth": 0,
             "ticks": ""
            },
            "colorscale": [
             [
              0,
              "#0d0887"
             ],
             [
              0.1111111111111111,
              "#46039f"
             ],
             [
              0.2222222222222222,
              "#7201a8"
             ],
             [
              0.3333333333333333,
              "#9c179e"
             ],
             [
              0.4444444444444444,
              "#bd3786"
             ],
             [
              0.5555555555555556,
              "#d8576b"
             ],
             [
              0.6666666666666666,
              "#ed7953"
             ],
             [
              0.7777777777777778,
              "#fb9f3a"
             ],
             [
              0.8888888888888888,
              "#fdca26"
             ],
             [
              1,
              "#f0f921"
             ]
            ],
            "type": "heatmap"
           }
          ],
          "heatmapgl": [
           {
            "colorbar": {
             "outlinewidth": 0,
             "ticks": ""
            },
            "colorscale": [
             [
              0,
              "#0d0887"
             ],
             [
              0.1111111111111111,
              "#46039f"
             ],
             [
              0.2222222222222222,
              "#7201a8"
             ],
             [
              0.3333333333333333,
              "#9c179e"
             ],
             [
              0.4444444444444444,
              "#bd3786"
             ],
             [
              0.5555555555555556,
              "#d8576b"
             ],
             [
              0.6666666666666666,
              "#ed7953"
             ],
             [
              0.7777777777777778,
              "#fb9f3a"
             ],
             [
              0.8888888888888888,
              "#fdca26"
             ],
             [
              1,
              "#f0f921"
             ]
            ],
            "type": "heatmapgl"
           }
          ],
          "histogram": [
           {
            "marker": {
             "colorbar": {
              "outlinewidth": 0,
              "ticks": ""
             }
            },
            "type": "histogram"
           }
          ],
          "histogram2d": [
           {
            "colorbar": {
             "outlinewidth": 0,
             "ticks": ""
            },
            "colorscale": [
             [
              0,
              "#0d0887"
             ],
             [
              0.1111111111111111,
              "#46039f"
             ],
             [
              0.2222222222222222,
              "#7201a8"
             ],
             [
              0.3333333333333333,
              "#9c179e"
             ],
             [
              0.4444444444444444,
              "#bd3786"
             ],
             [
              0.5555555555555556,
              "#d8576b"
             ],
             [
              0.6666666666666666,
              "#ed7953"
             ],
             [
              0.7777777777777778,
              "#fb9f3a"
             ],
             [
              0.8888888888888888,
              "#fdca26"
             ],
             [
              1,
              "#f0f921"
             ]
            ],
            "type": "histogram2d"
           }
          ],
          "histogram2dcontour": [
           {
            "colorbar": {
             "outlinewidth": 0,
             "ticks": ""
            },
            "colorscale": [
             [
              0,
              "#0d0887"
             ],
             [
              0.1111111111111111,
              "#46039f"
             ],
             [
              0.2222222222222222,
              "#7201a8"
             ],
             [
              0.3333333333333333,
              "#9c179e"
             ],
             [
              0.4444444444444444,
              "#bd3786"
             ],
             [
              0.5555555555555556,
              "#d8576b"
             ],
             [
              0.6666666666666666,
              "#ed7953"
             ],
             [
              0.7777777777777778,
              "#fb9f3a"
             ],
             [
              0.8888888888888888,
              "#fdca26"
             ],
             [
              1,
              "#f0f921"
             ]
            ],
            "type": "histogram2dcontour"
           }
          ],
          "mesh3d": [
           {
            "colorbar": {
             "outlinewidth": 0,
             "ticks": ""
            },
            "type": "mesh3d"
           }
          ],
          "parcoords": [
           {
            "line": {
             "colorbar": {
              "outlinewidth": 0,
              "ticks": ""
             }
            },
            "type": "parcoords"
           }
          ],
          "pie": [
           {
            "automargin": true,
            "type": "pie"
           }
          ],
          "scatter": [
           {
            "marker": {
             "colorbar": {
              "outlinewidth": 0,
              "ticks": ""
             }
            },
            "type": "scatter"
           }
          ],
          "scatter3d": [
           {
            "line": {
             "colorbar": {
              "outlinewidth": 0,
              "ticks": ""
             }
            },
            "marker": {
             "colorbar": {
              "outlinewidth": 0,
              "ticks": ""
             }
            },
            "type": "scatter3d"
           }
          ],
          "scattercarpet": [
           {
            "marker": {
             "colorbar": {
              "outlinewidth": 0,
              "ticks": ""
             }
            },
            "type": "scattercarpet"
           }
          ],
          "scattergeo": [
           {
            "marker": {
             "colorbar": {
              "outlinewidth": 0,
              "ticks": ""
             }
            },
            "type": "scattergeo"
           }
          ],
          "scattergl": [
           {
            "marker": {
             "colorbar": {
              "outlinewidth": 0,
              "ticks": ""
             }
            },
            "type": "scattergl"
           }
          ],
          "scattermapbox": [
           {
            "marker": {
             "colorbar": {
              "outlinewidth": 0,
              "ticks": ""
             }
            },
            "type": "scattermapbox"
           }
          ],
          "scatterpolar": [
           {
            "marker": {
             "colorbar": {
              "outlinewidth": 0,
              "ticks": ""
             }
            },
            "type": "scatterpolar"
           }
          ],
          "scatterpolargl": [
           {
            "marker": {
             "colorbar": {
              "outlinewidth": 0,
              "ticks": ""
             }
            },
            "type": "scatterpolargl"
           }
          ],
          "scatterternary": [
           {
            "marker": {
             "colorbar": {
              "outlinewidth": 0,
              "ticks": ""
             }
            },
            "type": "scatterternary"
           }
          ],
          "surface": [
           {
            "colorbar": {
             "outlinewidth": 0,
             "ticks": ""
            },
            "colorscale": [
             [
              0,
              "#0d0887"
             ],
             [
              0.1111111111111111,
              "#46039f"
             ],
             [
              0.2222222222222222,
              "#7201a8"
             ],
             [
              0.3333333333333333,
              "#9c179e"
             ],
             [
              0.4444444444444444,
              "#bd3786"
             ],
             [
              0.5555555555555556,
              "#d8576b"
             ],
             [
              0.6666666666666666,
              "#ed7953"
             ],
             [
              0.7777777777777778,
              "#fb9f3a"
             ],
             [
              0.8888888888888888,
              "#fdca26"
             ],
             [
              1,
              "#f0f921"
             ]
            ],
            "type": "surface"
           }
          ],
          "table": [
           {
            "cells": {
             "fill": {
              "color": "#EBF0F8"
             },
             "line": {
              "color": "white"
             }
            },
            "header": {
             "fill": {
              "color": "#C8D4E3"
             },
             "line": {
              "color": "white"
             }
            },
            "type": "table"
           }
          ]
         },
         "layout": {
          "annotationdefaults": {
           "arrowcolor": "#2a3f5f",
           "arrowhead": 0,
           "arrowwidth": 1
          },
          "coloraxis": {
           "colorbar": {
            "outlinewidth": 0,
            "ticks": ""
           }
          },
          "colorscale": {
           "diverging": [
            [
             0,
             "#8e0152"
            ],
            [
             0.1,
             "#c51b7d"
            ],
            [
             0.2,
             "#de77ae"
            ],
            [
             0.3,
             "#f1b6da"
            ],
            [
             0.4,
             "#fde0ef"
            ],
            [
             0.5,
             "#f7f7f7"
            ],
            [
             0.6,
             "#e6f5d0"
            ],
            [
             0.7,
             "#b8e186"
            ],
            [
             0.8,
             "#7fbc41"
            ],
            [
             0.9,
             "#4d9221"
            ],
            [
             1,
             "#276419"
            ]
           ],
           "sequential": [
            [
             0,
             "#0d0887"
            ],
            [
             0.1111111111111111,
             "#46039f"
            ],
            [
             0.2222222222222222,
             "#7201a8"
            ],
            [
             0.3333333333333333,
             "#9c179e"
            ],
            [
             0.4444444444444444,
             "#bd3786"
            ],
            [
             0.5555555555555556,
             "#d8576b"
            ],
            [
             0.6666666666666666,
             "#ed7953"
            ],
            [
             0.7777777777777778,
             "#fb9f3a"
            ],
            [
             0.8888888888888888,
             "#fdca26"
            ],
            [
             1,
             "#f0f921"
            ]
           ],
           "sequentialminus": [
            [
             0,
             "#0d0887"
            ],
            [
             0.1111111111111111,
             "#46039f"
            ],
            [
             0.2222222222222222,
             "#7201a8"
            ],
            [
             0.3333333333333333,
             "#9c179e"
            ],
            [
             0.4444444444444444,
             "#bd3786"
            ],
            [
             0.5555555555555556,
             "#d8576b"
            ],
            [
             0.6666666666666666,
             "#ed7953"
            ],
            [
             0.7777777777777778,
             "#fb9f3a"
            ],
            [
             0.8888888888888888,
             "#fdca26"
            ],
            [
             1,
             "#f0f921"
            ]
           ]
          },
          "colorway": [
           "#636efa",
           "#EF553B",
           "#00cc96",
           "#ab63fa",
           "#FFA15A",
           "#19d3f3",
           "#FF6692",
           "#B6E880",
           "#FF97FF",
           "#FECB52"
          ],
          "font": {
           "color": "#2a3f5f"
          },
          "geo": {
           "bgcolor": "white",
           "lakecolor": "white",
           "landcolor": "#E5ECF6",
           "showlakes": true,
           "showland": true,
           "subunitcolor": "white"
          },
          "hoverlabel": {
           "align": "left"
          },
          "hovermode": "closest",
          "mapbox": {
           "style": "light"
          },
          "paper_bgcolor": "white",
          "plot_bgcolor": "#E5ECF6",
          "polar": {
           "angularaxis": {
            "gridcolor": "white",
            "linecolor": "white",
            "ticks": ""
           },
           "bgcolor": "#E5ECF6",
           "radialaxis": {
            "gridcolor": "white",
            "linecolor": "white",
            "ticks": ""
           }
          },
          "scene": {
           "xaxis": {
            "backgroundcolor": "#E5ECF6",
            "gridcolor": "white",
            "gridwidth": 2,
            "linecolor": "white",
            "showbackground": true,
            "ticks": "",
            "zerolinecolor": "white"
           },
           "yaxis": {
            "backgroundcolor": "#E5ECF6",
            "gridcolor": "white",
            "gridwidth": 2,
            "linecolor": "white",
            "showbackground": true,
            "ticks": "",
            "zerolinecolor": "white"
           },
           "zaxis": {
            "backgroundcolor": "#E5ECF6",
            "gridcolor": "white",
            "gridwidth": 2,
            "linecolor": "white",
            "showbackground": true,
            "ticks": "",
            "zerolinecolor": "white"
           }
          },
          "shapedefaults": {
           "line": {
            "color": "#2a3f5f"
           }
          },
          "ternary": {
           "aaxis": {
            "gridcolor": "white",
            "linecolor": "white",
            "ticks": ""
           },
           "baxis": {
            "gridcolor": "white",
            "linecolor": "white",
            "ticks": ""
           },
           "bgcolor": "#E5ECF6",
           "caxis": {
            "gridcolor": "white",
            "linecolor": "white",
            "ticks": ""
           }
          },
          "title": {
           "x": 0.05
          },
          "xaxis": {
           "automargin": true,
           "gridcolor": "white",
           "linecolor": "white",
           "ticks": "",
           "title": {
            "standoff": 15
           },
           "zerolinecolor": "white",
           "zerolinewidth": 2
          },
          "yaxis": {
           "automargin": true,
           "gridcolor": "white",
           "linecolor": "white",
           "ticks": "",
           "title": {
            "standoff": 15
           },
           "zerolinecolor": "white",
           "zerolinewidth": 2
          }
         }
        },
        "title": {
         "text": "System Level Forecasts"
        },
        "xaxis": {
         "anchor": "y",
         "domain": [
          0,
          1
         ],
         "title": {
          "text": "DeliveryDT"
         }
        },
        "yaxis": {
         "anchor": "x",
         "domain": [
          0,
          1
         ],
         "title": {
          "text": "SystemTotal"
         }
        }
       }
      },
      "text/html": [
       "<div>\n",
       "        \n",
       "        \n",
       "            <div id=\"cf4a5fa0-c8eb-4608-86da-01c15b65443c\" class=\"plotly-graph-div\" style=\"height:525px; width:100%;\"></div>\n",
       "            <script type=\"text/javascript\">\n",
       "                require([\"plotly\"], function(Plotly) {\n",
       "                    window.PLOTLYENV=window.PLOTLYENV || {};\n",
       "                    \n",
       "                if (document.getElementById(\"cf4a5fa0-c8eb-4608-86da-01c15b65443c\")) {\n",
       "                    Plotly.newPlot(\n",
       "                        'cf4a5fa0-c8eb-4608-86da-01c15b65443c',\n",
       "                        [{\"hovertemplate\": \"DeliveryDT=%{x}<br>SystemTotal=%{y}<extra></extra>\", \"legendgroup\": \"\", \"line\": {\"color\": \"#636efa\", \"dash\": \"solid\"}, \"mode\": \"lines\", \"name\": \"\", \"showlegend\": false, \"type\": \"scatter\", \"x\": [\"2020-07-25T01:00:00\", \"2020-07-25T02:00:00\", \"2020-07-25T03:00:00\", \"2020-07-25T04:00:00\", \"2020-07-25T05:00:00\", \"2020-07-25T06:00:00\", \"2020-07-25T07:00:00\", \"2020-07-25T08:00:00\", \"2020-07-25T09:00:00\", \"2020-07-25T10:00:00\", \"2020-07-25T11:00:00\", \"2020-07-25T12:00:00\", \"2020-07-25T13:00:00\", \"2020-07-25T14:00:00\", \"2020-07-25T15:00:00\", \"2020-07-25T16:00:00\", \"2020-07-25T17:00:00\", \"2020-07-25T18:00:00\", \"2020-07-25T19:00:00\", \"2020-07-25T20:00:00\", \"2020-07-25T21:00:00\", \"2020-07-25T22:00:00\", \"2020-07-25T23:00:00\", \"2020-07-26T00:00:00\", \"2020-07-26T01:00:00\", \"2020-07-26T02:00:00\", \"2020-07-26T03:00:00\", \"2020-07-26T04:00:00\", \"2020-07-26T05:00:00\", \"2020-07-26T06:00:00\", \"2020-07-26T07:00:00\", \"2020-07-26T08:00:00\", \"2020-07-26T09:00:00\", \"2020-07-26T10:00:00\", \"2020-07-26T11:00:00\", \"2020-07-26T12:00:00\", \"2020-07-26T13:00:00\", \"2020-07-26T14:00:00\", \"2020-07-26T15:00:00\", \"2020-07-26T16:00:00\", \"2020-07-26T17:00:00\", \"2020-07-26T18:00:00\", \"2020-07-26T19:00:00\", \"2020-07-26T20:00:00\", \"2020-07-26T21:00:00\", \"2020-07-26T22:00:00\", \"2020-07-26T23:00:00\", \"2020-07-27T00:00:00\", \"2020-07-27T01:00:00\", \"2020-07-27T02:00:00\", \"2020-07-27T03:00:00\", \"2020-07-27T04:00:00\", \"2020-07-27T05:00:00\", \"2020-07-27T06:00:00\", \"2020-07-27T07:00:00\", \"2020-07-27T08:00:00\", \"2020-07-27T09:00:00\", \"2020-07-27T10:00:00\", \"2020-07-27T11:00:00\", \"2020-07-27T12:00:00\", \"2020-07-27T13:00:00\", \"2020-07-27T14:00:00\", \"2020-07-27T15:00:00\", \"2020-07-27T16:00:00\", \"2020-07-27T17:00:00\", \"2020-07-27T18:00:00\", \"2020-07-27T19:00:00\", \"2020-07-27T20:00:00\", \"2020-07-27T21:00:00\", \"2020-07-27T22:00:00\", \"2020-07-27T23:00:00\", \"2020-07-28T00:00:00\", \"2020-07-28T01:00:00\", \"2020-07-28T02:00:00\", \"2020-07-28T03:00:00\", \"2020-07-28T04:00:00\", \"2020-07-28T05:00:00\", \"2020-07-28T06:00:00\", \"2020-07-28T07:00:00\", \"2020-07-28T08:00:00\", \"2020-07-28T09:00:00\", \"2020-07-28T10:00:00\", \"2020-07-28T11:00:00\", \"2020-07-28T12:00:00\", \"2020-07-28T13:00:00\", \"2020-07-28T14:00:00\", \"2020-07-28T15:00:00\", \"2020-07-28T16:00:00\", \"2020-07-28T17:00:00\", \"2020-07-28T18:00:00\", \"2020-07-28T19:00:00\", \"2020-07-28T20:00:00\", \"2020-07-28T21:00:00\", \"2020-07-28T22:00:00\", \"2020-07-28T23:00:00\", \"2020-07-29T00:00:00\", \"2020-07-29T01:00:00\", \"2020-07-29T02:00:00\", \"2020-07-29T03:00:00\", \"2020-07-29T04:00:00\", \"2020-07-29T05:00:00\", \"2020-07-29T06:00:00\", \"2020-07-29T07:00:00\", \"2020-07-29T08:00:00\", \"2020-07-29T09:00:00\", \"2020-07-29T10:00:00\", \"2020-07-29T11:00:00\", \"2020-07-29T12:00:00\", \"2020-07-29T13:00:00\", \"2020-07-29T14:00:00\", \"2020-07-29T15:00:00\", \"2020-07-29T16:00:00\", \"2020-07-29T17:00:00\", \"2020-07-29T18:00:00\", \"2020-07-29T19:00:00\", \"2020-07-29T20:00:00\", \"2020-07-29T21:00:00\", \"2020-07-29T22:00:00\", \"2020-07-29T23:00:00\", \"2020-07-30T00:00:00\", \"2020-07-30T01:00:00\", \"2020-07-30T02:00:00\", \"2020-07-30T03:00:00\", \"2020-07-30T04:00:00\", \"2020-07-30T05:00:00\", \"2020-07-30T06:00:00\", \"2020-07-30T07:00:00\", \"2020-07-30T08:00:00\", \"2020-07-30T09:00:00\", \"2020-07-30T10:00:00\", \"2020-07-30T11:00:00\", \"2020-07-30T12:00:00\", \"2020-07-30T13:00:00\", \"2020-07-30T14:00:00\", \"2020-07-30T15:00:00\", \"2020-07-30T16:00:00\", \"2020-07-30T17:00:00\", \"2020-07-30T18:00:00\", \"2020-07-30T19:00:00\", \"2020-07-30T20:00:00\", \"2020-07-30T21:00:00\", \"2020-07-30T22:00:00\", \"2020-07-30T23:00:00\", \"2020-07-31T00:00:00\", \"2020-07-31T01:00:00\", \"2020-07-31T02:00:00\", \"2020-07-31T03:00:00\", \"2020-07-31T04:00:00\", \"2020-07-31T05:00:00\", \"2020-07-31T06:00:00\", \"2020-07-31T07:00:00\", \"2020-07-31T08:00:00\", \"2020-07-31T09:00:00\", \"2020-07-31T10:00:00\", \"2020-07-31T11:00:00\", \"2020-07-31T12:00:00\", \"2020-07-31T13:00:00\", \"2020-07-31T14:00:00\", \"2020-07-31T15:00:00\", \"2020-07-31T16:00:00\", \"2020-07-31T17:00:00\", \"2020-07-31T18:00:00\", \"2020-07-31T19:00:00\", \"2020-07-31T20:00:00\", \"2020-07-31T21:00:00\", \"2020-07-31T22:00:00\", \"2020-07-31T23:00:00\", \"2020-08-01T00:00:00\", \"2020-08-01T01:00:00\", \"2020-08-01T02:00:00\", \"2020-08-01T03:00:00\", \"2020-08-01T04:00:00\", \"2020-08-01T05:00:00\", \"2020-08-01T06:00:00\", \"2020-08-01T07:00:00\", \"2020-08-01T08:00:00\", \"2020-08-01T09:00:00\", \"2020-08-01T10:00:00\", \"2020-08-01T11:00:00\", \"2020-08-01T12:00:00\", \"2020-08-01T13:00:00\", \"2020-08-01T14:00:00\", \"2020-08-01T15:00:00\", \"2020-08-01T16:00:00\", \"2020-08-01T17:00:00\", \"2020-08-01T18:00:00\", \"2020-08-01T19:00:00\", \"2020-08-01T20:00:00\", \"2020-08-01T21:00:00\", \"2020-08-01T22:00:00\", \"2020-08-01T23:00:00\", \"2020-08-02T00:00:00\"], \"xaxis\": \"x\", \"y\": [49724.44, 47097.459, 44851.9941, 43079.1174, 42105.2557, 41713.692, 41625.255, 42657.6944, 44268.2607, 45543.7798, 48887.6502, 50465.7594, 53285.3598, 55692.3391, 56233.4794, 56448.6303, 56605.28, 56719.9506, 55207.9015, 53424.2702, 51927.1199, 50903.8602, 48699.4, 46321.3296, 44125.0013, 42226.1998, 40746.6999, 39659.3407, 39144.2912, 38794.0825, 38242.1834, 39440.3018, 41802.484, 44552.4792, 46962.8703, 49698.0003, 51947.9406, 53828.1789, 55818.7894, 56827.8503, 57624.4206, 57488.91099999999, 56064.9599, 54609.58900000001, 53120.8803, 52573.0708, 49779.9496, 47046.8902, 44714.3001, 42651.4837, 41019.7087, 40337.1756, 40059.5951, 41122.9871, 42512.6758, 44163.8927, 45637.8798, 47868.7502, 50315.7798, 53486.8894, 56120.6199, 58732.4896, 60608.6415, 61796.2404, 62402.8601, 62103.931, 60398.3994, 58424.2808, 56915.8799, 55918.2895, 52459.5804, 49022.1398, 45884.3642, 43606.4463, 41689.4731, 40735.9405, 40412.1601, 41491.6292, 42965.1834, 44579.5204, 46075.310999999994, 48369.2396, 51160.6506, 54015.0091, 56598.7892, 59012.8209, 60483.9421, 61374.3287, 62201.3485, 61815.5004, 60153.2598, 58275.5204, 56982.5811, 56041.8495, 52529.9099, 49125.1997, 46010.6853, 43824.5822, 41835.1052, 40912.5762, 40697.8929, 41880.1261, 43354.3332, 44942.5382, 46674.9829, 48942.8602, 51336.6695, 54030.4204, 56399.8414, 59028.4907, 60703.4802, 61704.9395, 62486.7018, 62506.7499, 60898.6689, 59352.0396, 57890.1899, 56773.4312, 53586.9697, 50259.6905, 47152.8724, 44809.4317, 42931.2534, 41992.5925, 41596.5169, 42389.5345, 43998.0596, 45580.4041, 47424.2109, 49995.3405, 52725.5196, 55877.5693, 58435.8701, 61233.8479, 63489.5996, 64999.609000000004, 66099.959, 65896.8398, 64257.7895, 62269.4601, 60308.1597, 58918.9108, 55451.9906, 51778.4287, 48181.5402, 45636.247, 43631.4517, 42594.0169, 42172.9574, 43002.5883, 44549.7096, 46019.5477, 47721.1506, 50426.7398, 53463.439000000006, 56671.0294, 59640.9502, 62830.8692, 64949.0299, 66319.0001, 67583.5492, 67222.8588, 65524.4206, 63120.5305, 61172.2793, 59714.0886, 56024.4812, 52227.2002, 48593.9099, 45410.4468, 43501.047, 41990.4886, 40403.3076, 40524.9658, 40475.0629, 41170.4524, 43953.08, 47294.0008, 51018.2808, 54480.9793, 58265.06, 61265.8906, 63738.4589, 64918.5408, 65572.4602, 65769.5398, 64632.9812, 61996.3391, 60832.3793, 59112.9201, 55708.6811, 51822.6096], \"yaxis\": \"y\"}],\n",
       "                        {\"legend\": {\"tracegroupgap\": 0}, \"template\": {\"data\": {\"bar\": [{\"error_x\": {\"color\": \"#2a3f5f\"}, \"error_y\": {\"color\": \"#2a3f5f\"}, \"marker\": {\"line\": {\"color\": \"#E5ECF6\", \"width\": 0.5}}, \"type\": \"bar\"}], \"barpolar\": [{\"marker\": {\"line\": {\"color\": \"#E5ECF6\", \"width\": 0.5}}, \"type\": \"barpolar\"}], \"carpet\": [{\"aaxis\": {\"endlinecolor\": \"#2a3f5f\", \"gridcolor\": \"white\", \"linecolor\": \"white\", \"minorgridcolor\": \"white\", \"startlinecolor\": \"#2a3f5f\"}, \"baxis\": {\"endlinecolor\": \"#2a3f5f\", \"gridcolor\": \"white\", \"linecolor\": \"white\", \"minorgridcolor\": \"white\", \"startlinecolor\": \"#2a3f5f\"}, \"type\": \"carpet\"}], \"choropleth\": [{\"colorbar\": {\"outlinewidth\": 0, \"ticks\": \"\"}, \"type\": \"choropleth\"}], \"contour\": [{\"colorbar\": {\"outlinewidth\": 0, \"ticks\": \"\"}, \"colorscale\": [[0.0, \"#0d0887\"], [0.1111111111111111, \"#46039f\"], [0.2222222222222222, \"#7201a8\"], [0.3333333333333333, \"#9c179e\"], [0.4444444444444444, \"#bd3786\"], [0.5555555555555556, \"#d8576b\"], [0.6666666666666666, \"#ed7953\"], [0.7777777777777778, \"#fb9f3a\"], [0.8888888888888888, \"#fdca26\"], [1.0, \"#f0f921\"]], \"type\": \"contour\"}], \"contourcarpet\": [{\"colorbar\": {\"outlinewidth\": 0, \"ticks\": \"\"}, \"type\": \"contourcarpet\"}], \"heatmap\": [{\"colorbar\": {\"outlinewidth\": 0, \"ticks\": \"\"}, \"colorscale\": [[0.0, \"#0d0887\"], [0.1111111111111111, \"#46039f\"], [0.2222222222222222, \"#7201a8\"], [0.3333333333333333, \"#9c179e\"], [0.4444444444444444, \"#bd3786\"], [0.5555555555555556, \"#d8576b\"], [0.6666666666666666, \"#ed7953\"], [0.7777777777777778, \"#fb9f3a\"], [0.8888888888888888, \"#fdca26\"], [1.0, \"#f0f921\"]], \"type\": \"heatmap\"}], \"heatmapgl\": [{\"colorbar\": {\"outlinewidth\": 0, \"ticks\": \"\"}, \"colorscale\": [[0.0, \"#0d0887\"], [0.1111111111111111, \"#46039f\"], [0.2222222222222222, \"#7201a8\"], [0.3333333333333333, \"#9c179e\"], [0.4444444444444444, \"#bd3786\"], [0.5555555555555556, \"#d8576b\"], [0.6666666666666666, \"#ed7953\"], [0.7777777777777778, \"#fb9f3a\"], [0.8888888888888888, \"#fdca26\"], [1.0, \"#f0f921\"]], \"type\": \"heatmapgl\"}], \"histogram\": [{\"marker\": {\"colorbar\": {\"outlinewidth\": 0, \"ticks\": \"\"}}, \"type\": \"histogram\"}], \"histogram2d\": [{\"colorbar\": {\"outlinewidth\": 0, \"ticks\": \"\"}, \"colorscale\": [[0.0, \"#0d0887\"], [0.1111111111111111, \"#46039f\"], [0.2222222222222222, \"#7201a8\"], [0.3333333333333333, \"#9c179e\"], [0.4444444444444444, \"#bd3786\"], [0.5555555555555556, \"#d8576b\"], [0.6666666666666666, \"#ed7953\"], [0.7777777777777778, \"#fb9f3a\"], [0.8888888888888888, \"#fdca26\"], [1.0, \"#f0f921\"]], \"type\": \"histogram2d\"}], \"histogram2dcontour\": [{\"colorbar\": {\"outlinewidth\": 0, \"ticks\": \"\"}, \"colorscale\": [[0.0, \"#0d0887\"], [0.1111111111111111, \"#46039f\"], [0.2222222222222222, \"#7201a8\"], [0.3333333333333333, \"#9c179e\"], [0.4444444444444444, \"#bd3786\"], [0.5555555555555556, \"#d8576b\"], [0.6666666666666666, \"#ed7953\"], [0.7777777777777778, \"#fb9f3a\"], [0.8888888888888888, \"#fdca26\"], [1.0, \"#f0f921\"]], \"type\": \"histogram2dcontour\"}], \"mesh3d\": [{\"colorbar\": {\"outlinewidth\": 0, \"ticks\": \"\"}, \"type\": \"mesh3d\"}], \"parcoords\": [{\"line\": {\"colorbar\": {\"outlinewidth\": 0, \"ticks\": \"\"}}, \"type\": \"parcoords\"}], \"pie\": [{\"automargin\": true, \"type\": \"pie\"}], \"scatter\": [{\"marker\": {\"colorbar\": {\"outlinewidth\": 0, \"ticks\": \"\"}}, \"type\": \"scatter\"}], \"scatter3d\": [{\"line\": {\"colorbar\": {\"outlinewidth\": 0, \"ticks\": \"\"}}, \"marker\": {\"colorbar\": {\"outlinewidth\": 0, \"ticks\": \"\"}}, \"type\": \"scatter3d\"}], \"scattercarpet\": [{\"marker\": {\"colorbar\": {\"outlinewidth\": 0, \"ticks\": \"\"}}, \"type\": \"scattercarpet\"}], \"scattergeo\": [{\"marker\": {\"colorbar\": {\"outlinewidth\": 0, \"ticks\": \"\"}}, \"type\": \"scattergeo\"}], \"scattergl\": [{\"marker\": {\"colorbar\": {\"outlinewidth\": 0, \"ticks\": \"\"}}, \"type\": \"scattergl\"}], \"scattermapbox\": [{\"marker\": {\"colorbar\": {\"outlinewidth\": 0, \"ticks\": \"\"}}, \"type\": \"scattermapbox\"}], \"scatterpolar\": [{\"marker\": {\"colorbar\": {\"outlinewidth\": 0, \"ticks\": \"\"}}, \"type\": \"scatterpolar\"}], \"scatterpolargl\": [{\"marker\": {\"colorbar\": {\"outlinewidth\": 0, \"ticks\": \"\"}}, \"type\": \"scatterpolargl\"}], \"scatterternary\": [{\"marker\": {\"colorbar\": {\"outlinewidth\": 0, \"ticks\": \"\"}}, \"type\": \"scatterternary\"}], \"surface\": [{\"colorbar\": {\"outlinewidth\": 0, \"ticks\": \"\"}, \"colorscale\": [[0.0, \"#0d0887\"], [0.1111111111111111, \"#46039f\"], [0.2222222222222222, \"#7201a8\"], [0.3333333333333333, \"#9c179e\"], [0.4444444444444444, \"#bd3786\"], [0.5555555555555556, \"#d8576b\"], [0.6666666666666666, \"#ed7953\"], [0.7777777777777778, \"#fb9f3a\"], [0.8888888888888888, \"#fdca26\"], [1.0, \"#f0f921\"]], \"type\": \"surface\"}], \"table\": [{\"cells\": {\"fill\": {\"color\": \"#EBF0F8\"}, \"line\": {\"color\": \"white\"}}, \"header\": {\"fill\": {\"color\": \"#C8D4E3\"}, \"line\": {\"color\": \"white\"}}, \"type\": \"table\"}]}, \"layout\": {\"annotationdefaults\": {\"arrowcolor\": \"#2a3f5f\", \"arrowhead\": 0, \"arrowwidth\": 1}, \"coloraxis\": {\"colorbar\": {\"outlinewidth\": 0, \"ticks\": \"\"}}, \"colorscale\": {\"diverging\": [[0, \"#8e0152\"], [0.1, \"#c51b7d\"], [0.2, \"#de77ae\"], [0.3, \"#f1b6da\"], [0.4, \"#fde0ef\"], [0.5, \"#f7f7f7\"], [0.6, \"#e6f5d0\"], [0.7, \"#b8e186\"], [0.8, \"#7fbc41\"], [0.9, \"#4d9221\"], [1, \"#276419\"]], \"sequential\": [[0.0, \"#0d0887\"], [0.1111111111111111, \"#46039f\"], [0.2222222222222222, \"#7201a8\"], [0.3333333333333333, \"#9c179e\"], [0.4444444444444444, \"#bd3786\"], [0.5555555555555556, \"#d8576b\"], [0.6666666666666666, \"#ed7953\"], [0.7777777777777778, \"#fb9f3a\"], [0.8888888888888888, \"#fdca26\"], [1.0, \"#f0f921\"]], \"sequentialminus\": [[0.0, \"#0d0887\"], [0.1111111111111111, \"#46039f\"], [0.2222222222222222, \"#7201a8\"], [0.3333333333333333, \"#9c179e\"], [0.4444444444444444, \"#bd3786\"], [0.5555555555555556, \"#d8576b\"], [0.6666666666666666, \"#ed7953\"], [0.7777777777777778, \"#fb9f3a\"], [0.8888888888888888, \"#fdca26\"], [1.0, \"#f0f921\"]]}, \"colorway\": [\"#636efa\", \"#EF553B\", \"#00cc96\", \"#ab63fa\", \"#FFA15A\", \"#19d3f3\", \"#FF6692\", \"#B6E880\", \"#FF97FF\", \"#FECB52\"], \"font\": {\"color\": \"#2a3f5f\"}, \"geo\": {\"bgcolor\": \"white\", \"lakecolor\": \"white\", \"landcolor\": \"#E5ECF6\", \"showlakes\": true, \"showland\": true, \"subunitcolor\": \"white\"}, \"hoverlabel\": {\"align\": \"left\"}, \"hovermode\": \"closest\", \"mapbox\": {\"style\": \"light\"}, \"paper_bgcolor\": \"white\", \"plot_bgcolor\": \"#E5ECF6\", \"polar\": {\"angularaxis\": {\"gridcolor\": \"white\", \"linecolor\": \"white\", \"ticks\": \"\"}, \"bgcolor\": \"#E5ECF6\", \"radialaxis\": {\"gridcolor\": \"white\", \"linecolor\": \"white\", \"ticks\": \"\"}}, \"scene\": {\"xaxis\": {\"backgroundcolor\": \"#E5ECF6\", \"gridcolor\": \"white\", \"gridwidth\": 2, \"linecolor\": \"white\", \"showbackground\": true, \"ticks\": \"\", \"zerolinecolor\": \"white\"}, \"yaxis\": {\"backgroundcolor\": \"#E5ECF6\", \"gridcolor\": \"white\", \"gridwidth\": 2, \"linecolor\": \"white\", \"showbackground\": true, \"ticks\": \"\", \"zerolinecolor\": \"white\"}, \"zaxis\": {\"backgroundcolor\": \"#E5ECF6\", \"gridcolor\": \"white\", \"gridwidth\": 2, \"linecolor\": \"white\", \"showbackground\": true, \"ticks\": \"\", \"zerolinecolor\": \"white\"}}, \"shapedefaults\": {\"line\": {\"color\": \"#2a3f5f\"}}, \"ternary\": {\"aaxis\": {\"gridcolor\": \"white\", \"linecolor\": \"white\", \"ticks\": \"\"}, \"baxis\": {\"gridcolor\": \"white\", \"linecolor\": \"white\", \"ticks\": \"\"}, \"bgcolor\": \"#E5ECF6\", \"caxis\": {\"gridcolor\": \"white\", \"linecolor\": \"white\", \"ticks\": \"\"}}, \"title\": {\"x\": 0.05}, \"xaxis\": {\"automargin\": true, \"gridcolor\": \"white\", \"linecolor\": \"white\", \"ticks\": \"\", \"title\": {\"standoff\": 15}, \"zerolinecolor\": \"white\", \"zerolinewidth\": 2}, \"yaxis\": {\"automargin\": true, \"gridcolor\": \"white\", \"linecolor\": \"white\", \"ticks\": \"\", \"title\": {\"standoff\": 15}, \"zerolinecolor\": \"white\", \"zerolinewidth\": 2}}}, \"title\": {\"text\": \"System Level Forecasts\"}, \"xaxis\": {\"anchor\": \"y\", \"domain\": [0.0, 1.0], \"title\": {\"text\": \"DeliveryDT\"}}, \"yaxis\": {\"anchor\": \"x\", \"domain\": [0.0, 1.0], \"title\": {\"text\": \"SystemTotal\"}}},\n",
       "                        {\"responsive\": true}\n",
       "                    ).then(function(){\n",
       "                            \n",
       "var gd = document.getElementById('cf4a5fa0-c8eb-4608-86da-01c15b65443c');\n",
       "var x = new MutationObserver(function (mutations, observer) {{\n",
       "        var display = window.getComputedStyle(gd).display;\n",
       "        if (!display || display === 'none') {{\n",
       "            console.log([gd, 'removed!']);\n",
       "            Plotly.purge(gd);\n",
       "            observer.disconnect();\n",
       "        }}\n",
       "}});\n",
       "\n",
       "// Listen for the removal of the full notebook cells\n",
       "var notebookContainer = gd.closest('#notebook-container');\n",
       "if (notebookContainer) {{\n",
       "    x.observe(notebookContainer, {childList: true});\n",
       "}}\n",
       "\n",
       "// Listen for the clearing of the current output cell\n",
       "var outputEl = gd.closest('.output');\n",
       "if (outputEl) {{\n",
       "    x.observe(outputEl, {childList: true});\n",
       "}}\n",
       "\n",
       "                        })\n",
       "                };\n",
       "                });\n",
       "            </script>\n",
       "        </div>"
      ]
     },
     "metadata": {},
     "output_type": "display_data"
    }
   ],
   "source": [
    "fig = px.line(load_fcst, x=\"DeliveryDT\", y=\"SystemTotal\", title='System Level Forecasts')\n",
    "fig.show()"
   ]
  },
  {
   "cell_type": "code",
   "execution_count": 196,
   "metadata": {},
   "outputs": [],
   "source": [
    "fcst_list = [load_fcst.Coast, load_fcst.East, load_fcst.FarWest, load_fcst.North, load_fcst.NorthCentral, load_fcst.SouthCentral, load_fcst.Southern, load_fcst.West]"
   ]
  },
  {
   "cell_type": "code",
   "execution_count": 201,
   "metadata": {},
   "outputs": [
    {
     "data": {
      "application/vnd.plotly.v1+json": {
       "config": {
        "plotlyServerURL": "https://plot.ly"
       },
       "data": [
        {
         "alignmentgroup": "True",
         "hovertemplate": "DeliveryDT=%{x}<br>Coast=%{y}<extra></extra>",
         "legendgroup": "",
         "marker": {
          "color": "#636efa"
         },
         "name": "",
         "offsetgroup": "",
         "orientation": "v",
         "showlegend": false,
         "textposition": "auto",
         "type": "bar",
         "x": [
          "2020-07-25T01:00:00",
          "2020-07-25T02:00:00",
          "2020-07-25T03:00:00",
          "2020-07-25T04:00:00",
          "2020-07-25T05:00:00",
          "2020-07-25T06:00:00",
          "2020-07-25T07:00:00",
          "2020-07-25T08:00:00",
          "2020-07-25T09:00:00",
          "2020-07-25T10:00:00",
          "2020-07-25T11:00:00",
          "2020-07-25T12:00:00",
          "2020-07-25T13:00:00",
          "2020-07-25T14:00:00",
          "2020-07-25T15:00:00",
          "2020-07-25T16:00:00",
          "2020-07-25T17:00:00",
          "2020-07-25T18:00:00",
          "2020-07-25T19:00:00",
          "2020-07-25T20:00:00",
          "2020-07-25T21:00:00",
          "2020-07-25T22:00:00",
          "2020-07-25T23:00:00",
          "2020-07-26T00:00:00",
          "2020-07-26T01:00:00",
          "2020-07-26T02:00:00",
          "2020-07-26T03:00:00",
          "2020-07-26T04:00:00",
          "2020-07-26T05:00:00",
          "2020-07-26T06:00:00",
          "2020-07-26T07:00:00",
          "2020-07-26T08:00:00",
          "2020-07-26T09:00:00",
          "2020-07-26T10:00:00",
          "2020-07-26T11:00:00",
          "2020-07-26T12:00:00",
          "2020-07-26T13:00:00",
          "2020-07-26T14:00:00",
          "2020-07-26T15:00:00",
          "2020-07-26T16:00:00",
          "2020-07-26T17:00:00",
          "2020-07-26T18:00:00",
          "2020-07-26T19:00:00",
          "2020-07-26T20:00:00",
          "2020-07-26T21:00:00",
          "2020-07-26T22:00:00",
          "2020-07-26T23:00:00",
          "2020-07-27T00:00:00",
          "2020-07-27T01:00:00",
          "2020-07-27T02:00:00",
          "2020-07-27T03:00:00",
          "2020-07-27T04:00:00",
          "2020-07-27T05:00:00",
          "2020-07-27T06:00:00",
          "2020-07-27T07:00:00",
          "2020-07-27T08:00:00",
          "2020-07-27T09:00:00",
          "2020-07-27T10:00:00",
          "2020-07-27T11:00:00",
          "2020-07-27T12:00:00",
          "2020-07-27T13:00:00",
          "2020-07-27T14:00:00",
          "2020-07-27T15:00:00",
          "2020-07-27T16:00:00",
          "2020-07-27T17:00:00",
          "2020-07-27T18:00:00",
          "2020-07-27T19:00:00",
          "2020-07-27T20:00:00",
          "2020-07-27T21:00:00",
          "2020-07-27T22:00:00",
          "2020-07-27T23:00:00",
          "2020-07-28T00:00:00",
          "2020-07-28T01:00:00",
          "2020-07-28T02:00:00",
          "2020-07-28T03:00:00",
          "2020-07-28T04:00:00",
          "2020-07-28T05:00:00",
          "2020-07-28T06:00:00",
          "2020-07-28T07:00:00",
          "2020-07-28T08:00:00",
          "2020-07-28T09:00:00",
          "2020-07-28T10:00:00",
          "2020-07-28T11:00:00",
          "2020-07-28T12:00:00",
          "2020-07-28T13:00:00",
          "2020-07-28T14:00:00",
          "2020-07-28T15:00:00",
          "2020-07-28T16:00:00",
          "2020-07-28T17:00:00",
          "2020-07-28T18:00:00",
          "2020-07-28T19:00:00",
          "2020-07-28T20:00:00",
          "2020-07-28T21:00:00",
          "2020-07-28T22:00:00",
          "2020-07-28T23:00:00",
          "2020-07-29T00:00:00",
          "2020-07-29T01:00:00",
          "2020-07-29T02:00:00",
          "2020-07-29T03:00:00",
          "2020-07-29T04:00:00",
          "2020-07-29T05:00:00",
          "2020-07-29T06:00:00",
          "2020-07-29T07:00:00",
          "2020-07-29T08:00:00",
          "2020-07-29T09:00:00",
          "2020-07-29T10:00:00",
          "2020-07-29T11:00:00",
          "2020-07-29T12:00:00",
          "2020-07-29T13:00:00",
          "2020-07-29T14:00:00",
          "2020-07-29T15:00:00",
          "2020-07-29T16:00:00",
          "2020-07-29T17:00:00",
          "2020-07-29T18:00:00",
          "2020-07-29T19:00:00",
          "2020-07-29T20:00:00",
          "2020-07-29T21:00:00",
          "2020-07-29T22:00:00",
          "2020-07-29T23:00:00",
          "2020-07-30T00:00:00",
          "2020-07-30T01:00:00",
          "2020-07-30T02:00:00",
          "2020-07-30T03:00:00",
          "2020-07-30T04:00:00",
          "2020-07-30T05:00:00",
          "2020-07-30T06:00:00",
          "2020-07-30T07:00:00",
          "2020-07-30T08:00:00",
          "2020-07-30T09:00:00",
          "2020-07-30T10:00:00",
          "2020-07-30T11:00:00",
          "2020-07-30T12:00:00",
          "2020-07-30T13:00:00",
          "2020-07-30T14:00:00",
          "2020-07-30T15:00:00",
          "2020-07-30T16:00:00",
          "2020-07-30T17:00:00",
          "2020-07-30T18:00:00",
          "2020-07-30T19:00:00",
          "2020-07-30T20:00:00",
          "2020-07-30T21:00:00",
          "2020-07-30T22:00:00",
          "2020-07-30T23:00:00",
          "2020-07-31T00:00:00",
          "2020-07-31T01:00:00",
          "2020-07-31T02:00:00",
          "2020-07-31T03:00:00",
          "2020-07-31T04:00:00",
          "2020-07-31T05:00:00",
          "2020-07-31T06:00:00",
          "2020-07-31T07:00:00",
          "2020-07-31T08:00:00",
          "2020-07-31T09:00:00",
          "2020-07-31T10:00:00",
          "2020-07-31T11:00:00",
          "2020-07-31T12:00:00",
          "2020-07-31T13:00:00",
          "2020-07-31T14:00:00",
          "2020-07-31T15:00:00",
          "2020-07-31T16:00:00",
          "2020-07-31T17:00:00",
          "2020-07-31T18:00:00",
          "2020-07-31T19:00:00",
          "2020-07-31T20:00:00",
          "2020-07-31T21:00:00",
          "2020-07-31T22:00:00",
          "2020-07-31T23:00:00",
          "2020-08-01T00:00:00",
          "2020-08-01T01:00:00",
          "2020-08-01T02:00:00",
          "2020-08-01T03:00:00",
          "2020-08-01T04:00:00",
          "2020-08-01T05:00:00",
          "2020-08-01T06:00:00",
          "2020-08-01T07:00:00",
          "2020-08-01T08:00:00",
          "2020-08-01T09:00:00",
          "2020-08-01T10:00:00",
          "2020-08-01T11:00:00",
          "2020-08-01T12:00:00",
          "2020-08-01T13:00:00",
          "2020-08-01T14:00:00",
          "2020-08-01T15:00:00",
          "2020-08-01T16:00:00",
          "2020-08-01T17:00:00",
          "2020-08-01T18:00:00",
          "2020-08-01T19:00:00",
          "2020-08-01T20:00:00",
          "2020-08-01T21:00:00",
          "2020-08-01T22:00:00",
          "2020-08-01T23:00:00",
          "2020-08-02T00:00:00"
         ],
         "xaxis": "x",
         "y": [
          12911.0996,
          12480.7998,
          12031.5,
          11798.2998,
          11677.5,
          11630.0996,
          11663.7998,
          11909,
          12060.0996,
          12071.7998,
          12477.5,
          12448.7998,
          13379.2002,
          14591.7002,
          14504.5,
          14563.5996,
          13171.9004,
          13192.4004,
          12789.2002,
          12583.2998,
          12450.5,
          12508.5,
          12251.2002,
          11931,
          11726.4004,
          11564.0996,
          11278.7002,
          10985.5,
          11048.5996,
          10965.5996,
          10703.5,
          11275.2002,
          12006,
          12793.2998,
          13434.7002,
          14058,
          14393.2998,
          14659.7002,
          15129.0996,
          15240.9004,
          15159.2002,
          15030,
          14599.2998,
          14262.7998,
          13984.7998,
          14201.0996,
          13672.2002,
          13037.5996,
          12483.7002,
          12028.9004,
          11720.9004,
          11574,
          11491.7002,
          11870.0996,
          12108.2998,
          12492.4004,
          12944.5996,
          13540.9004,
          14062.5,
          14987.2998,
          15571.9004,
          16117.7002,
          16749.3008,
          16916.9004,
          16815.9004,
          16541.5,
          16068.5,
          15577.5,
          15192.2002,
          15232.5,
          14307.7002,
          13462,
          12711,
          12212.5996,
          11774.7998,
          11486.7002,
          11505.0996,
          11864,
          12145,
          12514.5,
          12997.7998,
          13770.0996,
          14487.9004,
          15196.7002,
          15817,
          16308.4004,
          16797.3008,
          16907.1992,
          16996.5996,
          16703.3008,
          16062.9004,
          15703.4004,
          15406.7002,
          15481.7998,
          14441.7998,
          13624.7002,
          12819.7998,
          12225.2002,
          11836.5,
          11493.7998,
          11578.7002,
          12045.2998,
          12349.7002,
          12774.5,
          13321.7998,
          14032,
          14590.0996,
          15326.5,
          15883.5,
          16378.5,
          16845.4004,
          16959.5,
          16920.8008,
          16838.1992,
          16262.9004,
          15960.7002,
          15553.5,
          15534.5,
          14704.7998,
          13804.7002,
          12992.7998,
          12433.9004,
          11950.9004,
          11693.4004,
          11639.7998,
          11968.5,
          12352.7998,
          12688.5,
          13311.9004,
          14052.9004,
          14558.5996,
          15496.7002,
          16019.2002,
          16407.6992,
          17039.6992,
          17298.9004,
          17255.5996,
          17077.5,
          16459.6992,
          16021.7002,
          15646.4004,
          15442.7998,
          14671.7998,
          13745.2998,
          12918.9004,
          12356.5,
          12038.2002,
          11750,
          11780.7002,
          12250,
          12600.5,
          12961.7998,
          13485.7002,
          14220.5,
          14916.7998,
          15718.5,
          16315.0996,
          16935.5996,
          17467,
          17648.5,
          17737.5,
          17484.0996,
          16851.5996,
          16468,
          16002.5996,
          15765.5996,
          14952.4004,
          13971.5996,
          13070.5996,
          12223.7002,
          11761.7002,
          11350.0996,
          10620.5996,
          11161.2002,
          11227.9004,
          11183.5,
          12072.5,
          12919.2002,
          14252.9004,
          15014.5,
          16091.9004,
          16694.1992,
          16888.0996,
          17013,
          16949.6992,
          16908.9004,
          16684.8008,
          15860.7998,
          15946.7002,
          15535.5,
          14774,
          13874
         ],
         "yaxis": "y"
        }
       ],
       "layout": {
        "barmode": "relative",
        "legend": {
         "tracegroupgap": 0
        },
        "margin": {
         "t": 60
        },
        "template": {
         "data": {
          "bar": [
           {
            "error_x": {
             "color": "#2a3f5f"
            },
            "error_y": {
             "color": "#2a3f5f"
            },
            "marker": {
             "line": {
              "color": "#E5ECF6",
              "width": 0.5
             }
            },
            "type": "bar"
           }
          ],
          "barpolar": [
           {
            "marker": {
             "line": {
              "color": "#E5ECF6",
              "width": 0.5
             }
            },
            "type": "barpolar"
           }
          ],
          "carpet": [
           {
            "aaxis": {
             "endlinecolor": "#2a3f5f",
             "gridcolor": "white",
             "linecolor": "white",
             "minorgridcolor": "white",
             "startlinecolor": "#2a3f5f"
            },
            "baxis": {
             "endlinecolor": "#2a3f5f",
             "gridcolor": "white",
             "linecolor": "white",
             "minorgridcolor": "white",
             "startlinecolor": "#2a3f5f"
            },
            "type": "carpet"
           }
          ],
          "choropleth": [
           {
            "colorbar": {
             "outlinewidth": 0,
             "ticks": ""
            },
            "type": "choropleth"
           }
          ],
          "contour": [
           {
            "colorbar": {
             "outlinewidth": 0,
             "ticks": ""
            },
            "colorscale": [
             [
              0,
              "#0d0887"
             ],
             [
              0.1111111111111111,
              "#46039f"
             ],
             [
              0.2222222222222222,
              "#7201a8"
             ],
             [
              0.3333333333333333,
              "#9c179e"
             ],
             [
              0.4444444444444444,
              "#bd3786"
             ],
             [
              0.5555555555555556,
              "#d8576b"
             ],
             [
              0.6666666666666666,
              "#ed7953"
             ],
             [
              0.7777777777777778,
              "#fb9f3a"
             ],
             [
              0.8888888888888888,
              "#fdca26"
             ],
             [
              1,
              "#f0f921"
             ]
            ],
            "type": "contour"
           }
          ],
          "contourcarpet": [
           {
            "colorbar": {
             "outlinewidth": 0,
             "ticks": ""
            },
            "type": "contourcarpet"
           }
          ],
          "heatmap": [
           {
            "colorbar": {
             "outlinewidth": 0,
             "ticks": ""
            },
            "colorscale": [
             [
              0,
              "#0d0887"
             ],
             [
              0.1111111111111111,
              "#46039f"
             ],
             [
              0.2222222222222222,
              "#7201a8"
             ],
             [
              0.3333333333333333,
              "#9c179e"
             ],
             [
              0.4444444444444444,
              "#bd3786"
             ],
             [
              0.5555555555555556,
              "#d8576b"
             ],
             [
              0.6666666666666666,
              "#ed7953"
             ],
             [
              0.7777777777777778,
              "#fb9f3a"
             ],
             [
              0.8888888888888888,
              "#fdca26"
             ],
             [
              1,
              "#f0f921"
             ]
            ],
            "type": "heatmap"
           }
          ],
          "heatmapgl": [
           {
            "colorbar": {
             "outlinewidth": 0,
             "ticks": ""
            },
            "colorscale": [
             [
              0,
              "#0d0887"
             ],
             [
              0.1111111111111111,
              "#46039f"
             ],
             [
              0.2222222222222222,
              "#7201a8"
             ],
             [
              0.3333333333333333,
              "#9c179e"
             ],
             [
              0.4444444444444444,
              "#bd3786"
             ],
             [
              0.5555555555555556,
              "#d8576b"
             ],
             [
              0.6666666666666666,
              "#ed7953"
             ],
             [
              0.7777777777777778,
              "#fb9f3a"
             ],
             [
              0.8888888888888888,
              "#fdca26"
             ],
             [
              1,
              "#f0f921"
             ]
            ],
            "type": "heatmapgl"
           }
          ],
          "histogram": [
           {
            "marker": {
             "colorbar": {
              "outlinewidth": 0,
              "ticks": ""
             }
            },
            "type": "histogram"
           }
          ],
          "histogram2d": [
           {
            "colorbar": {
             "outlinewidth": 0,
             "ticks": ""
            },
            "colorscale": [
             [
              0,
              "#0d0887"
             ],
             [
              0.1111111111111111,
              "#46039f"
             ],
             [
              0.2222222222222222,
              "#7201a8"
             ],
             [
              0.3333333333333333,
              "#9c179e"
             ],
             [
              0.4444444444444444,
              "#bd3786"
             ],
             [
              0.5555555555555556,
              "#d8576b"
             ],
             [
              0.6666666666666666,
              "#ed7953"
             ],
             [
              0.7777777777777778,
              "#fb9f3a"
             ],
             [
              0.8888888888888888,
              "#fdca26"
             ],
             [
              1,
              "#f0f921"
             ]
            ],
            "type": "histogram2d"
           }
          ],
          "histogram2dcontour": [
           {
            "colorbar": {
             "outlinewidth": 0,
             "ticks": ""
            },
            "colorscale": [
             [
              0,
              "#0d0887"
             ],
             [
              0.1111111111111111,
              "#46039f"
             ],
             [
              0.2222222222222222,
              "#7201a8"
             ],
             [
              0.3333333333333333,
              "#9c179e"
             ],
             [
              0.4444444444444444,
              "#bd3786"
             ],
             [
              0.5555555555555556,
              "#d8576b"
             ],
             [
              0.6666666666666666,
              "#ed7953"
             ],
             [
              0.7777777777777778,
              "#fb9f3a"
             ],
             [
              0.8888888888888888,
              "#fdca26"
             ],
             [
              1,
              "#f0f921"
             ]
            ],
            "type": "histogram2dcontour"
           }
          ],
          "mesh3d": [
           {
            "colorbar": {
             "outlinewidth": 0,
             "ticks": ""
            },
            "type": "mesh3d"
           }
          ],
          "parcoords": [
           {
            "line": {
             "colorbar": {
              "outlinewidth": 0,
              "ticks": ""
             }
            },
            "type": "parcoords"
           }
          ],
          "pie": [
           {
            "automargin": true,
            "type": "pie"
           }
          ],
          "scatter": [
           {
            "marker": {
             "colorbar": {
              "outlinewidth": 0,
              "ticks": ""
             }
            },
            "type": "scatter"
           }
          ],
          "scatter3d": [
           {
            "line": {
             "colorbar": {
              "outlinewidth": 0,
              "ticks": ""
             }
            },
            "marker": {
             "colorbar": {
              "outlinewidth": 0,
              "ticks": ""
             }
            },
            "type": "scatter3d"
           }
          ],
          "scattercarpet": [
           {
            "marker": {
             "colorbar": {
              "outlinewidth": 0,
              "ticks": ""
             }
            },
            "type": "scattercarpet"
           }
          ],
          "scattergeo": [
           {
            "marker": {
             "colorbar": {
              "outlinewidth": 0,
              "ticks": ""
             }
            },
            "type": "scattergeo"
           }
          ],
          "scattergl": [
           {
            "marker": {
             "colorbar": {
              "outlinewidth": 0,
              "ticks": ""
             }
            },
            "type": "scattergl"
           }
          ],
          "scattermapbox": [
           {
            "marker": {
             "colorbar": {
              "outlinewidth": 0,
              "ticks": ""
             }
            },
            "type": "scattermapbox"
           }
          ],
          "scatterpolar": [
           {
            "marker": {
             "colorbar": {
              "outlinewidth": 0,
              "ticks": ""
             }
            },
            "type": "scatterpolar"
           }
          ],
          "scatterpolargl": [
           {
            "marker": {
             "colorbar": {
              "outlinewidth": 0,
              "ticks": ""
             }
            },
            "type": "scatterpolargl"
           }
          ],
          "scatterternary": [
           {
            "marker": {
             "colorbar": {
              "outlinewidth": 0,
              "ticks": ""
             }
            },
            "type": "scatterternary"
           }
          ],
          "surface": [
           {
            "colorbar": {
             "outlinewidth": 0,
             "ticks": ""
            },
            "colorscale": [
             [
              0,
              "#0d0887"
             ],
             [
              0.1111111111111111,
              "#46039f"
             ],
             [
              0.2222222222222222,
              "#7201a8"
             ],
             [
              0.3333333333333333,
              "#9c179e"
             ],
             [
              0.4444444444444444,
              "#bd3786"
             ],
             [
              0.5555555555555556,
              "#d8576b"
             ],
             [
              0.6666666666666666,
              "#ed7953"
             ],
             [
              0.7777777777777778,
              "#fb9f3a"
             ],
             [
              0.8888888888888888,
              "#fdca26"
             ],
             [
              1,
              "#f0f921"
             ]
            ],
            "type": "surface"
           }
          ],
          "table": [
           {
            "cells": {
             "fill": {
              "color": "#EBF0F8"
             },
             "line": {
              "color": "white"
             }
            },
            "header": {
             "fill": {
              "color": "#C8D4E3"
             },
             "line": {
              "color": "white"
             }
            },
            "type": "table"
           }
          ]
         },
         "layout": {
          "annotationdefaults": {
           "arrowcolor": "#2a3f5f",
           "arrowhead": 0,
           "arrowwidth": 1
          },
          "coloraxis": {
           "colorbar": {
            "outlinewidth": 0,
            "ticks": ""
           }
          },
          "colorscale": {
           "diverging": [
            [
             0,
             "#8e0152"
            ],
            [
             0.1,
             "#c51b7d"
            ],
            [
             0.2,
             "#de77ae"
            ],
            [
             0.3,
             "#f1b6da"
            ],
            [
             0.4,
             "#fde0ef"
            ],
            [
             0.5,
             "#f7f7f7"
            ],
            [
             0.6,
             "#e6f5d0"
            ],
            [
             0.7,
             "#b8e186"
            ],
            [
             0.8,
             "#7fbc41"
            ],
            [
             0.9,
             "#4d9221"
            ],
            [
             1,
             "#276419"
            ]
           ],
           "sequential": [
            [
             0,
             "#0d0887"
            ],
            [
             0.1111111111111111,
             "#46039f"
            ],
            [
             0.2222222222222222,
             "#7201a8"
            ],
            [
             0.3333333333333333,
             "#9c179e"
            ],
            [
             0.4444444444444444,
             "#bd3786"
            ],
            [
             0.5555555555555556,
             "#d8576b"
            ],
            [
             0.6666666666666666,
             "#ed7953"
            ],
            [
             0.7777777777777778,
             "#fb9f3a"
            ],
            [
             0.8888888888888888,
             "#fdca26"
            ],
            [
             1,
             "#f0f921"
            ]
           ],
           "sequentialminus": [
            [
             0,
             "#0d0887"
            ],
            [
             0.1111111111111111,
             "#46039f"
            ],
            [
             0.2222222222222222,
             "#7201a8"
            ],
            [
             0.3333333333333333,
             "#9c179e"
            ],
            [
             0.4444444444444444,
             "#bd3786"
            ],
            [
             0.5555555555555556,
             "#d8576b"
            ],
            [
             0.6666666666666666,
             "#ed7953"
            ],
            [
             0.7777777777777778,
             "#fb9f3a"
            ],
            [
             0.8888888888888888,
             "#fdca26"
            ],
            [
             1,
             "#f0f921"
            ]
           ]
          },
          "colorway": [
           "#636efa",
           "#EF553B",
           "#00cc96",
           "#ab63fa",
           "#FFA15A",
           "#19d3f3",
           "#FF6692",
           "#B6E880",
           "#FF97FF",
           "#FECB52"
          ],
          "font": {
           "color": "#2a3f5f"
          },
          "geo": {
           "bgcolor": "white",
           "lakecolor": "white",
           "landcolor": "#E5ECF6",
           "showlakes": true,
           "showland": true,
           "subunitcolor": "white"
          },
          "hoverlabel": {
           "align": "left"
          },
          "hovermode": "closest",
          "mapbox": {
           "style": "light"
          },
          "paper_bgcolor": "white",
          "plot_bgcolor": "#E5ECF6",
          "polar": {
           "angularaxis": {
            "gridcolor": "white",
            "linecolor": "white",
            "ticks": ""
           },
           "bgcolor": "#E5ECF6",
           "radialaxis": {
            "gridcolor": "white",
            "linecolor": "white",
            "ticks": ""
           }
          },
          "scene": {
           "xaxis": {
            "backgroundcolor": "#E5ECF6",
            "gridcolor": "white",
            "gridwidth": 2,
            "linecolor": "white",
            "showbackground": true,
            "ticks": "",
            "zerolinecolor": "white"
           },
           "yaxis": {
            "backgroundcolor": "#E5ECF6",
            "gridcolor": "white",
            "gridwidth": 2,
            "linecolor": "white",
            "showbackground": true,
            "ticks": "",
            "zerolinecolor": "white"
           },
           "zaxis": {
            "backgroundcolor": "#E5ECF6",
            "gridcolor": "white",
            "gridwidth": 2,
            "linecolor": "white",
            "showbackground": true,
            "ticks": "",
            "zerolinecolor": "white"
           }
          },
          "shapedefaults": {
           "line": {
            "color": "#2a3f5f"
           }
          },
          "ternary": {
           "aaxis": {
            "gridcolor": "white",
            "linecolor": "white",
            "ticks": ""
           },
           "baxis": {
            "gridcolor": "white",
            "linecolor": "white",
            "ticks": ""
           },
           "bgcolor": "#E5ECF6",
           "caxis": {
            "gridcolor": "white",
            "linecolor": "white",
            "ticks": ""
           }
          },
          "title": {
           "x": 0.05
          },
          "xaxis": {
           "automargin": true,
           "gridcolor": "white",
           "linecolor": "white",
           "ticks": "",
           "title": {
            "standoff": 15
           },
           "zerolinecolor": "white",
           "zerolinewidth": 2
          },
          "yaxis": {
           "automargin": true,
           "gridcolor": "white",
           "linecolor": "white",
           "ticks": "",
           "title": {
            "standoff": 15
           },
           "zerolinecolor": "white",
           "zerolinewidth": 2
          }
         }
        },
        "xaxis": {
         "anchor": "y",
         "domain": [
          0,
          1
         ],
         "title": {
          "text": "DeliveryDT"
         }
        },
        "yaxis": {
         "anchor": "x",
         "domain": [
          0,
          1
         ],
         "title": {
          "text": "Coast"
         }
        }
       }
      },
      "text/html": [
       "<div>\n",
       "        \n",
       "        \n",
       "            <div id=\"9afd4e14-8ea7-4bd2-8236-83185a8b3081\" class=\"plotly-graph-div\" style=\"height:525px; width:100%;\"></div>\n",
       "            <script type=\"text/javascript\">\n",
       "                require([\"plotly\"], function(Plotly) {\n",
       "                    window.PLOTLYENV=window.PLOTLYENV || {};\n",
       "                    \n",
       "                if (document.getElementById(\"9afd4e14-8ea7-4bd2-8236-83185a8b3081\")) {\n",
       "                    Plotly.newPlot(\n",
       "                        '9afd4e14-8ea7-4bd2-8236-83185a8b3081',\n",
       "                        [{\"alignmentgroup\": \"True\", \"hovertemplate\": \"DeliveryDT=%{x}<br>Coast=%{y}<extra></extra>\", \"legendgroup\": \"\", \"marker\": {\"color\": \"#636efa\"}, \"name\": \"\", \"offsetgroup\": \"\", \"orientation\": \"v\", \"showlegend\": false, \"textposition\": \"auto\", \"type\": \"bar\", \"x\": [\"2020-07-25T01:00:00\", \"2020-07-25T02:00:00\", \"2020-07-25T03:00:00\", \"2020-07-25T04:00:00\", \"2020-07-25T05:00:00\", \"2020-07-25T06:00:00\", \"2020-07-25T07:00:00\", \"2020-07-25T08:00:00\", \"2020-07-25T09:00:00\", \"2020-07-25T10:00:00\", \"2020-07-25T11:00:00\", \"2020-07-25T12:00:00\", \"2020-07-25T13:00:00\", \"2020-07-25T14:00:00\", \"2020-07-25T15:00:00\", \"2020-07-25T16:00:00\", \"2020-07-25T17:00:00\", \"2020-07-25T18:00:00\", \"2020-07-25T19:00:00\", \"2020-07-25T20:00:00\", \"2020-07-25T21:00:00\", \"2020-07-25T22:00:00\", \"2020-07-25T23:00:00\", \"2020-07-26T00:00:00\", \"2020-07-26T01:00:00\", \"2020-07-26T02:00:00\", \"2020-07-26T03:00:00\", \"2020-07-26T04:00:00\", \"2020-07-26T05:00:00\", \"2020-07-26T06:00:00\", \"2020-07-26T07:00:00\", \"2020-07-26T08:00:00\", \"2020-07-26T09:00:00\", \"2020-07-26T10:00:00\", \"2020-07-26T11:00:00\", \"2020-07-26T12:00:00\", \"2020-07-26T13:00:00\", \"2020-07-26T14:00:00\", \"2020-07-26T15:00:00\", \"2020-07-26T16:00:00\", \"2020-07-26T17:00:00\", \"2020-07-26T18:00:00\", \"2020-07-26T19:00:00\", \"2020-07-26T20:00:00\", \"2020-07-26T21:00:00\", \"2020-07-26T22:00:00\", \"2020-07-26T23:00:00\", \"2020-07-27T00:00:00\", \"2020-07-27T01:00:00\", \"2020-07-27T02:00:00\", \"2020-07-27T03:00:00\", \"2020-07-27T04:00:00\", \"2020-07-27T05:00:00\", \"2020-07-27T06:00:00\", \"2020-07-27T07:00:00\", \"2020-07-27T08:00:00\", \"2020-07-27T09:00:00\", \"2020-07-27T10:00:00\", \"2020-07-27T11:00:00\", \"2020-07-27T12:00:00\", \"2020-07-27T13:00:00\", \"2020-07-27T14:00:00\", \"2020-07-27T15:00:00\", \"2020-07-27T16:00:00\", \"2020-07-27T17:00:00\", \"2020-07-27T18:00:00\", \"2020-07-27T19:00:00\", \"2020-07-27T20:00:00\", \"2020-07-27T21:00:00\", \"2020-07-27T22:00:00\", \"2020-07-27T23:00:00\", \"2020-07-28T00:00:00\", \"2020-07-28T01:00:00\", \"2020-07-28T02:00:00\", \"2020-07-28T03:00:00\", \"2020-07-28T04:00:00\", \"2020-07-28T05:00:00\", \"2020-07-28T06:00:00\", \"2020-07-28T07:00:00\", \"2020-07-28T08:00:00\", \"2020-07-28T09:00:00\", \"2020-07-28T10:00:00\", \"2020-07-28T11:00:00\", \"2020-07-28T12:00:00\", \"2020-07-28T13:00:00\", \"2020-07-28T14:00:00\", \"2020-07-28T15:00:00\", \"2020-07-28T16:00:00\", \"2020-07-28T17:00:00\", \"2020-07-28T18:00:00\", \"2020-07-28T19:00:00\", \"2020-07-28T20:00:00\", \"2020-07-28T21:00:00\", \"2020-07-28T22:00:00\", \"2020-07-28T23:00:00\", \"2020-07-29T00:00:00\", \"2020-07-29T01:00:00\", \"2020-07-29T02:00:00\", \"2020-07-29T03:00:00\", \"2020-07-29T04:00:00\", \"2020-07-29T05:00:00\", \"2020-07-29T06:00:00\", \"2020-07-29T07:00:00\", \"2020-07-29T08:00:00\", \"2020-07-29T09:00:00\", \"2020-07-29T10:00:00\", \"2020-07-29T11:00:00\", \"2020-07-29T12:00:00\", \"2020-07-29T13:00:00\", \"2020-07-29T14:00:00\", \"2020-07-29T15:00:00\", \"2020-07-29T16:00:00\", \"2020-07-29T17:00:00\", \"2020-07-29T18:00:00\", \"2020-07-29T19:00:00\", \"2020-07-29T20:00:00\", \"2020-07-29T21:00:00\", \"2020-07-29T22:00:00\", \"2020-07-29T23:00:00\", \"2020-07-30T00:00:00\", \"2020-07-30T01:00:00\", \"2020-07-30T02:00:00\", \"2020-07-30T03:00:00\", \"2020-07-30T04:00:00\", \"2020-07-30T05:00:00\", \"2020-07-30T06:00:00\", \"2020-07-30T07:00:00\", \"2020-07-30T08:00:00\", \"2020-07-30T09:00:00\", \"2020-07-30T10:00:00\", \"2020-07-30T11:00:00\", \"2020-07-30T12:00:00\", \"2020-07-30T13:00:00\", \"2020-07-30T14:00:00\", \"2020-07-30T15:00:00\", \"2020-07-30T16:00:00\", \"2020-07-30T17:00:00\", \"2020-07-30T18:00:00\", \"2020-07-30T19:00:00\", \"2020-07-30T20:00:00\", \"2020-07-30T21:00:00\", \"2020-07-30T22:00:00\", \"2020-07-30T23:00:00\", \"2020-07-31T00:00:00\", \"2020-07-31T01:00:00\", \"2020-07-31T02:00:00\", \"2020-07-31T03:00:00\", \"2020-07-31T04:00:00\", \"2020-07-31T05:00:00\", \"2020-07-31T06:00:00\", \"2020-07-31T07:00:00\", \"2020-07-31T08:00:00\", \"2020-07-31T09:00:00\", \"2020-07-31T10:00:00\", \"2020-07-31T11:00:00\", \"2020-07-31T12:00:00\", \"2020-07-31T13:00:00\", \"2020-07-31T14:00:00\", \"2020-07-31T15:00:00\", \"2020-07-31T16:00:00\", \"2020-07-31T17:00:00\", \"2020-07-31T18:00:00\", \"2020-07-31T19:00:00\", \"2020-07-31T20:00:00\", \"2020-07-31T21:00:00\", \"2020-07-31T22:00:00\", \"2020-07-31T23:00:00\", \"2020-08-01T00:00:00\", \"2020-08-01T01:00:00\", \"2020-08-01T02:00:00\", \"2020-08-01T03:00:00\", \"2020-08-01T04:00:00\", \"2020-08-01T05:00:00\", \"2020-08-01T06:00:00\", \"2020-08-01T07:00:00\", \"2020-08-01T08:00:00\", \"2020-08-01T09:00:00\", \"2020-08-01T10:00:00\", \"2020-08-01T11:00:00\", \"2020-08-01T12:00:00\", \"2020-08-01T13:00:00\", \"2020-08-01T14:00:00\", \"2020-08-01T15:00:00\", \"2020-08-01T16:00:00\", \"2020-08-01T17:00:00\", \"2020-08-01T18:00:00\", \"2020-08-01T19:00:00\", \"2020-08-01T20:00:00\", \"2020-08-01T21:00:00\", \"2020-08-01T22:00:00\", \"2020-08-01T23:00:00\", \"2020-08-02T00:00:00\"], \"xaxis\": \"x\", \"y\": [12911.0996, 12480.7998, 12031.5, 11798.2998, 11677.5, 11630.0996, 11663.7998, 11909.0, 12060.0996, 12071.7998, 12477.5, 12448.7998, 13379.2002, 14591.7002, 14504.5, 14563.5996, 13171.9004, 13192.4004, 12789.2002, 12583.2998, 12450.5, 12508.5, 12251.2002, 11931.0, 11726.4004, 11564.0996, 11278.7002, 10985.5, 11048.5996, 10965.5996, 10703.5, 11275.2002, 12006.0, 12793.2998, 13434.7002, 14058.0, 14393.2998, 14659.7002, 15129.0996, 15240.9004, 15159.2002, 15030.0, 14599.2998, 14262.7998, 13984.7998, 14201.0996, 13672.2002, 13037.5996, 12483.7002, 12028.9004, 11720.9004, 11574.0, 11491.7002, 11870.0996, 12108.2998, 12492.4004, 12944.5996, 13540.9004, 14062.5, 14987.2998, 15571.9004, 16117.7002, 16749.3008, 16916.9004, 16815.9004, 16541.5, 16068.5, 15577.5, 15192.2002, 15232.5, 14307.7002, 13462.0, 12711.0, 12212.5996, 11774.7998, 11486.7002, 11505.0996, 11864.0, 12145.0, 12514.5, 12997.7998, 13770.0996, 14487.9004, 15196.7002, 15817.0, 16308.4004, 16797.3008, 16907.1992, 16996.5996, 16703.3008, 16062.9004, 15703.4004, 15406.7002, 15481.7998, 14441.7998, 13624.7002, 12819.7998, 12225.2002, 11836.5, 11493.7998, 11578.7002, 12045.2998, 12349.7002, 12774.5, 13321.7998, 14032.0, 14590.0996, 15326.5, 15883.5, 16378.5, 16845.4004, 16959.5, 16920.8008, 16838.1992, 16262.9004, 15960.7002, 15553.5, 15534.5, 14704.7998, 13804.7002, 12992.7998, 12433.9004, 11950.9004, 11693.4004, 11639.7998, 11968.5, 12352.7998, 12688.5, 13311.9004, 14052.9004, 14558.5996, 15496.7002, 16019.2002, 16407.6992, 17039.6992, 17298.9004, 17255.5996, 17077.5, 16459.6992, 16021.7002, 15646.4004, 15442.7998, 14671.7998, 13745.2998, 12918.9004, 12356.5, 12038.2002, 11750.0, 11780.7002, 12250.0, 12600.5, 12961.7998, 13485.7002, 14220.5, 14916.7998, 15718.5, 16315.0996, 16935.5996, 17467.0, 17648.5, 17737.5, 17484.0996, 16851.5996, 16468.0, 16002.5996, 15765.5996, 14952.4004, 13971.5996, 13070.5996, 12223.7002, 11761.7002, 11350.0996, 10620.5996, 11161.2002, 11227.9004, 11183.5, 12072.5, 12919.2002, 14252.9004, 15014.5, 16091.9004, 16694.1992, 16888.0996, 17013.0, 16949.6992, 16908.9004, 16684.8008, 15860.7998, 15946.7002, 15535.5, 14774.0, 13874.0], \"yaxis\": \"y\"}],\n",
       "                        {\"barmode\": \"relative\", \"legend\": {\"tracegroupgap\": 0}, \"margin\": {\"t\": 60}, \"template\": {\"data\": {\"bar\": [{\"error_x\": {\"color\": \"#2a3f5f\"}, \"error_y\": {\"color\": \"#2a3f5f\"}, \"marker\": {\"line\": {\"color\": \"#E5ECF6\", \"width\": 0.5}}, \"type\": \"bar\"}], \"barpolar\": [{\"marker\": {\"line\": {\"color\": \"#E5ECF6\", \"width\": 0.5}}, \"type\": \"barpolar\"}], \"carpet\": [{\"aaxis\": {\"endlinecolor\": \"#2a3f5f\", \"gridcolor\": \"white\", \"linecolor\": \"white\", \"minorgridcolor\": \"white\", \"startlinecolor\": \"#2a3f5f\"}, \"baxis\": {\"endlinecolor\": \"#2a3f5f\", \"gridcolor\": \"white\", \"linecolor\": \"white\", \"minorgridcolor\": \"white\", \"startlinecolor\": \"#2a3f5f\"}, \"type\": \"carpet\"}], \"choropleth\": [{\"colorbar\": {\"outlinewidth\": 0, \"ticks\": \"\"}, \"type\": \"choropleth\"}], \"contour\": [{\"colorbar\": {\"outlinewidth\": 0, \"ticks\": \"\"}, \"colorscale\": [[0.0, \"#0d0887\"], [0.1111111111111111, \"#46039f\"], [0.2222222222222222, \"#7201a8\"], [0.3333333333333333, \"#9c179e\"], [0.4444444444444444, \"#bd3786\"], [0.5555555555555556, \"#d8576b\"], [0.6666666666666666, \"#ed7953\"], [0.7777777777777778, \"#fb9f3a\"], [0.8888888888888888, \"#fdca26\"], [1.0, \"#f0f921\"]], \"type\": \"contour\"}], \"contourcarpet\": [{\"colorbar\": {\"outlinewidth\": 0, \"ticks\": \"\"}, \"type\": \"contourcarpet\"}], \"heatmap\": [{\"colorbar\": {\"outlinewidth\": 0, \"ticks\": \"\"}, \"colorscale\": [[0.0, \"#0d0887\"], [0.1111111111111111, \"#46039f\"], [0.2222222222222222, \"#7201a8\"], [0.3333333333333333, \"#9c179e\"], [0.4444444444444444, \"#bd3786\"], [0.5555555555555556, \"#d8576b\"], [0.6666666666666666, \"#ed7953\"], [0.7777777777777778, \"#fb9f3a\"], [0.8888888888888888, \"#fdca26\"], [1.0, \"#f0f921\"]], \"type\": \"heatmap\"}], \"heatmapgl\": [{\"colorbar\": {\"outlinewidth\": 0, \"ticks\": \"\"}, \"colorscale\": [[0.0, \"#0d0887\"], [0.1111111111111111, \"#46039f\"], [0.2222222222222222, \"#7201a8\"], [0.3333333333333333, \"#9c179e\"], [0.4444444444444444, \"#bd3786\"], [0.5555555555555556, \"#d8576b\"], [0.6666666666666666, \"#ed7953\"], [0.7777777777777778, \"#fb9f3a\"], [0.8888888888888888, \"#fdca26\"], [1.0, \"#f0f921\"]], \"type\": \"heatmapgl\"}], \"histogram\": [{\"marker\": {\"colorbar\": {\"outlinewidth\": 0, \"ticks\": \"\"}}, \"type\": \"histogram\"}], \"histogram2d\": [{\"colorbar\": {\"outlinewidth\": 0, \"ticks\": \"\"}, \"colorscale\": [[0.0, \"#0d0887\"], [0.1111111111111111, \"#46039f\"], [0.2222222222222222, \"#7201a8\"], [0.3333333333333333, \"#9c179e\"], [0.4444444444444444, \"#bd3786\"], [0.5555555555555556, \"#d8576b\"], [0.6666666666666666, \"#ed7953\"], [0.7777777777777778, \"#fb9f3a\"], [0.8888888888888888, \"#fdca26\"], [1.0, \"#f0f921\"]], \"type\": \"histogram2d\"}], \"histogram2dcontour\": [{\"colorbar\": {\"outlinewidth\": 0, \"ticks\": \"\"}, \"colorscale\": [[0.0, \"#0d0887\"], [0.1111111111111111, \"#46039f\"], [0.2222222222222222, \"#7201a8\"], [0.3333333333333333, \"#9c179e\"], [0.4444444444444444, \"#bd3786\"], [0.5555555555555556, \"#d8576b\"], [0.6666666666666666, \"#ed7953\"], [0.7777777777777778, \"#fb9f3a\"], [0.8888888888888888, \"#fdca26\"], [1.0, \"#f0f921\"]], \"type\": \"histogram2dcontour\"}], \"mesh3d\": [{\"colorbar\": {\"outlinewidth\": 0, \"ticks\": \"\"}, \"type\": \"mesh3d\"}], \"parcoords\": [{\"line\": {\"colorbar\": {\"outlinewidth\": 0, \"ticks\": \"\"}}, \"type\": \"parcoords\"}], \"pie\": [{\"automargin\": true, \"type\": \"pie\"}], \"scatter\": [{\"marker\": {\"colorbar\": {\"outlinewidth\": 0, \"ticks\": \"\"}}, \"type\": \"scatter\"}], \"scatter3d\": [{\"line\": {\"colorbar\": {\"outlinewidth\": 0, \"ticks\": \"\"}}, \"marker\": {\"colorbar\": {\"outlinewidth\": 0, \"ticks\": \"\"}}, \"type\": \"scatter3d\"}], \"scattercarpet\": [{\"marker\": {\"colorbar\": {\"outlinewidth\": 0, \"ticks\": \"\"}}, \"type\": \"scattercarpet\"}], \"scattergeo\": [{\"marker\": {\"colorbar\": {\"outlinewidth\": 0, \"ticks\": \"\"}}, \"type\": \"scattergeo\"}], \"scattergl\": [{\"marker\": {\"colorbar\": {\"outlinewidth\": 0, \"ticks\": \"\"}}, \"type\": \"scattergl\"}], \"scattermapbox\": [{\"marker\": {\"colorbar\": {\"outlinewidth\": 0, \"ticks\": \"\"}}, \"type\": \"scattermapbox\"}], \"scatterpolar\": [{\"marker\": {\"colorbar\": {\"outlinewidth\": 0, \"ticks\": \"\"}}, \"type\": \"scatterpolar\"}], \"scatterpolargl\": [{\"marker\": {\"colorbar\": {\"outlinewidth\": 0, \"ticks\": \"\"}}, \"type\": \"scatterpolargl\"}], \"scatterternary\": [{\"marker\": {\"colorbar\": {\"outlinewidth\": 0, \"ticks\": \"\"}}, \"type\": \"scatterternary\"}], \"surface\": [{\"colorbar\": {\"outlinewidth\": 0, \"ticks\": \"\"}, \"colorscale\": [[0.0, \"#0d0887\"], [0.1111111111111111, \"#46039f\"], [0.2222222222222222, \"#7201a8\"], [0.3333333333333333, \"#9c179e\"], [0.4444444444444444, \"#bd3786\"], [0.5555555555555556, \"#d8576b\"], [0.6666666666666666, \"#ed7953\"], [0.7777777777777778, \"#fb9f3a\"], [0.8888888888888888, \"#fdca26\"], [1.0, \"#f0f921\"]], \"type\": \"surface\"}], \"table\": [{\"cells\": {\"fill\": {\"color\": \"#EBF0F8\"}, \"line\": {\"color\": \"white\"}}, \"header\": {\"fill\": {\"color\": \"#C8D4E3\"}, \"line\": {\"color\": \"white\"}}, \"type\": \"table\"}]}, \"layout\": {\"annotationdefaults\": {\"arrowcolor\": \"#2a3f5f\", \"arrowhead\": 0, \"arrowwidth\": 1}, \"coloraxis\": {\"colorbar\": {\"outlinewidth\": 0, \"ticks\": \"\"}}, \"colorscale\": {\"diverging\": [[0, \"#8e0152\"], [0.1, \"#c51b7d\"], [0.2, \"#de77ae\"], [0.3, \"#f1b6da\"], [0.4, \"#fde0ef\"], [0.5, \"#f7f7f7\"], [0.6, \"#e6f5d0\"], [0.7, \"#b8e186\"], [0.8, \"#7fbc41\"], [0.9, \"#4d9221\"], [1, \"#276419\"]], \"sequential\": [[0.0, \"#0d0887\"], [0.1111111111111111, \"#46039f\"], [0.2222222222222222, \"#7201a8\"], [0.3333333333333333, \"#9c179e\"], [0.4444444444444444, \"#bd3786\"], [0.5555555555555556, \"#d8576b\"], [0.6666666666666666, \"#ed7953\"], [0.7777777777777778, \"#fb9f3a\"], [0.8888888888888888, \"#fdca26\"], [1.0, \"#f0f921\"]], \"sequentialminus\": [[0.0, \"#0d0887\"], [0.1111111111111111, \"#46039f\"], [0.2222222222222222, \"#7201a8\"], [0.3333333333333333, \"#9c179e\"], [0.4444444444444444, \"#bd3786\"], [0.5555555555555556, \"#d8576b\"], [0.6666666666666666, \"#ed7953\"], [0.7777777777777778, \"#fb9f3a\"], [0.8888888888888888, \"#fdca26\"], [1.0, \"#f0f921\"]]}, \"colorway\": [\"#636efa\", \"#EF553B\", \"#00cc96\", \"#ab63fa\", \"#FFA15A\", \"#19d3f3\", \"#FF6692\", \"#B6E880\", \"#FF97FF\", \"#FECB52\"], \"font\": {\"color\": \"#2a3f5f\"}, \"geo\": {\"bgcolor\": \"white\", \"lakecolor\": \"white\", \"landcolor\": \"#E5ECF6\", \"showlakes\": true, \"showland\": true, \"subunitcolor\": \"white\"}, \"hoverlabel\": {\"align\": \"left\"}, \"hovermode\": \"closest\", \"mapbox\": {\"style\": \"light\"}, \"paper_bgcolor\": \"white\", \"plot_bgcolor\": \"#E5ECF6\", \"polar\": {\"angularaxis\": {\"gridcolor\": \"white\", \"linecolor\": \"white\", \"ticks\": \"\"}, \"bgcolor\": \"#E5ECF6\", \"radialaxis\": {\"gridcolor\": \"white\", \"linecolor\": \"white\", \"ticks\": \"\"}}, \"scene\": {\"xaxis\": {\"backgroundcolor\": \"#E5ECF6\", \"gridcolor\": \"white\", \"gridwidth\": 2, \"linecolor\": \"white\", \"showbackground\": true, \"ticks\": \"\", \"zerolinecolor\": \"white\"}, \"yaxis\": {\"backgroundcolor\": \"#E5ECF6\", \"gridcolor\": \"white\", \"gridwidth\": 2, \"linecolor\": \"white\", \"showbackground\": true, \"ticks\": \"\", \"zerolinecolor\": \"white\"}, \"zaxis\": {\"backgroundcolor\": \"#E5ECF6\", \"gridcolor\": \"white\", \"gridwidth\": 2, \"linecolor\": \"white\", \"showbackground\": true, \"ticks\": \"\", \"zerolinecolor\": \"white\"}}, \"shapedefaults\": {\"line\": {\"color\": \"#2a3f5f\"}}, \"ternary\": {\"aaxis\": {\"gridcolor\": \"white\", \"linecolor\": \"white\", \"ticks\": \"\"}, \"baxis\": {\"gridcolor\": \"white\", \"linecolor\": \"white\", \"ticks\": \"\"}, \"bgcolor\": \"#E5ECF6\", \"caxis\": {\"gridcolor\": \"white\", \"linecolor\": \"white\", \"ticks\": \"\"}}, \"title\": {\"x\": 0.05}, \"xaxis\": {\"automargin\": true, \"gridcolor\": \"white\", \"linecolor\": \"white\", \"ticks\": \"\", \"title\": {\"standoff\": 15}, \"zerolinecolor\": \"white\", \"zerolinewidth\": 2}, \"yaxis\": {\"automargin\": true, \"gridcolor\": \"white\", \"linecolor\": \"white\", \"ticks\": \"\", \"title\": {\"standoff\": 15}, \"zerolinecolor\": \"white\", \"zerolinewidth\": 2}}}, \"xaxis\": {\"anchor\": \"y\", \"domain\": [0.0, 1.0], \"title\": {\"text\": \"DeliveryDT\"}}, \"yaxis\": {\"anchor\": \"x\", \"domain\": [0.0, 1.0], \"title\": {\"text\": \"Coast\"}}},\n",
       "                        {\"responsive\": true}\n",
       "                    ).then(function(){\n",
       "                            \n",
       "var gd = document.getElementById('9afd4e14-8ea7-4bd2-8236-83185a8b3081');\n",
       "var x = new MutationObserver(function (mutations, observer) {{\n",
       "        var display = window.getComputedStyle(gd).display;\n",
       "        if (!display || display === 'none') {{\n",
       "            console.log([gd, 'removed!']);\n",
       "            Plotly.purge(gd);\n",
       "            observer.disconnect();\n",
       "        }}\n",
       "}});\n",
       "\n",
       "// Listen for the removal of the full notebook cells\n",
       "var notebookContainer = gd.closest('#notebook-container');\n",
       "if (notebookContainer) {{\n",
       "    x.observe(notebookContainer, {childList: true});\n",
       "}}\n",
       "\n",
       "// Listen for the clearing of the current output cell\n",
       "var outputEl = gd.closest('.output');\n",
       "if (outputEl) {{\n",
       "    x.observe(outputEl, {childList: true});\n",
       "}}\n",
       "\n",
       "                        })\n",
       "                };\n",
       "                });\n",
       "            </script>\n",
       "        </div>"
      ]
     },
     "metadata": {},
     "output_type": "display_data"
    }
   ],
   "source": [
    "barfig = px.bar(load_fcst, x='DeliveryDT', y=load_fcst.Coast)\n",
    "barfig.show()"
   ]
  },
  {
   "cell_type": "code",
   "execution_count": null,
   "metadata": {},
   "outputs": [],
   "source": []
  }
 ],
 "metadata": {
  "kernelspec": {
   "display_name": "Python 3",
   "language": "python",
   "name": "python3"
  },
  "language_info": {
   "codemirror_mode": {
    "name": "ipython",
    "version": 3
   },
   "file_extension": ".py",
   "mimetype": "text/x-python",
   "name": "python",
   "nbconvert_exporter": "python",
   "pygments_lexer": "ipython3",
   "version": "3.7.4"
  }
 },
 "nbformat": 4,
 "nbformat_minor": 2
}
