{
 "cells": [
  {
   "cell_type": "code",
   "execution_count": 95,
   "metadata": {},
   "outputs": [],
   "source": [
    "from bs4 import BeautifulSoup as bs\n",
    "import requests\n",
    "import pandas as pd\n",
    "import datetime\n",
    "import os"
   ]
  },
  {
   "cell_type": "code",
   "execution_count": 82,
   "metadata": {},
   "outputs": [],
   "source": [
    "#Seven-Day Load Forecast by Weather Zone URL\n",
    "url = 'http://mis.ercot.com/misapp/GetReports.do?reportTypeId=12312&reportTitle=Seven-Day%20Load%20Forecast%20by%20Weather%20Zone&showHTMLView=&mimicKey'"
   ]
  },
  {
   "cell_type": "code",
   "execution_count": 83,
   "metadata": {},
   "outputs": [],
   "source": [
    "response = requests.get(url)"
   ]
  },
  {
   "cell_type": "code",
   "execution_count": 84,
   "metadata": {},
   "outputs": [],
   "source": [
    "soup = bs(response.text, 'html.parser')"
   ]
  },
  {
   "cell_type": "code",
   "execution_count": 85,
   "metadata": {},
   "outputs": [],
   "source": [
    "title_results = soup.find_all('td', class_='labelOptional_ind')"
   ]
  },
  {
   "cell_type": "code",
   "execution_count": 86,
   "metadata": {},
   "outputs": [],
   "source": [
    "# for result in title_results:\n",
    "#     print(result.text)"
   ]
  },
  {
   "cell_type": "code",
   "execution_count": 87,
   "metadata": {},
   "outputs": [],
   "source": [
    "url_results = soup.find_all('td', class_='labelOptional', text=True)"
   ]
  },
  {
   "cell_type": "code",
   "execution_count": 88,
   "metadata": {},
   "outputs": [],
   "source": [
    "base_url = 'http://mis.ercot.com'\n",
    "\n",
    "data_urls = []\n",
    "\n",
    "for result in url_results:\n",
    "    try:\n",
    "        end_url = result.find('div').a['href']\n",
    "        full_url = base_url + end_url\n",
    "        data_urls.append(full_url)\n",
    "        #print(full_url)\n",
    "    except:\n",
    "        pass"
   ]
  },
  {
   "cell_type": "markdown",
   "metadata": {},
   "source": [
    "## Extract Zip File from URL"
   ]
  },
  {
   "cell_type": "code",
   "execution_count": 89,
   "metadata": {},
   "outputs": [],
   "source": [
    "data = requests.get(data_urls[0], stream=True)"
   ]
  },
  {
   "cell_type": "code",
   "execution_count": 90,
   "metadata": {},
   "outputs": [],
   "source": [
    "import requests, zipfile, io"
   ]
  },
  {
   "cell_type": "code",
   "execution_count": 91,
   "metadata": {},
   "outputs": [],
   "source": [
    "z = zipfile.ZipFile(io.BytesIO(data.content))"
   ]
  },
  {
   "cell_type": "code",
   "execution_count": 92,
   "metadata": {},
   "outputs": [],
   "source": [
    "z.extractall()"
   ]
  },
  {
   "cell_type": "code",
   "execution_count": 93,
   "metadata": {},
   "outputs": [],
   "source": [
    "file = z.namelist()[0]"
   ]
  },
  {
   "cell_type": "code",
   "execution_count": 96,
   "metadata": {},
   "outputs": [],
   "source": [
    "#load zip file to df\n",
    "load_fcst = pd.read_csv(file)\n",
    "\n",
    "#delete zip file after reading\n",
    "os.remove(file)"
   ]
  },
  {
   "cell_type": "code",
   "execution_count": 97,
   "metadata": {},
   "outputs": [
    {
     "data": {
      "text/html": [
       "<div>\n",
       "<style scoped>\n",
       "    .dataframe tbody tr th:only-of-type {\n",
       "        vertical-align: middle;\n",
       "    }\n",
       "\n",
       "    .dataframe tbody tr th {\n",
       "        vertical-align: top;\n",
       "    }\n",
       "\n",
       "    .dataframe thead th {\n",
       "        text-align: right;\n",
       "    }\n",
       "</style>\n",
       "<table border=\"1\" class=\"dataframe\">\n",
       "  <thead>\n",
       "    <tr style=\"text-align: right;\">\n",
       "      <th></th>\n",
       "      <th>DeliveryDate</th>\n",
       "      <th>HourEnding</th>\n",
       "      <th>Coast</th>\n",
       "      <th>East</th>\n",
       "      <th>FarWest</th>\n",
       "      <th>North</th>\n",
       "      <th>NorthCentral</th>\n",
       "      <th>SouthCentral</th>\n",
       "      <th>Southern</th>\n",
       "      <th>West</th>\n",
       "      <th>SystemTotal</th>\n",
       "      <th>DSTFlag</th>\n",
       "    </tr>\n",
       "  </thead>\n",
       "  <tbody>\n",
       "    <tr>\n",
       "      <td>0</td>\n",
       "      <td>07/26/2020</td>\n",
       "      <td>1:00</td>\n",
       "      <td>11329.2998</td>\n",
       "      <td>1586.5800</td>\n",
       "      <td>3972.2500</td>\n",
       "      <td>1010.7800</td>\n",
       "      <td>14263.7002</td>\n",
       "      <td>6922.5698</td>\n",
       "      <td>2779.8799</td>\n",
       "      <td>1377.08</td>\n",
       "      <td>43242.1397</td>\n",
       "      <td>N</td>\n",
       "    </tr>\n",
       "    <tr>\n",
       "      <td>1</td>\n",
       "      <td>07/26/2020</td>\n",
       "      <td>2:00</td>\n",
       "      <td>11116.2998</td>\n",
       "      <td>1518.3300</td>\n",
       "      <td>3879.0300</td>\n",
       "      <td>965.5820</td>\n",
       "      <td>13484.7998</td>\n",
       "      <td>6488.8701</td>\n",
       "      <td>2582.1399</td>\n",
       "      <td>1328.29</td>\n",
       "      <td>41363.3416</td>\n",
       "      <td>N</td>\n",
       "    </tr>\n",
       "    <tr>\n",
       "      <td>2</td>\n",
       "      <td>07/26/2020</td>\n",
       "      <td>3:00</td>\n",
       "      <td>10999.5000</td>\n",
       "      <td>1449.6000</td>\n",
       "      <td>3829.1201</td>\n",
       "      <td>914.5130</td>\n",
       "      <td>12684.0996</td>\n",
       "      <td>6384.8301</td>\n",
       "      <td>2572.1399</td>\n",
       "      <td>1216.38</td>\n",
       "      <td>40050.1827</td>\n",
       "      <td>N</td>\n",
       "    </tr>\n",
       "    <tr>\n",
       "      <td>3</td>\n",
       "      <td>07/26/2020</td>\n",
       "      <td>4:00</td>\n",
       "      <td>10748.7002</td>\n",
       "      <td>1393.6200</td>\n",
       "      <td>3774.9299</td>\n",
       "      <td>873.9960</td>\n",
       "      <td>12087.0996</td>\n",
       "      <td>6229.7900</td>\n",
       "      <td>2503.7100</td>\n",
       "      <td>1133.60</td>\n",
       "      <td>38745.4457</td>\n",
       "      <td>N</td>\n",
       "    </tr>\n",
       "    <tr>\n",
       "      <td>4</td>\n",
       "      <td>07/26/2020</td>\n",
       "      <td>5:00</td>\n",
       "      <td>10718.2002</td>\n",
       "      <td>1357.1600</td>\n",
       "      <td>3736.2100</td>\n",
       "      <td>862.4670</td>\n",
       "      <td>12002.2998</td>\n",
       "      <td>6224.9399</td>\n",
       "      <td>2429.9600</td>\n",
       "      <td>1198.46</td>\n",
       "      <td>38529.6969</td>\n",
       "      <td>N</td>\n",
       "    </tr>\n",
       "    <tr>\n",
       "      <td>...</td>\n",
       "      <td>...</td>\n",
       "      <td>...</td>\n",
       "      <td>...</td>\n",
       "      <td>...</td>\n",
       "      <td>...</td>\n",
       "      <td>...</td>\n",
       "      <td>...</td>\n",
       "      <td>...</td>\n",
       "      <td>...</td>\n",
       "      <td>...</td>\n",
       "      <td>...</td>\n",
       "      <td>...</td>\n",
       "    </tr>\n",
       "    <tr>\n",
       "      <td>187</td>\n",
       "      <td>08/02/2020</td>\n",
       "      <td>20:00</td>\n",
       "      <td>15944.2002</td>\n",
       "      <td>2153.4600</td>\n",
       "      <td>4371.1201</td>\n",
       "      <td>1364.4800</td>\n",
       "      <td>20345.8008</td>\n",
       "      <td>11051.5000</td>\n",
       "      <td>4799.5098</td>\n",
       "      <td>2023.02</td>\n",
       "      <td>62053.0909</td>\n",
       "      <td>N</td>\n",
       "    </tr>\n",
       "    <tr>\n",
       "      <td>188</td>\n",
       "      <td>08/02/2020</td>\n",
       "      <td>21:00</td>\n",
       "      <td>15963.5996</td>\n",
       "      <td>2092.6799</td>\n",
       "      <td>4347.6001</td>\n",
       "      <td>1321.1100</td>\n",
       "      <td>19510.5000</td>\n",
       "      <td>10651.0996</td>\n",
       "      <td>4701.8501</td>\n",
       "      <td>1971.14</td>\n",
       "      <td>60559.5793</td>\n",
       "      <td>N</td>\n",
       "    </tr>\n",
       "    <tr>\n",
       "      <td>189</td>\n",
       "      <td>08/02/2020</td>\n",
       "      <td>22:00</td>\n",
       "      <td>15561.5000</td>\n",
       "      <td>2035.8500</td>\n",
       "      <td>4299.7202</td>\n",
       "      <td>1265.1500</td>\n",
       "      <td>18675.1992</td>\n",
       "      <td>10236.2998</td>\n",
       "      <td>4637.4399</td>\n",
       "      <td>1917.78</td>\n",
       "      <td>58628.9391</td>\n",
       "      <td>N</td>\n",
       "    </tr>\n",
       "    <tr>\n",
       "      <td>190</td>\n",
       "      <td>08/02/2020</td>\n",
       "      <td>23:00</td>\n",
       "      <td>14898.5000</td>\n",
       "      <td>1894.7000</td>\n",
       "      <td>4155.9102</td>\n",
       "      <td>1172.1801</td>\n",
       "      <td>17470.3008</td>\n",
       "      <td>9565.6201</td>\n",
       "      <td>4404.7402</td>\n",
       "      <td>1830.22</td>\n",
       "      <td>55392.1714</td>\n",
       "      <td>N</td>\n",
       "    </tr>\n",
       "    <tr>\n",
       "      <td>191</td>\n",
       "      <td>08/02/2020</td>\n",
       "      <td>24:00</td>\n",
       "      <td>13999.7998</td>\n",
       "      <td>1778.5500</td>\n",
       "      <td>4023.0701</td>\n",
       "      <td>1087.5400</td>\n",
       "      <td>15937.7998</td>\n",
       "      <td>8875.7598</td>\n",
       "      <td>4159.1099</td>\n",
       "      <td>1748.08</td>\n",
       "      <td>51609.7094</td>\n",
       "      <td>N</td>\n",
       "    </tr>\n",
       "  </tbody>\n",
       "</table>\n",
       "<p>192 rows × 12 columns</p>\n",
       "</div>"
      ],
      "text/plain": [
       "    DeliveryDate HourEnding       Coast       East    FarWest      North  \\\n",
       "0     07/26/2020       1:00  11329.2998  1586.5800  3972.2500  1010.7800   \n",
       "1     07/26/2020       2:00  11116.2998  1518.3300  3879.0300   965.5820   \n",
       "2     07/26/2020       3:00  10999.5000  1449.6000  3829.1201   914.5130   \n",
       "3     07/26/2020       4:00  10748.7002  1393.6200  3774.9299   873.9960   \n",
       "4     07/26/2020       5:00  10718.2002  1357.1600  3736.2100   862.4670   \n",
       "..           ...        ...         ...        ...        ...        ...   \n",
       "187   08/02/2020      20:00  15944.2002  2153.4600  4371.1201  1364.4800   \n",
       "188   08/02/2020      21:00  15963.5996  2092.6799  4347.6001  1321.1100   \n",
       "189   08/02/2020      22:00  15561.5000  2035.8500  4299.7202  1265.1500   \n",
       "190   08/02/2020      23:00  14898.5000  1894.7000  4155.9102  1172.1801   \n",
       "191   08/02/2020      24:00  13999.7998  1778.5500  4023.0701  1087.5400   \n",
       "\n",
       "     NorthCentral  SouthCentral   Southern     West  SystemTotal DSTFlag  \n",
       "0      14263.7002     6922.5698  2779.8799  1377.08   43242.1397       N  \n",
       "1      13484.7998     6488.8701  2582.1399  1328.29   41363.3416       N  \n",
       "2      12684.0996     6384.8301  2572.1399  1216.38   40050.1827       N  \n",
       "3      12087.0996     6229.7900  2503.7100  1133.60   38745.4457       N  \n",
       "4      12002.2998     6224.9399  2429.9600  1198.46   38529.6969       N  \n",
       "..            ...           ...        ...      ...          ...     ...  \n",
       "187    20345.8008    11051.5000  4799.5098  2023.02   62053.0909       N  \n",
       "188    19510.5000    10651.0996  4701.8501  1971.14   60559.5793       N  \n",
       "189    18675.1992    10236.2998  4637.4399  1917.78   58628.9391       N  \n",
       "190    17470.3008     9565.6201  4404.7402  1830.22   55392.1714       N  \n",
       "191    15937.7998     8875.7598  4159.1099  1748.08   51609.7094       N  \n",
       "\n",
       "[192 rows x 12 columns]"
      ]
     },
     "execution_count": 97,
     "metadata": {},
     "output_type": "execute_result"
    }
   ],
   "source": [
    "load_fcst"
   ]
  },
  {
   "cell_type": "code",
   "execution_count": 98,
   "metadata": {},
   "outputs": [],
   "source": [
    "#clean existing columns\n",
    "load_fcst['DeliveryDate'] = pd.to_datetime(load_fcst.DeliveryDate).dt.normalize()\n",
    "load_fcst['HourEnding'] = load_fcst.HourEnding.str.split(':').str[0]\n",
    "\n",
    "#add file name and process info to df\n",
    "load_fcst['FileName'] = z.namelist()[0]\n",
    "load_fcst['ProcessDate'] = pd.to_datetime(load_fcst.FileName.str.split('.').str[3]).dt.normalize()\n",
    "load_fcst['ProcessHour'] = load_fcst.FileName.str.split('.').str[4]\n",
    "load_fcst['ProcessDT'] = pd.to_datetime(load_fcst.FileName.str.split('.').str[3] + load_fcst.FileName.str.split('.').str[4])\n",
    "\n",
    "#add delivery date time\n",
    "load_fcst['DeliveryDT'] = pd.to_datetime(load_fcst.DeliveryDate) + load_fcst.HourEnding.astype('timedelta64[h]')\n",
    "\n",
    "#add weekday columns\n",
    "load_fcst['Weekday'] = load_fcst.DeliveryDT.dt.day_name()\n"
   ]
  },
  {
   "cell_type": "code",
   "execution_count": 99,
   "metadata": {},
   "outputs": [
    {
     "data": {
      "text/html": [
       "<div>\n",
       "<style scoped>\n",
       "    .dataframe tbody tr th:only-of-type {\n",
       "        vertical-align: middle;\n",
       "    }\n",
       "\n",
       "    .dataframe tbody tr th {\n",
       "        vertical-align: top;\n",
       "    }\n",
       "\n",
       "    .dataframe thead th {\n",
       "        text-align: right;\n",
       "    }\n",
       "</style>\n",
       "<table border=\"1\" class=\"dataframe\">\n",
       "  <thead>\n",
       "    <tr style=\"text-align: right;\">\n",
       "      <th></th>\n",
       "      <th>DeliveryDate</th>\n",
       "      <th>HourEnding</th>\n",
       "      <th>Coast</th>\n",
       "      <th>East</th>\n",
       "      <th>FarWest</th>\n",
       "      <th>North</th>\n",
       "      <th>NorthCentral</th>\n",
       "      <th>SouthCentral</th>\n",
       "      <th>Southern</th>\n",
       "      <th>West</th>\n",
       "      <th>SystemTotal</th>\n",
       "      <th>DSTFlag</th>\n",
       "      <th>FileName</th>\n",
       "      <th>ProcessDate</th>\n",
       "      <th>ProcessHour</th>\n",
       "      <th>ProcessDT</th>\n",
       "      <th>DeliveryDT</th>\n",
       "      <th>Weekday</th>\n",
       "    </tr>\n",
       "  </thead>\n",
       "  <tbody>\n",
       "    <tr>\n",
       "      <td>0</td>\n",
       "      <td>2020-07-26</td>\n",
       "      <td>1</td>\n",
       "      <td>11329.2998</td>\n",
       "      <td>1586.58</td>\n",
       "      <td>3972.2500</td>\n",
       "      <td>1010.780</td>\n",
       "      <td>14263.7002</td>\n",
       "      <td>6922.5698</td>\n",
       "      <td>2779.8799</td>\n",
       "      <td>1377.08</td>\n",
       "      <td>43242.1397</td>\n",
       "      <td>N</td>\n",
       "      <td>cdr.00012312.0000000000000000.20200726.223000....</td>\n",
       "      <td>2020-07-26</td>\n",
       "      <td>223000</td>\n",
       "      <td>2020-07-26 22:30:00</td>\n",
       "      <td>2020-07-26 01:00:00</td>\n",
       "      <td>Sunday</td>\n",
       "    </tr>\n",
       "    <tr>\n",
       "      <td>1</td>\n",
       "      <td>2020-07-26</td>\n",
       "      <td>2</td>\n",
       "      <td>11116.2998</td>\n",
       "      <td>1518.33</td>\n",
       "      <td>3879.0300</td>\n",
       "      <td>965.582</td>\n",
       "      <td>13484.7998</td>\n",
       "      <td>6488.8701</td>\n",
       "      <td>2582.1399</td>\n",
       "      <td>1328.29</td>\n",
       "      <td>41363.3416</td>\n",
       "      <td>N</td>\n",
       "      <td>cdr.00012312.0000000000000000.20200726.223000....</td>\n",
       "      <td>2020-07-26</td>\n",
       "      <td>223000</td>\n",
       "      <td>2020-07-26 22:30:00</td>\n",
       "      <td>2020-07-26 02:00:00</td>\n",
       "      <td>Sunday</td>\n",
       "    </tr>\n",
       "    <tr>\n",
       "      <td>2</td>\n",
       "      <td>2020-07-26</td>\n",
       "      <td>3</td>\n",
       "      <td>10999.5000</td>\n",
       "      <td>1449.60</td>\n",
       "      <td>3829.1201</td>\n",
       "      <td>914.513</td>\n",
       "      <td>12684.0996</td>\n",
       "      <td>6384.8301</td>\n",
       "      <td>2572.1399</td>\n",
       "      <td>1216.38</td>\n",
       "      <td>40050.1827</td>\n",
       "      <td>N</td>\n",
       "      <td>cdr.00012312.0000000000000000.20200726.223000....</td>\n",
       "      <td>2020-07-26</td>\n",
       "      <td>223000</td>\n",
       "      <td>2020-07-26 22:30:00</td>\n",
       "      <td>2020-07-26 03:00:00</td>\n",
       "      <td>Sunday</td>\n",
       "    </tr>\n",
       "    <tr>\n",
       "      <td>3</td>\n",
       "      <td>2020-07-26</td>\n",
       "      <td>4</td>\n",
       "      <td>10748.7002</td>\n",
       "      <td>1393.62</td>\n",
       "      <td>3774.9299</td>\n",
       "      <td>873.996</td>\n",
       "      <td>12087.0996</td>\n",
       "      <td>6229.7900</td>\n",
       "      <td>2503.7100</td>\n",
       "      <td>1133.60</td>\n",
       "      <td>38745.4457</td>\n",
       "      <td>N</td>\n",
       "      <td>cdr.00012312.0000000000000000.20200726.223000....</td>\n",
       "      <td>2020-07-26</td>\n",
       "      <td>223000</td>\n",
       "      <td>2020-07-26 22:30:00</td>\n",
       "      <td>2020-07-26 04:00:00</td>\n",
       "      <td>Sunday</td>\n",
       "    </tr>\n",
       "    <tr>\n",
       "      <td>4</td>\n",
       "      <td>2020-07-26</td>\n",
       "      <td>5</td>\n",
       "      <td>10718.2002</td>\n",
       "      <td>1357.16</td>\n",
       "      <td>3736.2100</td>\n",
       "      <td>862.467</td>\n",
       "      <td>12002.2998</td>\n",
       "      <td>6224.9399</td>\n",
       "      <td>2429.9600</td>\n",
       "      <td>1198.46</td>\n",
       "      <td>38529.6969</td>\n",
       "      <td>N</td>\n",
       "      <td>cdr.00012312.0000000000000000.20200726.223000....</td>\n",
       "      <td>2020-07-26</td>\n",
       "      <td>223000</td>\n",
       "      <td>2020-07-26 22:30:00</td>\n",
       "      <td>2020-07-26 05:00:00</td>\n",
       "      <td>Sunday</td>\n",
       "    </tr>\n",
       "  </tbody>\n",
       "</table>\n",
       "</div>"
      ],
      "text/plain": [
       "  DeliveryDate HourEnding       Coast     East    FarWest     North  \\\n",
       "0   2020-07-26          1  11329.2998  1586.58  3972.2500  1010.780   \n",
       "1   2020-07-26          2  11116.2998  1518.33  3879.0300   965.582   \n",
       "2   2020-07-26          3  10999.5000  1449.60  3829.1201   914.513   \n",
       "3   2020-07-26          4  10748.7002  1393.62  3774.9299   873.996   \n",
       "4   2020-07-26          5  10718.2002  1357.16  3736.2100   862.467   \n",
       "\n",
       "   NorthCentral  SouthCentral   Southern     West  SystemTotal DSTFlag  \\\n",
       "0    14263.7002     6922.5698  2779.8799  1377.08   43242.1397       N   \n",
       "1    13484.7998     6488.8701  2582.1399  1328.29   41363.3416       N   \n",
       "2    12684.0996     6384.8301  2572.1399  1216.38   40050.1827       N   \n",
       "3    12087.0996     6229.7900  2503.7100  1133.60   38745.4457       N   \n",
       "4    12002.2998     6224.9399  2429.9600  1198.46   38529.6969       N   \n",
       "\n",
       "                                            FileName ProcessDate ProcessHour  \\\n",
       "0  cdr.00012312.0000000000000000.20200726.223000....  2020-07-26      223000   \n",
       "1  cdr.00012312.0000000000000000.20200726.223000....  2020-07-26      223000   \n",
       "2  cdr.00012312.0000000000000000.20200726.223000....  2020-07-26      223000   \n",
       "3  cdr.00012312.0000000000000000.20200726.223000....  2020-07-26      223000   \n",
       "4  cdr.00012312.0000000000000000.20200726.223000....  2020-07-26      223000   \n",
       "\n",
       "            ProcessDT          DeliveryDT Weekday  \n",
       "0 2020-07-26 22:30:00 2020-07-26 01:00:00  Sunday  \n",
       "1 2020-07-26 22:30:00 2020-07-26 02:00:00  Sunday  \n",
       "2 2020-07-26 22:30:00 2020-07-26 03:00:00  Sunday  \n",
       "3 2020-07-26 22:30:00 2020-07-26 04:00:00  Sunday  \n",
       "4 2020-07-26 22:30:00 2020-07-26 05:00:00  Sunday  "
      ]
     },
     "execution_count": 99,
     "metadata": {},
     "output_type": "execute_result"
    }
   ],
   "source": [
    "load_fcst.head()"
   ]
  },
  {
   "cell_type": "code",
   "execution_count": 100,
   "metadata": {},
   "outputs": [
    {
     "data": {
      "text/html": [
       "<div>\n",
       "<style scoped>\n",
       "    .dataframe tbody tr th:only-of-type {\n",
       "        vertical-align: middle;\n",
       "    }\n",
       "\n",
       "    .dataframe tbody tr th {\n",
       "        vertical-align: top;\n",
       "    }\n",
       "\n",
       "    .dataframe thead th {\n",
       "        text-align: right;\n",
       "    }\n",
       "</style>\n",
       "<table border=\"1\" class=\"dataframe\">\n",
       "  <thead>\n",
       "    <tr style=\"text-align: right;\">\n",
       "      <th></th>\n",
       "      <th>Coast</th>\n",
       "      <th>East</th>\n",
       "      <th>FarWest</th>\n",
       "      <th>North</th>\n",
       "      <th>NorthCentral</th>\n",
       "      <th>SouthCentral</th>\n",
       "      <th>Southern</th>\n",
       "      <th>West</th>\n",
       "      <th>SystemTotal</th>\n",
       "    </tr>\n",
       "  </thead>\n",
       "  <tbody>\n",
       "    <tr>\n",
       "      <td>count</td>\n",
       "      <td>192.000000</td>\n",
       "      <td>192.000000</td>\n",
       "      <td>192.000000</td>\n",
       "      <td>192.000000</td>\n",
       "      <td>192.000000</td>\n",
       "      <td>192.000000</td>\n",
       "      <td>192.000000</td>\n",
       "      <td>192.000000</td>\n",
       "      <td>192.000000</td>\n",
       "    </tr>\n",
       "    <tr>\n",
       "      <td>mean</td>\n",
       "      <td>14324.997909</td>\n",
       "      <td>1882.838022</td>\n",
       "      <td>4019.515374</td>\n",
       "      <td>1148.064322</td>\n",
       "      <td>16759.154699</td>\n",
       "      <td>8557.971093</td>\n",
       "      <td>3835.395518</td>\n",
       "      <td>1658.400418</td>\n",
       "      <td>52186.337355</td>\n",
       "    </tr>\n",
       "    <tr>\n",
       "      <td>std</td>\n",
       "      <td>2159.632789</td>\n",
       "      <td>325.701827</td>\n",
       "      <td>215.666883</td>\n",
       "      <td>204.337760</td>\n",
       "      <td>3231.090727</td>\n",
       "      <td>1611.479311</td>\n",
       "      <td>710.549237</td>\n",
       "      <td>248.418293</td>\n",
       "      <td>8508.404419</td>\n",
       "    </tr>\n",
       "    <tr>\n",
       "      <td>min</td>\n",
       "      <td>10566.200200</td>\n",
       "      <td>1284.850000</td>\n",
       "      <td>3621.310100</td>\n",
       "      <td>835.041000</td>\n",
       "      <td>11788.700200</td>\n",
       "      <td>6161.620100</td>\n",
       "      <td>2357.290000</td>\n",
       "      <td>1133.600000</td>\n",
       "      <td>37987.388200</td>\n",
       "    </tr>\n",
       "    <tr>\n",
       "      <td>25%</td>\n",
       "      <td>12372.975100</td>\n",
       "      <td>1574.770000</td>\n",
       "      <td>3810.140025</td>\n",
       "      <td>952.158750</td>\n",
       "      <td>13573.449950</td>\n",
       "      <td>7047.005000</td>\n",
       "      <td>3260.562400</td>\n",
       "      <td>1445.857500</td>\n",
       "      <td>44121.092100</td>\n",
       "    </tr>\n",
       "    <tr>\n",
       "      <td>50%</td>\n",
       "      <td>14236.049800</td>\n",
       "      <td>1894.640000</td>\n",
       "      <td>4020.070100</td>\n",
       "      <td>1136.550000</td>\n",
       "      <td>16676.450200</td>\n",
       "      <td>8551.029800</td>\n",
       "      <td>3753.545050</td>\n",
       "      <td>1614.835050</td>\n",
       "      <td>52268.320200</td>\n",
       "    </tr>\n",
       "    <tr>\n",
       "      <td>75%</td>\n",
       "      <td>16221.775400</td>\n",
       "      <td>2180.512500</td>\n",
       "      <td>4226.482400</td>\n",
       "      <td>1331.167500</td>\n",
       "      <td>19700.725100</td>\n",
       "      <td>9941.192625</td>\n",
       "      <td>4386.894875</td>\n",
       "      <td>1886.777475</td>\n",
       "      <td>60074.868975</td>\n",
       "    </tr>\n",
       "    <tr>\n",
       "      <td>max</td>\n",
       "      <td>18407.900400</td>\n",
       "      <td>2456.230000</td>\n",
       "      <td>4423.100100</td>\n",
       "      <td>1538.400000</td>\n",
       "      <td>22946.099600</td>\n",
       "      <td>11592.299800</td>\n",
       "      <td>5250.770000</td>\n",
       "      <td>2099.379900</td>\n",
       "      <td>68193.340600</td>\n",
       "    </tr>\n",
       "  </tbody>\n",
       "</table>\n",
       "</div>"
      ],
      "text/plain": [
       "              Coast         East      FarWest        North  NorthCentral  \\\n",
       "count    192.000000   192.000000   192.000000   192.000000    192.000000   \n",
       "mean   14324.997909  1882.838022  4019.515374  1148.064322  16759.154699   \n",
       "std     2159.632789   325.701827   215.666883   204.337760   3231.090727   \n",
       "min    10566.200200  1284.850000  3621.310100   835.041000  11788.700200   \n",
       "25%    12372.975100  1574.770000  3810.140025   952.158750  13573.449950   \n",
       "50%    14236.049800  1894.640000  4020.070100  1136.550000  16676.450200   \n",
       "75%    16221.775400  2180.512500  4226.482400  1331.167500  19700.725100   \n",
       "max    18407.900400  2456.230000  4423.100100  1538.400000  22946.099600   \n",
       "\n",
       "       SouthCentral     Southern         West   SystemTotal  \n",
       "count    192.000000   192.000000   192.000000    192.000000  \n",
       "mean    8557.971093  3835.395518  1658.400418  52186.337355  \n",
       "std     1611.479311   710.549237   248.418293   8508.404419  \n",
       "min     6161.620100  2357.290000  1133.600000  37987.388200  \n",
       "25%     7047.005000  3260.562400  1445.857500  44121.092100  \n",
       "50%     8551.029800  3753.545050  1614.835050  52268.320200  \n",
       "75%     9941.192625  4386.894875  1886.777475  60074.868975  \n",
       "max    11592.299800  5250.770000  2099.379900  68193.340600  "
      ]
     },
     "execution_count": 100,
     "metadata": {},
     "output_type": "execute_result"
    }
   ],
   "source": [
    "load_fcst.describe()"
   ]
  },
  {
   "cell_type": "code",
   "execution_count": 101,
   "metadata": {},
   "outputs": [
    {
     "data": {
      "text/plain": [
       "DeliveryDate    datetime64[ns]\n",
       "HourEnding              object\n",
       "Coast                  float64\n",
       "East                   float64\n",
       "FarWest                float64\n",
       "North                  float64\n",
       "NorthCentral           float64\n",
       "SouthCentral           float64\n",
       "Southern               float64\n",
       "West                   float64\n",
       "SystemTotal            float64\n",
       "DSTFlag                 object\n",
       "FileName                object\n",
       "ProcessDate     datetime64[ns]\n",
       "ProcessHour             object\n",
       "ProcessDT       datetime64[ns]\n",
       "DeliveryDT      datetime64[ns]\n",
       "Weekday                 object\n",
       "dtype: object"
      ]
     },
     "execution_count": 101,
     "metadata": {},
     "output_type": "execute_result"
    }
   ],
   "source": [
    "load_fcst.dtypes"
   ]
  },
  {
   "cell_type": "code",
   "execution_count": 102,
   "metadata": {},
   "outputs": [
    {
     "data": {
      "text/plain": [
       "'cdr.00012312.0000000000000000.20200726.223000.LFCWEATHERNP3561.csv'"
      ]
     },
     "execution_count": 102,
     "metadata": {},
     "output_type": "execute_result"
    }
   ],
   "source": [
    "z.namelist()[0]"
   ]
  },
  {
   "cell_type": "markdown",
   "metadata": {},
   "source": [
    "### Convert DF to Long Format (i.e. Unpivot Forecast columns)"
   ]
  },
  {
   "cell_type": "code",
   "execution_count": 72,
   "metadata": {},
   "outputs": [
    {
     "data": {
      "text/html": [
       "<div>\n",
       "<style scoped>\n",
       "    .dataframe tbody tr th:only-of-type {\n",
       "        vertical-align: middle;\n",
       "    }\n",
       "\n",
       "    .dataframe tbody tr th {\n",
       "        vertical-align: top;\n",
       "    }\n",
       "\n",
       "    .dataframe thead th {\n",
       "        text-align: right;\n",
       "    }\n",
       "</style>\n",
       "<table border=\"1\" class=\"dataframe\">\n",
       "  <thead>\n",
       "    <tr style=\"text-align: right;\">\n",
       "      <th></th>\n",
       "      <th>DeliveryDT</th>\n",
       "      <th>DeliveryDate</th>\n",
       "      <th>Weekday</th>\n",
       "      <th>HourEnding</th>\n",
       "      <th>DSTFlag</th>\n",
       "      <th>WeatherZone</th>\n",
       "      <th>MW</th>\n",
       "      <th>ProcessDate</th>\n",
       "      <th>ProcessHour</th>\n",
       "      <th>ProcessDT</th>\n",
       "      <th>FileName</th>\n",
       "    </tr>\n",
       "  </thead>\n",
       "  <tbody>\n",
       "    <tr>\n",
       "      <td>0</td>\n",
       "      <td>2020-07-26 01:00:00</td>\n",
       "      <td>2020-07-26</td>\n",
       "      <td>Sunday</td>\n",
       "      <td>1</td>\n",
       "      <td>N</td>\n",
       "      <td>Coast</td>\n",
       "      <td>11329.2998</td>\n",
       "      <td>2020-07-26</td>\n",
       "      <td>203000</td>\n",
       "      <td>2020-07-26 20:30:00</td>\n",
       "      <td>cdr.00012312.0000000000000000.20200726.203000....</td>\n",
       "    </tr>\n",
       "    <tr>\n",
       "      <td>1</td>\n",
       "      <td>2020-07-26 02:00:00</td>\n",
       "      <td>2020-07-26</td>\n",
       "      <td>Sunday</td>\n",
       "      <td>2</td>\n",
       "      <td>N</td>\n",
       "      <td>Coast</td>\n",
       "      <td>11116.2998</td>\n",
       "      <td>2020-07-26</td>\n",
       "      <td>203000</td>\n",
       "      <td>2020-07-26 20:30:00</td>\n",
       "      <td>cdr.00012312.0000000000000000.20200726.203000....</td>\n",
       "    </tr>\n",
       "    <tr>\n",
       "      <td>2</td>\n",
       "      <td>2020-07-26 03:00:00</td>\n",
       "      <td>2020-07-26</td>\n",
       "      <td>Sunday</td>\n",
       "      <td>3</td>\n",
       "      <td>N</td>\n",
       "      <td>Coast</td>\n",
       "      <td>10999.5000</td>\n",
       "      <td>2020-07-26</td>\n",
       "      <td>203000</td>\n",
       "      <td>2020-07-26 20:30:00</td>\n",
       "      <td>cdr.00012312.0000000000000000.20200726.203000....</td>\n",
       "    </tr>\n",
       "    <tr>\n",
       "      <td>3</td>\n",
       "      <td>2020-07-26 04:00:00</td>\n",
       "      <td>2020-07-26</td>\n",
       "      <td>Sunday</td>\n",
       "      <td>4</td>\n",
       "      <td>N</td>\n",
       "      <td>Coast</td>\n",
       "      <td>10748.7002</td>\n",
       "      <td>2020-07-26</td>\n",
       "      <td>203000</td>\n",
       "      <td>2020-07-26 20:30:00</td>\n",
       "      <td>cdr.00012312.0000000000000000.20200726.203000....</td>\n",
       "    </tr>\n",
       "    <tr>\n",
       "      <td>4</td>\n",
       "      <td>2020-07-26 05:00:00</td>\n",
       "      <td>2020-07-26</td>\n",
       "      <td>Sunday</td>\n",
       "      <td>5</td>\n",
       "      <td>N</td>\n",
       "      <td>Coast</td>\n",
       "      <td>10718.2002</td>\n",
       "      <td>2020-07-26</td>\n",
       "      <td>203000</td>\n",
       "      <td>2020-07-26 20:30:00</td>\n",
       "      <td>cdr.00012312.0000000000000000.20200726.203000....</td>\n",
       "    </tr>\n",
       "    <tr>\n",
       "      <td>...</td>\n",
       "      <td>...</td>\n",
       "      <td>...</td>\n",
       "      <td>...</td>\n",
       "      <td>...</td>\n",
       "      <td>...</td>\n",
       "      <td>...</td>\n",
       "      <td>...</td>\n",
       "      <td>...</td>\n",
       "      <td>...</td>\n",
       "      <td>...</td>\n",
       "      <td>...</td>\n",
       "    </tr>\n",
       "    <tr>\n",
       "      <td>1723</td>\n",
       "      <td>2020-08-02 20:00:00</td>\n",
       "      <td>2020-08-02</td>\n",
       "      <td>Sunday</td>\n",
       "      <td>20</td>\n",
       "      <td>N</td>\n",
       "      <td>SystemTotal</td>\n",
       "      <td>61980.8105</td>\n",
       "      <td>2020-07-26</td>\n",
       "      <td>203000</td>\n",
       "      <td>2020-07-26 20:30:00</td>\n",
       "      <td>cdr.00012312.0000000000000000.20200726.203000....</td>\n",
       "    </tr>\n",
       "    <tr>\n",
       "      <td>1724</td>\n",
       "      <td>2020-08-02 21:00:00</td>\n",
       "      <td>2020-08-02</td>\n",
       "      <td>Sunday</td>\n",
       "      <td>21</td>\n",
       "      <td>N</td>\n",
       "      <td>SystemTotal</td>\n",
       "      <td>60434.3512</td>\n",
       "      <td>2020-07-26</td>\n",
       "      <td>203000</td>\n",
       "      <td>2020-07-26 20:30:00</td>\n",
       "      <td>cdr.00012312.0000000000000000.20200726.203000....</td>\n",
       "    </tr>\n",
       "    <tr>\n",
       "      <td>1725</td>\n",
       "      <td>2020-08-02 22:00:00</td>\n",
       "      <td>2020-08-02</td>\n",
       "      <td>Sunday</td>\n",
       "      <td>22</td>\n",
       "      <td>N</td>\n",
       "      <td>SystemTotal</td>\n",
       "      <td>58590.9799</td>\n",
       "      <td>2020-07-26</td>\n",
       "      <td>203000</td>\n",
       "      <td>2020-07-26 20:30:00</td>\n",
       "      <td>cdr.00012312.0000000000000000.20200726.203000....</td>\n",
       "    </tr>\n",
       "    <tr>\n",
       "      <td>1726</td>\n",
       "      <td>2020-08-02 23:00:00</td>\n",
       "      <td>2020-08-02</td>\n",
       "      <td>Sunday</td>\n",
       "      <td>23</td>\n",
       "      <td>N</td>\n",
       "      <td>SystemTotal</td>\n",
       "      <td>55288.5008</td>\n",
       "      <td>2020-07-26</td>\n",
       "      <td>203000</td>\n",
       "      <td>2020-07-26 20:30:00</td>\n",
       "      <td>cdr.00012312.0000000000000000.20200726.203000....</td>\n",
       "    </tr>\n",
       "    <tr>\n",
       "      <td>1727</td>\n",
       "      <td>2020-08-03 00:00:00</td>\n",
       "      <td>2020-08-02</td>\n",
       "      <td>Monday</td>\n",
       "      <td>24</td>\n",
       "      <td>N</td>\n",
       "      <td>SystemTotal</td>\n",
       "      <td>51512.5701</td>\n",
       "      <td>2020-07-26</td>\n",
       "      <td>203000</td>\n",
       "      <td>2020-07-26 20:30:00</td>\n",
       "      <td>cdr.00012312.0000000000000000.20200726.203000....</td>\n",
       "    </tr>\n",
       "  </tbody>\n",
       "</table>\n",
       "<p>1728 rows × 11 columns</p>\n",
       "</div>"
      ],
      "text/plain": [
       "              DeliveryDT DeliveryDate Weekday HourEnding DSTFlag  WeatherZone  \\\n",
       "0    2020-07-26 01:00:00   2020-07-26  Sunday          1       N        Coast   \n",
       "1    2020-07-26 02:00:00   2020-07-26  Sunday          2       N        Coast   \n",
       "2    2020-07-26 03:00:00   2020-07-26  Sunday          3       N        Coast   \n",
       "3    2020-07-26 04:00:00   2020-07-26  Sunday          4       N        Coast   \n",
       "4    2020-07-26 05:00:00   2020-07-26  Sunday          5       N        Coast   \n",
       "...                  ...          ...     ...        ...     ...          ...   \n",
       "1723 2020-08-02 20:00:00   2020-08-02  Sunday         20       N  SystemTotal   \n",
       "1724 2020-08-02 21:00:00   2020-08-02  Sunday         21       N  SystemTotal   \n",
       "1725 2020-08-02 22:00:00   2020-08-02  Sunday         22       N  SystemTotal   \n",
       "1726 2020-08-02 23:00:00   2020-08-02  Sunday         23       N  SystemTotal   \n",
       "1727 2020-08-03 00:00:00   2020-08-02  Monday         24       N  SystemTotal   \n",
       "\n",
       "              MW ProcessDate ProcessHour           ProcessDT  \\\n",
       "0     11329.2998  2020-07-26      203000 2020-07-26 20:30:00   \n",
       "1     11116.2998  2020-07-26      203000 2020-07-26 20:30:00   \n",
       "2     10999.5000  2020-07-26      203000 2020-07-26 20:30:00   \n",
       "3     10748.7002  2020-07-26      203000 2020-07-26 20:30:00   \n",
       "4     10718.2002  2020-07-26      203000 2020-07-26 20:30:00   \n",
       "...          ...         ...         ...                 ...   \n",
       "1723  61980.8105  2020-07-26      203000 2020-07-26 20:30:00   \n",
       "1724  60434.3512  2020-07-26      203000 2020-07-26 20:30:00   \n",
       "1725  58590.9799  2020-07-26      203000 2020-07-26 20:30:00   \n",
       "1726  55288.5008  2020-07-26      203000 2020-07-26 20:30:00   \n",
       "1727  51512.5701  2020-07-26      203000 2020-07-26 20:30:00   \n",
       "\n",
       "                                               FileName  \n",
       "0     cdr.00012312.0000000000000000.20200726.203000....  \n",
       "1     cdr.00012312.0000000000000000.20200726.203000....  \n",
       "2     cdr.00012312.0000000000000000.20200726.203000....  \n",
       "3     cdr.00012312.0000000000000000.20200726.203000....  \n",
       "4     cdr.00012312.0000000000000000.20200726.203000....  \n",
       "...                                                 ...  \n",
       "1723  cdr.00012312.0000000000000000.20200726.203000....  \n",
       "1724  cdr.00012312.0000000000000000.20200726.203000....  \n",
       "1725  cdr.00012312.0000000000000000.20200726.203000....  \n",
       "1726  cdr.00012312.0000000000000000.20200726.203000....  \n",
       "1727  cdr.00012312.0000000000000000.20200726.203000....  \n",
       "\n",
       "[1728 rows x 11 columns]"
      ]
     },
     "execution_count": 72,
     "metadata": {},
     "output_type": "execute_result"
    }
   ],
   "source": [
    "#use pd.melt to unpivot columns\n",
    "long_load_fcst = pd.melt(load_fcst, id_vars=['DeliveryDate', 'Weekday', 'HourEnding', 'DSTFlag', 'FileName', 'ProcessDate', 'ProcessHour', 'ProcessDT', 'DeliveryDT'],var_name='WeatherZone', value_name ='MW')\n",
    "\n",
    "#reorganize columns\n",
    "columns = ['DeliveryDT', 'DeliveryDate', 'Weekday', 'HourEnding', 'DSTFlag', 'WeatherZone', 'MW', 'ProcessDate', 'ProcessHour', 'ProcessDT', 'FileName']\n",
    "\n",
    "\n",
    "long_load_fcst = long_load_fcst[columns]\n",
    "long_load_fcst"
   ]
  },
  {
   "cell_type": "markdown",
   "metadata": {},
   "source": [
    "## Plotting Forecasts"
   ]
  },
  {
   "cell_type": "code",
   "execution_count": 73,
   "metadata": {},
   "outputs": [],
   "source": [
    "import plotly.express as px\n",
    "#import plotly.io as pio\n",
    "#pio.renderers.default = \"svg\""
   ]
  },
  {
   "cell_type": "code",
   "execution_count": 74,
   "metadata": {},
   "outputs": [
    {
     "data": {
      "application/vnd.plotly.v1+json": {
       "config": {
        "plotlyServerURL": "https://plot.ly"
       },
       "data": [
        {
         "hovertemplate": "DeliveryDT=%{x}<br>MW=%{y}<extra></extra>",
         "legendgroup": "",
         "line": {
          "color": "#636efa",
          "dash": "solid"
         },
         "mode": "lines",
         "name": "",
         "showlegend": false,
         "type": "scatter",
         "x": [
          "2020-07-26T01:00:00",
          "2020-07-26T02:00:00",
          "2020-07-26T03:00:00",
          "2020-07-26T04:00:00",
          "2020-07-26T05:00:00",
          "2020-07-26T06:00:00",
          "2020-07-26T07:00:00",
          "2020-07-26T08:00:00",
          "2020-07-26T09:00:00",
          "2020-07-26T10:00:00",
          "2020-07-26T11:00:00",
          "2020-07-26T12:00:00",
          "2020-07-26T13:00:00",
          "2020-07-26T14:00:00",
          "2020-07-26T15:00:00",
          "2020-07-26T16:00:00",
          "2020-07-26T17:00:00",
          "2020-07-26T18:00:00",
          "2020-07-26T19:00:00",
          "2020-07-26T20:00:00",
          "2020-07-26T21:00:00",
          "2020-07-26T22:00:00",
          "2020-07-26T23:00:00",
          "2020-07-27T00:00:00",
          "2020-07-27T01:00:00",
          "2020-07-27T02:00:00",
          "2020-07-27T03:00:00",
          "2020-07-27T04:00:00",
          "2020-07-27T05:00:00",
          "2020-07-27T06:00:00",
          "2020-07-27T07:00:00",
          "2020-07-27T08:00:00",
          "2020-07-27T09:00:00",
          "2020-07-27T10:00:00",
          "2020-07-27T11:00:00",
          "2020-07-27T12:00:00",
          "2020-07-27T13:00:00",
          "2020-07-27T14:00:00",
          "2020-07-27T15:00:00",
          "2020-07-27T16:00:00",
          "2020-07-27T17:00:00",
          "2020-07-27T18:00:00",
          "2020-07-27T19:00:00",
          "2020-07-27T20:00:00",
          "2020-07-27T21:00:00",
          "2020-07-27T22:00:00",
          "2020-07-27T23:00:00",
          "2020-07-28T00:00:00",
          "2020-07-28T01:00:00",
          "2020-07-28T02:00:00",
          "2020-07-28T03:00:00",
          "2020-07-28T04:00:00",
          "2020-07-28T05:00:00",
          "2020-07-28T06:00:00",
          "2020-07-28T07:00:00",
          "2020-07-28T08:00:00",
          "2020-07-28T09:00:00",
          "2020-07-28T10:00:00",
          "2020-07-28T11:00:00",
          "2020-07-28T12:00:00",
          "2020-07-28T13:00:00",
          "2020-07-28T14:00:00",
          "2020-07-28T15:00:00",
          "2020-07-28T16:00:00",
          "2020-07-28T17:00:00",
          "2020-07-28T18:00:00",
          "2020-07-28T19:00:00",
          "2020-07-28T20:00:00",
          "2020-07-28T21:00:00",
          "2020-07-28T22:00:00",
          "2020-07-28T23:00:00",
          "2020-07-29T00:00:00",
          "2020-07-29T01:00:00",
          "2020-07-29T02:00:00",
          "2020-07-29T03:00:00",
          "2020-07-29T04:00:00",
          "2020-07-29T05:00:00",
          "2020-07-29T06:00:00",
          "2020-07-29T07:00:00",
          "2020-07-29T08:00:00",
          "2020-07-29T09:00:00",
          "2020-07-29T10:00:00",
          "2020-07-29T11:00:00",
          "2020-07-29T12:00:00",
          "2020-07-29T13:00:00",
          "2020-07-29T14:00:00",
          "2020-07-29T15:00:00",
          "2020-07-29T16:00:00",
          "2020-07-29T17:00:00",
          "2020-07-29T18:00:00",
          "2020-07-29T19:00:00",
          "2020-07-29T20:00:00",
          "2020-07-29T21:00:00",
          "2020-07-29T22:00:00",
          "2020-07-29T23:00:00",
          "2020-07-30T00:00:00",
          "2020-07-30T01:00:00",
          "2020-07-30T02:00:00",
          "2020-07-30T03:00:00",
          "2020-07-30T04:00:00",
          "2020-07-30T05:00:00",
          "2020-07-30T06:00:00",
          "2020-07-30T07:00:00",
          "2020-07-30T08:00:00",
          "2020-07-30T09:00:00",
          "2020-07-30T10:00:00",
          "2020-07-30T11:00:00",
          "2020-07-30T12:00:00",
          "2020-07-30T13:00:00",
          "2020-07-30T14:00:00",
          "2020-07-30T15:00:00",
          "2020-07-30T16:00:00",
          "2020-07-30T17:00:00",
          "2020-07-30T18:00:00",
          "2020-07-30T19:00:00",
          "2020-07-30T20:00:00",
          "2020-07-30T21:00:00",
          "2020-07-30T22:00:00",
          "2020-07-30T23:00:00",
          "2020-07-31T00:00:00",
          "2020-07-31T01:00:00",
          "2020-07-31T02:00:00",
          "2020-07-31T03:00:00",
          "2020-07-31T04:00:00",
          "2020-07-31T05:00:00",
          "2020-07-31T06:00:00",
          "2020-07-31T07:00:00",
          "2020-07-31T08:00:00",
          "2020-07-31T09:00:00",
          "2020-07-31T10:00:00",
          "2020-07-31T11:00:00",
          "2020-07-31T12:00:00",
          "2020-07-31T13:00:00",
          "2020-07-31T14:00:00",
          "2020-07-31T15:00:00",
          "2020-07-31T16:00:00",
          "2020-07-31T17:00:00",
          "2020-07-31T18:00:00",
          "2020-07-31T19:00:00",
          "2020-07-31T20:00:00",
          "2020-07-31T21:00:00",
          "2020-07-31T22:00:00",
          "2020-07-31T23:00:00",
          "2020-08-01T00:00:00",
          "2020-08-01T01:00:00",
          "2020-08-01T02:00:00",
          "2020-08-01T03:00:00",
          "2020-08-01T04:00:00",
          "2020-08-01T05:00:00",
          "2020-08-01T06:00:00",
          "2020-08-01T07:00:00",
          "2020-08-01T08:00:00",
          "2020-08-01T09:00:00",
          "2020-08-01T10:00:00",
          "2020-08-01T11:00:00",
          "2020-08-01T12:00:00",
          "2020-08-01T13:00:00",
          "2020-08-01T14:00:00",
          "2020-08-01T15:00:00",
          "2020-08-01T16:00:00",
          "2020-08-01T17:00:00",
          "2020-08-01T18:00:00",
          "2020-08-01T19:00:00",
          "2020-08-01T20:00:00",
          "2020-08-01T21:00:00",
          "2020-08-01T22:00:00",
          "2020-08-01T23:00:00",
          "2020-08-02T00:00:00",
          "2020-08-02T01:00:00",
          "2020-08-02T02:00:00",
          "2020-08-02T03:00:00",
          "2020-08-02T04:00:00",
          "2020-08-02T05:00:00",
          "2020-08-02T06:00:00",
          "2020-08-02T07:00:00",
          "2020-08-02T08:00:00",
          "2020-08-02T09:00:00",
          "2020-08-02T10:00:00",
          "2020-08-02T11:00:00",
          "2020-08-02T12:00:00",
          "2020-08-02T13:00:00",
          "2020-08-02T14:00:00",
          "2020-08-02T15:00:00",
          "2020-08-02T16:00:00",
          "2020-08-02T17:00:00",
          "2020-08-02T18:00:00",
          "2020-08-02T19:00:00",
          "2020-08-02T20:00:00",
          "2020-08-02T21:00:00",
          "2020-08-02T22:00:00",
          "2020-08-02T23:00:00",
          "2020-08-03T00:00:00"
         ],
         "xaxis": "x",
         "y": [
          43242.1397,
          41363.3416,
          40050.1827,
          38745.4457,
          38529.6969,
          38158.4711,
          37987.3882,
          38851.8981,
          39674.1644,
          42217.0401,
          47153.2895,
          50214.7411,
          52097.9684,
          54552.13,
          56187.4604,
          56625.3402,
          56823.5794,
          56915.3605,
          56858.0009,
          54968.8704,
          53967.0795,
          52913.6014,
          50073.0487,
          47088.7596,
          44796.2592,
          42818.4859,
          41250.3992,
          40406.4231,
          40174.8691,
          41239.0945,
          42439.044,
          44019.2343,
          45739.7708,
          48057.9602,
          50801.7202,
          53786.2812,
          56549.849,
          59491.15900000001,
          61269.5606,
          62212.6183,
          62909.6115,
          62260.2793,
          60596.4705,
          58413.2202,
          56954.0103,
          56001.6905,
          52501.4594,
          49124.1198,
          45911.7326,
          43691.6226,
          41787.7113,
          41002.8179,
          40653.1415,
          41698.1278,
          43226.4436,
          44721.0851,
          46265.4737,
          48591.1407,
          51201.8398,
          54109.9201,
          56460.0994,
          58667.5201,
          60817.0991,
          61944.6309,
          62579.5208,
          61948.3193,
          60217.73,
          58137.4998,
          56692.810999999994,
          55741.3007,
          52666.5096,
          49162.2493,
          46051.7512,
          44065.8221,
          42193.5953,
          41451.4504,
          41010.7868,
          42062.454000000005,
          43445.5468,
          45089.2695,
          46707.3198,
          48962.0903,
          51238.9603,
          53636.7501,
          55936.5194,
          58377.9004,
          60308.4701,
          61400.7403,
          62287.3904,
          62112.8501,
          60483.66,
          58743.829000000005,
          57256.0896,
          56321.3898,
          53174.3106,
          49966.3802,
          46944.9442,
          44620.9384,
          42731.3928,
          41796.7926,
          41580.057,
          42508.1825,
          44201.0242,
          45721.3231,
          47670.1006,
          50340.2199,
          52983.9212,
          55884.3089,
          58476.5413,
          61227.9508,
          63323.95,
          64790.18,
          65804.2705,
          65525.9596,
          63760.2015,
          61928.2495,
          60209.9704,
          58804.170999999995,
          55466.1407,
          51885.2205,
          48513.4103,
          45945.6417,
          43931.7205,
          42792.0608,
          42311.0192,
          43202.4346,
          44615.4111,
          46305.3223,
          48271.5804,
          51123.19,
          54309.2011,
          57576.1905,
          60497.8308,
          63388.66,
          65525.3506,
          66980.7615,
          68230.6011,
          67937.4304,
          66444.3892,
          63685.6708,
          61895.0321,
          60180.4097,
          56452.1798,
          52636.6009,
          49193.0397,
          45909.2233,
          44278.2952,
          42694.969000000005,
          41156.1474,
          41053.5378,
          40828.5087,
          41510.3788,
          44319.3983,
          47790.0598,
          51644.7794,
          55138.320999999996,
          58921.0507,
          61732.4994,
          64496.4501,
          65594.34,
          66234.8596,
          66302.1111,
          64950.4117,
          62296.1895,
          60690.0397,
          59140.4203,
          55929.7994,
          52166.9101,
          49179.4751,
          45931.5713,
          44132.6065,
          42533.2629,
          41161.0846,
          40974.4485,
          40775.2939,
          41580.873999999996,
          44190.5464,
          47739.76,
          51235.8305,
          55037.0799,
          58656.3701,
          61678.9802,
          64211.0011,
          65337.1498,
          65908.34,
          65889.4904,
          64800.6596,
          61980.8105,
          60434.3512,
          58590.9799,
          55288.5008,
          51512.5701
         ],
         "yaxis": "y"
        }
       ],
       "layout": {
        "legend": {
         "tracegroupgap": 0
        },
        "template": {
         "data": {
          "bar": [
           {
            "error_x": {
             "color": "#2a3f5f"
            },
            "error_y": {
             "color": "#2a3f5f"
            },
            "marker": {
             "line": {
              "color": "#E5ECF6",
              "width": 0.5
             }
            },
            "type": "bar"
           }
          ],
          "barpolar": [
           {
            "marker": {
             "line": {
              "color": "#E5ECF6",
              "width": 0.5
             }
            },
            "type": "barpolar"
           }
          ],
          "carpet": [
           {
            "aaxis": {
             "endlinecolor": "#2a3f5f",
             "gridcolor": "white",
             "linecolor": "white",
             "minorgridcolor": "white",
             "startlinecolor": "#2a3f5f"
            },
            "baxis": {
             "endlinecolor": "#2a3f5f",
             "gridcolor": "white",
             "linecolor": "white",
             "minorgridcolor": "white",
             "startlinecolor": "#2a3f5f"
            },
            "type": "carpet"
           }
          ],
          "choropleth": [
           {
            "colorbar": {
             "outlinewidth": 0,
             "ticks": ""
            },
            "type": "choropleth"
           }
          ],
          "contour": [
           {
            "colorbar": {
             "outlinewidth": 0,
             "ticks": ""
            },
            "colorscale": [
             [
              0,
              "#0d0887"
             ],
             [
              0.1111111111111111,
              "#46039f"
             ],
             [
              0.2222222222222222,
              "#7201a8"
             ],
             [
              0.3333333333333333,
              "#9c179e"
             ],
             [
              0.4444444444444444,
              "#bd3786"
             ],
             [
              0.5555555555555556,
              "#d8576b"
             ],
             [
              0.6666666666666666,
              "#ed7953"
             ],
             [
              0.7777777777777778,
              "#fb9f3a"
             ],
             [
              0.8888888888888888,
              "#fdca26"
             ],
             [
              1,
              "#f0f921"
             ]
            ],
            "type": "contour"
           }
          ],
          "contourcarpet": [
           {
            "colorbar": {
             "outlinewidth": 0,
             "ticks": ""
            },
            "type": "contourcarpet"
           }
          ],
          "heatmap": [
           {
            "colorbar": {
             "outlinewidth": 0,
             "ticks": ""
            },
            "colorscale": [
             [
              0,
              "#0d0887"
             ],
             [
              0.1111111111111111,
              "#46039f"
             ],
             [
              0.2222222222222222,
              "#7201a8"
             ],
             [
              0.3333333333333333,
              "#9c179e"
             ],
             [
              0.4444444444444444,
              "#bd3786"
             ],
             [
              0.5555555555555556,
              "#d8576b"
             ],
             [
              0.6666666666666666,
              "#ed7953"
             ],
             [
              0.7777777777777778,
              "#fb9f3a"
             ],
             [
              0.8888888888888888,
              "#fdca26"
             ],
             [
              1,
              "#f0f921"
             ]
            ],
            "type": "heatmap"
           }
          ],
          "heatmapgl": [
           {
            "colorbar": {
             "outlinewidth": 0,
             "ticks": ""
            },
            "colorscale": [
             [
              0,
              "#0d0887"
             ],
             [
              0.1111111111111111,
              "#46039f"
             ],
             [
              0.2222222222222222,
              "#7201a8"
             ],
             [
              0.3333333333333333,
              "#9c179e"
             ],
             [
              0.4444444444444444,
              "#bd3786"
             ],
             [
              0.5555555555555556,
              "#d8576b"
             ],
             [
              0.6666666666666666,
              "#ed7953"
             ],
             [
              0.7777777777777778,
              "#fb9f3a"
             ],
             [
              0.8888888888888888,
              "#fdca26"
             ],
             [
              1,
              "#f0f921"
             ]
            ],
            "type": "heatmapgl"
           }
          ],
          "histogram": [
           {
            "marker": {
             "colorbar": {
              "outlinewidth": 0,
              "ticks": ""
             }
            },
            "type": "histogram"
           }
          ],
          "histogram2d": [
           {
            "colorbar": {
             "outlinewidth": 0,
             "ticks": ""
            },
            "colorscale": [
             [
              0,
              "#0d0887"
             ],
             [
              0.1111111111111111,
              "#46039f"
             ],
             [
              0.2222222222222222,
              "#7201a8"
             ],
             [
              0.3333333333333333,
              "#9c179e"
             ],
             [
              0.4444444444444444,
              "#bd3786"
             ],
             [
              0.5555555555555556,
              "#d8576b"
             ],
             [
              0.6666666666666666,
              "#ed7953"
             ],
             [
              0.7777777777777778,
              "#fb9f3a"
             ],
             [
              0.8888888888888888,
              "#fdca26"
             ],
             [
              1,
              "#f0f921"
             ]
            ],
            "type": "histogram2d"
           }
          ],
          "histogram2dcontour": [
           {
            "colorbar": {
             "outlinewidth": 0,
             "ticks": ""
            },
            "colorscale": [
             [
              0,
              "#0d0887"
             ],
             [
              0.1111111111111111,
              "#46039f"
             ],
             [
              0.2222222222222222,
              "#7201a8"
             ],
             [
              0.3333333333333333,
              "#9c179e"
             ],
             [
              0.4444444444444444,
              "#bd3786"
             ],
             [
              0.5555555555555556,
              "#d8576b"
             ],
             [
              0.6666666666666666,
              "#ed7953"
             ],
             [
              0.7777777777777778,
              "#fb9f3a"
             ],
             [
              0.8888888888888888,
              "#fdca26"
             ],
             [
              1,
              "#f0f921"
             ]
            ],
            "type": "histogram2dcontour"
           }
          ],
          "mesh3d": [
           {
            "colorbar": {
             "outlinewidth": 0,
             "ticks": ""
            },
            "type": "mesh3d"
           }
          ],
          "parcoords": [
           {
            "line": {
             "colorbar": {
              "outlinewidth": 0,
              "ticks": ""
             }
            },
            "type": "parcoords"
           }
          ],
          "pie": [
           {
            "automargin": true,
            "type": "pie"
           }
          ],
          "scatter": [
           {
            "marker": {
             "colorbar": {
              "outlinewidth": 0,
              "ticks": ""
             }
            },
            "type": "scatter"
           }
          ],
          "scatter3d": [
           {
            "line": {
             "colorbar": {
              "outlinewidth": 0,
              "ticks": ""
             }
            },
            "marker": {
             "colorbar": {
              "outlinewidth": 0,
              "ticks": ""
             }
            },
            "type": "scatter3d"
           }
          ],
          "scattercarpet": [
           {
            "marker": {
             "colorbar": {
              "outlinewidth": 0,
              "ticks": ""
             }
            },
            "type": "scattercarpet"
           }
          ],
          "scattergeo": [
           {
            "marker": {
             "colorbar": {
              "outlinewidth": 0,
              "ticks": ""
             }
            },
            "type": "scattergeo"
           }
          ],
          "scattergl": [
           {
            "marker": {
             "colorbar": {
              "outlinewidth": 0,
              "ticks": ""
             }
            },
            "type": "scattergl"
           }
          ],
          "scattermapbox": [
           {
            "marker": {
             "colorbar": {
              "outlinewidth": 0,
              "ticks": ""
             }
            },
            "type": "scattermapbox"
           }
          ],
          "scatterpolar": [
           {
            "marker": {
             "colorbar": {
              "outlinewidth": 0,
              "ticks": ""
             }
            },
            "type": "scatterpolar"
           }
          ],
          "scatterpolargl": [
           {
            "marker": {
             "colorbar": {
              "outlinewidth": 0,
              "ticks": ""
             }
            },
            "type": "scatterpolargl"
           }
          ],
          "scatterternary": [
           {
            "marker": {
             "colorbar": {
              "outlinewidth": 0,
              "ticks": ""
             }
            },
            "type": "scatterternary"
           }
          ],
          "surface": [
           {
            "colorbar": {
             "outlinewidth": 0,
             "ticks": ""
            },
            "colorscale": [
             [
              0,
              "#0d0887"
             ],
             [
              0.1111111111111111,
              "#46039f"
             ],
             [
              0.2222222222222222,
              "#7201a8"
             ],
             [
              0.3333333333333333,
              "#9c179e"
             ],
             [
              0.4444444444444444,
              "#bd3786"
             ],
             [
              0.5555555555555556,
              "#d8576b"
             ],
             [
              0.6666666666666666,
              "#ed7953"
             ],
             [
              0.7777777777777778,
              "#fb9f3a"
             ],
             [
              0.8888888888888888,
              "#fdca26"
             ],
             [
              1,
              "#f0f921"
             ]
            ],
            "type": "surface"
           }
          ],
          "table": [
           {
            "cells": {
             "fill": {
              "color": "#EBF0F8"
             },
             "line": {
              "color": "white"
             }
            },
            "header": {
             "fill": {
              "color": "#C8D4E3"
             },
             "line": {
              "color": "white"
             }
            },
            "type": "table"
           }
          ]
         },
         "layout": {
          "annotationdefaults": {
           "arrowcolor": "#2a3f5f",
           "arrowhead": 0,
           "arrowwidth": 1
          },
          "coloraxis": {
           "colorbar": {
            "outlinewidth": 0,
            "ticks": ""
           }
          },
          "colorscale": {
           "diverging": [
            [
             0,
             "#8e0152"
            ],
            [
             0.1,
             "#c51b7d"
            ],
            [
             0.2,
             "#de77ae"
            ],
            [
             0.3,
             "#f1b6da"
            ],
            [
             0.4,
             "#fde0ef"
            ],
            [
             0.5,
             "#f7f7f7"
            ],
            [
             0.6,
             "#e6f5d0"
            ],
            [
             0.7,
             "#b8e186"
            ],
            [
             0.8,
             "#7fbc41"
            ],
            [
             0.9,
             "#4d9221"
            ],
            [
             1,
             "#276419"
            ]
           ],
           "sequential": [
            [
             0,
             "#0d0887"
            ],
            [
             0.1111111111111111,
             "#46039f"
            ],
            [
             0.2222222222222222,
             "#7201a8"
            ],
            [
             0.3333333333333333,
             "#9c179e"
            ],
            [
             0.4444444444444444,
             "#bd3786"
            ],
            [
             0.5555555555555556,
             "#d8576b"
            ],
            [
             0.6666666666666666,
             "#ed7953"
            ],
            [
             0.7777777777777778,
             "#fb9f3a"
            ],
            [
             0.8888888888888888,
             "#fdca26"
            ],
            [
             1,
             "#f0f921"
            ]
           ],
           "sequentialminus": [
            [
             0,
             "#0d0887"
            ],
            [
             0.1111111111111111,
             "#46039f"
            ],
            [
             0.2222222222222222,
             "#7201a8"
            ],
            [
             0.3333333333333333,
             "#9c179e"
            ],
            [
             0.4444444444444444,
             "#bd3786"
            ],
            [
             0.5555555555555556,
             "#d8576b"
            ],
            [
             0.6666666666666666,
             "#ed7953"
            ],
            [
             0.7777777777777778,
             "#fb9f3a"
            ],
            [
             0.8888888888888888,
             "#fdca26"
            ],
            [
             1,
             "#f0f921"
            ]
           ]
          },
          "colorway": [
           "#636efa",
           "#EF553B",
           "#00cc96",
           "#ab63fa",
           "#FFA15A",
           "#19d3f3",
           "#FF6692",
           "#B6E880",
           "#FF97FF",
           "#FECB52"
          ],
          "font": {
           "color": "#2a3f5f"
          },
          "geo": {
           "bgcolor": "white",
           "lakecolor": "white",
           "landcolor": "#E5ECF6",
           "showlakes": true,
           "showland": true,
           "subunitcolor": "white"
          },
          "hoverlabel": {
           "align": "left"
          },
          "hovermode": "closest",
          "mapbox": {
           "style": "light"
          },
          "paper_bgcolor": "white",
          "plot_bgcolor": "#E5ECF6",
          "polar": {
           "angularaxis": {
            "gridcolor": "white",
            "linecolor": "white",
            "ticks": ""
           },
           "bgcolor": "#E5ECF6",
           "radialaxis": {
            "gridcolor": "white",
            "linecolor": "white",
            "ticks": ""
           }
          },
          "scene": {
           "xaxis": {
            "backgroundcolor": "#E5ECF6",
            "gridcolor": "white",
            "gridwidth": 2,
            "linecolor": "white",
            "showbackground": true,
            "ticks": "",
            "zerolinecolor": "white"
           },
           "yaxis": {
            "backgroundcolor": "#E5ECF6",
            "gridcolor": "white",
            "gridwidth": 2,
            "linecolor": "white",
            "showbackground": true,
            "ticks": "",
            "zerolinecolor": "white"
           },
           "zaxis": {
            "backgroundcolor": "#E5ECF6",
            "gridcolor": "white",
            "gridwidth": 2,
            "linecolor": "white",
            "showbackground": true,
            "ticks": "",
            "zerolinecolor": "white"
           }
          },
          "shapedefaults": {
           "line": {
            "color": "#2a3f5f"
           }
          },
          "ternary": {
           "aaxis": {
            "gridcolor": "white",
            "linecolor": "white",
            "ticks": ""
           },
           "baxis": {
            "gridcolor": "white",
            "linecolor": "white",
            "ticks": ""
           },
           "bgcolor": "#E5ECF6",
           "caxis": {
            "gridcolor": "white",
            "linecolor": "white",
            "ticks": ""
           }
          },
          "title": {
           "x": 0.05
          },
          "xaxis": {
           "automargin": true,
           "gridcolor": "white",
           "linecolor": "white",
           "ticks": "",
           "title": {
            "standoff": 15
           },
           "zerolinecolor": "white",
           "zerolinewidth": 2
          },
          "yaxis": {
           "automargin": true,
           "gridcolor": "white",
           "linecolor": "white",
           "ticks": "",
           "title": {
            "standoff": 15
           },
           "zerolinecolor": "white",
           "zerolinewidth": 2
          }
         }
        },
        "title": {
         "text": "System Level Forecasts"
        },
        "xaxis": {
         "anchor": "y",
         "domain": [
          0,
          1
         ],
         "title": {
          "text": "DeliveryDT"
         }
        },
        "yaxis": {
         "anchor": "x",
         "domain": [
          0,
          1
         ],
         "title": {
          "text": "MW"
         }
        }
       }
      },
      "text/html": [
       "<div>\n",
       "        \n",
       "        \n",
       "            <div id=\"31e917cb-703c-4213-9706-c80ac3df82e1\" class=\"plotly-graph-div\" style=\"height:525px; width:100%;\"></div>\n",
       "            <script type=\"text/javascript\">\n",
       "                require([\"plotly\"], function(Plotly) {\n",
       "                    window.PLOTLYENV=window.PLOTLYENV || {};\n",
       "                    \n",
       "                if (document.getElementById(\"31e917cb-703c-4213-9706-c80ac3df82e1\")) {\n",
       "                    Plotly.newPlot(\n",
       "                        '31e917cb-703c-4213-9706-c80ac3df82e1',\n",
       "                        [{\"hovertemplate\": \"DeliveryDT=%{x}<br>MW=%{y}<extra></extra>\", \"legendgroup\": \"\", \"line\": {\"color\": \"#636efa\", \"dash\": \"solid\"}, \"mode\": \"lines\", \"name\": \"\", \"showlegend\": false, \"type\": \"scatter\", \"x\": [\"2020-07-26T01:00:00\", \"2020-07-26T02:00:00\", \"2020-07-26T03:00:00\", \"2020-07-26T04:00:00\", \"2020-07-26T05:00:00\", \"2020-07-26T06:00:00\", \"2020-07-26T07:00:00\", \"2020-07-26T08:00:00\", \"2020-07-26T09:00:00\", \"2020-07-26T10:00:00\", \"2020-07-26T11:00:00\", \"2020-07-26T12:00:00\", \"2020-07-26T13:00:00\", \"2020-07-26T14:00:00\", \"2020-07-26T15:00:00\", \"2020-07-26T16:00:00\", \"2020-07-26T17:00:00\", \"2020-07-26T18:00:00\", \"2020-07-26T19:00:00\", \"2020-07-26T20:00:00\", \"2020-07-26T21:00:00\", \"2020-07-26T22:00:00\", \"2020-07-26T23:00:00\", \"2020-07-27T00:00:00\", \"2020-07-27T01:00:00\", \"2020-07-27T02:00:00\", \"2020-07-27T03:00:00\", \"2020-07-27T04:00:00\", \"2020-07-27T05:00:00\", \"2020-07-27T06:00:00\", \"2020-07-27T07:00:00\", \"2020-07-27T08:00:00\", \"2020-07-27T09:00:00\", \"2020-07-27T10:00:00\", \"2020-07-27T11:00:00\", \"2020-07-27T12:00:00\", \"2020-07-27T13:00:00\", \"2020-07-27T14:00:00\", \"2020-07-27T15:00:00\", \"2020-07-27T16:00:00\", \"2020-07-27T17:00:00\", \"2020-07-27T18:00:00\", \"2020-07-27T19:00:00\", \"2020-07-27T20:00:00\", \"2020-07-27T21:00:00\", \"2020-07-27T22:00:00\", \"2020-07-27T23:00:00\", \"2020-07-28T00:00:00\", \"2020-07-28T01:00:00\", \"2020-07-28T02:00:00\", \"2020-07-28T03:00:00\", \"2020-07-28T04:00:00\", \"2020-07-28T05:00:00\", \"2020-07-28T06:00:00\", \"2020-07-28T07:00:00\", \"2020-07-28T08:00:00\", \"2020-07-28T09:00:00\", \"2020-07-28T10:00:00\", \"2020-07-28T11:00:00\", \"2020-07-28T12:00:00\", \"2020-07-28T13:00:00\", \"2020-07-28T14:00:00\", \"2020-07-28T15:00:00\", \"2020-07-28T16:00:00\", \"2020-07-28T17:00:00\", \"2020-07-28T18:00:00\", \"2020-07-28T19:00:00\", \"2020-07-28T20:00:00\", \"2020-07-28T21:00:00\", \"2020-07-28T22:00:00\", \"2020-07-28T23:00:00\", \"2020-07-29T00:00:00\", \"2020-07-29T01:00:00\", \"2020-07-29T02:00:00\", \"2020-07-29T03:00:00\", \"2020-07-29T04:00:00\", \"2020-07-29T05:00:00\", \"2020-07-29T06:00:00\", \"2020-07-29T07:00:00\", \"2020-07-29T08:00:00\", \"2020-07-29T09:00:00\", \"2020-07-29T10:00:00\", \"2020-07-29T11:00:00\", \"2020-07-29T12:00:00\", \"2020-07-29T13:00:00\", \"2020-07-29T14:00:00\", \"2020-07-29T15:00:00\", \"2020-07-29T16:00:00\", \"2020-07-29T17:00:00\", \"2020-07-29T18:00:00\", \"2020-07-29T19:00:00\", \"2020-07-29T20:00:00\", \"2020-07-29T21:00:00\", \"2020-07-29T22:00:00\", \"2020-07-29T23:00:00\", \"2020-07-30T00:00:00\", \"2020-07-30T01:00:00\", \"2020-07-30T02:00:00\", \"2020-07-30T03:00:00\", \"2020-07-30T04:00:00\", \"2020-07-30T05:00:00\", \"2020-07-30T06:00:00\", \"2020-07-30T07:00:00\", \"2020-07-30T08:00:00\", \"2020-07-30T09:00:00\", \"2020-07-30T10:00:00\", \"2020-07-30T11:00:00\", \"2020-07-30T12:00:00\", \"2020-07-30T13:00:00\", \"2020-07-30T14:00:00\", \"2020-07-30T15:00:00\", \"2020-07-30T16:00:00\", \"2020-07-30T17:00:00\", \"2020-07-30T18:00:00\", \"2020-07-30T19:00:00\", \"2020-07-30T20:00:00\", \"2020-07-30T21:00:00\", \"2020-07-30T22:00:00\", \"2020-07-30T23:00:00\", \"2020-07-31T00:00:00\", \"2020-07-31T01:00:00\", \"2020-07-31T02:00:00\", \"2020-07-31T03:00:00\", \"2020-07-31T04:00:00\", \"2020-07-31T05:00:00\", \"2020-07-31T06:00:00\", \"2020-07-31T07:00:00\", \"2020-07-31T08:00:00\", \"2020-07-31T09:00:00\", \"2020-07-31T10:00:00\", \"2020-07-31T11:00:00\", \"2020-07-31T12:00:00\", \"2020-07-31T13:00:00\", \"2020-07-31T14:00:00\", \"2020-07-31T15:00:00\", \"2020-07-31T16:00:00\", \"2020-07-31T17:00:00\", \"2020-07-31T18:00:00\", \"2020-07-31T19:00:00\", \"2020-07-31T20:00:00\", \"2020-07-31T21:00:00\", \"2020-07-31T22:00:00\", \"2020-07-31T23:00:00\", \"2020-08-01T00:00:00\", \"2020-08-01T01:00:00\", \"2020-08-01T02:00:00\", \"2020-08-01T03:00:00\", \"2020-08-01T04:00:00\", \"2020-08-01T05:00:00\", \"2020-08-01T06:00:00\", \"2020-08-01T07:00:00\", \"2020-08-01T08:00:00\", \"2020-08-01T09:00:00\", \"2020-08-01T10:00:00\", \"2020-08-01T11:00:00\", \"2020-08-01T12:00:00\", \"2020-08-01T13:00:00\", \"2020-08-01T14:00:00\", \"2020-08-01T15:00:00\", \"2020-08-01T16:00:00\", \"2020-08-01T17:00:00\", \"2020-08-01T18:00:00\", \"2020-08-01T19:00:00\", \"2020-08-01T20:00:00\", \"2020-08-01T21:00:00\", \"2020-08-01T22:00:00\", \"2020-08-01T23:00:00\", \"2020-08-02T00:00:00\", \"2020-08-02T01:00:00\", \"2020-08-02T02:00:00\", \"2020-08-02T03:00:00\", \"2020-08-02T04:00:00\", \"2020-08-02T05:00:00\", \"2020-08-02T06:00:00\", \"2020-08-02T07:00:00\", \"2020-08-02T08:00:00\", \"2020-08-02T09:00:00\", \"2020-08-02T10:00:00\", \"2020-08-02T11:00:00\", \"2020-08-02T12:00:00\", \"2020-08-02T13:00:00\", \"2020-08-02T14:00:00\", \"2020-08-02T15:00:00\", \"2020-08-02T16:00:00\", \"2020-08-02T17:00:00\", \"2020-08-02T18:00:00\", \"2020-08-02T19:00:00\", \"2020-08-02T20:00:00\", \"2020-08-02T21:00:00\", \"2020-08-02T22:00:00\", \"2020-08-02T23:00:00\", \"2020-08-03T00:00:00\"], \"xaxis\": \"x\", \"y\": [43242.1397, 41363.3416, 40050.1827, 38745.4457, 38529.6969, 38158.4711, 37987.3882, 38851.8981, 39674.1644, 42217.0401, 47153.2895, 50214.7411, 52097.9684, 54552.13, 56187.4604, 56625.3402, 56823.5794, 56915.3605, 56858.0009, 54968.8704, 53967.0795, 52913.6014, 50073.0487, 47088.7596, 44796.2592, 42818.4859, 41250.3992, 40406.4231, 40174.8691, 41239.0945, 42439.044, 44019.2343, 45739.7708, 48057.9602, 50801.7202, 53786.2812, 56549.849, 59491.15900000001, 61269.5606, 62212.6183, 62909.6115, 62260.2793, 60596.4705, 58413.2202, 56954.0103, 56001.6905, 52501.4594, 49124.1198, 45911.7326, 43691.6226, 41787.7113, 41002.8179, 40653.1415, 41698.1278, 43226.4436, 44721.0851, 46265.4737, 48591.1407, 51201.8398, 54109.9201, 56460.0994, 58667.5201, 60817.0991, 61944.6309, 62579.5208, 61948.3193, 60217.73, 58137.4998, 56692.810999999994, 55741.3007, 52666.5096, 49162.2493, 46051.7512, 44065.8221, 42193.5953, 41451.4504, 41010.7868, 42062.454000000005, 43445.5468, 45089.2695, 46707.3198, 48962.0903, 51238.9603, 53636.7501, 55936.5194, 58377.9004, 60308.4701, 61400.7403, 62287.3904, 62112.8501, 60483.66, 58743.829000000005, 57256.0896, 56321.3898, 53174.3106, 49966.3802, 46944.9442, 44620.9384, 42731.3928, 41796.7926, 41580.057, 42508.1825, 44201.0242, 45721.3231, 47670.1006, 50340.2199, 52983.9212, 55884.3089, 58476.5413, 61227.9508, 63323.95, 64790.18, 65804.2705, 65525.9596, 63760.2015, 61928.2495, 60209.9704, 58804.170999999995, 55466.1407, 51885.2205, 48513.4103, 45945.6417, 43931.7205, 42792.0608, 42311.0192, 43202.4346, 44615.4111, 46305.3223, 48271.5804, 51123.19, 54309.2011, 57576.1905, 60497.8308, 63388.66, 65525.3506, 66980.7615, 68230.6011, 67937.4304, 66444.3892, 63685.6708, 61895.0321, 60180.4097, 56452.1798, 52636.6009, 49193.0397, 45909.2233, 44278.2952, 42694.969000000005, 41156.1474, 41053.5378, 40828.5087, 41510.3788, 44319.3983, 47790.0598, 51644.7794, 55138.320999999996, 58921.0507, 61732.4994, 64496.4501, 65594.34, 66234.8596, 66302.1111, 64950.4117, 62296.1895, 60690.0397, 59140.4203, 55929.7994, 52166.9101, 49179.4751, 45931.5713, 44132.6065, 42533.2629, 41161.0846, 40974.4485, 40775.2939, 41580.873999999996, 44190.5464, 47739.76, 51235.8305, 55037.0799, 58656.3701, 61678.9802, 64211.0011, 65337.1498, 65908.34, 65889.4904, 64800.6596, 61980.8105, 60434.3512, 58590.9799, 55288.5008, 51512.5701], \"yaxis\": \"y\"}],\n",
       "                        {\"legend\": {\"tracegroupgap\": 0}, \"template\": {\"data\": {\"bar\": [{\"error_x\": {\"color\": \"#2a3f5f\"}, \"error_y\": {\"color\": \"#2a3f5f\"}, \"marker\": {\"line\": {\"color\": \"#E5ECF6\", \"width\": 0.5}}, \"type\": \"bar\"}], \"barpolar\": [{\"marker\": {\"line\": {\"color\": \"#E5ECF6\", \"width\": 0.5}}, \"type\": \"barpolar\"}], \"carpet\": [{\"aaxis\": {\"endlinecolor\": \"#2a3f5f\", \"gridcolor\": \"white\", \"linecolor\": \"white\", \"minorgridcolor\": \"white\", \"startlinecolor\": \"#2a3f5f\"}, \"baxis\": {\"endlinecolor\": \"#2a3f5f\", \"gridcolor\": \"white\", \"linecolor\": \"white\", \"minorgridcolor\": \"white\", \"startlinecolor\": \"#2a3f5f\"}, \"type\": \"carpet\"}], \"choropleth\": [{\"colorbar\": {\"outlinewidth\": 0, \"ticks\": \"\"}, \"type\": \"choropleth\"}], \"contour\": [{\"colorbar\": {\"outlinewidth\": 0, \"ticks\": \"\"}, \"colorscale\": [[0.0, \"#0d0887\"], [0.1111111111111111, \"#46039f\"], [0.2222222222222222, \"#7201a8\"], [0.3333333333333333, \"#9c179e\"], [0.4444444444444444, \"#bd3786\"], [0.5555555555555556, \"#d8576b\"], [0.6666666666666666, \"#ed7953\"], [0.7777777777777778, \"#fb9f3a\"], [0.8888888888888888, \"#fdca26\"], [1.0, \"#f0f921\"]], \"type\": \"contour\"}], \"contourcarpet\": [{\"colorbar\": {\"outlinewidth\": 0, \"ticks\": \"\"}, \"type\": \"contourcarpet\"}], \"heatmap\": [{\"colorbar\": {\"outlinewidth\": 0, \"ticks\": \"\"}, \"colorscale\": [[0.0, \"#0d0887\"], [0.1111111111111111, \"#46039f\"], [0.2222222222222222, \"#7201a8\"], [0.3333333333333333, \"#9c179e\"], [0.4444444444444444, \"#bd3786\"], [0.5555555555555556, \"#d8576b\"], [0.6666666666666666, \"#ed7953\"], [0.7777777777777778, \"#fb9f3a\"], [0.8888888888888888, \"#fdca26\"], [1.0, \"#f0f921\"]], \"type\": \"heatmap\"}], \"heatmapgl\": [{\"colorbar\": {\"outlinewidth\": 0, \"ticks\": \"\"}, \"colorscale\": [[0.0, \"#0d0887\"], [0.1111111111111111, \"#46039f\"], [0.2222222222222222, \"#7201a8\"], [0.3333333333333333, \"#9c179e\"], [0.4444444444444444, \"#bd3786\"], [0.5555555555555556, \"#d8576b\"], [0.6666666666666666, \"#ed7953\"], [0.7777777777777778, \"#fb9f3a\"], [0.8888888888888888, \"#fdca26\"], [1.0, \"#f0f921\"]], \"type\": \"heatmapgl\"}], \"histogram\": [{\"marker\": {\"colorbar\": {\"outlinewidth\": 0, \"ticks\": \"\"}}, \"type\": \"histogram\"}], \"histogram2d\": [{\"colorbar\": {\"outlinewidth\": 0, \"ticks\": \"\"}, \"colorscale\": [[0.0, \"#0d0887\"], [0.1111111111111111, \"#46039f\"], [0.2222222222222222, \"#7201a8\"], [0.3333333333333333, \"#9c179e\"], [0.4444444444444444, \"#bd3786\"], [0.5555555555555556, \"#d8576b\"], [0.6666666666666666, \"#ed7953\"], [0.7777777777777778, \"#fb9f3a\"], [0.8888888888888888, \"#fdca26\"], [1.0, \"#f0f921\"]], \"type\": \"histogram2d\"}], \"histogram2dcontour\": [{\"colorbar\": {\"outlinewidth\": 0, \"ticks\": \"\"}, \"colorscale\": [[0.0, \"#0d0887\"], [0.1111111111111111, \"#46039f\"], [0.2222222222222222, \"#7201a8\"], [0.3333333333333333, \"#9c179e\"], [0.4444444444444444, \"#bd3786\"], [0.5555555555555556, \"#d8576b\"], [0.6666666666666666, \"#ed7953\"], [0.7777777777777778, \"#fb9f3a\"], [0.8888888888888888, \"#fdca26\"], [1.0, \"#f0f921\"]], \"type\": \"histogram2dcontour\"}], \"mesh3d\": [{\"colorbar\": {\"outlinewidth\": 0, \"ticks\": \"\"}, \"type\": \"mesh3d\"}], \"parcoords\": [{\"line\": {\"colorbar\": {\"outlinewidth\": 0, \"ticks\": \"\"}}, \"type\": \"parcoords\"}], \"pie\": [{\"automargin\": true, \"type\": \"pie\"}], \"scatter\": [{\"marker\": {\"colorbar\": {\"outlinewidth\": 0, \"ticks\": \"\"}}, \"type\": \"scatter\"}], \"scatter3d\": [{\"line\": {\"colorbar\": {\"outlinewidth\": 0, \"ticks\": \"\"}}, \"marker\": {\"colorbar\": {\"outlinewidth\": 0, \"ticks\": \"\"}}, \"type\": \"scatter3d\"}], \"scattercarpet\": [{\"marker\": {\"colorbar\": {\"outlinewidth\": 0, \"ticks\": \"\"}}, \"type\": \"scattercarpet\"}], \"scattergeo\": [{\"marker\": {\"colorbar\": {\"outlinewidth\": 0, \"ticks\": \"\"}}, \"type\": \"scattergeo\"}], \"scattergl\": [{\"marker\": {\"colorbar\": {\"outlinewidth\": 0, \"ticks\": \"\"}}, \"type\": \"scattergl\"}], \"scattermapbox\": [{\"marker\": {\"colorbar\": {\"outlinewidth\": 0, \"ticks\": \"\"}}, \"type\": \"scattermapbox\"}], \"scatterpolar\": [{\"marker\": {\"colorbar\": {\"outlinewidth\": 0, \"ticks\": \"\"}}, \"type\": \"scatterpolar\"}], \"scatterpolargl\": [{\"marker\": {\"colorbar\": {\"outlinewidth\": 0, \"ticks\": \"\"}}, \"type\": \"scatterpolargl\"}], \"scatterternary\": [{\"marker\": {\"colorbar\": {\"outlinewidth\": 0, \"ticks\": \"\"}}, \"type\": \"scatterternary\"}], \"surface\": [{\"colorbar\": {\"outlinewidth\": 0, \"ticks\": \"\"}, \"colorscale\": [[0.0, \"#0d0887\"], [0.1111111111111111, \"#46039f\"], [0.2222222222222222, \"#7201a8\"], [0.3333333333333333, \"#9c179e\"], [0.4444444444444444, \"#bd3786\"], [0.5555555555555556, \"#d8576b\"], [0.6666666666666666, \"#ed7953\"], [0.7777777777777778, \"#fb9f3a\"], [0.8888888888888888, \"#fdca26\"], [1.0, \"#f0f921\"]], \"type\": \"surface\"}], \"table\": [{\"cells\": {\"fill\": {\"color\": \"#EBF0F8\"}, \"line\": {\"color\": \"white\"}}, \"header\": {\"fill\": {\"color\": \"#C8D4E3\"}, \"line\": {\"color\": \"white\"}}, \"type\": \"table\"}]}, \"layout\": {\"annotationdefaults\": {\"arrowcolor\": \"#2a3f5f\", \"arrowhead\": 0, \"arrowwidth\": 1}, \"coloraxis\": {\"colorbar\": {\"outlinewidth\": 0, \"ticks\": \"\"}}, \"colorscale\": {\"diverging\": [[0, \"#8e0152\"], [0.1, \"#c51b7d\"], [0.2, \"#de77ae\"], [0.3, \"#f1b6da\"], [0.4, \"#fde0ef\"], [0.5, \"#f7f7f7\"], [0.6, \"#e6f5d0\"], [0.7, \"#b8e186\"], [0.8, \"#7fbc41\"], [0.9, \"#4d9221\"], [1, \"#276419\"]], \"sequential\": [[0.0, \"#0d0887\"], [0.1111111111111111, \"#46039f\"], [0.2222222222222222, \"#7201a8\"], [0.3333333333333333, \"#9c179e\"], [0.4444444444444444, \"#bd3786\"], [0.5555555555555556, \"#d8576b\"], [0.6666666666666666, \"#ed7953\"], [0.7777777777777778, \"#fb9f3a\"], [0.8888888888888888, \"#fdca26\"], [1.0, \"#f0f921\"]], \"sequentialminus\": [[0.0, \"#0d0887\"], [0.1111111111111111, \"#46039f\"], [0.2222222222222222, \"#7201a8\"], [0.3333333333333333, \"#9c179e\"], [0.4444444444444444, \"#bd3786\"], [0.5555555555555556, \"#d8576b\"], [0.6666666666666666, \"#ed7953\"], [0.7777777777777778, \"#fb9f3a\"], [0.8888888888888888, \"#fdca26\"], [1.0, \"#f0f921\"]]}, \"colorway\": [\"#636efa\", \"#EF553B\", \"#00cc96\", \"#ab63fa\", \"#FFA15A\", \"#19d3f3\", \"#FF6692\", \"#B6E880\", \"#FF97FF\", \"#FECB52\"], \"font\": {\"color\": \"#2a3f5f\"}, \"geo\": {\"bgcolor\": \"white\", \"lakecolor\": \"white\", \"landcolor\": \"#E5ECF6\", \"showlakes\": true, \"showland\": true, \"subunitcolor\": \"white\"}, \"hoverlabel\": {\"align\": \"left\"}, \"hovermode\": \"closest\", \"mapbox\": {\"style\": \"light\"}, \"paper_bgcolor\": \"white\", \"plot_bgcolor\": \"#E5ECF6\", \"polar\": {\"angularaxis\": {\"gridcolor\": \"white\", \"linecolor\": \"white\", \"ticks\": \"\"}, \"bgcolor\": \"#E5ECF6\", \"radialaxis\": {\"gridcolor\": \"white\", \"linecolor\": \"white\", \"ticks\": \"\"}}, \"scene\": {\"xaxis\": {\"backgroundcolor\": \"#E5ECF6\", \"gridcolor\": \"white\", \"gridwidth\": 2, \"linecolor\": \"white\", \"showbackground\": true, \"ticks\": \"\", \"zerolinecolor\": \"white\"}, \"yaxis\": {\"backgroundcolor\": \"#E5ECF6\", \"gridcolor\": \"white\", \"gridwidth\": 2, \"linecolor\": \"white\", \"showbackground\": true, \"ticks\": \"\", \"zerolinecolor\": \"white\"}, \"zaxis\": {\"backgroundcolor\": \"#E5ECF6\", \"gridcolor\": \"white\", \"gridwidth\": 2, \"linecolor\": \"white\", \"showbackground\": true, \"ticks\": \"\", \"zerolinecolor\": \"white\"}}, \"shapedefaults\": {\"line\": {\"color\": \"#2a3f5f\"}}, \"ternary\": {\"aaxis\": {\"gridcolor\": \"white\", \"linecolor\": \"white\", \"ticks\": \"\"}, \"baxis\": {\"gridcolor\": \"white\", \"linecolor\": \"white\", \"ticks\": \"\"}, \"bgcolor\": \"#E5ECF6\", \"caxis\": {\"gridcolor\": \"white\", \"linecolor\": \"white\", \"ticks\": \"\"}}, \"title\": {\"x\": 0.05}, \"xaxis\": {\"automargin\": true, \"gridcolor\": \"white\", \"linecolor\": \"white\", \"ticks\": \"\", \"title\": {\"standoff\": 15}, \"zerolinecolor\": \"white\", \"zerolinewidth\": 2}, \"yaxis\": {\"automargin\": true, \"gridcolor\": \"white\", \"linecolor\": \"white\", \"ticks\": \"\", \"title\": {\"standoff\": 15}, \"zerolinecolor\": \"white\", \"zerolinewidth\": 2}}}, \"title\": {\"text\": \"System Level Forecasts\"}, \"xaxis\": {\"anchor\": \"y\", \"domain\": [0.0, 1.0], \"title\": {\"text\": \"DeliveryDT\"}}, \"yaxis\": {\"anchor\": \"x\", \"domain\": [0.0, 1.0], \"title\": {\"text\": \"MW\"}}},\n",
       "                        {\"responsive\": true}\n",
       "                    ).then(function(){\n",
       "                            \n",
       "var gd = document.getElementById('31e917cb-703c-4213-9706-c80ac3df82e1');\n",
       "var x = new MutationObserver(function (mutations, observer) {{\n",
       "        var display = window.getComputedStyle(gd).display;\n",
       "        if (!display || display === 'none') {{\n",
       "            console.log([gd, 'removed!']);\n",
       "            Plotly.purge(gd);\n",
       "            observer.disconnect();\n",
       "        }}\n",
       "}});\n",
       "\n",
       "// Listen for the removal of the full notebook cells\n",
       "var notebookContainer = gd.closest('#notebook-container');\n",
       "if (notebookContainer) {{\n",
       "    x.observe(notebookContainer, {childList: true});\n",
       "}}\n",
       "\n",
       "// Listen for the clearing of the current output cell\n",
       "var outputEl = gd.closest('.output');\n",
       "if (outputEl) {{\n",
       "    x.observe(outputEl, {childList: true});\n",
       "}}\n",
       "\n",
       "                        })\n",
       "                };\n",
       "                });\n",
       "            </script>\n",
       "        </div>"
      ]
     },
     "metadata": {},
     "output_type": "display_data"
    }
   ],
   "source": [
    "system_df = long_load_fcst.loc[long_load_fcst.WeatherZone == 'SystemTotal', :] \n",
    "\n",
    "system_df.head()\n",
    "\n",
    "systemFig = px.line(system_df, x=\"DeliveryDT\", y=\"MW\", title='System Level Forecasts')\n",
    "\n",
    "systemFig.show()"
   ]
  },
  {
   "cell_type": "code",
   "execution_count": 75,
   "metadata": {},
   "outputs": [],
   "source": [
    "wz_df = long_load_fcst.loc[long_load_fcst.WeatherZone != 'SystemTotal', :] "
   ]
  },
  {
   "cell_type": "code",
   "execution_count": 76,
   "metadata": {},
   "outputs": [
    {
     "data": {
      "image/svg+xml": [
       "<svg class=\"main-svg\" xmlns=\"http://www.w3.org/2000/svg\" xmlns:xlink=\"http://www.w3.org/1999/xlink\" width=\"700\" height=\"450\" style=\"\" viewBox=\"0 0 700 450\"><rect x=\"0\" y=\"0\" width=\"700\" height=\"450\" style=\"fill: rgb(255, 255, 255); fill-opacity: 1;\"/><defs id=\"defs-f30b5b\"><g class=\"clips\"><clipPath id=\"clipf30b5bxyplot\" class=\"plotclip\"><rect width=\"475\" height=\"270\"/></clipPath><clipPath class=\"axesclip\" id=\"clipf30b5bx\"><rect x=\"80\" y=\"0\" width=\"475\" height=\"450\"/></clipPath><clipPath class=\"axesclip\" id=\"clipf30b5by\"><rect x=\"0\" y=\"100\" width=\"700\" height=\"270\"/></clipPath><clipPath class=\"axesclip\" id=\"clipf30b5bxy\"><rect x=\"80\" y=\"100\" width=\"475\" height=\"270\"/></clipPath></g><g class=\"gradients\"/></defs><g class=\"bglayer\"><rect class=\"bg\" x=\"80\" y=\"100\" width=\"475\" height=\"270\" style=\"fill: rgb(229, 236, 246); fill-opacity: 1; stroke-width: 0;\"/></g><g class=\"layer-below\"><g class=\"imagelayer\"/><g class=\"shapelayer\"/></g><g class=\"cartesianlayer\"><g class=\"subplot xy\"><g class=\"layer-subplot\"><g class=\"shapelayer\"/><g class=\"imagelayer\"/></g><g class=\"gridlayer\"><g class=\"x\"><path class=\"xgrid crisp\" transform=\"translate(137.2,0)\" d=\"M0,100v270\" style=\"stroke: rgb(255, 255, 255); stroke-opacity: 1; stroke-width: 1px;\"/><path class=\"xgrid crisp\" transform=\"translate(256.57,0)\" d=\"M0,100v270\" style=\"stroke: rgb(255, 255, 255); stroke-opacity: 1; stroke-width: 1px;\"/><path class=\"xgrid crisp\" transform=\"translate(375.94,0)\" d=\"M0,100v270\" style=\"stroke: rgb(255, 255, 255); stroke-opacity: 1; stroke-width: 1px;\"/><path class=\"xgrid crisp\" transform=\"translate(495.31,0)\" d=\"M0,100v270\" style=\"stroke: rgb(255, 255, 255); stroke-opacity: 1; stroke-width: 1px;\"/></g><g class=\"y\"><path class=\"ygrid crisp\" transform=\"translate(0,310.83000000000004)\" d=\"M80,0h475\" style=\"stroke: rgb(255, 255, 255); stroke-opacity: 1; stroke-width: 1px;\"/><path class=\"ygrid crisp\" transform=\"translate(0,256.03)\" d=\"M80,0h475\" style=\"stroke: rgb(255, 255, 255); stroke-opacity: 1; stroke-width: 1px;\"/><path class=\"ygrid crisp\" transform=\"translate(0,201.24)\" d=\"M80,0h475\" style=\"stroke: rgb(255, 255, 255); stroke-opacity: 1; stroke-width: 1px;\"/><path class=\"ygrid crisp\" transform=\"translate(0,146.45)\" d=\"M80,0h475\" style=\"stroke: rgb(255, 255, 255); stroke-opacity: 1; stroke-width: 1px;\"/></g></g><g class=\"zerolinelayer\"><path class=\"yzl zl crisp\" transform=\"translate(0,365.62)\" d=\"M80,0h475\" style=\"stroke: rgb(255, 255, 255); stroke-opacity: 1; stroke-width: 2px;\"/></g><path class=\"xlines-below\"/><path class=\"ylines-below\"/><g class=\"overlines-below\"/><g class=\"xaxislayer-below\"/><g class=\"yaxislayer-below\"/><g class=\"overaxes-below\"/><g class=\"plot\" transform=\"translate(80, 100)\" clip-path=\"url('#clipf30b5bxyplot')\"/><g class=\"overplot\"/><path class=\"xlines-above crisp\" d=\"M0,0\" style=\"fill: none;\"/><path class=\"ylines-above crisp\" d=\"M0,0\" style=\"fill: none;\"/><g class=\"overlines-above\"/><g class=\"xaxislayer-above\"><g class=\"xtick\"><text text-anchor=\"middle\" x=\"0\" y=\"383\" transform=\"translate(137.2,0)\" style=\"font-family: 'Open Sans', verdana, arial, sans-serif; font-size: 12px; fill: rgb(42, 63, 95); fill-opacity: 1; white-space: pre;\"><tspan class=\"line\" dy=\"0em\" x=\"0\" y=\"383\">Jul 27</tspan><tspan class=\"line\" dy=\"1.3em\" x=\"0\" y=\"383\">2020</tspan></text></g><g class=\"xtick\"><text text-anchor=\"middle\" x=\"0\" y=\"383\" transform=\"translate(256.57,0)\" style=\"font-family: 'Open Sans', verdana, arial, sans-serif; font-size: 12px; fill: rgb(42, 63, 95); fill-opacity: 1; white-space: pre;\">Jul 29</text></g><g class=\"xtick\"><text text-anchor=\"middle\" x=\"0\" y=\"383\" transform=\"translate(375.94,0)\" style=\"font-family: 'Open Sans', verdana, arial, sans-serif; font-size: 12px; fill: rgb(42, 63, 95); fill-opacity: 1; white-space: pre;\">Jul 31</text></g><g class=\"xtick\"><text text-anchor=\"middle\" x=\"0\" y=\"383\" transform=\"translate(495.31,0)\" style=\"font-family: 'Open Sans', verdana, arial, sans-serif; font-size: 12px; fill: rgb(42, 63, 95); fill-opacity: 1; white-space: pre;\">Aug 2</text></g></g><g class=\"yaxislayer-above\"><g class=\"ytick\"><text text-anchor=\"end\" x=\"79\" y=\"4.199999999999999\" transform=\"translate(0,365.62)\" style=\"font-family: 'Open Sans', verdana, arial, sans-serif; font-size: 12px; fill: rgb(42, 63, 95); fill-opacity: 1; white-space: pre;\">0</text></g><g class=\"ytick\"><text text-anchor=\"end\" x=\"79\" y=\"4.199999999999999\" transform=\"translate(0,310.83000000000004)\" style=\"font-family: 'Open Sans', verdana, arial, sans-serif; font-size: 12px; fill: rgb(42, 63, 95); fill-opacity: 1; white-space: pre;\">5k</text></g><g class=\"ytick\"><text text-anchor=\"end\" x=\"79\" y=\"4.199999999999999\" transform=\"translate(0,256.03)\" style=\"font-family: 'Open Sans', verdana, arial, sans-serif; font-size: 12px; fill: rgb(42, 63, 95); fill-opacity: 1; white-space: pre;\">10k</text></g><g class=\"ytick\"><text text-anchor=\"end\" x=\"79\" y=\"4.199999999999999\" transform=\"translate(0,201.24)\" style=\"font-family: 'Open Sans', verdana, arial, sans-serif; font-size: 12px; fill: rgb(42, 63, 95); fill-opacity: 1; white-space: pre;\">15k</text></g><g class=\"ytick\"><text text-anchor=\"end\" x=\"79\" y=\"4.199999999999999\" transform=\"translate(0,146.45)\" style=\"font-family: 'Open Sans', verdana, arial, sans-serif; font-size: 12px; fill: rgb(42, 63, 95); fill-opacity: 1; white-space: pre;\">20k</text></g></g><g class=\"overaxes-above\"/></g></g><g class=\"polarlayer\"/><g class=\"ternarylayer\"/><g class=\"geolayer\"/><g class=\"funnelarealayer\"/><g class=\"pielayer\"/><g class=\"treemaplayer\"/><g class=\"sunburstlayer\"/><g class=\"glimages\"><image xmlns=\"http://www.w3.org/2000/svg\" xlink:href=\"data:image/png;base64,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\" preserveAspectRatio=\"none\" x=\"0\" y=\"0\" width=\"700\" height=\"450\"/><image xmlns=\"http://www.w3.org/2000/svg\" xlink:href=\"data:image/png;base64,iVBORw0KGgoAAAANSUhEUgAAArwAAAHCCAYAAAANehpvAAAZCUlEQVR4Xu3WQREAAAgCQelf2h43awMWH+wcAQIECBAgQIAAgbDAwtlEI0CAAAECBAgQIHAGrycgQIAAAQIECBBICxi86XqFI0CAAAECBAgQMHj9AAECBAgQIECAQFrA4E3XKxwBAgQIECBAgIDB6wcIECBAgAABAgTSAgZvul7hCBAgQIAAAQIEDF4/QIAAAQIECBAgkBYweNP1CkeAAAECBAgQIGDw+gECBAgQIECAAIG0gMGbrlc4AgQIECBAgAABg9cPECBAgAABAgQIpAUM3nS9whEgQIAAAQIECBi8foAAAQIECBAgQCAtYPCm6xWOAAECBAgQIEDA4PUDBAgQIECAAAECaQGDN12vcAQIECBAgAABAgavHyBAgAABAgQIEEgLGLzpeoUjQIAAAQIECBAweP0AAQIECBAgQIBAWsDgTdcrHAECBAgQIECAgMHrBwgQIECAAAECBNICBm+6XuEIECBAgAABAgQMXj9AgAABAgQIECCQFjB40/UKR4AAAQIECBAgYPD6AQIECBAgQIAAgbSAwZuuVzgCBAgQIECAAAGD1w8QIECAAAECBAikBQzedL3CESBAgAABAgQIGLx+gAABAgQIECBAIC1g8KbrFY4AAQIECBAgQMDg9QMECBAgQIAAAQJpAYM3Xa9wBAgQIECAAAECBq8fIECAAAECBAgQSAsYvOl6hSNAgAABAgQIEDB4/QABAgQIECBAgEBawOBN1yscAQIECBAgQICAwesHCBAgQIAAAQIE0gIGb7pe4QgQIECAAAECBAxeP0CAAAECBAgQIJAWMHjT9QpHgAABAgQIECBg8PoBAgQIECBAgACBtIDBm65XOAIECBAgQIAAAYPXDxAgQIAAAQIECKQFDN50vcIRIECAAAECBAgYvH6AAAECBAgQIEAgLWDwpusVjgABAgQIECBAwOD1AwQIECBAgAABAmkBgzddr3AECBAgQIAAAQIGrx8gQIAAAQIECBBICxi86XqFI0CAAAECBAgQMHj9AAECBAgQIECAQFrA4E3XKxwBAgQIECBAgIDB6wcIECBAgAABAgTSAgZvul7hCBAgQIAAAQIEDF4/QIAAAQIECBAgkBYweNP1CkeAAAECBAgQIGDw+gECBAgQIECAAIG0gMGbrlc4AgQIECBAgAABg9cPECBAgAABAgQIpAUM3nS9whEgQIAAAQIECBi8foAAAQIECBAgQCAtYPCm6xWOAAECBAgQIEDA4PUDBAgQIECAAAECaQGDN12vcAQIECBAgAABAgavHyBAgAABAgQIEEgLGLzpeoUjQIAAAQIECBAweP0AAQIECBAgQIBAWsDgTdcrHAECBAgQIECAgMHrBwgQIECAAAECBNICBm+6XuEIECBAgAABAgQMXj9AgAABAgQIECCQFjB40/UKR4AAAQIECBAgYPD6AQIECBAgQIAAgbSAwZuuVzgCBAgQIECAAAGD1w8QIECAAAECBAikBQzedL3CESBAgAABAgQIGLx+gAABAgQIECBAIC1g8KbrFY4AAQIECBAgQMDg9QMECBAgQIAAAQJpAYM3Xa9wBAgQIECAAAECBq8fIECAAAECBAgQSAsYvOl6hSNAgAABAgQIEDB4/QABAgQIECBAgEBawOBN1yscAQIECBAgQICAwesHCBAgQIAAAQIE0gIGb7pe4QgQIECAAAECBAxeP0CAAAECBAgQIJAWMHjT9QpHgAABAgQIECBg8PoBAgQIECBAgACBtIDBm65XOAIECBAgQIAAAYPXDxAgQIAAAQIECKQFDN50vcIRIECAAAECBAgYvH6AAAECBAgQIEAgLWDwpusVjgABAgQIECBAwOD1AwQIECBAgAABAmkBgzddr3AECBAgQIAAAQIGrx8gQIAAAQIECBBICxi86XqFI0CAAAECBAgQMHj9AAECBAgQIECAQFrA4E3XKxwBAgQIECBAgIDB6wcIECBAgAABAgTSAgZvul7hCBAgQIAAAQIEDF4/QIAAAQIECBAgkBYweNP1CkeAAAECBAgQIGDw+gECBAgQIECAAIG0gMGbrlc4AgQIECBAgAABg9cPECBAgAABAgQIpAUM3nS9whEgQIAAAQIECBi8foAAAQIECBAgQCAtYPCm6xWOAAECBAgQIEDA4PUDBAgQIECAAAECaQGDN12vcAQIECBAgAABAgavHyBAgAABAgQIEEgLGLzpeoUjQIAAAQIECBAweP0AAQIECBAgQIBAWsDgTdcrHAECBAgQIECAgMHrBwgQIECAAAECBNICBm+6XuEIECBAgAABAgQMXj9AgAABAgQIECCQFjB40/UKR4AAAQIECBAgYPD6AQIECBAgQIAAgbSAwZuuVzgCBAgQIECAAAGD1w8QIECAAAECBAikBQzedL3CESBAgAABAgQIGLx+gAABAgQIECBAIC1g8KbrFY4AAQIECBAgQMDg9QMECBAgQIAAAQJpAYM3Xa9wBAgQIECAAAECBq8fIECAAAECBAgQSAsYvOl6hSNAgAABAgQIEDB4/QABAgQIECBAgEBawOBN1yscAQIECBAgQICAwesHCBAgQIAAAQIE0gIGb7pe4QgQIECAAAECBAxeP0CAAAECBAgQIJAWMHjT9QpHgAABAgQIECBg8PoBAgQIECBAgACBtIDBm65XOAIECBAgQIAAAYPXDxAgQIAAAQIECKQFDN50vcIRIECAAAECBAgYvH6AAAECBAgQIEAgLWDwpusVjgABAgQIECBAwOD1AwQIECBAgAABAmkBgzddr3AECBAgQIAAAQIGrx8gQIAAAQIECBBICxi86XqFI0CAAAECBAgQMHj9AAECBAgQIECAQFrA4E3XKxwBAgQIECBAgIDB6wcIECBAgAABAgTSAgZvul7hCBAgQIAAAQIEDF4/QIAAAQIECBAgkBYweNP1CkeAAAECBAgQIGDw+gECBAgQIECAAIG0gMGbrlc4AgQIECBAgAABg9cPECBAgAABAgQIpAUM3nS9whEgQIAAAQIECBi8foAAAQIECBAgQCAtYPCm6xWOAAECBAgQIEDA4PUDBAgQIECAAAECaQGDN12vcAQIECBAgAABAgavHyBAgAABAgQIEEgLGLzpeoUjQIAAAQIECBAweP0AAQIECBAgQIBAWsDgTdcrHAECBAgQIECAgMHrBwgQIECAAAECBNICBm+6XuEIECBAgAABAgQMXj9AgAABAgQIECCQFjB40/UKR4AAAQIECBAgYPD6AQIECBAgQIAAgbSAwZuuVzgCBAgQIECAAAGD1w8QIECAAAECBAikBQzedL3CESBAgAABAgQIGLx+gAABAgQIECBAIC1g8KbrFY4AAQIECBAgQMDg9QMECBAgQIAAAQJpAYM3Xa9wBAgQIECAAAECBq8fIECAAAECBAgQSAsYvOl6hSNAgAABAgQIEDB4/QABAgQIECBAgEBawOBN1yscAQIECBAgQICAwesHCBAgQIAAAQIE0gIGb7pe4QgQIECAAAECBAxeP0CAAAECBAgQIJAWMHjT9QpHgAABAgQIECBg8PoBAgQIECBAgACBtIDBm65XOAIECBAgQIAAAYPXDxAgQIAAAQIECKQFDN50vcIRIECAAAECBAgYvH6AAAECBAgQIEAgLWDwpusVjgABAgQIECBAwOD1AwQIECBAgAABAmkBgzddr3AECBAgQIAAAQIGrx8gQIAAAQIECBBICxi86XqFI0CAAAECBAgQMHj9AAECBAgQIECAQFrA4E3XKxwBAgQIECBAgIDB6wcIECBAgAABAgTSAgZvul7hCBAgQIAAAQIEDF4/QIAAAQIECBAgkBYweNP1CkeAAAECBAgQIGDw+gECBAgQIECAAIG0gMGbrlc4AgQIECBAgAABg9cPECBAgAABAgQIpAUM3nS9whEgQIAAAQIECBi8foAAAQIECBAgQCAtYPCm6xWOAAECBAgQIEDA4PUDBAgQIECAAAECaQGDN12vcAQIECBAgAABAgavHyBAgAABAgQIEEgLGLzpeoUjQIAAAQIECBAweP0AAQIECBAgQIBAWsDgTdcrHAECBAgQIECAgMHrBwgQIECAAAECBNICBm+6XuEIECBAgAABAgQMXj9AgAABAgQIECCQFjB40/UKR4AAAQIECBAgYPD6AQIECBAgQIAAgbSAwZuuVzgCBAgQIECAAAGD1w8QIECAAAECBAikBQzedL3CESBAgAABAgQIGLx+gAABAgQIECBAIC1g8KbrFY4AAQIECBAgQMDg9QMECBAgQIAAAQJpAYM3Xa9wBAgQIECAAAECBq8fIECAAAECBAgQSAsYvOl6hSNAgAABAgQIEDB4/QABAgQIECBAgEBawOBN1yscAQIECBAgQICAwesHCBAgQIAAAQIE0gIGb7pe4QgQIECAAAECBAxeP0CAAAECBAgQIJAWMHjT9QpHgAABAgQIECBg8PoBAgQIECBAgACBtIDBm65XOAIECBAgQIAAAYPXDxAgQIAAAQIECKQFDN50vcIRIECAAAECBAgYvH6AAAECBAgQIEAgLWDwpusVjgABAgQIECBAwOD1AwQIECBAgAABAmkBgzddr3AECBAgQIAAAQIGrx8gQIAAAQIECBBICxi86XqFI0CAAAECBAgQMHj9AAECBAgQIECAQFrA4E3XKxwBAgQIECBAgIDB6wcIECBAgAABAgTSAgZvul7hCBAgQIAAAQIEDF4/QIAAAQIECBAgkBYweNP1CkeAAAECBAgQIGDw+gECBAgQIECAAIG0gMGbrlc4AgQIECBAgAABg9cPECBAgAABAgQIpAUM3nS9whEgQIAAAQIECBi8foAAAQIECBAgQCAtYPCm6xWOAAECBAgQIEDA4PUDBAgQIECAAAECaQGDN12vcAQIECBAgAABAgavHyBAgAABAgQIEEgLGLzpeoUjQIAAAQIECBAweP0AAQIECBAgQIBAWsDgTdcrHAECBAgQIECAgMHrBwgQIECAAAECBNICBm+6XuEIECBAgAABAgQMXj9AgAABAgQIECCQFjB40/UKR4AAAQIECBAgYPD6AQIECBAgQIAAgbSAwZuuVzgCBAgQIECAAAGD1w8QIECAAAECBAikBQzedL3CESBAgAABAgQIGLx+gAABAgQIECBAIC1g8KbrFY4AAQIECBAgQMDg9QMECBAgQIAAAQJpAYM3Xa9wBAgQIECAAAECBq8fIECAAAECBAgQSAsYvOl6hSNAgAABAgQIEDB4/QABAgQIECBAgEBawOBN1yscAQIECBAgQICAwesHCBAgQIAAAQIE0gIGb7pe4QgQIECAAAECBAxeP0CAAAECBAgQIJAWMHjT9QpHgAABAgQIECBg8PoBAgQIECBAgACBtIDBm65XOAIECBAgQIAAAYPXDxAgQIAAAQIECKQFDN50vcIRIECAAAECBAgYvH6AAAECBAgQIEAgLWDwpusVjgABAgQIECBAwOD1AwQIECBAgAABAmkBgzddr3AECBAgQIAAAQIGrx8gQIAAAQIECBBICxi86XqFI0CAAAECBAgQMHj9AAECBAgQIECAQFrA4E3XKxwBAgQIECBAgIDB6wcIECBAgAABAgTSAgZvul7hCBAgQIAAAQIEDF4/QIAAAQIECBAgkBYweNP1CkeAAAECBAgQIGDw+gECBAgQIECAAIG0gMGbrlc4AgQIECBAgAABg9cPECBAgAABAgQIpAUM3nS9whEgQIAAAQIECBi8foAAAQIECBAgQCAtYPCm6xWOAAECBAgQIEDA4PUDBAgQIECAAAECaQGDN12vcAQIECBAgAABAgavHyBAgAABAgQIEEgLGLzpeoUjQIAAAQIECBAweP0AAQIECBAgQIBAWsDgTdcrHAECBAgQIECAgMHrBwgQIECAAAECBNICBm+6XuEIECBAgAABAgQMXj9AgAABAgQIECCQFjB40/UKR4AAAQIECBAgYPD6AQIECBAgQIAAgbSAwZuuVzgCBAgQIECAAAGD1w8QIECAAAECBAikBQzedL3CESBAgAABAgQIGLx+gAABAgQIECBAIC1g8KbrFY4AAQIECBAgQMDg9QMECBAgQIAAAQJpAYM3Xa9wBAgQIECAAAECBq8fIECAAAECBAgQSAsYvOl6hSNAgAABAgQIEDB4/QABAgQIECBAgEBawOBN1yscAQIECBAgQICAwesHCBAgQIAAAQIE0gIGb7pe4QgQIECAAAECBAxeP0CAAAECBAgQIJAWMHjT9QpHgAABAgQIECBg8PoBAgQIECBAgACBtIDBm65XOAIECBAgQIAAAYPXDxAgQIAAAQIECKQFDN50vcIRIECAAAECBAgYvH6AAAECBAgQIEAgLWDwpusVjgABAgQIECBAwOD1AwQIECBAgAABAmkBgzddr3AECBAgQIAAAQIGrx8gQIAAAQIECBBICxi86XqFI0CAAAECBAgQMHj9AAECBAgQIECAQFrA4E3XKxwBAgQIECBAgIDB6wcIECBAgAABAgTSAgZvul7hCBAgQIAAAQIEDF4/QIAAAQIECBAgkBYweNP1CkeAAAECBAgQIGDw+gECBAgQIECAAIG0gMGbrlc4AgQIECBAgAABg9cPECBAgAABAgQIpAUM3nS9whEgQIAAAQIECBi8foAAAQIECBAgQCAtYPCm6xWOAAECBAgQIEDA4PUDBAgQIECAAAECaQGDN12vcAQIECBAgAABAgavHyBAgAABAgQIEEgLGLzpeoUjQIAAAQIECBAweP0AAQIECBAgQIBAWsDgTdcrHAECBAgQIECAgMHrBwgQIECAAAECBNICBm+6XuEIECBAgAABAgQMXj9AgAABAgQIECCQFjB40/UKR4AAAQIECBAgYPD6AQIECBAgQIAAgbSAwZuuVzgCBAgQIECAAAGD1w8QIECAAAECBAikBQzedL3CESBAgAABAgQIGLx+gAABAgQIECBAIC1g8KbrFY4AAQIECBAgQMDg9QMECBAgQIAAAQJpAYM3Xa9wBAgQIECAAAECBq8fIECAAAECBAgQSAsYvOl6hSNAgAABAgQIEDB4/QABAgQIECBAgEBawOBN1yscAQIECBAgQICAwesHCBAgQIAAAQIE0gIGb7pe4QgQIECAAAECBAxeP0CAAAECBAgQIJAWMHjT9QpHgAABAgQIECBg8PoBAgQIECBAgACBtIDBm65XOAIECBAgQIAAAYPXDxAgQIAAAQIECKQFDN50vcIRIECAAAECBAgYvH6AAAECBAgQIEAgLWDwpusVjgABAgQIECBAwOD1AwQIECBAgAABAmkBgzddr3AECBAgQIAAAQIGrx8gQIAAAQIECBBICxi86XqFI0CAAAECBAgQMHj9AAECBAgQIECAQFrA4E3XKxwBAgQIECBAgIDB6wcIECBAgAABAgTSAgZvul7hCBAgQIAAAQIEDF4/QIAAAQIECBAgkBYweNP1CkeAAAECBAgQIGDw+gECBAgQIECAAIG0gMGbrlc4AgQIECBAgAABg9cPECBAgAABAgQIpAUM3nS9whEgQIAAAQIECBi8foAAAQIECBAgQCAtYPCm6xWOAAECBAgQIEDA4PUDBAgQIECAAAECaQGDN12vcAQIECBAgAABAgavHyBAgAABAgQIEEgLGLzpeoUjQIAAAQIECBAweP0AAQIECBAgQIBAWsDgTdcrHAECBAgQIECAgMHrBwgQIECAAAECBNICBm+6XuEIECBAgAABAgQMXj9AgAABAgQIECCQFjB40/UKR4AAAQIECBAgYPD6AQIECBAgQIAAgbSAwZuuVzgCBAgQIECAAAGD1w8QIECAAAECBAikBQzedL3CESBAgAABAgQIGLx+gAABAgQIECBAIC1g8KbrFY4AAQIECBAgQMDg9QMECBAgQIAAAQJpAYM3Xa9wBAgQIECAAAECBq8fIECAAAECBAgQSAsYvOl6hSNAgAABAgQIEDB4/QABAgQIECBAgEBawOBN1yscAQIECBAgQICAwesHCBAgQIAAAQIE0gIGb7pe4QgQIECAAAECBAxeP0CAAAECBAgQIJAWMHjT9QpHgAABAgQIECBg8PoBAgQIECBAgACBtIDBm65XOAIECBAgQIAAAYPXDxAgQIAAAQIECKQFDN50vcIRIECAAAECBAgYvH6AAAECBAgQIEAgLWDwpusVjgABAgQIECBAwOD1AwQIECBAgAABAmkBgzddr3AECBAgQIAAAQIGrx8gQIAAAQIECBBICxi86XqFI0CAAAECBAgQMHj9AAECBAgQIECAQFrA4E3XKxwBAgQIECBAgIDB6wcIECBAgAABAgTSAgZvul7hCBAgQIAAAQIEDF4/QIAAAQIECBAgkBYweNP1CkeAAAECBAgQIGDw+gECBAgQIECAAIG0gMGbrlc4AgQIECBAgAABg9cPECBAgAABAgQIpAUM3nS9whEgQIAAAQIECBi8foAAAQIECBAgQCAtYPCm6xWOAAECBAgQIEDA4PUDBAgQIECAAAECaQGDN12vcAQIECBAgAABAg9CIAHDn1PJLgAAAABJRU5ErkJggg==\" preserveAspectRatio=\"none\" x=\"0\" y=\"0\" width=\"700\" height=\"450\"/></g><defs id=\"topdefs-f30b5b\"><g class=\"clips\"/><clipPath id=\"legendf30b5b\"><rect width=\"124\" height=\"178\" x=\"0\" y=\"0\"/></clipPath></defs><g class=\"layer-above\"><g class=\"imagelayer\"/><g class=\"shapelayer\"/></g><g class=\"infolayer\"><g class=\"legend\" pointer-events=\"all\" transform=\"translate(564.5, 100)\"><rect class=\"bg\" shape-rendering=\"crispEdges\" width=\"124\" height=\"178\" x=\"0\" y=\"0\" style=\"stroke: rgb(68, 68, 68); stroke-opacity: 1; fill: rgb(255, 255, 255); fill-opacity: 1; stroke-width: 0px;\"/><g class=\"scrollbox\" transform=\"translate(0, 0)\" clip-path=\"url('#legendf30b5b')\"><text class=\"legendtitletext user-select-none\" text-anchor=\"start\" x=\"2\" y=\"15.600000000000001\" style=\"font-family: 'Open Sans', verdana, arial, sans-serif; font-size: 12px; fill: rgb(42, 63, 95); fill-opacity: 1; white-space: pre;\">WeatherZone</text><g class=\"groups\" transform=\"translate(0, 0)\"><g class=\"traces\" transform=\"translate(0, 30.1)\" style=\"opacity: 1;\"><text class=\"legendtext user-select-none\" text-anchor=\"start\" x=\"40\" y=\"4.680000000000001\" style=\"font-family: 'Open Sans', verdana, arial, sans-serif; font-size: 12px; fill: rgb(42, 63, 95); fill-opacity: 1; white-space: pre;\">Coast</text><g class=\"layers\" style=\"opacity: 1;\"><g class=\"legendfill\"/><g class=\"legendlines\"><path class=\"js-line\" d=\"M5,0h30\" style=\"fill: none; stroke: rgb(99, 110, 250); stroke-opacity: 1; stroke-width: 2px;\"/></g><g class=\"legendsymbols\"><g class=\"legendpoints\"/></g></g><rect class=\"legendtoggle\" pointer-events=\"all\" x=\"0\" y=\"-9.5\" width=\"118.671875\" height=\"19\" style=\"cursor: pointer; fill: rgb(0, 0, 0); fill-opacity: 0;\"/></g></g><g class=\"groups\" transform=\"translate(0, 0)\"><g class=\"traces\" transform=\"translate(0, 49.1)\" style=\"opacity: 1;\"><text class=\"legendtext user-select-none\" text-anchor=\"start\" x=\"40\" y=\"4.680000000000001\" style=\"font-family: 'Open Sans', verdana, arial, sans-serif; font-size: 12px; fill: rgb(42, 63, 95); fill-opacity: 1; white-space: pre;\">East</text><g class=\"layers\" style=\"opacity: 1;\"><g class=\"legendfill\"/><g class=\"legendlines\"><path class=\"js-line\" d=\"M5,0h30\" style=\"fill: none; stroke: rgb(239, 85, 59); stroke-opacity: 1; stroke-width: 2px;\"/></g><g class=\"legendsymbols\"><g class=\"legendpoints\"/></g></g><rect class=\"legendtoggle\" pointer-events=\"all\" x=\"0\" y=\"-9.5\" width=\"118.671875\" height=\"19\" style=\"cursor: pointer; fill: rgb(0, 0, 0); fill-opacity: 0;\"/></g></g><g class=\"groups\" transform=\"translate(0, 0)\"><g class=\"traces\" transform=\"translate(0, 68.1)\" style=\"opacity: 1;\"><text class=\"legendtext user-select-none\" text-anchor=\"start\" x=\"40\" y=\"4.680000000000001\" style=\"font-family: 'Open Sans', verdana, arial, sans-serif; font-size: 12px; fill: rgb(42, 63, 95); fill-opacity: 1; white-space: pre;\">FarWest</text><g class=\"layers\" style=\"opacity: 1;\"><g class=\"legendfill\"/><g class=\"legendlines\"><path class=\"js-line\" d=\"M5,0h30\" style=\"fill: none; stroke: rgb(0, 204, 150); stroke-opacity: 1; stroke-width: 2px;\"/></g><g class=\"legendsymbols\"><g class=\"legendpoints\"/></g></g><rect class=\"legendtoggle\" pointer-events=\"all\" x=\"0\" y=\"-9.5\" width=\"118.671875\" height=\"19\" style=\"cursor: pointer; fill: rgb(0, 0, 0); fill-opacity: 0;\"/></g></g><g class=\"groups\" transform=\"translate(0, 0)\"><g class=\"traces\" transform=\"translate(0, 87.1)\" style=\"opacity: 1;\"><text class=\"legendtext user-select-none\" text-anchor=\"start\" x=\"40\" y=\"4.680000000000001\" style=\"font-family: 'Open Sans', verdana, arial, sans-serif; font-size: 12px; fill: rgb(42, 63, 95); fill-opacity: 1; white-space: pre;\">North</text><g class=\"layers\" style=\"opacity: 1;\"><g class=\"legendfill\"/><g class=\"legendlines\"><path class=\"js-line\" d=\"M5,0h30\" style=\"fill: none; stroke: rgb(171, 99, 250); stroke-opacity: 1; stroke-width: 2px;\"/></g><g class=\"legendsymbols\"><g class=\"legendpoints\"/></g></g><rect class=\"legendtoggle\" pointer-events=\"all\" x=\"0\" y=\"-9.5\" width=\"118.671875\" height=\"19\" style=\"cursor: pointer; fill: rgb(0, 0, 0); fill-opacity: 0;\"/></g></g><g class=\"groups\" transform=\"translate(0, 0)\"><g class=\"traces\" transform=\"translate(0, 106.1)\" style=\"opacity: 1;\"><text class=\"legendtext user-select-none\" text-anchor=\"start\" x=\"40\" y=\"4.680000000000001\" style=\"font-family: 'Open Sans', verdana, arial, sans-serif; font-size: 12px; fill: rgb(42, 63, 95); fill-opacity: 1; white-space: pre;\">NorthCentral</text><g class=\"layers\" style=\"opacity: 1;\"><g class=\"legendfill\"/><g class=\"legendlines\"><path class=\"js-line\" d=\"M5,0h30\" style=\"fill: none; stroke: rgb(255, 161, 90); stroke-opacity: 1; stroke-width: 2px;\"/></g><g class=\"legendsymbols\"><g class=\"legendpoints\"/></g></g><rect class=\"legendtoggle\" pointer-events=\"all\" x=\"0\" y=\"-9.5\" width=\"118.671875\" height=\"19\" style=\"cursor: pointer; fill: rgb(0, 0, 0); fill-opacity: 0;\"/></g></g><g class=\"groups\" transform=\"translate(0, 0)\"><g class=\"traces\" transform=\"translate(0, 125.1)\" style=\"opacity: 1;\"><text class=\"legendtext user-select-none\" text-anchor=\"start\" x=\"40\" y=\"4.680000000000001\" style=\"font-family: 'Open Sans', verdana, arial, sans-serif; font-size: 12px; fill: rgb(42, 63, 95); fill-opacity: 1; white-space: pre;\">SouthCentral</text><g class=\"layers\" style=\"opacity: 1;\"><g class=\"legendfill\"/><g class=\"legendlines\"><path class=\"js-line\" d=\"M5,0h30\" style=\"fill: none; stroke: rgb(25, 211, 243); stroke-opacity: 1; stroke-width: 2px;\"/></g><g class=\"legendsymbols\"><g class=\"legendpoints\"/></g></g><rect class=\"legendtoggle\" pointer-events=\"all\" x=\"0\" y=\"-9.5\" width=\"118.671875\" height=\"19\" style=\"cursor: pointer; fill: rgb(0, 0, 0); fill-opacity: 0;\"/></g></g><g class=\"groups\" transform=\"translate(0, 0)\"><g class=\"traces\" transform=\"translate(0, 144.1)\" style=\"opacity: 1;\"><text class=\"legendtext user-select-none\" text-anchor=\"start\" x=\"40\" y=\"4.680000000000001\" style=\"font-family: 'Open Sans', verdana, arial, sans-serif; font-size: 12px; fill: rgb(42, 63, 95); fill-opacity: 1; white-space: pre;\">Southern</text><g class=\"layers\" style=\"opacity: 1;\"><g class=\"legendfill\"/><g class=\"legendlines\"><path class=\"js-line\" d=\"M5,0h30\" style=\"fill: none; stroke: rgb(255, 102, 146); stroke-opacity: 1; stroke-width: 2px;\"/></g><g class=\"legendsymbols\"><g class=\"legendpoints\"/></g></g><rect class=\"legendtoggle\" pointer-events=\"all\" x=\"0\" y=\"-9.5\" width=\"118.671875\" height=\"19\" style=\"cursor: pointer; fill: rgb(0, 0, 0); fill-opacity: 0;\"/></g></g><g class=\"groups\" transform=\"translate(0, 0)\"><g class=\"traces\" transform=\"translate(0, 163.1)\" style=\"opacity: 1;\"><text class=\"legendtext user-select-none\" text-anchor=\"start\" x=\"40\" y=\"4.680000000000001\" style=\"font-family: 'Open Sans', verdana, arial, sans-serif; font-size: 12px; fill: rgb(42, 63, 95); fill-opacity: 1; white-space: pre;\">West</text><g class=\"layers\" style=\"opacity: 1;\"><g class=\"legendfill\"/><g class=\"legendlines\"><path class=\"js-line\" d=\"M5,0h30\" style=\"fill: none; stroke: rgb(182, 232, 128); stroke-opacity: 1; stroke-width: 2px;\"/></g><g class=\"legendsymbols\"><g class=\"legendpoints\"/></g></g><rect class=\"legendtoggle\" pointer-events=\"all\" x=\"0\" y=\"-9.5\" width=\"118.671875\" height=\"19\" style=\"cursor: pointer; fill: rgb(0, 0, 0); fill-opacity: 0;\"/></g></g></g><rect class=\"scrollbar\" rx=\"20\" ry=\"3\" width=\"0\" height=\"0\" x=\"0\" y=\"0\" style=\"fill: rgb(128, 139, 164); fill-opacity: 1;\"/></g><g class=\"g-gtitle\"><text class=\"gtitle\" x=\"35\" y=\"50\" text-anchor=\"start\" dy=\"0em\" style=\"font-family: 'Open Sans', verdana, arial, sans-serif; font-size: 17px; fill: rgb(42, 63, 95); opacity: 1; font-weight: normal; white-space: pre;\">Weather Zone Load Forecasts</text></g><g class=\"g-xtitle\"><text class=\"xtitle\" x=\"317.5\" y=\"425.8\" text-anchor=\"middle\" style=\"font-family: 'Open Sans', verdana, arial, sans-serif; font-size: 14px; fill: rgb(42, 63, 95); opacity: 1; font-weight: normal; white-space: pre;\">DeliveryDT</text></g><g class=\"g-ytitle\"><text class=\"ytitle\" transform=\"rotate(-90,31.840625000000003,235)\" x=\"31.840625000000003\" y=\"235\" text-anchor=\"middle\" style=\"font-family: 'Open Sans', verdana, arial, sans-serif; font-size: 14px; fill: rgb(42, 63, 95); opacity: 1; font-weight: normal; white-space: pre;\">MW</text></g></g></svg>"
      ]
     },
     "metadata": {},
     "output_type": "display_data"
    }
   ],
   "source": [
    "wzFig = px.line(wz_df, x='DeliveryDT', y='MW', color='WeatherZone', title='Weather Zone Load Forecasts')\n",
    "wzFig.show('svg')"
   ]
  },
  {
   "cell_type": "markdown",
   "metadata": {},
   "source": [
    "## Load Data to PostgreSQL Database"
   ]
  },
  {
   "cell_type": "code",
   "execution_count": 77,
   "metadata": {},
   "outputs": [],
   "source": [
    "from sqlalchemy import create_engine"
   ]
  },
  {
   "cell_type": "code",
   "execution_count": 78,
   "metadata": {},
   "outputs": [],
   "source": [
    "connection_string = f\"postgres:trumpet5@localhost:5432/ercot_db\"\n",
    "engine = create_engine(f'postgresql://{connection_string}')"
   ]
  },
  {
   "cell_type": "code",
   "execution_count": 79,
   "metadata": {},
   "outputs": [],
   "source": [
    "#fill table\n",
    "long_load_fcst.to_sql(name='da_load_fcst', con=engine, if_exists='append', index=False)"
   ]
  },
  {
   "cell_type": "code",
   "execution_count": 80,
   "metadata": {},
   "outputs": [
    {
     "data": {
      "text/html": [
       "<div>\n",
       "<style scoped>\n",
       "    .dataframe tbody tr th:only-of-type {\n",
       "        vertical-align: middle;\n",
       "    }\n",
       "\n",
       "    .dataframe tbody tr th {\n",
       "        vertical-align: top;\n",
       "    }\n",
       "\n",
       "    .dataframe thead th {\n",
       "        text-align: right;\n",
       "    }\n",
       "</style>\n",
       "<table border=\"1\" class=\"dataframe\">\n",
       "  <thead>\n",
       "    <tr style=\"text-align: right;\">\n",
       "      <th></th>\n",
       "      <th>DeliveryDT</th>\n",
       "      <th>DeliveryDate</th>\n",
       "      <th>Weekday</th>\n",
       "      <th>HourEnding</th>\n",
       "      <th>DSTFlag</th>\n",
       "      <th>WeatherZone</th>\n",
       "      <th>MW</th>\n",
       "      <th>ProcessDate</th>\n",
       "      <th>ProcessHour</th>\n",
       "      <th>ProcessDT</th>\n",
       "      <th>FileName</th>\n",
       "    </tr>\n",
       "  </thead>\n",
       "  <tbody>\n",
       "    <tr>\n",
       "      <td>0</td>\n",
       "      <td>2020-07-26 01:00:00</td>\n",
       "      <td>2020-07-26</td>\n",
       "      <td>Sunday</td>\n",
       "      <td>1</td>\n",
       "      <td>N</td>\n",
       "      <td>Coast</td>\n",
       "      <td>11329.2998</td>\n",
       "      <td>2020-07-26</td>\n",
       "      <td>203000</td>\n",
       "      <td>2020-07-26 20:30:00</td>\n",
       "      <td>cdr.00012312.0000000000000000.20200726.203000....</td>\n",
       "    </tr>\n",
       "    <tr>\n",
       "      <td>1</td>\n",
       "      <td>2020-07-26 02:00:00</td>\n",
       "      <td>2020-07-26</td>\n",
       "      <td>Sunday</td>\n",
       "      <td>2</td>\n",
       "      <td>N</td>\n",
       "      <td>Coast</td>\n",
       "      <td>11116.2998</td>\n",
       "      <td>2020-07-26</td>\n",
       "      <td>203000</td>\n",
       "      <td>2020-07-26 20:30:00</td>\n",
       "      <td>cdr.00012312.0000000000000000.20200726.203000....</td>\n",
       "    </tr>\n",
       "    <tr>\n",
       "      <td>2</td>\n",
       "      <td>2020-07-26 03:00:00</td>\n",
       "      <td>2020-07-26</td>\n",
       "      <td>Sunday</td>\n",
       "      <td>3</td>\n",
       "      <td>N</td>\n",
       "      <td>Coast</td>\n",
       "      <td>10999.5000</td>\n",
       "      <td>2020-07-26</td>\n",
       "      <td>203000</td>\n",
       "      <td>2020-07-26 20:30:00</td>\n",
       "      <td>cdr.00012312.0000000000000000.20200726.203000....</td>\n",
       "    </tr>\n",
       "    <tr>\n",
       "      <td>3</td>\n",
       "      <td>2020-07-26 04:00:00</td>\n",
       "      <td>2020-07-26</td>\n",
       "      <td>Sunday</td>\n",
       "      <td>4</td>\n",
       "      <td>N</td>\n",
       "      <td>Coast</td>\n",
       "      <td>10748.7002</td>\n",
       "      <td>2020-07-26</td>\n",
       "      <td>203000</td>\n",
       "      <td>2020-07-26 20:30:00</td>\n",
       "      <td>cdr.00012312.0000000000000000.20200726.203000....</td>\n",
       "    </tr>\n",
       "    <tr>\n",
       "      <td>4</td>\n",
       "      <td>2020-07-26 05:00:00</td>\n",
       "      <td>2020-07-26</td>\n",
       "      <td>Sunday</td>\n",
       "      <td>5</td>\n",
       "      <td>N</td>\n",
       "      <td>Coast</td>\n",
       "      <td>10718.2002</td>\n",
       "      <td>2020-07-26</td>\n",
       "      <td>203000</td>\n",
       "      <td>2020-07-26 20:30:00</td>\n",
       "      <td>cdr.00012312.0000000000000000.20200726.203000....</td>\n",
       "    </tr>\n",
       "    <tr>\n",
       "      <td>...</td>\n",
       "      <td>...</td>\n",
       "      <td>...</td>\n",
       "      <td>...</td>\n",
       "      <td>...</td>\n",
       "      <td>...</td>\n",
       "      <td>...</td>\n",
       "      <td>...</td>\n",
       "      <td>...</td>\n",
       "      <td>...</td>\n",
       "      <td>...</td>\n",
       "      <td>...</td>\n",
       "    </tr>\n",
       "    <tr>\n",
       "      <td>1723</td>\n",
       "      <td>2020-08-02 20:00:00</td>\n",
       "      <td>2020-08-02</td>\n",
       "      <td>Sunday</td>\n",
       "      <td>20</td>\n",
       "      <td>N</td>\n",
       "      <td>SystemTotal</td>\n",
       "      <td>61980.8105</td>\n",
       "      <td>2020-07-26</td>\n",
       "      <td>203000</td>\n",
       "      <td>2020-07-26 20:30:00</td>\n",
       "      <td>cdr.00012312.0000000000000000.20200726.203000....</td>\n",
       "    </tr>\n",
       "    <tr>\n",
       "      <td>1724</td>\n",
       "      <td>2020-08-02 21:00:00</td>\n",
       "      <td>2020-08-02</td>\n",
       "      <td>Sunday</td>\n",
       "      <td>21</td>\n",
       "      <td>N</td>\n",
       "      <td>SystemTotal</td>\n",
       "      <td>60434.3512</td>\n",
       "      <td>2020-07-26</td>\n",
       "      <td>203000</td>\n",
       "      <td>2020-07-26 20:30:00</td>\n",
       "      <td>cdr.00012312.0000000000000000.20200726.203000....</td>\n",
       "    </tr>\n",
       "    <tr>\n",
       "      <td>1725</td>\n",
       "      <td>2020-08-02 22:00:00</td>\n",
       "      <td>2020-08-02</td>\n",
       "      <td>Sunday</td>\n",
       "      <td>22</td>\n",
       "      <td>N</td>\n",
       "      <td>SystemTotal</td>\n",
       "      <td>58590.9799</td>\n",
       "      <td>2020-07-26</td>\n",
       "      <td>203000</td>\n",
       "      <td>2020-07-26 20:30:00</td>\n",
       "      <td>cdr.00012312.0000000000000000.20200726.203000....</td>\n",
       "    </tr>\n",
       "    <tr>\n",
       "      <td>1726</td>\n",
       "      <td>2020-08-02 23:00:00</td>\n",
       "      <td>2020-08-02</td>\n",
       "      <td>Sunday</td>\n",
       "      <td>23</td>\n",
       "      <td>N</td>\n",
       "      <td>SystemTotal</td>\n",
       "      <td>55288.5008</td>\n",
       "      <td>2020-07-26</td>\n",
       "      <td>203000</td>\n",
       "      <td>2020-07-26 20:30:00</td>\n",
       "      <td>cdr.00012312.0000000000000000.20200726.203000....</td>\n",
       "    </tr>\n",
       "    <tr>\n",
       "      <td>1727</td>\n",
       "      <td>2020-08-03 00:00:00</td>\n",
       "      <td>2020-08-02</td>\n",
       "      <td>Monday</td>\n",
       "      <td>24</td>\n",
       "      <td>N</td>\n",
       "      <td>SystemTotal</td>\n",
       "      <td>51512.5701</td>\n",
       "      <td>2020-07-26</td>\n",
       "      <td>203000</td>\n",
       "      <td>2020-07-26 20:30:00</td>\n",
       "      <td>cdr.00012312.0000000000000000.20200726.203000....</td>\n",
       "    </tr>\n",
       "  </tbody>\n",
       "</table>\n",
       "<p>1728 rows × 11 columns</p>\n",
       "</div>"
      ],
      "text/plain": [
       "              DeliveryDT DeliveryDate Weekday HourEnding DSTFlag  WeatherZone  \\\n",
       "0    2020-07-26 01:00:00   2020-07-26  Sunday          1       N        Coast   \n",
       "1    2020-07-26 02:00:00   2020-07-26  Sunday          2       N        Coast   \n",
       "2    2020-07-26 03:00:00   2020-07-26  Sunday          3       N        Coast   \n",
       "3    2020-07-26 04:00:00   2020-07-26  Sunday          4       N        Coast   \n",
       "4    2020-07-26 05:00:00   2020-07-26  Sunday          5       N        Coast   \n",
       "...                  ...          ...     ...        ...     ...          ...   \n",
       "1723 2020-08-02 20:00:00   2020-08-02  Sunday         20       N  SystemTotal   \n",
       "1724 2020-08-02 21:00:00   2020-08-02  Sunday         21       N  SystemTotal   \n",
       "1725 2020-08-02 22:00:00   2020-08-02  Sunday         22       N  SystemTotal   \n",
       "1726 2020-08-02 23:00:00   2020-08-02  Sunday         23       N  SystemTotal   \n",
       "1727 2020-08-03 00:00:00   2020-08-02  Monday         24       N  SystemTotal   \n",
       "\n",
       "              MW ProcessDate ProcessHour           ProcessDT  \\\n",
       "0     11329.2998  2020-07-26      203000 2020-07-26 20:30:00   \n",
       "1     11116.2998  2020-07-26      203000 2020-07-26 20:30:00   \n",
       "2     10999.5000  2020-07-26      203000 2020-07-26 20:30:00   \n",
       "3     10748.7002  2020-07-26      203000 2020-07-26 20:30:00   \n",
       "4     10718.2002  2020-07-26      203000 2020-07-26 20:30:00   \n",
       "...          ...         ...         ...                 ...   \n",
       "1723  61980.8105  2020-07-26      203000 2020-07-26 20:30:00   \n",
       "1724  60434.3512  2020-07-26      203000 2020-07-26 20:30:00   \n",
       "1725  58590.9799  2020-07-26      203000 2020-07-26 20:30:00   \n",
       "1726  55288.5008  2020-07-26      203000 2020-07-26 20:30:00   \n",
       "1727  51512.5701  2020-07-26      203000 2020-07-26 20:30:00   \n",
       "\n",
       "                                               FileName  \n",
       "0     cdr.00012312.0000000000000000.20200726.203000....  \n",
       "1     cdr.00012312.0000000000000000.20200726.203000....  \n",
       "2     cdr.00012312.0000000000000000.20200726.203000....  \n",
       "3     cdr.00012312.0000000000000000.20200726.203000....  \n",
       "4     cdr.00012312.0000000000000000.20200726.203000....  \n",
       "...                                                 ...  \n",
       "1723  cdr.00012312.0000000000000000.20200726.203000....  \n",
       "1724  cdr.00012312.0000000000000000.20200726.203000....  \n",
       "1725  cdr.00012312.0000000000000000.20200726.203000....  \n",
       "1726  cdr.00012312.0000000000000000.20200726.203000....  \n",
       "1727  cdr.00012312.0000000000000000.20200726.203000....  \n",
       "\n",
       "[1728 rows x 11 columns]"
      ]
     },
     "execution_count": 80,
     "metadata": {},
     "output_type": "execute_result"
    }
   ],
   "source": [
    "#Print Table\n",
    "pd.read_sql_query('select * from da_load_fcst', con=engine)"
   ]
  },
  {
   "cell_type": "code",
   "execution_count": null,
   "metadata": {},
   "outputs": [],
   "source": []
  }
 ],
 "metadata": {
  "kernelspec": {
   "display_name": "Python 3",
   "language": "python",
   "name": "python3"
  },
  "language_info": {
   "codemirror_mode": {
    "name": "ipython",
    "version": 3
   },
   "file_extension": ".py",
   "mimetype": "text/x-python",
   "name": "python",
   "nbconvert_exporter": "python",
   "pygments_lexer": "ipython3",
   "version": "3.7.4"
  }
 },
 "nbformat": 4,
 "nbformat_minor": 2
}
