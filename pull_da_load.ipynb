{
 "cells": [
  {
   "cell_type": "code",
   "execution_count": 1,
   "metadata": {},
   "outputs": [],
   "source": [
    "from bs4 import BeautifulSoup as bs\n",
    "import requests\n",
    "import pandas as pd\n",
    "import datetime\n",
    "import os"
   ]
  },
  {
   "cell_type": "code",
   "execution_count": 2,
   "metadata": {},
   "outputs": [],
   "source": [
    "#Seven-Day Load Forecast by Weather Zone URL\n",
    "url = 'http://mis.ercot.com/misapp/GetReports.do?reportTypeId=12312&reportTitle=Seven-Day%20Load%20Forecast%20by%20Weather%20Zone&showHTMLView=&mimicKey'"
   ]
  },
  {
   "cell_type": "code",
   "execution_count": 3,
   "metadata": {},
   "outputs": [],
   "source": [
    "response = requests.get(url)"
   ]
  },
  {
   "cell_type": "code",
   "execution_count": 4,
   "metadata": {},
   "outputs": [],
   "source": [
    "soup = bs(response.text, 'html.parser')"
   ]
  },
  {
   "cell_type": "code",
   "execution_count": 5,
   "metadata": {},
   "outputs": [],
   "source": [
    "title_results = soup.find_all('td', class_='labelOptional_ind')"
   ]
  },
  {
   "cell_type": "code",
   "execution_count": 8,
   "metadata": {},
   "outputs": [
    {
     "name": "stdout",
     "output_type": "stream",
     "text": [
      "[<td class=\"labelOptional\" width=\"15%\"><div align=\"center\"> </div></td>, <td class=\"labelOptional\" width=\"15%\"><div align=\"center\"> </div></td>, <td class=\"labelOptional\" width=\"15%\"><div align=\"center\"><a href=\"/misdownload/servlets/mirDownload?mimic_duns=000000000&amp;doclookupId=726348287\">zip</a></div></td>, <td class=\"labelOptional\" width=\"15%\"><div align=\"center\"> </div></td>, <td class=\"labelOptional\" width=\"15%\"><div align=\"center\"> </div></td>, <td class=\"labelOptional\" width=\"15%\"><div align=\"center\"><a href=\"/misdownload/servlets/mirDownload?mimic_duns=000000000&amp;doclookupId=726348286\">zip</a></div></td>, <td class=\"labelOptional\" width=\"15%\"><div align=\"center\"> </div></td>, <td class=\"labelOptional\" width=\"15%\"><div align=\"center\"> </div></td>, <td class=\"labelOptional\" width=\"15%\"><div align=\"center\"><a href=\"/misdownload/servlets/mirDownload?mimic_duns=000000000&amp;doclookupId=726342520\">zip</a></div></td>, <td class=\"labelOptional\" width=\"15%\"><div align=\"center\"> </div></td>, <td class=\"labelOptional\" width=\"15%\"><div align=\"center\"> </div></td>, <td class=\"labelOptional\" width=\"15%\"><div align=\"center\"><a href=\"/misdownload/servlets/mirDownload?mimic_duns=000000000&amp;doclookupId=726342517\">zip</a></div></td>, <td class=\"labelOptional\" width=\"15%\"><div align=\"center\"> </div></td>, <td class=\"labelOptional\" width=\"15%\"><div align=\"center\"> </div></td>, <td class=\"labelOptional\" width=\"15%\"><div align=\"center\"><a href=\"/misdownload/servlets/mirDownload?mimic_duns=000000000&amp;doclookupId=726336722\">zip</a></div></td>, <td class=\"labelOptional\" width=\"15%\"><div align=\"center\"> </div></td>, <td class=\"labelOptional\" width=\"15%\"><div align=\"center\"> </div></td>, <td class=\"labelOptional\" width=\"15%\"><div align=\"center\"><a href=\"/misdownload/servlets/mirDownload?mimic_duns=000000000&amp;doclookupId=726336721\">zip</a></div></td>, <td class=\"labelOptional\" width=\"15%\"><div align=\"center\"> </div></td>, <td class=\"labelOptional\" width=\"15%\"><div align=\"center\"> </div></td>, <td class=\"labelOptional\" width=\"15%\"><div align=\"center\"><a href=\"/misdownload/servlets/mirDownload?mimic_duns=000000000&amp;doclookupId=726330782\">zip</a></div></td>, <td class=\"labelOptional\" width=\"15%\"><div align=\"center\"> </div></td>, <td class=\"labelOptional\" width=\"15%\"><div align=\"center\"> </div></td>, <td class=\"labelOptional\" width=\"15%\"><div align=\"center\"><a href=\"/misdownload/servlets/mirDownload?mimic_duns=000000000&amp;doclookupId=726330780\">zip</a></div></td>, <td class=\"labelOptional\" width=\"15%\"><div align=\"center\"> </div></td>, <td class=\"labelOptional\" width=\"15%\"><div align=\"center\"> </div></td>, <td class=\"labelOptional\" width=\"15%\"><div align=\"center\"><a href=\"/misdownload/servlets/mirDownload?mimic_duns=000000000&amp;doclookupId=726324689\">zip</a></div></td>, <td class=\"labelOptional\" width=\"15%\"><div align=\"center\"> </div></td>, <td class=\"labelOptional\" width=\"15%\"><div align=\"center\"> </div></td>, <td class=\"labelOptional\" width=\"15%\"><div align=\"center\"><a href=\"/misdownload/servlets/mirDownload?mimic_duns=000000000&amp;doclookupId=726324688\">zip</a></div></td>, <td class=\"labelOptional\" width=\"15%\"><div align=\"center\"> </div></td>, <td class=\"labelOptional\" width=\"15%\"><div align=\"center\"> </div></td>, <td class=\"labelOptional\" width=\"15%\"><div align=\"center\"><a href=\"/misdownload/servlets/mirDownload?mimic_duns=000000000&amp;doclookupId=726318514\">zip</a></div></td>, <td class=\"labelOptional\" width=\"15%\"><div align=\"center\"> </div></td>, <td class=\"labelOptional\" width=\"15%\"><div align=\"center\"> </div></td>, <td class=\"labelOptional\" width=\"15%\"><div align=\"center\"><a href=\"/misdownload/servlets/mirDownload?mimic_duns=000000000&amp;doclookupId=726318701\">zip</a></div></td>, <td class=\"labelOptional\" width=\"15%\"><div align=\"center\"> </div></td>, <td class=\"labelOptional\" width=\"15%\"><div align=\"center\"> </div></td>, <td class=\"labelOptional\" width=\"15%\"><div align=\"center\"><a href=\"/misdownload/servlets/mirDownload?mimic_duns=000000000&amp;doclookupId=726310574\">zip</a></div></td>, <td class=\"labelOptional\" width=\"15%\"><div align=\"center\"> </div></td>, <td class=\"labelOptional\" width=\"15%\"><div align=\"center\"> </div></td>, <td class=\"labelOptional\" width=\"15%\"><div align=\"center\"><a href=\"/misdownload/servlets/mirDownload?mimic_duns=000000000&amp;doclookupId=726310933\">zip</a></div></td>, <td class=\"labelOptional\" width=\"15%\"><div align=\"center\"> </div></td>, <td class=\"labelOptional\" width=\"15%\"><div align=\"center\"> </div></td>, <td class=\"labelOptional\" width=\"15%\"><div align=\"center\"><a href=\"/misdownload/servlets/mirDownload?mimic_duns=000000000&amp;doclookupId=726304083\">zip</a></div></td>, <td class=\"labelOptional\" width=\"15%\"><div align=\"center\"> </div></td>, <td class=\"labelOptional\" width=\"15%\"><div align=\"center\"> </div></td>, <td class=\"labelOptional\" width=\"15%\"><div align=\"center\"><a href=\"/misdownload/servlets/mirDownload?mimic_duns=000000000&amp;doclookupId=726304082\">zip</a></div></td>, <td class=\"labelOptional\" width=\"15%\"><div align=\"center\"> </div></td>, <td class=\"labelOptional\" width=\"15%\"><div align=\"center\"> </div></td>, <td class=\"labelOptional\" width=\"15%\"><div align=\"center\"><a href=\"/misdownload/servlets/mirDownload?mimic_duns=000000000&amp;doclookupId=726295252\">zip</a></div></td>, <td class=\"labelOptional\" width=\"15%\"><div align=\"center\"> </div></td>, <td class=\"labelOptional\" width=\"15%\"><div align=\"center\"> </div></td>, <td class=\"labelOptional\" width=\"15%\"><div align=\"center\"><a href=\"/misdownload/servlets/mirDownload?mimic_duns=000000000&amp;doclookupId=726295250\">zip</a></div></td>, <td class=\"labelOptional\" width=\"15%\"><div align=\"center\"> </div></td>, <td class=\"labelOptional\" width=\"15%\"><div align=\"center\"> </div></td>, <td class=\"labelOptional\" width=\"15%\"><div align=\"center\"><a href=\"/misdownload/servlets/mirDownload?mimic_duns=000000000&amp;doclookupId=726289035\">zip</a></div></td>, <td class=\"labelOptional\" width=\"15%\"><div align=\"center\"> </div></td>, <td class=\"labelOptional\" width=\"15%\"><div align=\"center\"> </div></td>, <td class=\"labelOptional\" width=\"15%\"><div align=\"center\"><a href=\"/misdownload/servlets/mirDownload?mimic_duns=000000000&amp;doclookupId=726288884\">zip</a></div></td>, <td class=\"labelOptional\" width=\"15%\"><div align=\"center\"> </div></td>, <td class=\"labelOptional\" width=\"15%\"><div align=\"center\"> </div></td>, <td class=\"labelOptional\" width=\"15%\"><div align=\"center\"><a href=\"/misdownload/servlets/mirDownload?mimic_duns=000000000&amp;doclookupId=726282036\">zip</a></div></td>, <td class=\"labelOptional\" width=\"15%\"><div align=\"center\"> </div></td>, <td class=\"labelOptional\" width=\"15%\"><div align=\"center\"> </div></td>, <td class=\"labelOptional\" width=\"15%\"><div align=\"center\"><a href=\"/misdownload/servlets/mirDownload?mimic_duns=000000000&amp;doclookupId=726282222\">zip</a></div></td>, <td class=\"labelOptional\" width=\"15%\"><div align=\"center\"> </div></td>, <td class=\"labelOptional\" width=\"15%\"><div align=\"center\"> </div></td>, <td class=\"labelOptional\" width=\"15%\"><div align=\"center\"><a href=\"/misdownload/servlets/mirDownload?mimic_duns=000000000&amp;doclookupId=726270970\">zip</a></div></td>, <td class=\"labelOptional\" width=\"15%\"><div align=\"center\"> </div></td>, <td class=\"labelOptional\" width=\"15%\"><div align=\"center\"> </div></td>, <td class=\"labelOptional\" width=\"15%\"><div align=\"center\"><a href=\"/misdownload/servlets/mirDownload?mimic_duns=000000000&amp;doclookupId=726271189\">zip</a></div></td>, <td class=\"labelOptional\" width=\"15%\"><div align=\"center\"> </div></td>, <td class=\"labelOptional\" width=\"15%\"><div align=\"center\"> </div></td>, <td class=\"labelOptional\" width=\"15%\"><div align=\"center\"><a href=\"/misdownload/servlets/mirDownload?mimic_duns=000000000&amp;doclookupId=726261385\">zip</a></div></td>, <td class=\"labelOptional\" width=\"15%\"><div align=\"center\"> </div></td>, <td class=\"labelOptional\" width=\"15%\"><div align=\"center\"> </div></td>, <td class=\"labelOptional\" width=\"15%\"><div align=\"center\"><a href=\"/misdownload/servlets/mirDownload?mimic_duns=000000000&amp;doclookupId=726261382\">zip</a></div></td>, <td class=\"labelOptional\" width=\"15%\"><div align=\"center\"> </div></td>, <td class=\"labelOptional\" width=\"15%\"><div align=\"center\"> </div></td>, <td class=\"labelOptional\" width=\"15%\"><div align=\"center\"><a href=\"/misdownload/servlets/mirDownload?mimic_duns=000000000&amp;doclookupId=726253769\">zip</a></div></td>, <td class=\"labelOptional\" width=\"15%\"><div align=\"center\"> </div></td>, <td class=\"labelOptional\" width=\"15%\"><div align=\"center\"> </div></td>, <td class=\"labelOptional\" width=\"15%\"><div align=\"center\"><a href=\"/misdownload/servlets/mirDownload?mimic_duns=000000000&amp;doclookupId=726253921\">zip</a></div></td>, <td class=\"labelOptional\" width=\"15%\"><div align=\"center\"> </div></td>, <td class=\"labelOptional\" width=\"15%\"><div align=\"center\"> </div></td>, <td class=\"labelOptional\" width=\"15%\"><div align=\"center\"><a href=\"/misdownload/servlets/mirDownload?mimic_duns=000000000&amp;doclookupId=726248014\">zip</a></div></td>, <td class=\"labelOptional\" width=\"15%\"><div align=\"center\"> </div></td>, <td class=\"labelOptional\" width=\"15%\"><div align=\"center\"> </div></td>, <td class=\"labelOptional\" width=\"15%\"><div align=\"center\"><a href=\"/misdownload/servlets/mirDownload?mimic_duns=000000000&amp;doclookupId=726248013\">zip</a></div></td>, <td class=\"labelOptional\" width=\"15%\"><div align=\"center\"> </div></td>, <td class=\"labelOptional\" width=\"15%\"><div align=\"center\"> </div></td>, <td class=\"labelOptional\" width=\"15%\"><div align=\"center\"><a href=\"/misdownload/servlets/mirDownload?mimic_duns=000000000&amp;doclookupId=726240430\">zip</a></div></td>, <td class=\"labelOptional\" width=\"15%\"><div align=\"center\"> </div></td>, <td class=\"labelOptional\" width=\"15%\"><div align=\"center\"> </div></td>, <td class=\"labelOptional\" width=\"15%\"><div align=\"center\"><a href=\"/misdownload/servlets/mirDownload?mimic_duns=000000000&amp;doclookupId=726240428\">zip</a></div></td>, <td class=\"labelOptional\" width=\"15%\"><div align=\"center\"> </div></td>, <td class=\"labelOptional\" width=\"15%\"><div align=\"center\"> </div></td>, <td class=\"labelOptional\" width=\"15%\"><div align=\"center\"><a href=\"/misdownload/servlets/mirDownload?mimic_duns=000000000&amp;doclookupId=726231897\">zip</a></div></td>, <td class=\"labelOptional\" width=\"15%\"><div align=\"center\"> </div></td>, <td class=\"labelOptional\" width=\"15%\"><div align=\"center\"> </div></td>, <td class=\"labelOptional\" width=\"15%\"><div align=\"center\"><a href=\"/misdownload/servlets/mirDownload?mimic_duns=000000000&amp;doclookupId=726231896\">zip</a></div></td>, <td class=\"labelOptional\" width=\"15%\"><div align=\"center\"> </div></td>, <td class=\"labelOptional\" width=\"15%\"><div align=\"center\"> </div></td>, <td class=\"labelOptional\" width=\"15%\"><div align=\"center\"><a href=\"/misdownload/servlets/mirDownload?mimic_duns=000000000&amp;doclookupId=726226166\">zip</a></div></td>, <td class=\"labelOptional\" width=\"15%\"><div align=\"center\"> </div></td>, <td class=\"labelOptional\" width=\"15%\"><div align=\"center\"> </div></td>, <td class=\"labelOptional\" width=\"15%\"><div align=\"center\"><a href=\"/misdownload/servlets/mirDownload?mimic_duns=000000000&amp;doclookupId=726226165\">zip</a></div></td>, <td class=\"labelOptional\" width=\"15%\"><div align=\"center\"> </div></td>, <td class=\"labelOptional\" width=\"15%\"><div align=\"center\"> </div></td>, <td class=\"labelOptional\" width=\"15%\"><div align=\"center\"><a href=\"/misdownload/servlets/mirDownload?mimic_duns=000000000&amp;doclookupId=726220239\">zip</a></div></td>, <td class=\"labelOptional\" width=\"15%\"><div align=\"center\"> </div></td>, <td class=\"labelOptional\" width=\"15%\"><div align=\"center\"> </div></td>, <td class=\"labelOptional\" width=\"15%\"><div align=\"center\"><a href=\"/misdownload/servlets/mirDownload?mimic_duns=000000000&amp;doclookupId=726220362\">zip</a></div></td>, <td class=\"labelOptional\" width=\"15%\"><div align=\"center\"> </div></td>, <td class=\"labelOptional\" width=\"15%\"><div align=\"center\"> </div></td>, <td class=\"labelOptional\" width=\"15%\"><div align=\"center\"><a href=\"/misdownload/servlets/mirDownload?mimic_duns=000000000&amp;doclookupId=726214513\">zip</a></div></td>, <td class=\"labelOptional\" width=\"15%\"><div align=\"center\"> </div></td>, <td class=\"labelOptional\" width=\"15%\"><div align=\"center\"> </div></td>, <td class=\"labelOptional\" width=\"15%\"><div align=\"center\"><a href=\"/misdownload/servlets/mirDownload?mimic_duns=000000000&amp;doclookupId=726214511\">zip</a></div></td>, <td class=\"labelOptional\" width=\"15%\"><div align=\"center\"> </div></td>, <td class=\"labelOptional\" width=\"15%\"><div align=\"center\"> </div></td>, <td class=\"labelOptional\" width=\"15%\"><div align=\"center\"><a href=\"/misdownload/servlets/mirDownload?mimic_duns=000000000&amp;doclookupId=726206482\">zip</a></div></td>, <td class=\"labelOptional\" width=\"15%\"><div align=\"center\"> </div></td>, <td class=\"labelOptional\" width=\"15%\"><div align=\"center\"> </div></td>, <td class=\"labelOptional\" width=\"15%\"><div align=\"center\"><a href=\"/misdownload/servlets/mirDownload?mimic_duns=000000000&amp;doclookupId=726206736\">zip</a></div></td>, <td class=\"labelOptional\" width=\"15%\"><div align=\"center\"> </div></td>, <td class=\"labelOptional\" width=\"15%\"><div align=\"center\"> </div></td>, <td class=\"labelOptional\" width=\"15%\"><div align=\"center\"><a href=\"/misdownload/servlets/mirDownload?mimic_duns=000000000&amp;doclookupId=726201016\">zip</a></div></td>, <td class=\"labelOptional\" width=\"15%\"><div align=\"center\"> </div></td>, <td class=\"labelOptional\" width=\"15%\"><div align=\"center\"> </div></td>, <td class=\"labelOptional\" width=\"15%\"><div align=\"center\"><a href=\"/misdownload/servlets/mirDownload?mimic_duns=000000000&amp;doclookupId=726201014\">zip</a></div></td>, <td class=\"labelOptional\" width=\"15%\"><div align=\"center\"> </div></td>, <td class=\"labelOptional\" width=\"15%\"><div align=\"center\"> </div></td>, <td class=\"labelOptional\" width=\"15%\"><div align=\"center\"><a href=\"/misdownload/servlets/mirDownload?mimic_duns=000000000&amp;doclookupId=726194656\">zip</a></div></td>, <td class=\"labelOptional\" width=\"15%\"><div align=\"center\"> </div></td>, <td class=\"labelOptional\" width=\"15%\"><div align=\"center\"> </div></td>, <td class=\"labelOptional\" width=\"15%\"><div align=\"center\"><a href=\"/misdownload/servlets/mirDownload?mimic_duns=000000000&amp;doclookupId=726194654\">zip</a></div></td>, <td class=\"labelOptional\" width=\"15%\"><div align=\"center\"> </div></td>, <td class=\"labelOptional\" width=\"15%\"><div align=\"center\"> </div></td>, <td class=\"labelOptional\" width=\"15%\"><div align=\"center\"><a href=\"/misdownload/servlets/mirDownload?mimic_duns=000000000&amp;doclookupId=726188970\">zip</a></div></td>, <td class=\"labelOptional\" width=\"15%\"><div align=\"center\"> </div></td>, <td class=\"labelOptional\" width=\"15%\"><div align=\"center\"> </div></td>, <td class=\"labelOptional\" width=\"15%\"><div align=\"center\"><a href=\"/misdownload/servlets/mirDownload?mimic_duns=000000000&amp;doclookupId=726188967\">zip</a></div></td>, <td class=\"labelOptional\" width=\"15%\"><div align=\"center\"> </div></td>, <td class=\"labelOptional\" width=\"15%\"><div align=\"center\"> </div></td>, <td class=\"labelOptional\" width=\"15%\"><div align=\"center\"><a href=\"/misdownload/servlets/mirDownload?mimic_duns=000000000&amp;doclookupId=726183148\">zip</a></div></td>, <td class=\"labelOptional\" width=\"15%\"><div align=\"center\"> </div></td>, <td class=\"labelOptional\" width=\"15%\"><div align=\"center\"> </div></td>, <td class=\"labelOptional\" width=\"15%\"><div align=\"center\"><a href=\"/misdownload/servlets/mirDownload?mimic_duns=000000000&amp;doclookupId=726183146\">zip</a></div></td>, <td class=\"labelOptional\" width=\"15%\"><div align=\"center\"> </div></td>, <td class=\"labelOptional\" width=\"15%\"><div align=\"center\"> </div></td>, <td class=\"labelOptional\" width=\"15%\"><div align=\"center\"><a href=\"/misdownload/servlets/mirDownload?mimic_duns=000000000&amp;doclookupId=726176260\">zip</a></div></td>, <td class=\"labelOptional\" width=\"15%\"><div align=\"center\"> </div></td>, <td class=\"labelOptional\" width=\"15%\"><div align=\"center\"> </div></td>, <td class=\"labelOptional\" width=\"15%\"><div align=\"center\"><a href=\"/misdownload/servlets/mirDownload?mimic_duns=000000000&amp;doclookupId=726176322\">zip</a></div></td>, <td class=\"labelOptional\" width=\"15%\"><div align=\"center\"> </div></td>, <td class=\"labelOptional\" width=\"15%\"><div align=\"center\"> </div></td>, <td class=\"labelOptional\" width=\"15%\"><div align=\"center\"><a href=\"/misdownload/servlets/mirDownload?mimic_duns=000000000&amp;doclookupId=726170498\">zip</a></div></td>, <td class=\"labelOptional\" width=\"15%\"><div align=\"center\"> </div></td>, <td class=\"labelOptional\" width=\"15%\"><div align=\"center\"> </div></td>, <td class=\"labelOptional\" width=\"15%\"><div align=\"center\"><a href=\"/misdownload/servlets/mirDownload?mimic_duns=000000000&amp;doclookupId=726170234\">zip</a></div></td>, <td class=\"labelOptional\" width=\"15%\"><div align=\"center\"> </div></td>, <td class=\"labelOptional\" width=\"15%\"><div align=\"center\"> </div></td>, <td class=\"labelOptional\" width=\"15%\"><div align=\"center\"><a href=\"/misdownload/servlets/mirDownload?mimic_duns=000000000&amp;doclookupId=726163531\">zip</a></div></td>, <td class=\"labelOptional\" width=\"15%\"><div align=\"center\"> </div></td>, <td class=\"labelOptional\" width=\"15%\"><div align=\"center\"> </div></td>, <td class=\"labelOptional\" width=\"15%\"><div align=\"center\"><a href=\"/misdownload/servlets/mirDownload?mimic_duns=000000000&amp;doclookupId=726163529\">zip</a></div></td>, <td class=\"labelOptional\" width=\"15%\"><div align=\"center\"> </div></td>, <td class=\"labelOptional\" width=\"15%\"><div align=\"center\"> </div></td>, <td class=\"labelOptional\" width=\"15%\"><div align=\"center\"><a href=\"/misdownload/servlets/mirDownload?mimic_duns=000000000&amp;doclookupId=726155887\">zip</a></div></td>, <td class=\"labelOptional\" width=\"15%\"><div align=\"center\"> </div></td>, <td class=\"labelOptional\" width=\"15%\"><div align=\"center\"> </div></td>, <td class=\"labelOptional\" width=\"15%\"><div align=\"center\"><a href=\"/misdownload/servlets/mirDownload?mimic_duns=000000000&amp;doclookupId=726156237\">zip</a></div></td>, <td class=\"labelOptional\" width=\"15%\"><div align=\"center\"> </div></td>, <td class=\"labelOptional\" width=\"15%\"><div align=\"center\"> </div></td>, <td class=\"labelOptional\" width=\"15%\"><div align=\"center\"><a href=\"/misdownload/servlets/mirDownload?mimic_duns=000000000&amp;doclookupId=726150427\">zip</a></div></td>, <td class=\"labelOptional\" width=\"15%\"><div align=\"center\"> </div></td>, <td class=\"labelOptional\" width=\"15%\"><div align=\"center\"> </div></td>, <td class=\"labelOptional\" width=\"15%\"><div align=\"center\"><a href=\"/misdownload/servlets/mirDownload?mimic_duns=000000000&amp;doclookupId=726150426\">zip</a></div></td>, <td class=\"labelOptional\" width=\"15%\"><div align=\"center\"> </div></td>, <td class=\"labelOptional\" width=\"15%\"><div align=\"center\"> </div></td>, <td class=\"labelOptional\" width=\"15%\"><div align=\"center\"><a href=\"/misdownload/servlets/mirDownload?mimic_duns=000000000&amp;doclookupId=726141169\">zip</a></div></td>, <td class=\"labelOptional\" width=\"15%\"><div align=\"center\"> </div></td>, <td class=\"labelOptional\" width=\"15%\"><div align=\"center\"> </div></td>, <td class=\"labelOptional\" width=\"15%\"><div align=\"center\"><a href=\"/misdownload/servlets/mirDownload?mimic_duns=000000000&amp;doclookupId=726140998\">zip</a></div></td>, <td class=\"labelOptional\" width=\"15%\"><div align=\"center\"> </div></td>, <td class=\"labelOptional\" width=\"15%\"><div align=\"center\"> </div></td>, <td class=\"labelOptional\" width=\"15%\"><div align=\"center\"><a href=\"/misdownload/servlets/mirDownload?mimic_duns=000000000&amp;doclookupId=726135136\">zip</a></div></td>, <td class=\"labelOptional\" width=\"15%\"><div align=\"center\"> </div></td>, <td class=\"labelOptional\" width=\"15%\"><div align=\"center\"> </div></td>, <td class=\"labelOptional\" width=\"15%\"><div align=\"center\"><a href=\"/misdownload/servlets/mirDownload?mimic_duns=000000000&amp;doclookupId=726134869\">zip</a></div></td>, <td class=\"labelOptional\" width=\"15%\"><div align=\"center\"> </div></td>, <td class=\"labelOptional\" width=\"15%\"><div align=\"center\"> </div></td>, <td class=\"labelOptional\" width=\"15%\"><div align=\"center\"><a href=\"/misdownload/servlets/mirDownload?mimic_duns=000000000&amp;doclookupId=726127031\">zip</a></div></td>, <td class=\"labelOptional\" width=\"15%\"><div align=\"center\"> </div></td>, <td class=\"labelOptional\" width=\"15%\"><div align=\"center\"> </div></td>, <td class=\"labelOptional\" width=\"15%\"><div align=\"center\"><a href=\"/misdownload/servlets/mirDownload?mimic_duns=000000000&amp;doclookupId=726127030\">zip</a></div></td>, <td class=\"labelOptional\" width=\"15%\"><div align=\"center\"> </div></td>, <td class=\"labelOptional\" width=\"15%\"><div align=\"center\"> </div></td>, <td class=\"labelOptional\" width=\"15%\"><div align=\"center\"><a href=\"/misdownload/servlets/mirDownload?mimic_duns=000000000&amp;doclookupId=726120633\">zip</a></div></td>, <td class=\"labelOptional\" width=\"15%\"><div align=\"center\"> </div></td>, <td class=\"labelOptional\" width=\"15%\"><div align=\"center\"> </div></td>, <td class=\"labelOptional\" width=\"15%\"><div align=\"center\"><a href=\"/misdownload/servlets/mirDownload?mimic_duns=000000000&amp;doclookupId=726120631\">zip</a></div></td>, <td class=\"labelOptional\" width=\"15%\"><div align=\"center\"> </div></td>, <td class=\"labelOptional\" width=\"15%\"><div align=\"center\"> </div></td>, <td class=\"labelOptional\" width=\"15%\"><div align=\"center\"><a href=\"/misdownload/servlets/mirDownload?mimic_duns=000000000&amp;doclookupId=726114694\">zip</a></div></td>, <td class=\"labelOptional\" width=\"15%\"><div align=\"center\"> </div></td>, <td class=\"labelOptional\" width=\"15%\"><div align=\"center\"> </div></td>, <td class=\"labelOptional\" width=\"15%\"><div align=\"center\"><a href=\"/misdownload/servlets/mirDownload?mimic_duns=000000000&amp;doclookupId=726114693\">zip</a></div></td>, <td class=\"labelOptional\" width=\"15%\"><div align=\"center\"> </div></td>, <td class=\"labelOptional\" width=\"15%\"><div align=\"center\"> </div></td>, <td class=\"labelOptional\" width=\"15%\"><div align=\"center\"><a href=\"/misdownload/servlets/mirDownload?mimic_duns=000000000&amp;doclookupId=726101028\">zip</a></div></td>, <td class=\"labelOptional\" width=\"15%\"><div align=\"center\"> </div></td>, <td class=\"labelOptional\" width=\"15%\"><div align=\"center\"> </div></td>, <td class=\"labelOptional\" width=\"15%\"><div align=\"center\"><a href=\"/misdownload/servlets/mirDownload?mimic_duns=000000000&amp;doclookupId=726101027\">zip</a></div></td>, <td class=\"labelOptional\" width=\"15%\"><div align=\"center\"> </div></td>, <td class=\"labelOptional\" width=\"15%\"><div align=\"center\"> </div></td>, <td class=\"labelOptional\" width=\"15%\"><div align=\"center\"><a href=\"/misdownload/servlets/mirDownload?mimic_duns=000000000&amp;doclookupId=726092206\">zip</a></div></td>, <td class=\"labelOptional\" width=\"15%\"><div align=\"center\"> </div></td>, <td class=\"labelOptional\" width=\"15%\"><div align=\"center\"> </div></td>, <td class=\"labelOptional\" width=\"15%\"><div align=\"center\"><a href=\"/misdownload/servlets/mirDownload?mimic_duns=000000000&amp;doclookupId=726092205\">zip</a></div></td>, <td class=\"labelOptional\" width=\"15%\"><div align=\"center\"> </div></td>, <td class=\"labelOptional\" width=\"15%\"><div align=\"center\"> </div></td>, <td class=\"labelOptional\" width=\"15%\"><div align=\"center\"><a href=\"/misdownload/servlets/mirDownload?mimic_duns=000000000&amp;doclookupId=726084888\">zip</a></div></td>, <td class=\"labelOptional\" width=\"15%\"><div align=\"center\"> </div></td>, <td class=\"labelOptional\" width=\"15%\"><div align=\"center\"> </div></td>, <td class=\"labelOptional\" width=\"15%\"><div align=\"center\"><a href=\"/misdownload/servlets/mirDownload?mimic_duns=000000000&amp;doclookupId=726084887\">zip</a></div></td>, <td class=\"labelOptional\" width=\"15%\"><div align=\"center\"> </div></td>, <td class=\"labelOptional\" width=\"15%\"><div align=\"center\"> </div></td>, <td class=\"labelOptional\" width=\"15%\"><div align=\"center\"><a href=\"/misdownload/servlets/mirDownload?mimic_duns=000000000&amp;doclookupId=726079024\">zip</a></div></td>, <td class=\"labelOptional\" width=\"15%\"><div align=\"center\"> </div></td>, <td class=\"labelOptional\" width=\"15%\"><div align=\"center\"> </div></td>, <td class=\"labelOptional\" width=\"15%\"><div align=\"center\"><a href=\"/misdownload/servlets/mirDownload?mimic_duns=000000000&amp;doclookupId=726079023\">zip</a></div></td>, <td class=\"labelOptional\" width=\"15%\"><div align=\"center\"> </div></td>, <td class=\"labelOptional\" width=\"15%\"><div align=\"center\"> </div></td>, <td class=\"labelOptional\" width=\"15%\"><div align=\"center\"><a href=\"/misdownload/servlets/mirDownload?mimic_duns=000000000&amp;doclookupId=726070636\">zip</a></div></td>, <td class=\"labelOptional\" width=\"15%\"><div align=\"center\"> </div></td>, <td class=\"labelOptional\" width=\"15%\"><div align=\"center\"> </div></td>, <td class=\"labelOptional\" width=\"15%\"><div align=\"center\"><a href=\"/misdownload/servlets/mirDownload?mimic_duns=000000000&amp;doclookupId=726070635\">zip</a></div></td>, <td class=\"labelOptional\" width=\"15%\"><div align=\"center\"> </div></td>, <td class=\"labelOptional\" width=\"15%\"><div align=\"center\"> </div></td>, <td class=\"labelOptional\" width=\"15%\"><div align=\"center\"><a href=\"/misdownload/servlets/mirDownload?mimic_duns=000000000&amp;doclookupId=726063185\">zip</a></div></td>, <td class=\"labelOptional\" width=\"15%\"><div align=\"center\"> </div></td>, <td class=\"labelOptional\" width=\"15%\"><div align=\"center\"> </div></td>, <td class=\"labelOptional\" width=\"15%\"><div align=\"center\"><a href=\"/misdownload/servlets/mirDownload?mimic_duns=000000000&amp;doclookupId=726063182\">zip</a></div></td>, <td class=\"labelOptional\" width=\"15%\"><div align=\"center\"> </div></td>, <td class=\"labelOptional\" width=\"15%\"><div align=\"center\"> </div></td>, <td class=\"labelOptional\" width=\"15%\"><div align=\"center\"><a href=\"/misdownload/servlets/mirDownload?mimic_duns=000000000&amp;doclookupId=726057231\">zip</a></div></td>, <td class=\"labelOptional\" width=\"15%\"><div align=\"center\"> </div></td>, <td class=\"labelOptional\" width=\"15%\"><div align=\"center\"> </div></td>, <td class=\"labelOptional\" width=\"15%\"><div align=\"center\"><a href=\"/misdownload/servlets/mirDownload?mimic_duns=000000000&amp;doclookupId=726057230\">zip</a></div></td>, <td class=\"labelOptional\" width=\"15%\"><div align=\"center\"> </div></td>, <td class=\"labelOptional\" width=\"15%\"><div align=\"center\"> </div></td>, <td class=\"labelOptional\" width=\"15%\"><div align=\"center\"><a href=\"/misdownload/servlets/mirDownload?mimic_duns=000000000&amp;doclookupId=726051439\">zip</a></div></td>, <td class=\"labelOptional\" width=\"15%\"><div align=\"center\"> </div></td>, <td class=\"labelOptional\" width=\"15%\"><div align=\"center\"> </div></td>, <td class=\"labelOptional\" width=\"15%\"><div align=\"center\"><a href=\"/misdownload/servlets/mirDownload?mimic_duns=000000000&amp;doclookupId=726051436\">zip</a></div></td>, <td class=\"labelOptional\" width=\"15%\"><div align=\"center\"> </div></td>, <td class=\"labelOptional\" width=\"15%\"><div align=\"center\"> </div></td>, <td class=\"labelOptional\" width=\"15%\"><div align=\"center\"><a href=\"/misdownload/servlets/mirDownload?mimic_duns=000000000&amp;doclookupId=726044853\">zip</a></div></td>, <td class=\"labelOptional\" width=\"15%\"><div align=\"center\"> </div></td>, <td class=\"labelOptional\" width=\"15%\"><div align=\"center\"> </div></td>, <td class=\"labelOptional\" width=\"15%\"><div align=\"center\"><a href=\"/misdownload/servlets/mirDownload?mimic_duns=000000000&amp;doclookupId=726044852\">zip</a></div></td>, <td class=\"labelOptional\" width=\"15%\"><div align=\"center\"> </div></td>, <td class=\"labelOptional\" width=\"15%\"><div align=\"center\"> </div></td>, <td class=\"labelOptional\" width=\"15%\"><div align=\"center\"><a href=\"/misdownload/servlets/mirDownload?mimic_duns=000000000&amp;doclookupId=726037798\">zip</a></div></td>, <td class=\"labelOptional\" width=\"15%\"><div align=\"center\"> </div></td>, <td class=\"labelOptional\" width=\"15%\"><div align=\"center\"> </div></td>, <td class=\"labelOptional\" width=\"15%\"><div align=\"center\"><a href=\"/misdownload/servlets/mirDownload?mimic_duns=000000000&amp;doclookupId=726037797\">zip</a></div></td>, <td class=\"labelOptional\" width=\"15%\"><div align=\"center\"> </div></td>, <td class=\"labelOptional\" width=\"15%\"><div align=\"center\"> </div></td>, <td class=\"labelOptional\" width=\"15%\"><div align=\"center\"><a href=\"/misdownload/servlets/mirDownload?mimic_duns=000000000&amp;doclookupId=726031670\">zip</a></div></td>, <td class=\"labelOptional\" width=\"15%\"><div align=\"center\"> </div></td>, <td class=\"labelOptional\" width=\"15%\"><div align=\"center\"> </div></td>, <td class=\"labelOptional\" width=\"15%\"><div align=\"center\"><a href=\"/misdownload/servlets/mirDownload?mimic_duns=000000000&amp;doclookupId=726032033\">zip</a></div></td>, <td class=\"labelOptional\" width=\"15%\"><div align=\"center\"> </div></td>, <td class=\"labelOptional\" width=\"15%\"><div align=\"center\"> </div></td>, <td class=\"labelOptional\" width=\"15%\"><div align=\"center\"><a href=\"/misdownload/servlets/mirDownload?mimic_duns=000000000&amp;doclookupId=726011395\">zip</a></div></td>, <td class=\"labelOptional\" width=\"15%\"><div align=\"center\"> </div></td>, <td class=\"labelOptional\" width=\"15%\"><div align=\"center\"> </div></td>, <td class=\"labelOptional\" width=\"15%\"><div align=\"center\"><a href=\"/misdownload/servlets/mirDownload?mimic_duns=000000000&amp;doclookupId=726025836\">zip</a></div></td>, <td class=\"labelOptional\" width=\"15%\"><div align=\"center\"> </div></td>, <td class=\"labelOptional\" width=\"15%\"><div align=\"center\"> </div></td>, <td class=\"labelOptional\" width=\"15%\"><div align=\"center\"><a href=\"/misdownload/servlets/mirDownload?mimic_duns=000000000&amp;doclookupId=726020312\">zip</a></div></td>, <td class=\"labelOptional\" width=\"15%\"><div align=\"center\"> </div></td>, <td class=\"labelOptional\" width=\"15%\"><div align=\"center\"> </div></td>, <td class=\"labelOptional\" width=\"15%\"><div align=\"center\"><a href=\"/misdownload/servlets/mirDownload?mimic_duns=000000000&amp;doclookupId=726020309\">zip</a></div></td>, <td class=\"labelOptional\" width=\"15%\"><div align=\"center\"> </div></td>, <td class=\"labelOptional\" width=\"15%\"><div align=\"center\"> </div></td>, <td class=\"labelOptional\" width=\"15%\"><div align=\"center\"><a href=\"/misdownload/servlets/mirDownload?mimic_duns=000000000&amp;doclookupId=726014654\">zip</a></div></td>, <td class=\"labelOptional\" width=\"15%\"><div align=\"center\"> </div></td>, <td class=\"labelOptional\" width=\"15%\"><div align=\"center\"> </div></td>, <td class=\"labelOptional\" width=\"15%\"><div align=\"center\"><a href=\"/misdownload/servlets/mirDownload?mimic_duns=000000000&amp;doclookupId=726014652\">zip</a></div></td>, <td class=\"labelOptional\" width=\"15%\"><div align=\"center\"> </div></td>, <td class=\"labelOptional\" width=\"15%\"><div align=\"center\"> </div></td>, <td class=\"labelOptional\" width=\"15%\"><div align=\"center\"><a href=\"/misdownload/servlets/mirDownload?mimic_duns=000000000&amp;doclookupId=726008929\">zip</a></div></td>, <td class=\"labelOptional\" width=\"15%\"><div align=\"center\"> </div></td>, <td class=\"labelOptional\" width=\"15%\"><div align=\"center\"> </div></td>, <td class=\"labelOptional\" width=\"15%\"><div align=\"center\"><a href=\"/misdownload/servlets/mirDownload?mimic_duns=000000000&amp;doclookupId=726008924\">zip</a></div></td>, <td class=\"labelOptional\" width=\"15%\"><div align=\"center\"> </div></td>, <td class=\"labelOptional\" width=\"15%\"><div align=\"center\"> </div></td>, <td class=\"labelOptional\" width=\"15%\"><div align=\"center\"><a href=\"/misdownload/servlets/mirDownload?mimic_duns=000000000&amp;doclookupId=726002694\">zip</a></div></td>, <td class=\"labelOptional\" width=\"15%\"><div align=\"center\"> </div></td>, <td class=\"labelOptional\" width=\"15%\"><div align=\"center\"> </div></td>, <td class=\"labelOptional\" width=\"15%\"><div align=\"center\"><a href=\"/misdownload/servlets/mirDownload?mimic_duns=000000000&amp;doclookupId=726003032\">zip</a></div></td>, <td class=\"labelOptional\" width=\"15%\"><div align=\"center\"> </div></td>, <td class=\"labelOptional\" width=\"15%\"><div align=\"center\"> </div></td>, <td class=\"labelOptional\" width=\"15%\"><div align=\"center\"><a href=\"/misdownload/servlets/mirDownload?mimic_duns=000000000&amp;doclookupId=725997325\">zip</a></div></td>, <td class=\"labelOptional\" width=\"15%\"><div align=\"center\"> </div></td>, <td class=\"labelOptional\" width=\"15%\"><div align=\"center\"> </div></td>, <td class=\"labelOptional\" width=\"15%\"><div align=\"center\"><a href=\"/misdownload/servlets/mirDownload?mimic_duns=000000000&amp;doclookupId=725997050\">zip</a></div></td>, <td class=\"labelOptional\" width=\"15%\"><div align=\"center\"> </div></td>, <td class=\"labelOptional\" width=\"15%\"><div align=\"center\"> </div></td>, <td class=\"labelOptional\" width=\"15%\"><div align=\"center\"><a href=\"/misdownload/servlets/mirDownload?mimic_duns=000000000&amp;doclookupId=725991538\">zip</a></div></td>, <td class=\"labelOptional\" width=\"15%\"><div align=\"center\"> </div></td>, <td class=\"labelOptional\" width=\"15%\"><div align=\"center\"> </div></td>, <td class=\"labelOptional\" width=\"15%\"><div align=\"center\"><a href=\"/misdownload/servlets/mirDownload?mimic_duns=000000000&amp;doclookupId=725991537\">zip</a></div></td>, <td class=\"labelOptional\" width=\"15%\"><div align=\"center\"> </div></td>, <td class=\"labelOptional\" width=\"15%\"><div align=\"center\"> </div></td>, <td class=\"labelOptional\" width=\"15%\"><div align=\"center\"><a href=\"/misdownload/servlets/mirDownload?mimic_duns=000000000&amp;doclookupId=725985676\">zip</a></div></td>, <td class=\"labelOptional\" width=\"15%\"><div align=\"center\"> </div></td>, <td class=\"labelOptional\" width=\"15%\"><div align=\"center\"> </div></td>, <td class=\"labelOptional\" width=\"15%\"><div align=\"center\"><a href=\"/misdownload/servlets/mirDownload?mimic_duns=000000000&amp;doclookupId=725985673\">zip</a></div></td>, <td class=\"labelOptional\" width=\"15%\"><div align=\"center\"> </div></td>, <td class=\"labelOptional\" width=\"15%\"><div align=\"center\"> </div></td>, <td class=\"labelOptional\" width=\"15%\"><div align=\"center\"><a href=\"/misdownload/servlets/mirDownload?mimic_duns=000000000&amp;doclookupId=725977922\">zip</a></div></td>, <td class=\"labelOptional\" width=\"15%\"><div align=\"center\"> </div></td>, <td class=\"labelOptional\" width=\"15%\"><div align=\"center\"> </div></td>, <td class=\"labelOptional\" width=\"15%\"><div align=\"center\"><a href=\"/misdownload/servlets/mirDownload?mimic_duns=000000000&amp;doclookupId=725977759\">zip</a></div></td>, <td class=\"labelOptional\" width=\"15%\"><div align=\"center\"> </div></td>, <td class=\"labelOptional\" width=\"15%\"><div align=\"center\"> </div></td>, <td class=\"labelOptional\" width=\"15%\"><div align=\"center\"><a href=\"/misdownload/servlets/mirDownload?mimic_duns=000000000&amp;doclookupId=725972019\">zip</a></div></td>, <td class=\"labelOptional\" width=\"15%\"><div align=\"center\"> </div></td>, <td class=\"labelOptional\" width=\"15%\"><div align=\"center\"> </div></td>, <td class=\"labelOptional\" width=\"15%\"><div align=\"center\"><a href=\"/misdownload/servlets/mirDownload?mimic_duns=000000000&amp;doclookupId=725972114\">zip</a></div></td>, <td class=\"labelOptional\" width=\"15%\"><div align=\"center\"> </div></td>, <td class=\"labelOptional\" width=\"15%\"><div align=\"center\"> </div></td>, <td class=\"labelOptional\" width=\"15%\"><div align=\"center\"><a href=\"/misdownload/servlets/mirDownload?mimic_duns=000000000&amp;doclookupId=725965843\">zip</a></div></td>, <td class=\"labelOptional\" width=\"15%\"><div align=\"center\"> </div></td>, <td class=\"labelOptional\" width=\"15%\"><div align=\"center\"> </div></td>, <td class=\"labelOptional\" width=\"15%\"><div align=\"center\"><a href=\"/misdownload/servlets/mirDownload?mimic_duns=000000000&amp;doclookupId=725965841\">zip</a></div></td>, <td class=\"labelOptional\" width=\"15%\"><div align=\"center\"> </div></td>, <td class=\"labelOptional\" width=\"15%\"><div align=\"center\"> </div></td>, <td class=\"labelOptional\" width=\"15%\"><div align=\"center\"><a href=\"/misdownload/servlets/mirDownload?mimic_duns=000000000&amp;doclookupId=725960026\">zip</a></div></td>, <td class=\"labelOptional\" width=\"15%\"><div align=\"center\"> </div></td>, <td class=\"labelOptional\" width=\"15%\"><div align=\"center\"> </div></td>, <td class=\"labelOptional\" width=\"15%\"><div align=\"center\"><a href=\"/misdownload/servlets/mirDownload?mimic_duns=000000000&amp;doclookupId=725960024\">zip</a></div></td>, <td class=\"labelOptional\" width=\"15%\"><div align=\"center\"> </div></td>, <td class=\"labelOptional\" width=\"15%\"><div align=\"center\"> </div></td>, <td class=\"labelOptional\" width=\"15%\"><div align=\"center\"><a href=\"/misdownload/servlets/mirDownload?mimic_duns=000000000&amp;doclookupId=725954098\">zip</a></div></td>, <td class=\"labelOptional\" width=\"15%\"><div align=\"center\"> </div></td>, <td class=\"labelOptional\" width=\"15%\"><div align=\"center\"> </div></td>, <td class=\"labelOptional\" width=\"15%\"><div align=\"center\"><a href=\"/misdownload/servlets/mirDownload?mimic_duns=000000000&amp;doclookupId=725954096\">zip</a></div></td>, <td class=\"labelOptional\" width=\"15%\"><div align=\"center\"> </div></td>, <td class=\"labelOptional\" width=\"15%\"><div align=\"center\"> </div></td>, <td class=\"labelOptional\" width=\"15%\"><div align=\"center\"><a href=\"/misdownload/servlets/mirDownload?mimic_duns=000000000&amp;doclookupId=725947186\">zip</a></div></td>, <td class=\"labelOptional\" width=\"15%\"><div align=\"center\"> </div></td>, <td class=\"labelOptional\" width=\"15%\"><div align=\"center\"> </div></td>, <td class=\"labelOptional\" width=\"15%\"><div align=\"center\"><a href=\"/misdownload/servlets/mirDownload?mimic_duns=000000000&amp;doclookupId=725947182\">zip</a></div></td>, <td class=\"labelOptional\" width=\"15%\"><div align=\"center\"> </div></td>, <td class=\"labelOptional\" width=\"15%\"><div align=\"center\"> </div></td>, <td class=\"labelOptional\" width=\"15%\"><div align=\"center\"><a href=\"/misdownload/servlets/mirDownload?mimic_duns=000000000&amp;doclookupId=725937816\">zip</a></div></td>, <td class=\"labelOptional\" width=\"15%\"><div align=\"center\"> </div></td>, <td class=\"labelOptional\" width=\"15%\"><div align=\"center\"> </div></td>, <td class=\"labelOptional\" width=\"15%\"><div align=\"center\"><a href=\"/misdownload/servlets/mirDownload?mimic_duns=000000000&amp;doclookupId=725937813\">zip</a></div></td>, <td class=\"labelOptional\" width=\"15%\"><div align=\"center\"> </div></td>, <td class=\"labelOptional\" width=\"15%\"><div align=\"center\"> </div></td>, <td class=\"labelOptional\" width=\"15%\"><div align=\"center\"><a href=\"/misdownload/servlets/mirDownload?mimic_duns=000000000&amp;doclookupId=725930550\">zip</a></div></td>, <td class=\"labelOptional\" width=\"15%\"><div align=\"center\"> </div></td>, <td class=\"labelOptional\" width=\"15%\"><div align=\"center\"> </div></td>, <td class=\"labelOptional\" width=\"15%\"><div align=\"center\"><a href=\"/misdownload/servlets/mirDownload?mimic_duns=000000000&amp;doclookupId=725930549\">zip</a></div></td>, <td class=\"labelOptional\" width=\"15%\"><div align=\"center\"> </div></td>, <td class=\"labelOptional\" width=\"15%\"><div align=\"center\"> </div></td>, <td class=\"labelOptional\" width=\"15%\"><div align=\"center\"><a href=\"/misdownload/servlets/mirDownload?mimic_duns=000000000&amp;doclookupId=725924687\">zip</a></div></td>, <td class=\"labelOptional\" width=\"15%\"><div align=\"center\"> </div></td>, <td class=\"labelOptional\" width=\"15%\"><div align=\"center\"> </div></td>, <td class=\"labelOptional\" width=\"15%\"><div align=\"center\"><a href=\"/misdownload/servlets/mirDownload?mimic_duns=000000000&amp;doclookupId=725924686\">zip</a></div></td>, <td class=\"labelOptional\" width=\"15%\"><div align=\"center\"> </div></td>, <td class=\"labelOptional\" width=\"15%\"><div align=\"center\"> </div></td>, <td class=\"labelOptional\" width=\"15%\"><div align=\"center\"><a href=\"/misdownload/servlets/mirDownload?mimic_duns=000000000&amp;doclookupId=725916443\">zip</a></div></td>, <td class=\"labelOptional\" width=\"15%\"><div align=\"center\"> </div></td>, <td class=\"labelOptional\" width=\"15%\"><div align=\"center\"> </div></td>, <td class=\"labelOptional\" width=\"15%\"><div align=\"center\"><a href=\"/misdownload/servlets/mirDownload?mimic_duns=000000000&amp;doclookupId=725916442\">zip</a></div></td>, <td class=\"labelOptional\" width=\"15%\"><div align=\"center\"> </div></td>, <td class=\"labelOptional\" width=\"15%\"><div align=\"center\"> </div></td>, <td class=\"labelOptional\" width=\"15%\"><div align=\"center\"><a href=\"/misdownload/servlets/mirDownload?mimic_duns=000000000&amp;doclookupId=725909134\">zip</a></div></td>, <td class=\"labelOptional\" width=\"15%\"><div align=\"center\"> </div></td>, <td class=\"labelOptional\" width=\"15%\"><div align=\"center\"> </div></td>, <td class=\"labelOptional\" width=\"15%\"><div align=\"center\"><a href=\"/misdownload/servlets/mirDownload?mimic_duns=000000000&amp;doclookupId=725909133\">zip</a></div></td>, <td class=\"labelOptional\" width=\"15%\"><div align=\"center\"> </div></td>, <td class=\"labelOptional\" width=\"15%\"><div align=\"center\"> </div></td>, <td class=\"labelOptional\" width=\"15%\"><div align=\"center\"><a href=\"/misdownload/servlets/mirDownload?mimic_duns=000000000&amp;doclookupId=725903326\">zip</a></div></td>, <td class=\"labelOptional\" width=\"15%\"><div align=\"center\"> </div></td>, <td class=\"labelOptional\" width=\"15%\"><div align=\"center\"> </div></td>, <td class=\"labelOptional\" width=\"15%\"><div align=\"center\"><a href=\"/misdownload/servlets/mirDownload?mimic_duns=000000000&amp;doclookupId=725903325\">zip</a></div></td>, <td class=\"labelOptional\" width=\"15%\"><div align=\"center\"> </div></td>, <td class=\"labelOptional\" width=\"15%\"><div align=\"center\"> </div></td>, <td class=\"labelOptional\" width=\"15%\"><div align=\"center\"><a href=\"/misdownload/servlets/mirDownload?mimic_duns=000000000&amp;doclookupId=725897866\">zip</a></div></td>, <td class=\"labelOptional\" width=\"15%\"><div align=\"center\"> </div></td>, <td class=\"labelOptional\" width=\"15%\"><div align=\"center\"> </div></td>, <td class=\"labelOptional\" width=\"15%\"><div align=\"center\"><a href=\"/misdownload/servlets/mirDownload?mimic_duns=000000000&amp;doclookupId=725897864\">zip</a></div></td>, <td class=\"labelOptional\" width=\"15%\"><div align=\"center\"> </div></td>, <td class=\"labelOptional\" width=\"15%\"><div align=\"center\"> </div></td>, <td class=\"labelOptional\" width=\"15%\"><div align=\"center\"><a href=\"/misdownload/servlets/mirDownload?mimic_duns=000000000&amp;doclookupId=725891706\">zip</a></div></td>, <td class=\"labelOptional\" width=\"15%\"><div align=\"center\"> </div></td>, <td class=\"labelOptional\" width=\"15%\"><div align=\"center\"> </div></td>, <td class=\"labelOptional\" width=\"15%\"><div align=\"center\"><a href=\"/misdownload/servlets/mirDownload?mimic_duns=000000000&amp;doclookupId=725891704\">zip</a></div></td>, <td class=\"labelOptional\" width=\"15%\"><div align=\"center\"> </div></td>, <td class=\"labelOptional\" width=\"15%\"><div align=\"center\"> </div></td>, <td class=\"labelOptional\" width=\"15%\"><div align=\"center\"><a href=\"/misdownload/servlets/mirDownload?mimic_duns=000000000&amp;doclookupId=725884482\">zip</a></div></td>, <td class=\"labelOptional\" width=\"15%\"><div align=\"center\"> </div></td>, <td class=\"labelOptional\" width=\"15%\"><div align=\"center\"> </div></td>, <td class=\"labelOptional\" width=\"15%\"><div align=\"center\"><a href=\"/misdownload/servlets/mirDownload?mimic_duns=000000000&amp;doclookupId=725884481\">zip</a></div></td>, <td class=\"labelOptional\" width=\"15%\"><div align=\"center\"> </div></td>, <td class=\"labelOptional\" width=\"15%\"><div align=\"center\"> </div></td>, <td class=\"labelOptional\" width=\"15%\"><div align=\"center\"><a href=\"/misdownload/servlets/mirDownload?mimic_duns=000000000&amp;doclookupId=725879054\">zip</a></div></td>, <td class=\"labelOptional\" width=\"15%\"><div align=\"center\"> </div></td>, <td class=\"labelOptional\" width=\"15%\"><div align=\"center\"> </div></td>, <td class=\"labelOptional\" width=\"15%\"><div align=\"center\"><a href=\"/misdownload/servlets/mirDownload?mimic_duns=000000000&amp;doclookupId=725879053\">zip</a></div></td>, <td class=\"labelOptional\" width=\"15%\"><div align=\"center\"> </div></td>, <td class=\"labelOptional\" width=\"15%\"><div align=\"center\"> </div></td>, <td class=\"labelOptional\" width=\"15%\"><div align=\"center\"><a href=\"/misdownload/servlets/mirDownload?mimic_duns=000000000&amp;doclookupId=725872585\">zip</a></div></td>, <td class=\"labelOptional\" width=\"15%\"><div align=\"center\"> </div></td>, <td class=\"labelOptional\" width=\"15%\"><div align=\"center\"> </div></td>, <td class=\"labelOptional\" width=\"15%\"><div align=\"center\"><a href=\"/misdownload/servlets/mirDownload?mimic_duns=000000000&amp;doclookupId=725872834\">zip</a></div></td>, <td class=\"labelOptional\" width=\"15%\"><div align=\"center\"> </div></td>, <td class=\"labelOptional\" width=\"15%\"><div align=\"center\"> </div></td>, <td class=\"labelOptional\" width=\"15%\"><div align=\"center\"><a href=\"/misdownload/servlets/mirDownload?mimic_duns=000000000&amp;doclookupId=725866998\">zip</a></div></td>, <td class=\"labelOptional\" width=\"15%\"><div align=\"center\"> </div></td>, <td class=\"labelOptional\" width=\"15%\"><div align=\"center\"> </div></td>, <td class=\"labelOptional\" width=\"15%\"><div align=\"center\"><a href=\"/misdownload/servlets/mirDownload?mimic_duns=000000000&amp;doclookupId=725866997\">zip</a></div></td>, <td class=\"labelOptional\" width=\"15%\"><div align=\"center\"> </div></td>, <td class=\"labelOptional\" width=\"15%\"><div align=\"center\"> </div></td>, <td class=\"labelOptional\" width=\"15%\"><div align=\"center\"><a href=\"/misdownload/servlets/mirDownload?mimic_duns=000000000&amp;doclookupId=725861607\">zip</a></div></td>, <td class=\"labelOptional\" width=\"15%\"><div align=\"center\"> </div></td>, <td class=\"labelOptional\" width=\"15%\"><div align=\"center\"> </div></td>, <td class=\"labelOptional\" width=\"15%\"><div align=\"center\"><a href=\"/misdownload/servlets/mirDownload?mimic_duns=000000000&amp;doclookupId=725861605\">zip</a></div></td>, <td class=\"labelOptional\" width=\"15%\"><div align=\"center\"> </div></td>, <td class=\"labelOptional\" width=\"15%\"><div align=\"center\"> </div></td>, <td class=\"labelOptional\" width=\"15%\"><div align=\"center\"><a href=\"/misdownload/servlets/mirDownload?mimic_duns=000000000&amp;doclookupId=725855920\">zip</a></div></td>, <td class=\"labelOptional\" width=\"15%\"><div align=\"center\"> </div></td>, <td class=\"labelOptional\" width=\"15%\"><div align=\"center\"> </div></td>, <td class=\"labelOptional\" width=\"15%\"><div align=\"center\"><a href=\"/misdownload/servlets/mirDownload?mimic_duns=000000000&amp;doclookupId=725855919\">zip</a></div></td>, <td class=\"labelOptional\" width=\"15%\"><div align=\"center\"> </div></td>, <td class=\"labelOptional\" width=\"15%\"><div align=\"center\"> </div></td>, <td class=\"labelOptional\" width=\"15%\"><div align=\"center\"><a href=\"/misdownload/servlets/mirDownload?mimic_duns=000000000&amp;doclookupId=725850196\">zip</a></div></td>, <td class=\"labelOptional\" width=\"15%\"><div align=\"center\"> </div></td>, <td class=\"labelOptional\" width=\"15%\"><div align=\"center\"> </div></td>, <td class=\"labelOptional\" width=\"15%\"><div align=\"center\"><a href=\"/misdownload/servlets/mirDownload?mimic_duns=000000000&amp;doclookupId=725850194\">zip</a></div></td>, <td class=\"labelOptional\" width=\"15%\"><div align=\"center\"> </div></td>, <td class=\"labelOptional\" width=\"15%\"><div align=\"center\"> </div></td>, <td class=\"labelOptional\" width=\"15%\"><div align=\"center\"><a href=\"/misdownload/servlets/mirDownload?mimic_duns=000000000&amp;doclookupId=725844479\">zip</a></div></td>, <td class=\"labelOptional\" width=\"15%\"><div align=\"center\"> </div></td>, <td class=\"labelOptional\" width=\"15%\"><div align=\"center\"> </div></td>, <td class=\"labelOptional\" width=\"15%\"><div align=\"center\"><a href=\"/misdownload/servlets/mirDownload?mimic_duns=000000000&amp;doclookupId=725844476\">zip</a></div></td>, <td class=\"labelOptional\" width=\"15%\"><div align=\"center\"> </div></td>, <td class=\"labelOptional\" width=\"15%\"><div align=\"center\"> </div></td>, <td class=\"labelOptional\" width=\"15%\"><div align=\"center\"><a href=\"/misdownload/servlets/mirDownload?mimic_duns=000000000&amp;doclookupId=725838708\">zip</a></div></td>, <td class=\"labelOptional\" width=\"15%\"><div align=\"center\"> </div></td>, <td class=\"labelOptional\" width=\"15%\"><div align=\"center\"> </div></td>, <td class=\"labelOptional\" width=\"15%\"><div align=\"center\"><a href=\"/misdownload/servlets/mirDownload?mimic_duns=000000000&amp;doclookupId=725838704\">zip</a></div></td>, <td class=\"labelOptional\" width=\"15%\"><div align=\"center\"> </div></td>, <td class=\"labelOptional\" width=\"15%\"><div align=\"center\"> </div></td>, <td class=\"labelOptional\" width=\"15%\"><div align=\"center\"><a href=\"/misdownload/servlets/mirDownload?mimic_duns=000000000&amp;doclookupId=725832901\">zip</a></div></td>, <td class=\"labelOptional\" width=\"15%\"><div align=\"center\"> </div></td>, <td class=\"labelOptional\" width=\"15%\"><div align=\"center\"> </div></td>, <td class=\"labelOptional\" width=\"15%\"><div align=\"center\"><a href=\"/misdownload/servlets/mirDownload?mimic_duns=000000000&amp;doclookupId=725832900\">zip</a></div></td>, <td class=\"labelOptional\" width=\"15%\"><div align=\"center\"> </div></td>, <td class=\"labelOptional\" width=\"15%\"><div align=\"center\"> </div></td>, <td class=\"labelOptional\" width=\"15%\"><div align=\"center\"><a href=\"/misdownload/servlets/mirDownload?mimic_duns=000000000&amp;doclookupId=725824981\">zip</a></div></td>, <td class=\"labelOptional\" width=\"15%\"><div align=\"center\"> </div></td>, <td class=\"labelOptional\" width=\"15%\"><div align=\"center\"> </div></td>, <td class=\"labelOptional\" width=\"15%\"><div align=\"center\"><a href=\"/misdownload/servlets/mirDownload?mimic_duns=000000000&amp;doclookupId=725825137\">zip</a></div></td>, <td class=\"labelOptional\" width=\"15%\"><div align=\"center\"> </div></td>, <td class=\"labelOptional\" width=\"15%\"><div align=\"center\"> </div></td>, <td class=\"labelOptional\" width=\"15%\"><div align=\"center\"><a href=\"/misdownload/servlets/mirDownload?mimic_duns=000000000&amp;doclookupId=725819090\">zip</a></div></td>, <td class=\"labelOptional\" width=\"15%\"><div align=\"center\"> </div></td>, <td class=\"labelOptional\" width=\"15%\"><div align=\"center\"> </div></td>, <td class=\"labelOptional\" width=\"15%\"><div align=\"center\"><a href=\"/misdownload/servlets/mirDownload?mimic_duns=000000000&amp;doclookupId=725819287\">zip</a></div></td>, <td class=\"labelOptional\" width=\"15%\"><div align=\"center\"> </div></td>, <td class=\"labelOptional\" width=\"15%\"><div align=\"center\"> </div></td>, <td class=\"labelOptional\" width=\"15%\"><div align=\"center\"><a href=\"/misdownload/servlets/mirDownload?mimic_duns=000000000&amp;doclookupId=725813013\">zip</a></div></td>, <td class=\"labelOptional\" width=\"15%\"><div align=\"center\"> </div></td>, <td class=\"labelOptional\" width=\"15%\"><div align=\"center\"> </div></td>, <td class=\"labelOptional\" width=\"15%\"><div align=\"center\"><a href=\"/misdownload/servlets/mirDownload?mimic_duns=000000000&amp;doclookupId=725813011\">zip</a></div></td>, <td class=\"labelOptional\" width=\"15%\"><div align=\"center\"> </div></td>, <td class=\"labelOptional\" width=\"15%\"><div align=\"center\"> </div></td>, <td class=\"labelOptional\" width=\"15%\"><div align=\"center\"><a href=\"/misdownload/servlets/mirDownload?mimic_duns=000000000&amp;doclookupId=725806871\">zip</a></div></td>, <td class=\"labelOptional\" width=\"15%\"><div align=\"center\"> </div></td>, <td class=\"labelOptional\" width=\"15%\"><div align=\"center\"> </div></td>, <td class=\"labelOptional\" width=\"15%\"><div align=\"center\"><a href=\"/misdownload/servlets/mirDownload?mimic_duns=000000000&amp;doclookupId=725807088\">zip</a></div></td>, <td class=\"labelOptional\" width=\"15%\"><div align=\"center\"> </div></td>, <td class=\"labelOptional\" width=\"15%\"><div align=\"center\"> </div></td>, <td class=\"labelOptional\" width=\"15%\"><div align=\"center\"><a href=\"/misdownload/servlets/mirDownload?mimic_duns=000000000&amp;doclookupId=725801335\">zip</a></div></td>, <td class=\"labelOptional\" width=\"15%\"><div align=\"center\"> </div></td>, <td class=\"labelOptional\" width=\"15%\"><div align=\"center\"> </div></td>, <td class=\"labelOptional\" width=\"15%\"><div align=\"center\"><a href=\"/misdownload/servlets/mirDownload?mimic_duns=000000000&amp;doclookupId=725801334\">zip</a></div></td>, <td class=\"labelOptional\" width=\"15%\"><div align=\"center\"> </div></td>, <td class=\"labelOptional\" width=\"15%\"><div align=\"center\"> </div></td>, <td class=\"labelOptional\" width=\"15%\"><div align=\"center\"><a href=\"/misdownload/servlets/mirDownload?mimic_duns=000000000&amp;doclookupId=725794196\">zip</a></div></td>, <td class=\"labelOptional\" width=\"15%\"><div align=\"center\"> </div></td>, <td class=\"labelOptional\" width=\"15%\"><div align=\"center\"> </div></td>, <td class=\"labelOptional\" width=\"15%\"><div align=\"center\"><a href=\"/misdownload/servlets/mirDownload?mimic_duns=000000000&amp;doclookupId=725794366\">zip</a></div></td>, <td class=\"labelOptional\" width=\"15%\"><div align=\"center\"> </div></td>, <td class=\"labelOptional\" width=\"15%\"><div align=\"center\"> </div></td>, <td class=\"labelOptional\" width=\"15%\"><div align=\"center\"><a href=\"/misdownload/servlets/mirDownload?mimic_duns=000000000&amp;doclookupId=725784944\">zip</a></div></td>, <td class=\"labelOptional\" width=\"15%\"><div align=\"center\"> </div></td>, <td class=\"labelOptional\" width=\"15%\"><div align=\"center\"> </div></td>, <td class=\"labelOptional\" width=\"15%\"><div align=\"center\"><a href=\"/misdownload/servlets/mirDownload?mimic_duns=000000000&amp;doclookupId=725784942\">zip</a></div></td>, <td class=\"labelOptional\" width=\"15%\"><div align=\"center\"> </div></td>, <td class=\"labelOptional\" width=\"15%\"><div align=\"center\"> </div></td>, <td class=\"labelOptional\" width=\"15%\"><div align=\"center\"><a href=\"/misdownload/servlets/mirDownload?mimic_duns=000000000&amp;doclookupId=725777598\">zip</a></div></td>, <td class=\"labelOptional\" width=\"15%\"><div align=\"center\"> </div></td>, <td class=\"labelOptional\" width=\"15%\"><div align=\"center\"> </div></td>, <td class=\"labelOptional\" width=\"15%\"><div align=\"center\"><a href=\"/misdownload/servlets/mirDownload?mimic_duns=000000000&amp;doclookupId=725777596\">zip</a></div></td>, <td class=\"labelOptional\" width=\"15%\"><div align=\"center\"> </div></td>, <td class=\"labelOptional\" width=\"15%\"><div align=\"center\"> </div></td>, <td class=\"labelOptional\" width=\"15%\"><div align=\"center\"><a href=\"/misdownload/servlets/mirDownload?mimic_duns=000000000&amp;doclookupId=725771625\">zip</a></div></td>, <td class=\"labelOptional\" width=\"15%\"><div align=\"center\"> </div></td>, <td class=\"labelOptional\" width=\"15%\"><div align=\"center\"> </div></td>, <td class=\"labelOptional\" width=\"15%\"><div align=\"center\"><a href=\"/misdownload/servlets/mirDownload?mimic_duns=000000000&amp;doclookupId=725771826\">zip</a></div></td>, <td class=\"labelOptional\" width=\"15%\"><div align=\"center\"> </div></td>, <td class=\"labelOptional\" width=\"15%\"><div align=\"center\"> </div></td>, <td class=\"labelOptional\" width=\"15%\"><div align=\"center\"><a href=\"/misdownload/servlets/mirDownload?mimic_duns=000000000&amp;doclookupId=725764352\">zip</a></div></td>, <td class=\"labelOptional\" width=\"15%\"><div align=\"center\"> </div></td>, <td class=\"labelOptional\" width=\"15%\"><div align=\"center\"> </div></td>, <td class=\"labelOptional\" width=\"15%\"><div align=\"center\"><a href=\"/misdownload/servlets/mirDownload?mimic_duns=000000000&amp;doclookupId=725764260\">zip</a></div></td>, <td class=\"labelOptional\" width=\"15%\"><div align=\"center\"> </div></td>, <td class=\"labelOptional\" width=\"15%\"><div align=\"center\"> </div></td>, <td class=\"labelOptional\" width=\"15%\"><div align=\"center\"><a href=\"/misdownload/servlets/mirDownload?mimic_duns=000000000&amp;doclookupId=725756167\">zip</a></div></td>, <td class=\"labelOptional\" width=\"15%\"><div align=\"center\"> </div></td>, <td class=\"labelOptional\" width=\"15%\"><div align=\"center\"> </div></td>, <td class=\"labelOptional\" width=\"15%\"><div align=\"center\"><a href=\"/misdownload/servlets/mirDownload?mimic_duns=000000000&amp;doclookupId=725755841\">zip</a></div></td>, <td class=\"labelOptional\" width=\"15%\"><div align=\"center\"> </div></td>, <td class=\"labelOptional\" width=\"15%\"><div align=\"center\"> </div></td>, <td class=\"labelOptional\" width=\"15%\"><div align=\"center\"><a href=\"/misdownload/servlets/mirDownload?mimic_duns=000000000&amp;doclookupId=725750522\">zip</a></div></td>, <td class=\"labelOptional\" width=\"15%\"><div align=\"center\"> </div></td>, <td class=\"labelOptional\" width=\"15%\"><div align=\"center\"> </div></td>, <td class=\"labelOptional\" width=\"15%\"><div align=\"center\"><a href=\"/misdownload/servlets/mirDownload?mimic_duns=000000000&amp;doclookupId=725750410\">zip</a></div></td>, <td class=\"labelOptional\" width=\"15%\"><div align=\"center\"> </div></td>, <td class=\"labelOptional\" width=\"15%\"><div align=\"center\"> </div></td>, <td class=\"labelOptional\" width=\"15%\"><div align=\"center\"><a href=\"/misdownload/servlets/mirDownload?mimic_duns=000000000&amp;doclookupId=725744742\">zip</a></div></td>, <td class=\"labelOptional\" width=\"15%\"><div align=\"center\"> </div></td>, <td class=\"labelOptional\" width=\"15%\"><div align=\"center\"> </div></td>, <td class=\"labelOptional\" width=\"15%\"><div align=\"center\"><a href=\"/misdownload/servlets/mirDownload?mimic_duns=000000000&amp;doclookupId=725744429\">zip</a></div></td>, <td class=\"labelOptional\" width=\"15%\"><div align=\"center\"> </div></td>, <td class=\"labelOptional\" width=\"15%\"><div align=\"center\"> </div></td>, <td class=\"labelOptional\" width=\"15%\"><div align=\"center\"><a href=\"/misdownload/servlets/mirDownload?mimic_duns=000000000&amp;doclookupId=725739006\">zip</a></div></td>, <td class=\"labelOptional\" width=\"15%\"><div align=\"center\"> </div></td>, <td class=\"labelOptional\" width=\"15%\"><div align=\"center\"> </div></td>, <td class=\"labelOptional\" width=\"15%\"><div align=\"center\"><a href=\"/misdownload/servlets/mirDownload?mimic_duns=000000000&amp;doclookupId=725739005\">zip</a></div></td>, <td class=\"labelOptional\" width=\"15%\"><div align=\"center\"> </div></td>, <td class=\"labelOptional\" width=\"15%\"><div align=\"center\"> </div></td>, <td class=\"labelOptional\" width=\"15%\"><div align=\"center\"><a href=\"/misdownload/servlets/mirDownload?mimic_duns=000000000&amp;doclookupId=725731499\">zip</a></div></td>, <td class=\"labelOptional\" width=\"15%\"><div align=\"center\"> </div></td>, <td class=\"labelOptional\" width=\"15%\"><div align=\"center\"> </div></td>, <td class=\"labelOptional\" width=\"15%\"><div align=\"center\"><a href=\"/misdownload/servlets/mirDownload?mimic_duns=000000000&amp;doclookupId=725731497\">zip</a></div></td>]\n"
     ]
    }
   ],
   "source": [
    "url_results = soup.find_all('td', class_='labelOptional', text=True)\n",
    "print(url_results)"
   ]
  },
  {
   "cell_type": "code",
   "execution_count": 10,
   "metadata": {},
   "outputs": [
    {
     "data": {
      "text/plain": [
       "<td class=\"labelOptional\" width=\"15%\"><div align=\"center\"> </div></td>"
      ]
     },
     "execution_count": 10,
     "metadata": {},
     "output_type": "execute_result"
    }
   ],
   "source": [
    "url_results[0]"
   ]
  },
  {
   "cell_type": "code",
   "execution_count": 15,
   "metadata": {},
   "outputs": [
    {
     "name": "stdout",
     "output_type": "stream",
     "text": [
      "http://mis.ercot.com/misdownload/servlets/mirDownload?mimic_duns=000000000&doclookupId=726348287\n",
      "http://mis.ercot.com/misdownload/servlets/mirDownload?mimic_duns=000000000&doclookupId=726348286\n",
      "http://mis.ercot.com/misdownload/servlets/mirDownload?mimic_duns=000000000&doclookupId=726342520\n",
      "http://mis.ercot.com/misdownload/servlets/mirDownload?mimic_duns=000000000&doclookupId=726342517\n",
      "http://mis.ercot.com/misdownload/servlets/mirDownload?mimic_duns=000000000&doclookupId=726336722\n",
      "http://mis.ercot.com/misdownload/servlets/mirDownload?mimic_duns=000000000&doclookupId=726336721\n",
      "http://mis.ercot.com/misdownload/servlets/mirDownload?mimic_duns=000000000&doclookupId=726330782\n",
      "http://mis.ercot.com/misdownload/servlets/mirDownload?mimic_duns=000000000&doclookupId=726330780\n",
      "http://mis.ercot.com/misdownload/servlets/mirDownload?mimic_duns=000000000&doclookupId=726324689\n",
      "http://mis.ercot.com/misdownload/servlets/mirDownload?mimic_duns=000000000&doclookupId=726324688\n",
      "http://mis.ercot.com/misdownload/servlets/mirDownload?mimic_duns=000000000&doclookupId=726318514\n",
      "http://mis.ercot.com/misdownload/servlets/mirDownload?mimic_duns=000000000&doclookupId=726318701\n",
      "http://mis.ercot.com/misdownload/servlets/mirDownload?mimic_duns=000000000&doclookupId=726310574\n",
      "http://mis.ercot.com/misdownload/servlets/mirDownload?mimic_duns=000000000&doclookupId=726310933\n",
      "http://mis.ercot.com/misdownload/servlets/mirDownload?mimic_duns=000000000&doclookupId=726304083\n",
      "http://mis.ercot.com/misdownload/servlets/mirDownload?mimic_duns=000000000&doclookupId=726304082\n",
      "http://mis.ercot.com/misdownload/servlets/mirDownload?mimic_duns=000000000&doclookupId=726295252\n",
      "http://mis.ercot.com/misdownload/servlets/mirDownload?mimic_duns=000000000&doclookupId=726295250\n",
      "http://mis.ercot.com/misdownload/servlets/mirDownload?mimic_duns=000000000&doclookupId=726289035\n",
      "http://mis.ercot.com/misdownload/servlets/mirDownload?mimic_duns=000000000&doclookupId=726288884\n",
      "http://mis.ercot.com/misdownload/servlets/mirDownload?mimic_duns=000000000&doclookupId=726282036\n",
      "http://mis.ercot.com/misdownload/servlets/mirDownload?mimic_duns=000000000&doclookupId=726282222\n",
      "http://mis.ercot.com/misdownload/servlets/mirDownload?mimic_duns=000000000&doclookupId=726270970\n",
      "http://mis.ercot.com/misdownload/servlets/mirDownload?mimic_duns=000000000&doclookupId=726271189\n",
      "http://mis.ercot.com/misdownload/servlets/mirDownload?mimic_duns=000000000&doclookupId=726261385\n",
      "http://mis.ercot.com/misdownload/servlets/mirDownload?mimic_duns=000000000&doclookupId=726261382\n",
      "http://mis.ercot.com/misdownload/servlets/mirDownload?mimic_duns=000000000&doclookupId=726253769\n",
      "http://mis.ercot.com/misdownload/servlets/mirDownload?mimic_duns=000000000&doclookupId=726253921\n",
      "http://mis.ercot.com/misdownload/servlets/mirDownload?mimic_duns=000000000&doclookupId=726248014\n",
      "http://mis.ercot.com/misdownload/servlets/mirDownload?mimic_duns=000000000&doclookupId=726248013\n",
      "http://mis.ercot.com/misdownload/servlets/mirDownload?mimic_duns=000000000&doclookupId=726240430\n",
      "http://mis.ercot.com/misdownload/servlets/mirDownload?mimic_duns=000000000&doclookupId=726240428\n",
      "http://mis.ercot.com/misdownload/servlets/mirDownload?mimic_duns=000000000&doclookupId=726231897\n",
      "http://mis.ercot.com/misdownload/servlets/mirDownload?mimic_duns=000000000&doclookupId=726231896\n",
      "http://mis.ercot.com/misdownload/servlets/mirDownload?mimic_duns=000000000&doclookupId=726226166\n",
      "http://mis.ercot.com/misdownload/servlets/mirDownload?mimic_duns=000000000&doclookupId=726226165\n",
      "http://mis.ercot.com/misdownload/servlets/mirDownload?mimic_duns=000000000&doclookupId=726220239\n",
      "http://mis.ercot.com/misdownload/servlets/mirDownload?mimic_duns=000000000&doclookupId=726220362\n",
      "http://mis.ercot.com/misdownload/servlets/mirDownload?mimic_duns=000000000&doclookupId=726214513\n",
      "http://mis.ercot.com/misdownload/servlets/mirDownload?mimic_duns=000000000&doclookupId=726214511\n",
      "http://mis.ercot.com/misdownload/servlets/mirDownload?mimic_duns=000000000&doclookupId=726206482\n",
      "http://mis.ercot.com/misdownload/servlets/mirDownload?mimic_duns=000000000&doclookupId=726206736\n",
      "http://mis.ercot.com/misdownload/servlets/mirDownload?mimic_duns=000000000&doclookupId=726201016\n",
      "http://mis.ercot.com/misdownload/servlets/mirDownload?mimic_duns=000000000&doclookupId=726201014\n",
      "http://mis.ercot.com/misdownload/servlets/mirDownload?mimic_duns=000000000&doclookupId=726194656\n",
      "http://mis.ercot.com/misdownload/servlets/mirDownload?mimic_duns=000000000&doclookupId=726194654\n",
      "http://mis.ercot.com/misdownload/servlets/mirDownload?mimic_duns=000000000&doclookupId=726188970\n",
      "http://mis.ercot.com/misdownload/servlets/mirDownload?mimic_duns=000000000&doclookupId=726188967\n",
      "http://mis.ercot.com/misdownload/servlets/mirDownload?mimic_duns=000000000&doclookupId=726183148\n",
      "http://mis.ercot.com/misdownload/servlets/mirDownload?mimic_duns=000000000&doclookupId=726183146\n",
      "http://mis.ercot.com/misdownload/servlets/mirDownload?mimic_duns=000000000&doclookupId=726176260\n",
      "http://mis.ercot.com/misdownload/servlets/mirDownload?mimic_duns=000000000&doclookupId=726176322\n",
      "http://mis.ercot.com/misdownload/servlets/mirDownload?mimic_duns=000000000&doclookupId=726170498\n",
      "http://mis.ercot.com/misdownload/servlets/mirDownload?mimic_duns=000000000&doclookupId=726170234\n",
      "http://mis.ercot.com/misdownload/servlets/mirDownload?mimic_duns=000000000&doclookupId=726163531\n",
      "http://mis.ercot.com/misdownload/servlets/mirDownload?mimic_duns=000000000&doclookupId=726163529\n",
      "http://mis.ercot.com/misdownload/servlets/mirDownload?mimic_duns=000000000&doclookupId=726155887\n",
      "http://mis.ercot.com/misdownload/servlets/mirDownload?mimic_duns=000000000&doclookupId=726156237\n",
      "http://mis.ercot.com/misdownload/servlets/mirDownload?mimic_duns=000000000&doclookupId=726150427\n",
      "http://mis.ercot.com/misdownload/servlets/mirDownload?mimic_duns=000000000&doclookupId=726150426\n",
      "http://mis.ercot.com/misdownload/servlets/mirDownload?mimic_duns=000000000&doclookupId=726141169\n",
      "http://mis.ercot.com/misdownload/servlets/mirDownload?mimic_duns=000000000&doclookupId=726140998\n",
      "http://mis.ercot.com/misdownload/servlets/mirDownload?mimic_duns=000000000&doclookupId=726135136\n",
      "http://mis.ercot.com/misdownload/servlets/mirDownload?mimic_duns=000000000&doclookupId=726134869\n",
      "http://mis.ercot.com/misdownload/servlets/mirDownload?mimic_duns=000000000&doclookupId=726127031\n",
      "http://mis.ercot.com/misdownload/servlets/mirDownload?mimic_duns=000000000&doclookupId=726127030\n",
      "http://mis.ercot.com/misdownload/servlets/mirDownload?mimic_duns=000000000&doclookupId=726120633\n",
      "http://mis.ercot.com/misdownload/servlets/mirDownload?mimic_duns=000000000&doclookupId=726120631\n",
      "http://mis.ercot.com/misdownload/servlets/mirDownload?mimic_duns=000000000&doclookupId=726114694\n",
      "http://mis.ercot.com/misdownload/servlets/mirDownload?mimic_duns=000000000&doclookupId=726114693\n",
      "http://mis.ercot.com/misdownload/servlets/mirDownload?mimic_duns=000000000&doclookupId=726101028\n",
      "http://mis.ercot.com/misdownload/servlets/mirDownload?mimic_duns=000000000&doclookupId=726101027\n",
      "http://mis.ercot.com/misdownload/servlets/mirDownload?mimic_duns=000000000&doclookupId=726092206\n",
      "http://mis.ercot.com/misdownload/servlets/mirDownload?mimic_duns=000000000&doclookupId=726092205\n",
      "http://mis.ercot.com/misdownload/servlets/mirDownload?mimic_duns=000000000&doclookupId=726084888\n",
      "http://mis.ercot.com/misdownload/servlets/mirDownload?mimic_duns=000000000&doclookupId=726084887\n",
      "http://mis.ercot.com/misdownload/servlets/mirDownload?mimic_duns=000000000&doclookupId=726079024\n",
      "http://mis.ercot.com/misdownload/servlets/mirDownload?mimic_duns=000000000&doclookupId=726079023\n",
      "http://mis.ercot.com/misdownload/servlets/mirDownload?mimic_duns=000000000&doclookupId=726070636\n",
      "http://mis.ercot.com/misdownload/servlets/mirDownload?mimic_duns=000000000&doclookupId=726070635\n",
      "http://mis.ercot.com/misdownload/servlets/mirDownload?mimic_duns=000000000&doclookupId=726063185\n",
      "http://mis.ercot.com/misdownload/servlets/mirDownload?mimic_duns=000000000&doclookupId=726063182\n",
      "http://mis.ercot.com/misdownload/servlets/mirDownload?mimic_duns=000000000&doclookupId=726057231\n",
      "http://mis.ercot.com/misdownload/servlets/mirDownload?mimic_duns=000000000&doclookupId=726057230\n",
      "http://mis.ercot.com/misdownload/servlets/mirDownload?mimic_duns=000000000&doclookupId=726051439\n",
      "http://mis.ercot.com/misdownload/servlets/mirDownload?mimic_duns=000000000&doclookupId=726051436\n",
      "http://mis.ercot.com/misdownload/servlets/mirDownload?mimic_duns=000000000&doclookupId=726044853\n",
      "http://mis.ercot.com/misdownload/servlets/mirDownload?mimic_duns=000000000&doclookupId=726044852\n",
      "http://mis.ercot.com/misdownload/servlets/mirDownload?mimic_duns=000000000&doclookupId=726037798\n",
      "http://mis.ercot.com/misdownload/servlets/mirDownload?mimic_duns=000000000&doclookupId=726037797\n",
      "http://mis.ercot.com/misdownload/servlets/mirDownload?mimic_duns=000000000&doclookupId=726031670\n",
      "http://mis.ercot.com/misdownload/servlets/mirDownload?mimic_duns=000000000&doclookupId=726032033\n",
      "http://mis.ercot.com/misdownload/servlets/mirDownload?mimic_duns=000000000&doclookupId=726011395\n",
      "http://mis.ercot.com/misdownload/servlets/mirDownload?mimic_duns=000000000&doclookupId=726025836\n",
      "http://mis.ercot.com/misdownload/servlets/mirDownload?mimic_duns=000000000&doclookupId=726020312\n",
      "http://mis.ercot.com/misdownload/servlets/mirDownload?mimic_duns=000000000&doclookupId=726020309\n",
      "http://mis.ercot.com/misdownload/servlets/mirDownload?mimic_duns=000000000&doclookupId=726014654\n",
      "http://mis.ercot.com/misdownload/servlets/mirDownload?mimic_duns=000000000&doclookupId=726014652\n",
      "http://mis.ercot.com/misdownload/servlets/mirDownload?mimic_duns=000000000&doclookupId=726008929\n",
      "http://mis.ercot.com/misdownload/servlets/mirDownload?mimic_duns=000000000&doclookupId=726008924\n",
      "http://mis.ercot.com/misdownload/servlets/mirDownload?mimic_duns=000000000&doclookupId=726002694\n",
      "http://mis.ercot.com/misdownload/servlets/mirDownload?mimic_duns=000000000&doclookupId=726003032\n",
      "http://mis.ercot.com/misdownload/servlets/mirDownload?mimic_duns=000000000&doclookupId=725997325\n",
      "http://mis.ercot.com/misdownload/servlets/mirDownload?mimic_duns=000000000&doclookupId=725997050\n",
      "http://mis.ercot.com/misdownload/servlets/mirDownload?mimic_duns=000000000&doclookupId=725991538\n",
      "http://mis.ercot.com/misdownload/servlets/mirDownload?mimic_duns=000000000&doclookupId=725991537\n",
      "http://mis.ercot.com/misdownload/servlets/mirDownload?mimic_duns=000000000&doclookupId=725985676\n",
      "http://mis.ercot.com/misdownload/servlets/mirDownload?mimic_duns=000000000&doclookupId=725985673\n",
      "http://mis.ercot.com/misdownload/servlets/mirDownload?mimic_duns=000000000&doclookupId=725977922\n",
      "http://mis.ercot.com/misdownload/servlets/mirDownload?mimic_duns=000000000&doclookupId=725977759\n",
      "http://mis.ercot.com/misdownload/servlets/mirDownload?mimic_duns=000000000&doclookupId=725972019\n",
      "http://mis.ercot.com/misdownload/servlets/mirDownload?mimic_duns=000000000&doclookupId=725972114\n",
      "http://mis.ercot.com/misdownload/servlets/mirDownload?mimic_duns=000000000&doclookupId=725965843\n",
      "http://mis.ercot.com/misdownload/servlets/mirDownload?mimic_duns=000000000&doclookupId=725965841\n",
      "http://mis.ercot.com/misdownload/servlets/mirDownload?mimic_duns=000000000&doclookupId=725960026\n",
      "http://mis.ercot.com/misdownload/servlets/mirDownload?mimic_duns=000000000&doclookupId=725960024\n",
      "http://mis.ercot.com/misdownload/servlets/mirDownload?mimic_duns=000000000&doclookupId=725954098\n",
      "http://mis.ercot.com/misdownload/servlets/mirDownload?mimic_duns=000000000&doclookupId=725954096\n",
      "http://mis.ercot.com/misdownload/servlets/mirDownload?mimic_duns=000000000&doclookupId=725947186\n",
      "http://mis.ercot.com/misdownload/servlets/mirDownload?mimic_duns=000000000&doclookupId=725947182\n",
      "http://mis.ercot.com/misdownload/servlets/mirDownload?mimic_duns=000000000&doclookupId=725937816\n",
      "http://mis.ercot.com/misdownload/servlets/mirDownload?mimic_duns=000000000&doclookupId=725937813\n",
      "http://mis.ercot.com/misdownload/servlets/mirDownload?mimic_duns=000000000&doclookupId=725930550\n",
      "http://mis.ercot.com/misdownload/servlets/mirDownload?mimic_duns=000000000&doclookupId=725930549\n",
      "http://mis.ercot.com/misdownload/servlets/mirDownload?mimic_duns=000000000&doclookupId=725924687\n",
      "http://mis.ercot.com/misdownload/servlets/mirDownload?mimic_duns=000000000&doclookupId=725924686\n",
      "http://mis.ercot.com/misdownload/servlets/mirDownload?mimic_duns=000000000&doclookupId=725916443\n",
      "http://mis.ercot.com/misdownload/servlets/mirDownload?mimic_duns=000000000&doclookupId=725916442\n",
      "http://mis.ercot.com/misdownload/servlets/mirDownload?mimic_duns=000000000&doclookupId=725909134\n",
      "http://mis.ercot.com/misdownload/servlets/mirDownload?mimic_duns=000000000&doclookupId=725909133\n",
      "http://mis.ercot.com/misdownload/servlets/mirDownload?mimic_duns=000000000&doclookupId=725903326\n",
      "http://mis.ercot.com/misdownload/servlets/mirDownload?mimic_duns=000000000&doclookupId=725903325\n",
      "http://mis.ercot.com/misdownload/servlets/mirDownload?mimic_duns=000000000&doclookupId=725897866\n",
      "http://mis.ercot.com/misdownload/servlets/mirDownload?mimic_duns=000000000&doclookupId=725897864\n",
      "http://mis.ercot.com/misdownload/servlets/mirDownload?mimic_duns=000000000&doclookupId=725891706\n",
      "http://mis.ercot.com/misdownload/servlets/mirDownload?mimic_duns=000000000&doclookupId=725891704\n",
      "http://mis.ercot.com/misdownload/servlets/mirDownload?mimic_duns=000000000&doclookupId=725884482\n",
      "http://mis.ercot.com/misdownload/servlets/mirDownload?mimic_duns=000000000&doclookupId=725884481\n",
      "http://mis.ercot.com/misdownload/servlets/mirDownload?mimic_duns=000000000&doclookupId=725879054\n",
      "http://mis.ercot.com/misdownload/servlets/mirDownload?mimic_duns=000000000&doclookupId=725879053\n",
      "http://mis.ercot.com/misdownload/servlets/mirDownload?mimic_duns=000000000&doclookupId=725872585\n",
      "http://mis.ercot.com/misdownload/servlets/mirDownload?mimic_duns=000000000&doclookupId=725872834\n",
      "http://mis.ercot.com/misdownload/servlets/mirDownload?mimic_duns=000000000&doclookupId=725866998\n",
      "http://mis.ercot.com/misdownload/servlets/mirDownload?mimic_duns=000000000&doclookupId=725866997\n",
      "http://mis.ercot.com/misdownload/servlets/mirDownload?mimic_duns=000000000&doclookupId=725861607\n",
      "http://mis.ercot.com/misdownload/servlets/mirDownload?mimic_duns=000000000&doclookupId=725861605\n",
      "http://mis.ercot.com/misdownload/servlets/mirDownload?mimic_duns=000000000&doclookupId=725855920\n",
      "http://mis.ercot.com/misdownload/servlets/mirDownload?mimic_duns=000000000&doclookupId=725855919\n",
      "http://mis.ercot.com/misdownload/servlets/mirDownload?mimic_duns=000000000&doclookupId=725850196\n",
      "http://mis.ercot.com/misdownload/servlets/mirDownload?mimic_duns=000000000&doclookupId=725850194\n",
      "http://mis.ercot.com/misdownload/servlets/mirDownload?mimic_duns=000000000&doclookupId=725844479\n",
      "http://mis.ercot.com/misdownload/servlets/mirDownload?mimic_duns=000000000&doclookupId=725844476\n",
      "http://mis.ercot.com/misdownload/servlets/mirDownload?mimic_duns=000000000&doclookupId=725838708\n",
      "http://mis.ercot.com/misdownload/servlets/mirDownload?mimic_duns=000000000&doclookupId=725838704\n",
      "http://mis.ercot.com/misdownload/servlets/mirDownload?mimic_duns=000000000&doclookupId=725832901\n",
      "http://mis.ercot.com/misdownload/servlets/mirDownload?mimic_duns=000000000&doclookupId=725832900\n",
      "http://mis.ercot.com/misdownload/servlets/mirDownload?mimic_duns=000000000&doclookupId=725824981\n",
      "http://mis.ercot.com/misdownload/servlets/mirDownload?mimic_duns=000000000&doclookupId=725825137\n",
      "http://mis.ercot.com/misdownload/servlets/mirDownload?mimic_duns=000000000&doclookupId=725819090\n",
      "http://mis.ercot.com/misdownload/servlets/mirDownload?mimic_duns=000000000&doclookupId=725819287\n",
      "http://mis.ercot.com/misdownload/servlets/mirDownload?mimic_duns=000000000&doclookupId=725813013\n",
      "http://mis.ercot.com/misdownload/servlets/mirDownload?mimic_duns=000000000&doclookupId=725813011\n",
      "http://mis.ercot.com/misdownload/servlets/mirDownload?mimic_duns=000000000&doclookupId=725806871\n",
      "http://mis.ercot.com/misdownload/servlets/mirDownload?mimic_duns=000000000&doclookupId=725807088\n",
      "http://mis.ercot.com/misdownload/servlets/mirDownload?mimic_duns=000000000&doclookupId=725801335\n",
      "http://mis.ercot.com/misdownload/servlets/mirDownload?mimic_duns=000000000&doclookupId=725801334\n",
      "http://mis.ercot.com/misdownload/servlets/mirDownload?mimic_duns=000000000&doclookupId=725794196\n",
      "http://mis.ercot.com/misdownload/servlets/mirDownload?mimic_duns=000000000&doclookupId=725794366\n",
      "http://mis.ercot.com/misdownload/servlets/mirDownload?mimic_duns=000000000&doclookupId=725784944\n",
      "http://mis.ercot.com/misdownload/servlets/mirDownload?mimic_duns=000000000&doclookupId=725784942\n",
      "http://mis.ercot.com/misdownload/servlets/mirDownload?mimic_duns=000000000&doclookupId=725777598\n",
      "http://mis.ercot.com/misdownload/servlets/mirDownload?mimic_duns=000000000&doclookupId=725777596\n",
      "http://mis.ercot.com/misdownload/servlets/mirDownload?mimic_duns=000000000&doclookupId=725771625\n",
      "http://mis.ercot.com/misdownload/servlets/mirDownload?mimic_duns=000000000&doclookupId=725771826\n",
      "http://mis.ercot.com/misdownload/servlets/mirDownload?mimic_duns=000000000&doclookupId=725764352\n",
      "http://mis.ercot.com/misdownload/servlets/mirDownload?mimic_duns=000000000&doclookupId=725764260\n",
      "http://mis.ercot.com/misdownload/servlets/mirDownload?mimic_duns=000000000&doclookupId=725756167\n",
      "http://mis.ercot.com/misdownload/servlets/mirDownload?mimic_duns=000000000&doclookupId=725755841\n",
      "http://mis.ercot.com/misdownload/servlets/mirDownload?mimic_duns=000000000&doclookupId=725750522\n",
      "http://mis.ercot.com/misdownload/servlets/mirDownload?mimic_duns=000000000&doclookupId=725750410\n",
      "http://mis.ercot.com/misdownload/servlets/mirDownload?mimic_duns=000000000&doclookupId=725744742\n",
      "http://mis.ercot.com/misdownload/servlets/mirDownload?mimic_duns=000000000&doclookupId=725744429\n",
      "http://mis.ercot.com/misdownload/servlets/mirDownload?mimic_duns=000000000&doclookupId=725739006\n",
      "http://mis.ercot.com/misdownload/servlets/mirDownload?mimic_duns=000000000&doclookupId=725739005\n",
      "http://mis.ercot.com/misdownload/servlets/mirDownload?mimic_duns=000000000&doclookupId=725731499\n",
      "http://mis.ercot.com/misdownload/servlets/mirDownload?mimic_duns=000000000&doclookupId=725731497\n"
     ]
    }
   ],
   "source": [
    "base_url = 'http://mis.ercot.com'\n",
    "\n",
    "data_urls = []\n",
    "\n",
    "for result in url_results:\n",
    "    try:\n",
    "        end_url = result.find('div').a['href']\n",
    "        full_url = base_url + end_url\n",
    "        data_urls.append(full_url)\n",
    "        print(full_url)\n",
    "    except:\n",
    "        pass"
   ]
  },
  {
   "cell_type": "markdown",
   "metadata": {},
   "source": [
    "## Extract Zip File from URL"
   ]
  },
  {
   "cell_type": "code",
   "execution_count": 16,
   "metadata": {},
   "outputs": [],
   "source": [
    "data = requests.get(data_urls[0], stream=True)"
   ]
  },
  {
   "cell_type": "code",
   "execution_count": 17,
   "metadata": {},
   "outputs": [
    {
     "data": {
      "text/plain": [
       "requests.models.Response"
      ]
     },
     "execution_count": 17,
     "metadata": {},
     "output_type": "execute_result"
    }
   ],
   "source": [
    "type(data)"
   ]
  },
  {
   "cell_type": "code",
   "execution_count": 115,
   "metadata": {},
   "outputs": [],
   "source": [
    "import requests, zipfile, io"
   ]
  },
  {
   "cell_type": "code",
   "execution_count": 116,
   "metadata": {},
   "outputs": [],
   "source": [
    "z = zipfile.ZipFile(io.BytesIO(data.content))"
   ]
  },
  {
   "cell_type": "code",
   "execution_count": 117,
   "metadata": {},
   "outputs": [],
   "source": [
    "z.extractall()"
   ]
  },
  {
   "cell_type": "code",
   "execution_count": 118,
   "metadata": {},
   "outputs": [],
   "source": [
    "file = z.namelist()[0]"
   ]
  },
  {
   "cell_type": "code",
   "execution_count": 119,
   "metadata": {},
   "outputs": [],
   "source": [
    "#load zip file to df\n",
    "load_fcst = pd.read_csv(file)\n",
    "\n",
    "#delete zip file after reading\n",
    "os.remove(file)"
   ]
  },
  {
   "cell_type": "code",
   "execution_count": 120,
   "metadata": {},
   "outputs": [
    {
     "data": {
      "text/html": [
       "<div>\n",
       "<style scoped>\n",
       "    .dataframe tbody tr th:only-of-type {\n",
       "        vertical-align: middle;\n",
       "    }\n",
       "\n",
       "    .dataframe tbody tr th {\n",
       "        vertical-align: top;\n",
       "    }\n",
       "\n",
       "    .dataframe thead th {\n",
       "        text-align: right;\n",
       "    }\n",
       "</style>\n",
       "<table border=\"1\" class=\"dataframe\">\n",
       "  <thead>\n",
       "    <tr style=\"text-align: right;\">\n",
       "      <th></th>\n",
       "      <th>DeliveryDate</th>\n",
       "      <th>HourEnding</th>\n",
       "      <th>Coast</th>\n",
       "      <th>East</th>\n",
       "      <th>FarWest</th>\n",
       "      <th>North</th>\n",
       "      <th>NorthCentral</th>\n",
       "      <th>SouthCentral</th>\n",
       "      <th>Southern</th>\n",
       "      <th>West</th>\n",
       "      <th>SystemTotal</th>\n",
       "      <th>DSTFlag</th>\n",
       "    </tr>\n",
       "  </thead>\n",
       "  <tbody>\n",
       "    <tr>\n",
       "      <td>0</td>\n",
       "      <td>07/27/2020</td>\n",
       "      <td>1:00</td>\n",
       "      <td>11542.7998</td>\n",
       "      <td>1441.3400</td>\n",
       "      <td>3808.0801</td>\n",
       "      <td>1029.590</td>\n",
       "      <td>13911.5000</td>\n",
       "      <td>6965.7700</td>\n",
       "      <td>3087.3501</td>\n",
       "      <td>1378.5601</td>\n",
       "      <td>43164.9901</td>\n",
       "      <td>N</td>\n",
       "    </tr>\n",
       "    <tr>\n",
       "      <td>1</td>\n",
       "      <td>07/27/2020</td>\n",
       "      <td>2:00</td>\n",
       "      <td>11082.9004</td>\n",
       "      <td>1439.2100</td>\n",
       "      <td>3752.3101</td>\n",
       "      <td>953.336</td>\n",
       "      <td>13103.5996</td>\n",
       "      <td>6519.7202</td>\n",
       "      <td>2961.8701</td>\n",
       "      <td>1296.6200</td>\n",
       "      <td>41109.5664</td>\n",
       "      <td>N</td>\n",
       "    </tr>\n",
       "    <tr>\n",
       "      <td>2</td>\n",
       "      <td>07/27/2020</td>\n",
       "      <td>3:00</td>\n",
       "      <td>10774.7998</td>\n",
       "      <td>1354.0500</td>\n",
       "      <td>3680.9700</td>\n",
       "      <td>937.441</td>\n",
       "      <td>12433.2002</td>\n",
       "      <td>6291.2798</td>\n",
       "      <td>2952.5400</td>\n",
       "      <td>1369.9000</td>\n",
       "      <td>39794.1808</td>\n",
       "      <td>N</td>\n",
       "    </tr>\n",
       "    <tr>\n",
       "      <td>3</td>\n",
       "      <td>07/27/2020</td>\n",
       "      <td>4:00</td>\n",
       "      <td>10524.2002</td>\n",
       "      <td>1372.2900</td>\n",
       "      <td>3634.4199</td>\n",
       "      <td>888.142</td>\n",
       "      <td>11980.0000</td>\n",
       "      <td>6238.2700</td>\n",
       "      <td>2862.9199</td>\n",
       "      <td>1251.0100</td>\n",
       "      <td>38751.2520</td>\n",
       "      <td>N</td>\n",
       "    </tr>\n",
       "    <tr>\n",
       "      <td>4</td>\n",
       "      <td>07/27/2020</td>\n",
       "      <td>5:00</td>\n",
       "      <td>10677.7998</td>\n",
       "      <td>1355.6200</td>\n",
       "      <td>3626.4900</td>\n",
       "      <td>853.798</td>\n",
       "      <td>11994.7998</td>\n",
       "      <td>6181.1001</td>\n",
       "      <td>2840.5801</td>\n",
       "      <td>1172.7700</td>\n",
       "      <td>38702.9578</td>\n",
       "      <td>N</td>\n",
       "    </tr>\n",
       "    <tr>\n",
       "      <td>...</td>\n",
       "      <td>...</td>\n",
       "      <td>...</td>\n",
       "      <td>...</td>\n",
       "      <td>...</td>\n",
       "      <td>...</td>\n",
       "      <td>...</td>\n",
       "      <td>...</td>\n",
       "      <td>...</td>\n",
       "      <td>...</td>\n",
       "      <td>...</td>\n",
       "      <td>...</td>\n",
       "      <td>...</td>\n",
       "    </tr>\n",
       "    <tr>\n",
       "      <td>187</td>\n",
       "      <td>08/03/2020</td>\n",
       "      <td>20:00</td>\n",
       "      <td>17020.5000</td>\n",
       "      <td>2246.1699</td>\n",
       "      <td>4405.9102</td>\n",
       "      <td>1362.000</td>\n",
       "      <td>20892.8008</td>\n",
       "      <td>11710.2002</td>\n",
       "      <td>5159.1899</td>\n",
       "      <td>2060.5701</td>\n",
       "      <td>64857.3411</td>\n",
       "      <td>N</td>\n",
       "    </tr>\n",
       "    <tr>\n",
       "      <td>188</td>\n",
       "      <td>08/03/2020</td>\n",
       "      <td>21:00</td>\n",
       "      <td>16954.0996</td>\n",
       "      <td>2121.5701</td>\n",
       "      <td>4379.1201</td>\n",
       "      <td>1297.220</td>\n",
       "      <td>19977.5996</td>\n",
       "      <td>11193.7998</td>\n",
       "      <td>5012.4800</td>\n",
       "      <td>2008.5500</td>\n",
       "      <td>62944.4392</td>\n",
       "      <td>N</td>\n",
       "    </tr>\n",
       "    <tr>\n",
       "      <td>189</td>\n",
       "      <td>08/03/2020</td>\n",
       "      <td>22:00</td>\n",
       "      <td>16351.5996</td>\n",
       "      <td>2109.6001</td>\n",
       "      <td>4337.6699</td>\n",
       "      <td>1215.460</td>\n",
       "      <td>19134.1992</td>\n",
       "      <td>10624.5000</td>\n",
       "      <td>4941.7402</td>\n",
       "      <td>1987.8300</td>\n",
       "      <td>60702.5990</td>\n",
       "      <td>N</td>\n",
       "    </tr>\n",
       "    <tr>\n",
       "      <td>190</td>\n",
       "      <td>08/03/2020</td>\n",
       "      <td>23:00</td>\n",
       "      <td>15505.7002</td>\n",
       "      <td>1953.3000</td>\n",
       "      <td>4198.7900</td>\n",
       "      <td>1129.910</td>\n",
       "      <td>17564.6992</td>\n",
       "      <td>9866.7100</td>\n",
       "      <td>4673.0801</td>\n",
       "      <td>1876.9800</td>\n",
       "      <td>56769.1695</td>\n",
       "      <td>N</td>\n",
       "    </tr>\n",
       "    <tr>\n",
       "      <td>191</td>\n",
       "      <td>08/03/2020</td>\n",
       "      <td>24:00</td>\n",
       "      <td>14430.5000</td>\n",
       "      <td>1768.8300</td>\n",
       "      <td>4073.4500</td>\n",
       "      <td>1055.270</td>\n",
       "      <td>15996.4004</td>\n",
       "      <td>9034.7900</td>\n",
       "      <td>4354.1201</td>\n",
       "      <td>1782.2200</td>\n",
       "      <td>52495.5805</td>\n",
       "      <td>N</td>\n",
       "    </tr>\n",
       "  </tbody>\n",
       "</table>\n",
       "<p>192 rows × 12 columns</p>\n",
       "</div>"
      ],
      "text/plain": [
       "    DeliveryDate HourEnding       Coast       East    FarWest     North  \\\n",
       "0     07/27/2020       1:00  11542.7998  1441.3400  3808.0801  1029.590   \n",
       "1     07/27/2020       2:00  11082.9004  1439.2100  3752.3101   953.336   \n",
       "2     07/27/2020       3:00  10774.7998  1354.0500  3680.9700   937.441   \n",
       "3     07/27/2020       4:00  10524.2002  1372.2900  3634.4199   888.142   \n",
       "4     07/27/2020       5:00  10677.7998  1355.6200  3626.4900   853.798   \n",
       "..           ...        ...         ...        ...        ...       ...   \n",
       "187   08/03/2020      20:00  17020.5000  2246.1699  4405.9102  1362.000   \n",
       "188   08/03/2020      21:00  16954.0996  2121.5701  4379.1201  1297.220   \n",
       "189   08/03/2020      22:00  16351.5996  2109.6001  4337.6699  1215.460   \n",
       "190   08/03/2020      23:00  15505.7002  1953.3000  4198.7900  1129.910   \n",
       "191   08/03/2020      24:00  14430.5000  1768.8300  4073.4500  1055.270   \n",
       "\n",
       "     NorthCentral  SouthCentral   Southern       West  SystemTotal DSTFlag  \n",
       "0      13911.5000     6965.7700  3087.3501  1378.5601   43164.9901       N  \n",
       "1      13103.5996     6519.7202  2961.8701  1296.6200   41109.5664       N  \n",
       "2      12433.2002     6291.2798  2952.5400  1369.9000   39794.1808       N  \n",
       "3      11980.0000     6238.2700  2862.9199  1251.0100   38751.2520       N  \n",
       "4      11994.7998     6181.1001  2840.5801  1172.7700   38702.9578       N  \n",
       "..            ...           ...        ...        ...          ...     ...  \n",
       "187    20892.8008    11710.2002  5159.1899  2060.5701   64857.3411       N  \n",
       "188    19977.5996    11193.7998  5012.4800  2008.5500   62944.4392       N  \n",
       "189    19134.1992    10624.5000  4941.7402  1987.8300   60702.5990       N  \n",
       "190    17564.6992     9866.7100  4673.0801  1876.9800   56769.1695       N  \n",
       "191    15996.4004     9034.7900  4354.1201  1782.2200   52495.5805       N  \n",
       "\n",
       "[192 rows x 12 columns]"
      ]
     },
     "execution_count": 120,
     "metadata": {},
     "output_type": "execute_result"
    }
   ],
   "source": [
    "load_fcst"
   ]
  },
  {
   "cell_type": "code",
   "execution_count": 130,
   "metadata": {},
   "outputs": [],
   "source": [
    "#clean existing columns\n",
    "load_fcst['DeliveryDate'] = pd.to_datetime(load_fcst.DeliveryDate).dt.normalize()\n",
    "load_fcst['HourEnding'] = load_fcst.HourEnding.str.split(':').str[0]\n",
    "\n",
    "#add file name and process info to df\n",
    "load_fcst['file_name'] = z.namelist()[0]\n",
    "load_fcst['process_date'] = pd.to_datetime(load_fcst.file_name.str.split('.').str[3]).dt.normalize()\n",
    "load_fcst['process_hour'] = load_fcst.file_name.str.split('.').str[4]\n",
    "load_fcst['process_dt'] = pd.to_datetime(load_fcst.file_name.str.split('.').str[3] + load_fcst.file_name.str.split('.').str[4])\n",
    "load_fcst['process_hour'] = load_fcst.process_hour.str[0:2]\n",
    "\n",
    "load_fcst.HourEnding = load_fcst.HourEnding.astype(str)\n",
    "\n",
    "#add delivery date time\n",
    "load_fcst['delivery_dt'] = pd.to_datetime(load_fcst.DeliveryDate) + load_fcst.HourEnding.astype('timedelta64[h]')\n",
    "\n",
    "#add weekday columns\n",
    "load_fcst['weekday'] = load_fcst.delivery_dt.dt.day_name().str.upper()\n"
   ]
  },
  {
   "cell_type": "code",
   "execution_count": 131,
   "metadata": {},
   "outputs": [
    {
     "data": {
      "text/html": [
       "<div>\n",
       "<style scoped>\n",
       "    .dataframe tbody tr th:only-of-type {\n",
       "        vertical-align: middle;\n",
       "    }\n",
       "\n",
       "    .dataframe tbody tr th {\n",
       "        vertical-align: top;\n",
       "    }\n",
       "\n",
       "    .dataframe thead th {\n",
       "        text-align: right;\n",
       "    }\n",
       "</style>\n",
       "<table border=\"1\" class=\"dataframe\">\n",
       "  <thead>\n",
       "    <tr style=\"text-align: right;\">\n",
       "      <th></th>\n",
       "      <th>DeliveryDate</th>\n",
       "      <th>HourEnding</th>\n",
       "      <th>Coast</th>\n",
       "      <th>East</th>\n",
       "      <th>FarWest</th>\n",
       "      <th>North</th>\n",
       "      <th>NorthCentral</th>\n",
       "      <th>SouthCentral</th>\n",
       "      <th>Southern</th>\n",
       "      <th>West</th>\n",
       "      <th>SystemTotal</th>\n",
       "      <th>DSTFlag</th>\n",
       "      <th>file_name</th>\n",
       "      <th>process_date</th>\n",
       "      <th>process_hour</th>\n",
       "      <th>process_dt</th>\n",
       "      <th>delivery_dt</th>\n",
       "      <th>weekday</th>\n",
       "    </tr>\n",
       "  </thead>\n",
       "  <tbody>\n",
       "    <tr>\n",
       "      <td>0</td>\n",
       "      <td>2020-07-27</td>\n",
       "      <td>1</td>\n",
       "      <td>11542.7998</td>\n",
       "      <td>1441.34</td>\n",
       "      <td>3808.0801</td>\n",
       "      <td>1029.590</td>\n",
       "      <td>13911.5000</td>\n",
       "      <td>6965.7700</td>\n",
       "      <td>3087.3501</td>\n",
       "      <td>1378.5601</td>\n",
       "      <td>43164.9901</td>\n",
       "      <td>N</td>\n",
       "      <td>cdr.00012312.0000000000000000.20200727.203000....</td>\n",
       "      <td>2020-07-27</td>\n",
       "      <td>20</td>\n",
       "      <td>2020-07-27 20:30:00</td>\n",
       "      <td>2020-07-27 01:00:00</td>\n",
       "      <td>MONDAY</td>\n",
       "    </tr>\n",
       "    <tr>\n",
       "      <td>1</td>\n",
       "      <td>2020-07-27</td>\n",
       "      <td>2</td>\n",
       "      <td>11082.9004</td>\n",
       "      <td>1439.21</td>\n",
       "      <td>3752.3101</td>\n",
       "      <td>953.336</td>\n",
       "      <td>13103.5996</td>\n",
       "      <td>6519.7202</td>\n",
       "      <td>2961.8701</td>\n",
       "      <td>1296.6200</td>\n",
       "      <td>41109.5664</td>\n",
       "      <td>N</td>\n",
       "      <td>cdr.00012312.0000000000000000.20200727.203000....</td>\n",
       "      <td>2020-07-27</td>\n",
       "      <td>20</td>\n",
       "      <td>2020-07-27 20:30:00</td>\n",
       "      <td>2020-07-27 02:00:00</td>\n",
       "      <td>MONDAY</td>\n",
       "    </tr>\n",
       "    <tr>\n",
       "      <td>2</td>\n",
       "      <td>2020-07-27</td>\n",
       "      <td>3</td>\n",
       "      <td>10774.7998</td>\n",
       "      <td>1354.05</td>\n",
       "      <td>3680.9700</td>\n",
       "      <td>937.441</td>\n",
       "      <td>12433.2002</td>\n",
       "      <td>6291.2798</td>\n",
       "      <td>2952.5400</td>\n",
       "      <td>1369.9000</td>\n",
       "      <td>39794.1808</td>\n",
       "      <td>N</td>\n",
       "      <td>cdr.00012312.0000000000000000.20200727.203000....</td>\n",
       "      <td>2020-07-27</td>\n",
       "      <td>20</td>\n",
       "      <td>2020-07-27 20:30:00</td>\n",
       "      <td>2020-07-27 03:00:00</td>\n",
       "      <td>MONDAY</td>\n",
       "    </tr>\n",
       "    <tr>\n",
       "      <td>3</td>\n",
       "      <td>2020-07-27</td>\n",
       "      <td>4</td>\n",
       "      <td>10524.2002</td>\n",
       "      <td>1372.29</td>\n",
       "      <td>3634.4199</td>\n",
       "      <td>888.142</td>\n",
       "      <td>11980.0000</td>\n",
       "      <td>6238.2700</td>\n",
       "      <td>2862.9199</td>\n",
       "      <td>1251.0100</td>\n",
       "      <td>38751.2520</td>\n",
       "      <td>N</td>\n",
       "      <td>cdr.00012312.0000000000000000.20200727.203000....</td>\n",
       "      <td>2020-07-27</td>\n",
       "      <td>20</td>\n",
       "      <td>2020-07-27 20:30:00</td>\n",
       "      <td>2020-07-27 04:00:00</td>\n",
       "      <td>MONDAY</td>\n",
       "    </tr>\n",
       "    <tr>\n",
       "      <td>4</td>\n",
       "      <td>2020-07-27</td>\n",
       "      <td>5</td>\n",
       "      <td>10677.7998</td>\n",
       "      <td>1355.62</td>\n",
       "      <td>3626.4900</td>\n",
       "      <td>853.798</td>\n",
       "      <td>11994.7998</td>\n",
       "      <td>6181.1001</td>\n",
       "      <td>2840.5801</td>\n",
       "      <td>1172.7700</td>\n",
       "      <td>38702.9578</td>\n",
       "      <td>N</td>\n",
       "      <td>cdr.00012312.0000000000000000.20200727.203000....</td>\n",
       "      <td>2020-07-27</td>\n",
       "      <td>20</td>\n",
       "      <td>2020-07-27 20:30:00</td>\n",
       "      <td>2020-07-27 05:00:00</td>\n",
       "      <td>MONDAY</td>\n",
       "    </tr>\n",
       "  </tbody>\n",
       "</table>\n",
       "</div>"
      ],
      "text/plain": [
       "  DeliveryDate HourEnding       Coast     East    FarWest     North  \\\n",
       "0   2020-07-27          1  11542.7998  1441.34  3808.0801  1029.590   \n",
       "1   2020-07-27          2  11082.9004  1439.21  3752.3101   953.336   \n",
       "2   2020-07-27          3  10774.7998  1354.05  3680.9700   937.441   \n",
       "3   2020-07-27          4  10524.2002  1372.29  3634.4199   888.142   \n",
       "4   2020-07-27          5  10677.7998  1355.62  3626.4900   853.798   \n",
       "\n",
       "   NorthCentral  SouthCentral   Southern       West  SystemTotal DSTFlag  \\\n",
       "0    13911.5000     6965.7700  3087.3501  1378.5601   43164.9901       N   \n",
       "1    13103.5996     6519.7202  2961.8701  1296.6200   41109.5664       N   \n",
       "2    12433.2002     6291.2798  2952.5400  1369.9000   39794.1808       N   \n",
       "3    11980.0000     6238.2700  2862.9199  1251.0100   38751.2520       N   \n",
       "4    11994.7998     6181.1001  2840.5801  1172.7700   38702.9578       N   \n",
       "\n",
       "                                           file_name process_date  \\\n",
       "0  cdr.00012312.0000000000000000.20200727.203000....   2020-07-27   \n",
       "1  cdr.00012312.0000000000000000.20200727.203000....   2020-07-27   \n",
       "2  cdr.00012312.0000000000000000.20200727.203000....   2020-07-27   \n",
       "3  cdr.00012312.0000000000000000.20200727.203000....   2020-07-27   \n",
       "4  cdr.00012312.0000000000000000.20200727.203000....   2020-07-27   \n",
       "\n",
       "  process_hour          process_dt         delivery_dt weekday  \n",
       "0           20 2020-07-27 20:30:00 2020-07-27 01:00:00  MONDAY  \n",
       "1           20 2020-07-27 20:30:00 2020-07-27 02:00:00  MONDAY  \n",
       "2           20 2020-07-27 20:30:00 2020-07-27 03:00:00  MONDAY  \n",
       "3           20 2020-07-27 20:30:00 2020-07-27 04:00:00  MONDAY  \n",
       "4           20 2020-07-27 20:30:00 2020-07-27 05:00:00  MONDAY  "
      ]
     },
     "execution_count": 131,
     "metadata": {},
     "output_type": "execute_result"
    }
   ],
   "source": [
    "load_fcst.head()"
   ]
  },
  {
   "cell_type": "code",
   "execution_count": 132,
   "metadata": {},
   "outputs": [
    {
     "data": {
      "text/html": [
       "<div>\n",
       "<style scoped>\n",
       "    .dataframe tbody tr th:only-of-type {\n",
       "        vertical-align: middle;\n",
       "    }\n",
       "\n",
       "    .dataframe tbody tr th {\n",
       "        vertical-align: top;\n",
       "    }\n",
       "\n",
       "    .dataframe thead th {\n",
       "        text-align: right;\n",
       "    }\n",
       "</style>\n",
       "<table border=\"1\" class=\"dataframe\">\n",
       "  <thead>\n",
       "    <tr style=\"text-align: right;\">\n",
       "      <th></th>\n",
       "      <th>Coast</th>\n",
       "      <th>East</th>\n",
       "      <th>FarWest</th>\n",
       "      <th>North</th>\n",
       "      <th>NorthCentral</th>\n",
       "      <th>SouthCentral</th>\n",
       "      <th>Southern</th>\n",
       "      <th>West</th>\n",
       "      <th>SystemTotal</th>\n",
       "    </tr>\n",
       "  </thead>\n",
       "  <tbody>\n",
       "    <tr>\n",
       "      <td>count</td>\n",
       "      <td>192.000000</td>\n",
       "      <td>192.000000</td>\n",
       "      <td>192.000000</td>\n",
       "      <td>192.000000</td>\n",
       "      <td>192.000000</td>\n",
       "      <td>192.000000</td>\n",
       "      <td>192.000000</td>\n",
       "      <td>192.000000</td>\n",
       "      <td>192.000000</td>\n",
       "    </tr>\n",
       "    <tr>\n",
       "      <td>mean</td>\n",
       "      <td>14854.105617</td>\n",
       "      <td>1973.881322</td>\n",
       "      <td>4007.799396</td>\n",
       "      <td>1151.526010</td>\n",
       "      <td>17149.112483</td>\n",
       "      <td>8965.135973</td>\n",
       "      <td>4070.627562</td>\n",
       "      <td>1681.373491</td>\n",
       "      <td>53853.561855</td>\n",
       "    </tr>\n",
       "    <tr>\n",
       "      <td>std</td>\n",
       "      <td>2395.176315</td>\n",
       "      <td>370.535451</td>\n",
       "      <td>229.961244</td>\n",
       "      <td>225.461013</td>\n",
       "      <td>3418.167467</td>\n",
       "      <td>1794.184756</td>\n",
       "      <td>739.878106</td>\n",
       "      <td>258.478043</td>\n",
       "      <td>9278.050124</td>\n",
       "    </tr>\n",
       "    <tr>\n",
       "      <td>min</td>\n",
       "      <td>10524.200200</td>\n",
       "      <td>1354.050000</td>\n",
       "      <td>3626.050000</td>\n",
       "      <td>784.217000</td>\n",
       "      <td>11494.900400</td>\n",
       "      <td>6181.100100</td>\n",
       "      <td>2840.580100</td>\n",
       "      <td>1172.770000</td>\n",
       "      <td>38702.957800</td>\n",
       "    </tr>\n",
       "    <tr>\n",
       "      <td>25%</td>\n",
       "      <td>12585.525150</td>\n",
       "      <td>1621.775000</td>\n",
       "      <td>3786.567575</td>\n",
       "      <td>941.707500</td>\n",
       "      <td>13904.625000</td>\n",
       "      <td>7235.265025</td>\n",
       "      <td>3403.950050</td>\n",
       "      <td>1458.964925</td>\n",
       "      <td>44895.824575</td>\n",
       "    </tr>\n",
       "    <tr>\n",
       "      <td>50%</td>\n",
       "      <td>14953.699700</td>\n",
       "      <td>1994.394950</td>\n",
       "      <td>4000.445050</td>\n",
       "      <td>1145.928500</td>\n",
       "      <td>17044.850600</td>\n",
       "      <td>8961.459950</td>\n",
       "      <td>4086.535000</td>\n",
       "      <td>1653.365050</td>\n",
       "      <td>53818.730050</td>\n",
       "    </tr>\n",
       "    <tr>\n",
       "      <td>75%</td>\n",
       "      <td>16899.457050</td>\n",
       "      <td>2305.845950</td>\n",
       "      <td>4225.785525</td>\n",
       "      <td>1355.160000</td>\n",
       "      <td>20298.702125</td>\n",
       "      <td>10584.375250</td>\n",
       "      <td>4638.182625</td>\n",
       "      <td>1908.559925</td>\n",
       "      <td>62282.631575</td>\n",
       "    </tr>\n",
       "    <tr>\n",
       "      <td>max</td>\n",
       "      <td>18945.800800</td>\n",
       "      <td>2603.560100</td>\n",
       "      <td>4452.569800</td>\n",
       "      <td>1581.189900</td>\n",
       "      <td>23599.699200</td>\n",
       "      <td>12272.500000</td>\n",
       "      <td>5663.180200</td>\n",
       "      <td>2121.510000</td>\n",
       "      <td>69818.979900</td>\n",
       "    </tr>\n",
       "  </tbody>\n",
       "</table>\n",
       "</div>"
      ],
      "text/plain": [
       "              Coast         East      FarWest        North  NorthCentral  \\\n",
       "count    192.000000   192.000000   192.000000   192.000000    192.000000   \n",
       "mean   14854.105617  1973.881322  4007.799396  1151.526010  17149.112483   \n",
       "std     2395.176315   370.535451   229.961244   225.461013   3418.167467   \n",
       "min    10524.200200  1354.050000  3626.050000   784.217000  11494.900400   \n",
       "25%    12585.525150  1621.775000  3786.567575   941.707500  13904.625000   \n",
       "50%    14953.699700  1994.394950  4000.445050  1145.928500  17044.850600   \n",
       "75%    16899.457050  2305.845950  4225.785525  1355.160000  20298.702125   \n",
       "max    18945.800800  2603.560100  4452.569800  1581.189900  23599.699200   \n",
       "\n",
       "       SouthCentral     Southern         West   SystemTotal  \n",
       "count    192.000000   192.000000   192.000000    192.000000  \n",
       "mean    8965.135973  4070.627562  1681.373491  53853.561855  \n",
       "std     1794.184756   739.878106   258.478043   9278.050124  \n",
       "min     6181.100100  2840.580100  1172.770000  38702.957800  \n",
       "25%     7235.265025  3403.950050  1458.964925  44895.824575  \n",
       "50%     8961.459950  4086.535000  1653.365050  53818.730050  \n",
       "75%    10584.375250  4638.182625  1908.559925  62282.631575  \n",
       "max    12272.500000  5663.180200  2121.510000  69818.979900  "
      ]
     },
     "execution_count": 132,
     "metadata": {},
     "output_type": "execute_result"
    }
   ],
   "source": [
    "load_fcst.describe()"
   ]
  },
  {
   "cell_type": "code",
   "execution_count": 133,
   "metadata": {},
   "outputs": [
    {
     "data": {
      "text/plain": [
       "DeliveryDate    datetime64[ns]\n",
       "HourEnding              object\n",
       "Coast                  float64\n",
       "East                   float64\n",
       "FarWest                float64\n",
       "North                  float64\n",
       "NorthCentral           float64\n",
       "SouthCentral           float64\n",
       "Southern               float64\n",
       "West                   float64\n",
       "SystemTotal            float64\n",
       "DSTFlag                 object\n",
       "file_name               object\n",
       "process_date    datetime64[ns]\n",
       "process_hour            object\n",
       "process_dt      datetime64[ns]\n",
       "delivery_dt     datetime64[ns]\n",
       "weekday                 object\n",
       "dtype: object"
      ]
     },
     "execution_count": 133,
     "metadata": {},
     "output_type": "execute_result"
    }
   ],
   "source": [
    "load_fcst.dtypes"
   ]
  },
  {
   "cell_type": "code",
   "execution_count": 134,
   "metadata": {},
   "outputs": [
    {
     "data": {
      "text/plain": [
       "'cdr.00012312.0000000000000000.20200727.203000.LFCWEATHERNP3561.csv'"
      ]
     },
     "execution_count": 134,
     "metadata": {},
     "output_type": "execute_result"
    }
   ],
   "source": [
    "z.namelist()[0]"
   ]
  },
  {
   "cell_type": "markdown",
   "metadata": {},
   "source": [
    "### Convert DF to Long Format (i.e. Unpivot Forecast columns)"
   ]
  },
  {
   "cell_type": "code",
   "execution_count": 135,
   "metadata": {
    "scrolled": true
   },
   "outputs": [
    {
     "data": {
      "text/html": [
       "<div>\n",
       "<style scoped>\n",
       "    .dataframe tbody tr th:only-of-type {\n",
       "        vertical-align: middle;\n",
       "    }\n",
       "\n",
       "    .dataframe tbody tr th {\n",
       "        vertical-align: top;\n",
       "    }\n",
       "\n",
       "    .dataframe thead th {\n",
       "        text-align: right;\n",
       "    }\n",
       "</style>\n",
       "<table border=\"1\" class=\"dataframe\">\n",
       "  <thead>\n",
       "    <tr style=\"text-align: right;\">\n",
       "      <th></th>\n",
       "      <th>delivery_dt</th>\n",
       "      <th>delivery_date</th>\n",
       "      <th>delivery_hour</th>\n",
       "      <th>dst_flag</th>\n",
       "      <th>weekday</th>\n",
       "      <th>weather_zone</th>\n",
       "      <th>mw</th>\n",
       "      <th>process_date</th>\n",
       "      <th>process_hour</th>\n",
       "      <th>process_dt</th>\n",
       "      <th>file_name</th>\n",
       "    </tr>\n",
       "  </thead>\n",
       "  <tbody>\n",
       "    <tr>\n",
       "      <td>0</td>\n",
       "      <td>2020-07-27 01:00:00</td>\n",
       "      <td>2020-07-27</td>\n",
       "      <td>1</td>\n",
       "      <td>N</td>\n",
       "      <td>MONDAY</td>\n",
       "      <td>Coast</td>\n",
       "      <td>11542.7998</td>\n",
       "      <td>2020-07-27</td>\n",
       "      <td>20</td>\n",
       "      <td>2020-07-27 20:30:00</td>\n",
       "      <td>cdr.00012312.0000000000000000.20200727.203000....</td>\n",
       "    </tr>\n",
       "    <tr>\n",
       "      <td>1</td>\n",
       "      <td>2020-07-27 02:00:00</td>\n",
       "      <td>2020-07-27</td>\n",
       "      <td>2</td>\n",
       "      <td>N</td>\n",
       "      <td>MONDAY</td>\n",
       "      <td>Coast</td>\n",
       "      <td>11082.9004</td>\n",
       "      <td>2020-07-27</td>\n",
       "      <td>20</td>\n",
       "      <td>2020-07-27 20:30:00</td>\n",
       "      <td>cdr.00012312.0000000000000000.20200727.203000....</td>\n",
       "    </tr>\n",
       "    <tr>\n",
       "      <td>2</td>\n",
       "      <td>2020-07-27 03:00:00</td>\n",
       "      <td>2020-07-27</td>\n",
       "      <td>3</td>\n",
       "      <td>N</td>\n",
       "      <td>MONDAY</td>\n",
       "      <td>Coast</td>\n",
       "      <td>10774.7998</td>\n",
       "      <td>2020-07-27</td>\n",
       "      <td>20</td>\n",
       "      <td>2020-07-27 20:30:00</td>\n",
       "      <td>cdr.00012312.0000000000000000.20200727.203000....</td>\n",
       "    </tr>\n",
       "    <tr>\n",
       "      <td>3</td>\n",
       "      <td>2020-07-27 04:00:00</td>\n",
       "      <td>2020-07-27</td>\n",
       "      <td>4</td>\n",
       "      <td>N</td>\n",
       "      <td>MONDAY</td>\n",
       "      <td>Coast</td>\n",
       "      <td>10524.2002</td>\n",
       "      <td>2020-07-27</td>\n",
       "      <td>20</td>\n",
       "      <td>2020-07-27 20:30:00</td>\n",
       "      <td>cdr.00012312.0000000000000000.20200727.203000....</td>\n",
       "    </tr>\n",
       "    <tr>\n",
       "      <td>4</td>\n",
       "      <td>2020-07-27 05:00:00</td>\n",
       "      <td>2020-07-27</td>\n",
       "      <td>5</td>\n",
       "      <td>N</td>\n",
       "      <td>MONDAY</td>\n",
       "      <td>Coast</td>\n",
       "      <td>10677.7998</td>\n",
       "      <td>2020-07-27</td>\n",
       "      <td>20</td>\n",
       "      <td>2020-07-27 20:30:00</td>\n",
       "      <td>cdr.00012312.0000000000000000.20200727.203000....</td>\n",
       "    </tr>\n",
       "    <tr>\n",
       "      <td>...</td>\n",
       "      <td>...</td>\n",
       "      <td>...</td>\n",
       "      <td>...</td>\n",
       "      <td>...</td>\n",
       "      <td>...</td>\n",
       "      <td>...</td>\n",
       "      <td>...</td>\n",
       "      <td>...</td>\n",
       "      <td>...</td>\n",
       "      <td>...</td>\n",
       "      <td>...</td>\n",
       "    </tr>\n",
       "    <tr>\n",
       "      <td>1723</td>\n",
       "      <td>2020-08-03 20:00:00</td>\n",
       "      <td>2020-08-03</td>\n",
       "      <td>20</td>\n",
       "      <td>N</td>\n",
       "      <td>MONDAY</td>\n",
       "      <td>SystemTotal</td>\n",
       "      <td>64857.3411</td>\n",
       "      <td>2020-07-27</td>\n",
       "      <td>20</td>\n",
       "      <td>2020-07-27 20:30:00</td>\n",
       "      <td>cdr.00012312.0000000000000000.20200727.203000....</td>\n",
       "    </tr>\n",
       "    <tr>\n",
       "      <td>1724</td>\n",
       "      <td>2020-08-03 21:00:00</td>\n",
       "      <td>2020-08-03</td>\n",
       "      <td>21</td>\n",
       "      <td>N</td>\n",
       "      <td>MONDAY</td>\n",
       "      <td>SystemTotal</td>\n",
       "      <td>62944.4392</td>\n",
       "      <td>2020-07-27</td>\n",
       "      <td>20</td>\n",
       "      <td>2020-07-27 20:30:00</td>\n",
       "      <td>cdr.00012312.0000000000000000.20200727.203000....</td>\n",
       "    </tr>\n",
       "    <tr>\n",
       "      <td>1725</td>\n",
       "      <td>2020-08-03 22:00:00</td>\n",
       "      <td>2020-08-03</td>\n",
       "      <td>22</td>\n",
       "      <td>N</td>\n",
       "      <td>MONDAY</td>\n",
       "      <td>SystemTotal</td>\n",
       "      <td>60702.5990</td>\n",
       "      <td>2020-07-27</td>\n",
       "      <td>20</td>\n",
       "      <td>2020-07-27 20:30:00</td>\n",
       "      <td>cdr.00012312.0000000000000000.20200727.203000....</td>\n",
       "    </tr>\n",
       "    <tr>\n",
       "      <td>1726</td>\n",
       "      <td>2020-08-03 23:00:00</td>\n",
       "      <td>2020-08-03</td>\n",
       "      <td>23</td>\n",
       "      <td>N</td>\n",
       "      <td>MONDAY</td>\n",
       "      <td>SystemTotal</td>\n",
       "      <td>56769.1695</td>\n",
       "      <td>2020-07-27</td>\n",
       "      <td>20</td>\n",
       "      <td>2020-07-27 20:30:00</td>\n",
       "      <td>cdr.00012312.0000000000000000.20200727.203000....</td>\n",
       "    </tr>\n",
       "    <tr>\n",
       "      <td>1727</td>\n",
       "      <td>2020-08-04 00:00:00</td>\n",
       "      <td>2020-08-03</td>\n",
       "      <td>24</td>\n",
       "      <td>N</td>\n",
       "      <td>TUESDAY</td>\n",
       "      <td>SystemTotal</td>\n",
       "      <td>52495.5805</td>\n",
       "      <td>2020-07-27</td>\n",
       "      <td>20</td>\n",
       "      <td>2020-07-27 20:30:00</td>\n",
       "      <td>cdr.00012312.0000000000000000.20200727.203000....</td>\n",
       "    </tr>\n",
       "  </tbody>\n",
       "</table>\n",
       "<p>1728 rows × 11 columns</p>\n",
       "</div>"
      ],
      "text/plain": [
       "             delivery_dt delivery_date delivery_hour dst_flag  weekday  \\\n",
       "0    2020-07-27 01:00:00    2020-07-27             1        N   MONDAY   \n",
       "1    2020-07-27 02:00:00    2020-07-27             2        N   MONDAY   \n",
       "2    2020-07-27 03:00:00    2020-07-27             3        N   MONDAY   \n",
       "3    2020-07-27 04:00:00    2020-07-27             4        N   MONDAY   \n",
       "4    2020-07-27 05:00:00    2020-07-27             5        N   MONDAY   \n",
       "...                  ...           ...           ...      ...      ...   \n",
       "1723 2020-08-03 20:00:00    2020-08-03            20        N   MONDAY   \n",
       "1724 2020-08-03 21:00:00    2020-08-03            21        N   MONDAY   \n",
       "1725 2020-08-03 22:00:00    2020-08-03            22        N   MONDAY   \n",
       "1726 2020-08-03 23:00:00    2020-08-03            23        N   MONDAY   \n",
       "1727 2020-08-04 00:00:00    2020-08-03            24        N  TUESDAY   \n",
       "\n",
       "     weather_zone          mw process_date process_hour          process_dt  \\\n",
       "0           Coast  11542.7998   2020-07-27           20 2020-07-27 20:30:00   \n",
       "1           Coast  11082.9004   2020-07-27           20 2020-07-27 20:30:00   \n",
       "2           Coast  10774.7998   2020-07-27           20 2020-07-27 20:30:00   \n",
       "3           Coast  10524.2002   2020-07-27           20 2020-07-27 20:30:00   \n",
       "4           Coast  10677.7998   2020-07-27           20 2020-07-27 20:30:00   \n",
       "...           ...         ...          ...          ...                 ...   \n",
       "1723  SystemTotal  64857.3411   2020-07-27           20 2020-07-27 20:30:00   \n",
       "1724  SystemTotal  62944.4392   2020-07-27           20 2020-07-27 20:30:00   \n",
       "1725  SystemTotal  60702.5990   2020-07-27           20 2020-07-27 20:30:00   \n",
       "1726  SystemTotal  56769.1695   2020-07-27           20 2020-07-27 20:30:00   \n",
       "1727  SystemTotal  52495.5805   2020-07-27           20 2020-07-27 20:30:00   \n",
       "\n",
       "                                              file_name  \n",
       "0     cdr.00012312.0000000000000000.20200727.203000....  \n",
       "1     cdr.00012312.0000000000000000.20200727.203000....  \n",
       "2     cdr.00012312.0000000000000000.20200727.203000....  \n",
       "3     cdr.00012312.0000000000000000.20200727.203000....  \n",
       "4     cdr.00012312.0000000000000000.20200727.203000....  \n",
       "...                                                 ...  \n",
       "1723  cdr.00012312.0000000000000000.20200727.203000....  \n",
       "1724  cdr.00012312.0000000000000000.20200727.203000....  \n",
       "1725  cdr.00012312.0000000000000000.20200727.203000....  \n",
       "1726  cdr.00012312.0000000000000000.20200727.203000....  \n",
       "1727  cdr.00012312.0000000000000000.20200727.203000....  \n",
       "\n",
       "[1728 rows x 11 columns]"
      ]
     },
     "execution_count": 135,
     "metadata": {},
     "output_type": "execute_result"
    }
   ],
   "source": [
    "#use pd.melt to unpivot columns\n",
    "long_load_fcst = pd.melt(load_fcst, id_vars=['DeliveryDate', 'weekday', 'HourEnding', 'DSTFlag', 'file_name', 'process_date', 'process_hour', 'process_dt', 'delivery_dt'],var_name='weather_zone', value_name ='mw')\n",
    "\n",
    "#rename columns\n",
    "long_load_fcst = long_load_fcst.rename(columns={'DeliveryDate':'delivery_date','HourEnding':'delivery_hour','DSTFlag':'dst_flag'})\n",
    "\n",
    "#reorganize columns\n",
    "arranged_columns = ['delivery_dt', 'delivery_date', 'delivery_hour','dst_flag', 'weekday', 'weather_zone', 'mw', 'process_date', 'process_hour', 'process_dt', 'file_name']\n",
    "\n",
    "\n",
    "long_load_fcst = long_load_fcst[arranged_columns]\n",
    "long_load_fcst"
   ]
  },
  {
   "cell_type": "markdown",
   "metadata": {},
   "source": [
    "## Plotting Forecasts"
   ]
  },
  {
   "cell_type": "code",
   "execution_count": 136,
   "metadata": {},
   "outputs": [],
   "source": [
    "import plotly.express as px\n",
    "#import plotly.io as pio\n",
    "#pio.renderers.default = \"svg\""
   ]
  },
  {
   "cell_type": "code",
   "execution_count": 139,
   "metadata": {},
   "outputs": [
    {
     "data": {
      "application/vnd.plotly.v1+json": {
       "config": {
        "plotlyServerURL": "https://plot.ly"
       },
       "data": [
        {
         "hovertemplate": "delivery_dt=%{x}<br>mw=%{y}<extra></extra>",
         "legendgroup": "",
         "line": {
          "color": "#636efa",
          "dash": "solid"
         },
         "mode": "lines",
         "name": "",
         "showlegend": false,
         "type": "scatter",
         "x": [
          "2020-07-27T01:00:00",
          "2020-07-27T02:00:00",
          "2020-07-27T03:00:00",
          "2020-07-27T04:00:00",
          "2020-07-27T05:00:00",
          "2020-07-27T06:00:00",
          "2020-07-27T07:00:00",
          "2020-07-27T08:00:00",
          "2020-07-27T09:00:00",
          "2020-07-27T10:00:00",
          "2020-07-27T11:00:00",
          "2020-07-27T12:00:00",
          "2020-07-27T13:00:00",
          "2020-07-27T14:00:00",
          "2020-07-27T15:00:00",
          "2020-07-27T16:00:00",
          "2020-07-27T17:00:00",
          "2020-07-27T18:00:00",
          "2020-07-27T19:00:00",
          "2020-07-27T20:00:00",
          "2020-07-27T21:00:00",
          "2020-07-27T22:00:00",
          "2020-07-27T23:00:00",
          "2020-07-28T00:00:00",
          "2020-07-28T01:00:00",
          "2020-07-28T02:00:00",
          "2020-07-28T03:00:00",
          "2020-07-28T04:00:00",
          "2020-07-28T05:00:00",
          "2020-07-28T06:00:00",
          "2020-07-28T07:00:00",
          "2020-07-28T08:00:00",
          "2020-07-28T09:00:00",
          "2020-07-28T10:00:00",
          "2020-07-28T11:00:00",
          "2020-07-28T12:00:00",
          "2020-07-28T13:00:00",
          "2020-07-28T14:00:00",
          "2020-07-28T15:00:00",
          "2020-07-28T16:00:00",
          "2020-07-28T17:00:00",
          "2020-07-28T18:00:00",
          "2020-07-28T19:00:00",
          "2020-07-28T20:00:00",
          "2020-07-28T21:00:00",
          "2020-07-28T22:00:00",
          "2020-07-28T23:00:00",
          "2020-07-29T00:00:00",
          "2020-07-29T01:00:00",
          "2020-07-29T02:00:00",
          "2020-07-29T03:00:00",
          "2020-07-29T04:00:00",
          "2020-07-29T05:00:00",
          "2020-07-29T06:00:00",
          "2020-07-29T07:00:00",
          "2020-07-29T08:00:00",
          "2020-07-29T09:00:00",
          "2020-07-29T10:00:00",
          "2020-07-29T11:00:00",
          "2020-07-29T12:00:00",
          "2020-07-29T13:00:00",
          "2020-07-29T14:00:00",
          "2020-07-29T15:00:00",
          "2020-07-29T16:00:00",
          "2020-07-29T17:00:00",
          "2020-07-29T18:00:00",
          "2020-07-29T19:00:00",
          "2020-07-29T20:00:00",
          "2020-07-29T21:00:00",
          "2020-07-29T22:00:00",
          "2020-07-29T23:00:00",
          "2020-07-30T00:00:00",
          "2020-07-30T01:00:00",
          "2020-07-30T02:00:00",
          "2020-07-30T03:00:00",
          "2020-07-30T04:00:00",
          "2020-07-30T05:00:00",
          "2020-07-30T06:00:00",
          "2020-07-30T07:00:00",
          "2020-07-30T08:00:00",
          "2020-07-30T09:00:00",
          "2020-07-30T10:00:00",
          "2020-07-30T11:00:00",
          "2020-07-30T12:00:00",
          "2020-07-30T13:00:00",
          "2020-07-30T14:00:00",
          "2020-07-30T15:00:00",
          "2020-07-30T16:00:00",
          "2020-07-30T17:00:00",
          "2020-07-30T18:00:00",
          "2020-07-30T19:00:00",
          "2020-07-30T20:00:00",
          "2020-07-30T21:00:00",
          "2020-07-30T22:00:00",
          "2020-07-30T23:00:00",
          "2020-07-31T00:00:00",
          "2020-07-31T01:00:00",
          "2020-07-31T02:00:00",
          "2020-07-31T03:00:00",
          "2020-07-31T04:00:00",
          "2020-07-31T05:00:00",
          "2020-07-31T06:00:00",
          "2020-07-31T07:00:00",
          "2020-07-31T08:00:00",
          "2020-07-31T09:00:00",
          "2020-07-31T10:00:00",
          "2020-07-31T11:00:00",
          "2020-07-31T12:00:00",
          "2020-07-31T13:00:00",
          "2020-07-31T14:00:00",
          "2020-07-31T15:00:00",
          "2020-07-31T16:00:00",
          "2020-07-31T17:00:00",
          "2020-07-31T18:00:00",
          "2020-07-31T19:00:00",
          "2020-07-31T20:00:00",
          "2020-07-31T21:00:00",
          "2020-07-31T22:00:00",
          "2020-07-31T23:00:00",
          "2020-08-01T00:00:00",
          "2020-08-01T01:00:00",
          "2020-08-01T02:00:00",
          "2020-08-01T03:00:00",
          "2020-08-01T04:00:00",
          "2020-08-01T05:00:00",
          "2020-08-01T06:00:00",
          "2020-08-01T07:00:00",
          "2020-08-01T08:00:00",
          "2020-08-01T09:00:00",
          "2020-08-01T10:00:00",
          "2020-08-01T11:00:00",
          "2020-08-01T12:00:00",
          "2020-08-01T13:00:00",
          "2020-08-01T14:00:00",
          "2020-08-01T15:00:00",
          "2020-08-01T16:00:00",
          "2020-08-01T17:00:00",
          "2020-08-01T18:00:00",
          "2020-08-01T19:00:00",
          "2020-08-01T20:00:00",
          "2020-08-01T21:00:00",
          "2020-08-01T22:00:00",
          "2020-08-01T23:00:00",
          "2020-08-02T00:00:00",
          "2020-08-02T01:00:00",
          "2020-08-02T02:00:00",
          "2020-08-02T03:00:00",
          "2020-08-02T04:00:00",
          "2020-08-02T05:00:00",
          "2020-08-02T06:00:00",
          "2020-08-02T07:00:00",
          "2020-08-02T08:00:00",
          "2020-08-02T09:00:00",
          "2020-08-02T10:00:00",
          "2020-08-02T11:00:00",
          "2020-08-02T12:00:00",
          "2020-08-02T13:00:00",
          "2020-08-02T14:00:00",
          "2020-08-02T15:00:00",
          "2020-08-02T16:00:00",
          "2020-08-02T17:00:00",
          "2020-08-02T18:00:00",
          "2020-08-02T19:00:00",
          "2020-08-02T20:00:00",
          "2020-08-02T21:00:00",
          "2020-08-02T22:00:00",
          "2020-08-02T23:00:00",
          "2020-08-03T00:00:00",
          "2020-08-03T01:00:00",
          "2020-08-03T02:00:00",
          "2020-08-03T03:00:00",
          "2020-08-03T04:00:00",
          "2020-08-03T05:00:00",
          "2020-08-03T06:00:00",
          "2020-08-03T07:00:00",
          "2020-08-03T08:00:00",
          "2020-08-03T09:00:00",
          "2020-08-03T10:00:00",
          "2020-08-03T11:00:00",
          "2020-08-03T12:00:00",
          "2020-08-03T13:00:00",
          "2020-08-03T14:00:00",
          "2020-08-03T15:00:00",
          "2020-08-03T16:00:00",
          "2020-08-03T17:00:00",
          "2020-08-03T18:00:00",
          "2020-08-03T19:00:00",
          "2020-08-03T20:00:00",
          "2020-08-03T21:00:00",
          "2020-08-03T22:00:00",
          "2020-08-03T23:00:00",
          "2020-08-04T00:00:00"
         ],
         "xaxis": "x",
         "y": [
          43164.9901,
          41109.5664,
          39794.1808,
          38751.252,
          38702.9578,
          39764.4626,
          40843.8982,
          42747.2903,
          44046.9952,
          45958.8001,
          48997.2102,
          53251.8907,
          57636.8801,
          60461.0898,
          62596.6192,
          64569.3384,
          65756.3093,
          63912.1999,
          63087.52099999999,
          60381.5094,
          58161.3296,
          56390.8895,
          52815.8601,
          49510.4198,
          46139.5696,
          43721.629,
          41789.7871,
          40824.0709,
          40477.7504,
          41203.6922,
          42577.0788,
          43764.2547,
          45780.9239,
          48675.4102,
          51871.725999999995,
          54963.2801,
          57746.3942,
          60103.5604,
          61704.6993,
          62813.892,
          63362.3758,
          62967.5677,
          61575.6153,
          59566.6326,
          57919.7776,
          56294.7654,
          52958.111,
          49628.4876,
          47124.3021,
          44831.2051,
          42688.1775,
          41695.5142,
          41466.6023,
          42401.7654,
          43825.7566,
          45436.5216,
          47194.0399,
          49780.5298,
          52468.2595,
          55193.5209,
          57767.2612,
          60253.5307,
          62383.3205,
          63967.539000000004,
          64907.0701,
          64542.7895,
          62881.2898,
          61216.4996,
          59386.2005,
          58046.0188,
          54642.7703,
          51358.9202,
          48536.4801,
          46180.5215,
          43882.6542,
          42864.8509,
          42563.3892,
          43338.2443,
          45001.0813,
          46449.5776,
          48383.6605,
          51332.74,
          54693.8202,
          57749.3402,
          60640.9798,
          63727.8612,
          65790.6192,
          67400.7304,
          68339.4109,
          67928.261,
          66245.2593,
          64335.7407,
          62249.0686,
          60661.7688,
          56929.5802,
          53099.3987,
          49894.0104,
          47335.8598,
          44917.3644,
          43655.8376,
          43112.0704,
          43982.0001,
          45428.2917,
          46902.5801,
          48872.1393,
          51874.919,
          55229.9216,
          58893.2492,
          61956.0696,
          65090.2699,
          67198.7101,
          68631.328,
          69689.8195,
          69157.8202,
          67516.2411,
          64874.0201,
          63113.8302,
          61226.0311,
          57046.4993,
          53140.8397,
          49118.489,
          45610.9459,
          43612.7584,
          42149.6427,
          40606.8364,
          40707.3066,
          40443.3834,
          41488.2115,
          44525.1918,
          47926.6403,
          51801.6602,
          55374.6005,
          59043.5906,
          61849.2988,
          64944.94,
          66275.82,
          66966.8317,
          66958.9907,
          65746.8807,
          62894.6,
          61245.0294,
          59329.9787,
          56101.4898,
          52256.3701,
          49044.432,
          45601.2868,
          43690.2373,
          42143.503,
          40823.8856,
          40482.8791,
          39940.9237,
          41233.2609,
          44053.9712,
          47693.34,
          51590.0294,
          55388.8908,
          59175.7307,
          62169.2501,
          64844.9409,
          66137.0006,
          67062.8799,
          66994.8804,
          65964.1597,
          63276.189000000006,
          61302.4603,
          59315.3391,
          56233.3008,
          52136.0761,
          48956.2762,
          45595.5333,
          43734.9074,
          42261.198,
          41487.9329,
          42472.1708,
          44245.5399,
          45488.8938,
          47573.1502,
          50540.8498,
          54385.5694,
          58394.2614,
          61913.1414,
          65215.15,
          67703.3801,
          68937.6503,
          69818.9799,
          69136.71,
          67606.4389,
          64857.3411,
          62944.4392,
          60702.599,
          56769.1695,
          52495.5805
         ],
         "yaxis": "y"
        }
       ],
       "layout": {
        "legend": {
         "tracegroupgap": 0
        },
        "template": {
         "data": {
          "bar": [
           {
            "error_x": {
             "color": "#2a3f5f"
            },
            "error_y": {
             "color": "#2a3f5f"
            },
            "marker": {
             "line": {
              "color": "#E5ECF6",
              "width": 0.5
             }
            },
            "type": "bar"
           }
          ],
          "barpolar": [
           {
            "marker": {
             "line": {
              "color": "#E5ECF6",
              "width": 0.5
             }
            },
            "type": "barpolar"
           }
          ],
          "carpet": [
           {
            "aaxis": {
             "endlinecolor": "#2a3f5f",
             "gridcolor": "white",
             "linecolor": "white",
             "minorgridcolor": "white",
             "startlinecolor": "#2a3f5f"
            },
            "baxis": {
             "endlinecolor": "#2a3f5f",
             "gridcolor": "white",
             "linecolor": "white",
             "minorgridcolor": "white",
             "startlinecolor": "#2a3f5f"
            },
            "type": "carpet"
           }
          ],
          "choropleth": [
           {
            "colorbar": {
             "outlinewidth": 0,
             "ticks": ""
            },
            "type": "choropleth"
           }
          ],
          "contour": [
           {
            "colorbar": {
             "outlinewidth": 0,
             "ticks": ""
            },
            "colorscale": [
             [
              0,
              "#0d0887"
             ],
             [
              0.1111111111111111,
              "#46039f"
             ],
             [
              0.2222222222222222,
              "#7201a8"
             ],
             [
              0.3333333333333333,
              "#9c179e"
             ],
             [
              0.4444444444444444,
              "#bd3786"
             ],
             [
              0.5555555555555556,
              "#d8576b"
             ],
             [
              0.6666666666666666,
              "#ed7953"
             ],
             [
              0.7777777777777778,
              "#fb9f3a"
             ],
             [
              0.8888888888888888,
              "#fdca26"
             ],
             [
              1,
              "#f0f921"
             ]
            ],
            "type": "contour"
           }
          ],
          "contourcarpet": [
           {
            "colorbar": {
             "outlinewidth": 0,
             "ticks": ""
            },
            "type": "contourcarpet"
           }
          ],
          "heatmap": [
           {
            "colorbar": {
             "outlinewidth": 0,
             "ticks": ""
            },
            "colorscale": [
             [
              0,
              "#0d0887"
             ],
             [
              0.1111111111111111,
              "#46039f"
             ],
             [
              0.2222222222222222,
              "#7201a8"
             ],
             [
              0.3333333333333333,
              "#9c179e"
             ],
             [
              0.4444444444444444,
              "#bd3786"
             ],
             [
              0.5555555555555556,
              "#d8576b"
             ],
             [
              0.6666666666666666,
              "#ed7953"
             ],
             [
              0.7777777777777778,
              "#fb9f3a"
             ],
             [
              0.8888888888888888,
              "#fdca26"
             ],
             [
              1,
              "#f0f921"
             ]
            ],
            "type": "heatmap"
           }
          ],
          "heatmapgl": [
           {
            "colorbar": {
             "outlinewidth": 0,
             "ticks": ""
            },
            "colorscale": [
             [
              0,
              "#0d0887"
             ],
             [
              0.1111111111111111,
              "#46039f"
             ],
             [
              0.2222222222222222,
              "#7201a8"
             ],
             [
              0.3333333333333333,
              "#9c179e"
             ],
             [
              0.4444444444444444,
              "#bd3786"
             ],
             [
              0.5555555555555556,
              "#d8576b"
             ],
             [
              0.6666666666666666,
              "#ed7953"
             ],
             [
              0.7777777777777778,
              "#fb9f3a"
             ],
             [
              0.8888888888888888,
              "#fdca26"
             ],
             [
              1,
              "#f0f921"
             ]
            ],
            "type": "heatmapgl"
           }
          ],
          "histogram": [
           {
            "marker": {
             "colorbar": {
              "outlinewidth": 0,
              "ticks": ""
             }
            },
            "type": "histogram"
           }
          ],
          "histogram2d": [
           {
            "colorbar": {
             "outlinewidth": 0,
             "ticks": ""
            },
            "colorscale": [
             [
              0,
              "#0d0887"
             ],
             [
              0.1111111111111111,
              "#46039f"
             ],
             [
              0.2222222222222222,
              "#7201a8"
             ],
             [
              0.3333333333333333,
              "#9c179e"
             ],
             [
              0.4444444444444444,
              "#bd3786"
             ],
             [
              0.5555555555555556,
              "#d8576b"
             ],
             [
              0.6666666666666666,
              "#ed7953"
             ],
             [
              0.7777777777777778,
              "#fb9f3a"
             ],
             [
              0.8888888888888888,
              "#fdca26"
             ],
             [
              1,
              "#f0f921"
             ]
            ],
            "type": "histogram2d"
           }
          ],
          "histogram2dcontour": [
           {
            "colorbar": {
             "outlinewidth": 0,
             "ticks": ""
            },
            "colorscale": [
             [
              0,
              "#0d0887"
             ],
             [
              0.1111111111111111,
              "#46039f"
             ],
             [
              0.2222222222222222,
              "#7201a8"
             ],
             [
              0.3333333333333333,
              "#9c179e"
             ],
             [
              0.4444444444444444,
              "#bd3786"
             ],
             [
              0.5555555555555556,
              "#d8576b"
             ],
             [
              0.6666666666666666,
              "#ed7953"
             ],
             [
              0.7777777777777778,
              "#fb9f3a"
             ],
             [
              0.8888888888888888,
              "#fdca26"
             ],
             [
              1,
              "#f0f921"
             ]
            ],
            "type": "histogram2dcontour"
           }
          ],
          "mesh3d": [
           {
            "colorbar": {
             "outlinewidth": 0,
             "ticks": ""
            },
            "type": "mesh3d"
           }
          ],
          "parcoords": [
           {
            "line": {
             "colorbar": {
              "outlinewidth": 0,
              "ticks": ""
             }
            },
            "type": "parcoords"
           }
          ],
          "pie": [
           {
            "automargin": true,
            "type": "pie"
           }
          ],
          "scatter": [
           {
            "marker": {
             "colorbar": {
              "outlinewidth": 0,
              "ticks": ""
             }
            },
            "type": "scatter"
           }
          ],
          "scatter3d": [
           {
            "line": {
             "colorbar": {
              "outlinewidth": 0,
              "ticks": ""
             }
            },
            "marker": {
             "colorbar": {
              "outlinewidth": 0,
              "ticks": ""
             }
            },
            "type": "scatter3d"
           }
          ],
          "scattercarpet": [
           {
            "marker": {
             "colorbar": {
              "outlinewidth": 0,
              "ticks": ""
             }
            },
            "type": "scattercarpet"
           }
          ],
          "scattergeo": [
           {
            "marker": {
             "colorbar": {
              "outlinewidth": 0,
              "ticks": ""
             }
            },
            "type": "scattergeo"
           }
          ],
          "scattergl": [
           {
            "marker": {
             "colorbar": {
              "outlinewidth": 0,
              "ticks": ""
             }
            },
            "type": "scattergl"
           }
          ],
          "scattermapbox": [
           {
            "marker": {
             "colorbar": {
              "outlinewidth": 0,
              "ticks": ""
             }
            },
            "type": "scattermapbox"
           }
          ],
          "scatterpolar": [
           {
            "marker": {
             "colorbar": {
              "outlinewidth": 0,
              "ticks": ""
             }
            },
            "type": "scatterpolar"
           }
          ],
          "scatterpolargl": [
           {
            "marker": {
             "colorbar": {
              "outlinewidth": 0,
              "ticks": ""
             }
            },
            "type": "scatterpolargl"
           }
          ],
          "scatterternary": [
           {
            "marker": {
             "colorbar": {
              "outlinewidth": 0,
              "ticks": ""
             }
            },
            "type": "scatterternary"
           }
          ],
          "surface": [
           {
            "colorbar": {
             "outlinewidth": 0,
             "ticks": ""
            },
            "colorscale": [
             [
              0,
              "#0d0887"
             ],
             [
              0.1111111111111111,
              "#46039f"
             ],
             [
              0.2222222222222222,
              "#7201a8"
             ],
             [
              0.3333333333333333,
              "#9c179e"
             ],
             [
              0.4444444444444444,
              "#bd3786"
             ],
             [
              0.5555555555555556,
              "#d8576b"
             ],
             [
              0.6666666666666666,
              "#ed7953"
             ],
             [
              0.7777777777777778,
              "#fb9f3a"
             ],
             [
              0.8888888888888888,
              "#fdca26"
             ],
             [
              1,
              "#f0f921"
             ]
            ],
            "type": "surface"
           }
          ],
          "table": [
           {
            "cells": {
             "fill": {
              "color": "#EBF0F8"
             },
             "line": {
              "color": "white"
             }
            },
            "header": {
             "fill": {
              "color": "#C8D4E3"
             },
             "line": {
              "color": "white"
             }
            },
            "type": "table"
           }
          ]
         },
         "layout": {
          "annotationdefaults": {
           "arrowcolor": "#2a3f5f",
           "arrowhead": 0,
           "arrowwidth": 1
          },
          "coloraxis": {
           "colorbar": {
            "outlinewidth": 0,
            "ticks": ""
           }
          },
          "colorscale": {
           "diverging": [
            [
             0,
             "#8e0152"
            ],
            [
             0.1,
             "#c51b7d"
            ],
            [
             0.2,
             "#de77ae"
            ],
            [
             0.3,
             "#f1b6da"
            ],
            [
             0.4,
             "#fde0ef"
            ],
            [
             0.5,
             "#f7f7f7"
            ],
            [
             0.6,
             "#e6f5d0"
            ],
            [
             0.7,
             "#b8e186"
            ],
            [
             0.8,
             "#7fbc41"
            ],
            [
             0.9,
             "#4d9221"
            ],
            [
             1,
             "#276419"
            ]
           ],
           "sequential": [
            [
             0,
             "#0d0887"
            ],
            [
             0.1111111111111111,
             "#46039f"
            ],
            [
             0.2222222222222222,
             "#7201a8"
            ],
            [
             0.3333333333333333,
             "#9c179e"
            ],
            [
             0.4444444444444444,
             "#bd3786"
            ],
            [
             0.5555555555555556,
             "#d8576b"
            ],
            [
             0.6666666666666666,
             "#ed7953"
            ],
            [
             0.7777777777777778,
             "#fb9f3a"
            ],
            [
             0.8888888888888888,
             "#fdca26"
            ],
            [
             1,
             "#f0f921"
            ]
           ],
           "sequentialminus": [
            [
             0,
             "#0d0887"
            ],
            [
             0.1111111111111111,
             "#46039f"
            ],
            [
             0.2222222222222222,
             "#7201a8"
            ],
            [
             0.3333333333333333,
             "#9c179e"
            ],
            [
             0.4444444444444444,
             "#bd3786"
            ],
            [
             0.5555555555555556,
             "#d8576b"
            ],
            [
             0.6666666666666666,
             "#ed7953"
            ],
            [
             0.7777777777777778,
             "#fb9f3a"
            ],
            [
             0.8888888888888888,
             "#fdca26"
            ],
            [
             1,
             "#f0f921"
            ]
           ]
          },
          "colorway": [
           "#636efa",
           "#EF553B",
           "#00cc96",
           "#ab63fa",
           "#FFA15A",
           "#19d3f3",
           "#FF6692",
           "#B6E880",
           "#FF97FF",
           "#FECB52"
          ],
          "font": {
           "color": "#2a3f5f"
          },
          "geo": {
           "bgcolor": "white",
           "lakecolor": "white",
           "landcolor": "#E5ECF6",
           "showlakes": true,
           "showland": true,
           "subunitcolor": "white"
          },
          "hoverlabel": {
           "align": "left"
          },
          "hovermode": "closest",
          "mapbox": {
           "style": "light"
          },
          "paper_bgcolor": "white",
          "plot_bgcolor": "#E5ECF6",
          "polar": {
           "angularaxis": {
            "gridcolor": "white",
            "linecolor": "white",
            "ticks": ""
           },
           "bgcolor": "#E5ECF6",
           "radialaxis": {
            "gridcolor": "white",
            "linecolor": "white",
            "ticks": ""
           }
          },
          "scene": {
           "xaxis": {
            "backgroundcolor": "#E5ECF6",
            "gridcolor": "white",
            "gridwidth": 2,
            "linecolor": "white",
            "showbackground": true,
            "ticks": "",
            "zerolinecolor": "white"
           },
           "yaxis": {
            "backgroundcolor": "#E5ECF6",
            "gridcolor": "white",
            "gridwidth": 2,
            "linecolor": "white",
            "showbackground": true,
            "ticks": "",
            "zerolinecolor": "white"
           },
           "zaxis": {
            "backgroundcolor": "#E5ECF6",
            "gridcolor": "white",
            "gridwidth": 2,
            "linecolor": "white",
            "showbackground": true,
            "ticks": "",
            "zerolinecolor": "white"
           }
          },
          "shapedefaults": {
           "line": {
            "color": "#2a3f5f"
           }
          },
          "ternary": {
           "aaxis": {
            "gridcolor": "white",
            "linecolor": "white",
            "ticks": ""
           },
           "baxis": {
            "gridcolor": "white",
            "linecolor": "white",
            "ticks": ""
           },
           "bgcolor": "#E5ECF6",
           "caxis": {
            "gridcolor": "white",
            "linecolor": "white",
            "ticks": ""
           }
          },
          "title": {
           "x": 0.05
          },
          "xaxis": {
           "automargin": true,
           "gridcolor": "white",
           "linecolor": "white",
           "ticks": "",
           "title": {
            "standoff": 15
           },
           "zerolinecolor": "white",
           "zerolinewidth": 2
          },
          "yaxis": {
           "automargin": true,
           "gridcolor": "white",
           "linecolor": "white",
           "ticks": "",
           "title": {
            "standoff": 15
           },
           "zerolinecolor": "white",
           "zerolinewidth": 2
          }
         }
        },
        "title": {
         "text": "System Level Forecasts"
        },
        "xaxis": {
         "anchor": "y",
         "domain": [
          0,
          1
         ],
         "title": {
          "text": "delivery_dt"
         }
        },
        "yaxis": {
         "anchor": "x",
         "domain": [
          0,
          1
         ],
         "title": {
          "text": "mw"
         }
        }
       }
      },
      "text/html": [
       "<div>\n",
       "        \n",
       "        \n",
       "            <div id=\"9298f47b-1c9e-4158-92b7-65611665bf77\" class=\"plotly-graph-div\" style=\"height:525px; width:100%;\"></div>\n",
       "            <script type=\"text/javascript\">\n",
       "                require([\"plotly\"], function(Plotly) {\n",
       "                    window.PLOTLYENV=window.PLOTLYENV || {};\n",
       "                    \n",
       "                if (document.getElementById(\"9298f47b-1c9e-4158-92b7-65611665bf77\")) {\n",
       "                    Plotly.newPlot(\n",
       "                        '9298f47b-1c9e-4158-92b7-65611665bf77',\n",
       "                        [{\"hovertemplate\": \"delivery_dt=%{x}<br>mw=%{y}<extra></extra>\", \"legendgroup\": \"\", \"line\": {\"color\": \"#636efa\", \"dash\": \"solid\"}, \"mode\": \"lines\", \"name\": \"\", \"showlegend\": false, \"type\": \"scatter\", \"x\": [\"2020-07-27T01:00:00\", \"2020-07-27T02:00:00\", \"2020-07-27T03:00:00\", \"2020-07-27T04:00:00\", \"2020-07-27T05:00:00\", \"2020-07-27T06:00:00\", \"2020-07-27T07:00:00\", \"2020-07-27T08:00:00\", \"2020-07-27T09:00:00\", \"2020-07-27T10:00:00\", \"2020-07-27T11:00:00\", \"2020-07-27T12:00:00\", \"2020-07-27T13:00:00\", \"2020-07-27T14:00:00\", \"2020-07-27T15:00:00\", \"2020-07-27T16:00:00\", \"2020-07-27T17:00:00\", \"2020-07-27T18:00:00\", \"2020-07-27T19:00:00\", \"2020-07-27T20:00:00\", \"2020-07-27T21:00:00\", \"2020-07-27T22:00:00\", \"2020-07-27T23:00:00\", \"2020-07-28T00:00:00\", \"2020-07-28T01:00:00\", \"2020-07-28T02:00:00\", \"2020-07-28T03:00:00\", \"2020-07-28T04:00:00\", \"2020-07-28T05:00:00\", \"2020-07-28T06:00:00\", \"2020-07-28T07:00:00\", \"2020-07-28T08:00:00\", \"2020-07-28T09:00:00\", \"2020-07-28T10:00:00\", \"2020-07-28T11:00:00\", \"2020-07-28T12:00:00\", \"2020-07-28T13:00:00\", \"2020-07-28T14:00:00\", \"2020-07-28T15:00:00\", \"2020-07-28T16:00:00\", \"2020-07-28T17:00:00\", \"2020-07-28T18:00:00\", \"2020-07-28T19:00:00\", \"2020-07-28T20:00:00\", \"2020-07-28T21:00:00\", \"2020-07-28T22:00:00\", \"2020-07-28T23:00:00\", \"2020-07-29T00:00:00\", \"2020-07-29T01:00:00\", \"2020-07-29T02:00:00\", \"2020-07-29T03:00:00\", \"2020-07-29T04:00:00\", \"2020-07-29T05:00:00\", \"2020-07-29T06:00:00\", \"2020-07-29T07:00:00\", \"2020-07-29T08:00:00\", \"2020-07-29T09:00:00\", \"2020-07-29T10:00:00\", \"2020-07-29T11:00:00\", \"2020-07-29T12:00:00\", \"2020-07-29T13:00:00\", \"2020-07-29T14:00:00\", \"2020-07-29T15:00:00\", \"2020-07-29T16:00:00\", \"2020-07-29T17:00:00\", \"2020-07-29T18:00:00\", \"2020-07-29T19:00:00\", \"2020-07-29T20:00:00\", \"2020-07-29T21:00:00\", \"2020-07-29T22:00:00\", \"2020-07-29T23:00:00\", \"2020-07-30T00:00:00\", \"2020-07-30T01:00:00\", \"2020-07-30T02:00:00\", \"2020-07-30T03:00:00\", \"2020-07-30T04:00:00\", \"2020-07-30T05:00:00\", \"2020-07-30T06:00:00\", \"2020-07-30T07:00:00\", \"2020-07-30T08:00:00\", \"2020-07-30T09:00:00\", \"2020-07-30T10:00:00\", \"2020-07-30T11:00:00\", \"2020-07-30T12:00:00\", \"2020-07-30T13:00:00\", \"2020-07-30T14:00:00\", \"2020-07-30T15:00:00\", \"2020-07-30T16:00:00\", \"2020-07-30T17:00:00\", \"2020-07-30T18:00:00\", \"2020-07-30T19:00:00\", \"2020-07-30T20:00:00\", \"2020-07-30T21:00:00\", \"2020-07-30T22:00:00\", \"2020-07-30T23:00:00\", \"2020-07-31T00:00:00\", \"2020-07-31T01:00:00\", \"2020-07-31T02:00:00\", \"2020-07-31T03:00:00\", \"2020-07-31T04:00:00\", \"2020-07-31T05:00:00\", \"2020-07-31T06:00:00\", \"2020-07-31T07:00:00\", \"2020-07-31T08:00:00\", \"2020-07-31T09:00:00\", \"2020-07-31T10:00:00\", \"2020-07-31T11:00:00\", \"2020-07-31T12:00:00\", \"2020-07-31T13:00:00\", \"2020-07-31T14:00:00\", \"2020-07-31T15:00:00\", \"2020-07-31T16:00:00\", \"2020-07-31T17:00:00\", \"2020-07-31T18:00:00\", \"2020-07-31T19:00:00\", \"2020-07-31T20:00:00\", \"2020-07-31T21:00:00\", \"2020-07-31T22:00:00\", \"2020-07-31T23:00:00\", \"2020-08-01T00:00:00\", \"2020-08-01T01:00:00\", \"2020-08-01T02:00:00\", \"2020-08-01T03:00:00\", \"2020-08-01T04:00:00\", \"2020-08-01T05:00:00\", \"2020-08-01T06:00:00\", \"2020-08-01T07:00:00\", \"2020-08-01T08:00:00\", \"2020-08-01T09:00:00\", \"2020-08-01T10:00:00\", \"2020-08-01T11:00:00\", \"2020-08-01T12:00:00\", \"2020-08-01T13:00:00\", \"2020-08-01T14:00:00\", \"2020-08-01T15:00:00\", \"2020-08-01T16:00:00\", \"2020-08-01T17:00:00\", \"2020-08-01T18:00:00\", \"2020-08-01T19:00:00\", \"2020-08-01T20:00:00\", \"2020-08-01T21:00:00\", \"2020-08-01T22:00:00\", \"2020-08-01T23:00:00\", \"2020-08-02T00:00:00\", \"2020-08-02T01:00:00\", \"2020-08-02T02:00:00\", \"2020-08-02T03:00:00\", \"2020-08-02T04:00:00\", \"2020-08-02T05:00:00\", \"2020-08-02T06:00:00\", \"2020-08-02T07:00:00\", \"2020-08-02T08:00:00\", \"2020-08-02T09:00:00\", \"2020-08-02T10:00:00\", \"2020-08-02T11:00:00\", \"2020-08-02T12:00:00\", \"2020-08-02T13:00:00\", \"2020-08-02T14:00:00\", \"2020-08-02T15:00:00\", \"2020-08-02T16:00:00\", \"2020-08-02T17:00:00\", \"2020-08-02T18:00:00\", \"2020-08-02T19:00:00\", \"2020-08-02T20:00:00\", \"2020-08-02T21:00:00\", \"2020-08-02T22:00:00\", \"2020-08-02T23:00:00\", \"2020-08-03T00:00:00\", \"2020-08-03T01:00:00\", \"2020-08-03T02:00:00\", \"2020-08-03T03:00:00\", \"2020-08-03T04:00:00\", \"2020-08-03T05:00:00\", \"2020-08-03T06:00:00\", \"2020-08-03T07:00:00\", \"2020-08-03T08:00:00\", \"2020-08-03T09:00:00\", \"2020-08-03T10:00:00\", \"2020-08-03T11:00:00\", \"2020-08-03T12:00:00\", \"2020-08-03T13:00:00\", \"2020-08-03T14:00:00\", \"2020-08-03T15:00:00\", \"2020-08-03T16:00:00\", \"2020-08-03T17:00:00\", \"2020-08-03T18:00:00\", \"2020-08-03T19:00:00\", \"2020-08-03T20:00:00\", \"2020-08-03T21:00:00\", \"2020-08-03T22:00:00\", \"2020-08-03T23:00:00\", \"2020-08-04T00:00:00\"], \"xaxis\": \"x\", \"y\": [43164.9901, 41109.5664, 39794.1808, 38751.252, 38702.9578, 39764.4626, 40843.8982, 42747.2903, 44046.9952, 45958.8001, 48997.2102, 53251.8907, 57636.8801, 60461.0898, 62596.6192, 64569.3384, 65756.3093, 63912.1999, 63087.52099999999, 60381.5094, 58161.3296, 56390.8895, 52815.8601, 49510.4198, 46139.5696, 43721.629, 41789.7871, 40824.0709, 40477.7504, 41203.6922, 42577.0788, 43764.2547, 45780.9239, 48675.4102, 51871.725999999995, 54963.2801, 57746.3942, 60103.5604, 61704.6993, 62813.892, 63362.3758, 62967.5677, 61575.6153, 59566.6326, 57919.7776, 56294.7654, 52958.111, 49628.4876, 47124.3021, 44831.2051, 42688.1775, 41695.5142, 41466.6023, 42401.7654, 43825.7566, 45436.5216, 47194.0399, 49780.5298, 52468.2595, 55193.5209, 57767.2612, 60253.5307, 62383.3205, 63967.539000000004, 64907.0701, 64542.7895, 62881.2898, 61216.4996, 59386.2005, 58046.0188, 54642.7703, 51358.9202, 48536.4801, 46180.5215, 43882.6542, 42864.8509, 42563.3892, 43338.2443, 45001.0813, 46449.5776, 48383.6605, 51332.74, 54693.8202, 57749.3402, 60640.9798, 63727.8612, 65790.6192, 67400.7304, 68339.4109, 67928.261, 66245.2593, 64335.7407, 62249.0686, 60661.7688, 56929.5802, 53099.3987, 49894.0104, 47335.8598, 44917.3644, 43655.8376, 43112.0704, 43982.0001, 45428.2917, 46902.5801, 48872.1393, 51874.919, 55229.9216, 58893.2492, 61956.0696, 65090.2699, 67198.7101, 68631.328, 69689.8195, 69157.8202, 67516.2411, 64874.0201, 63113.8302, 61226.0311, 57046.4993, 53140.8397, 49118.489, 45610.9459, 43612.7584, 42149.6427, 40606.8364, 40707.3066, 40443.3834, 41488.2115, 44525.1918, 47926.6403, 51801.6602, 55374.6005, 59043.5906, 61849.2988, 64944.94, 66275.82, 66966.8317, 66958.9907, 65746.8807, 62894.6, 61245.0294, 59329.9787, 56101.4898, 52256.3701, 49044.432, 45601.2868, 43690.2373, 42143.503, 40823.8856, 40482.8791, 39940.9237, 41233.2609, 44053.9712, 47693.34, 51590.0294, 55388.8908, 59175.7307, 62169.2501, 64844.9409, 66137.0006, 67062.8799, 66994.8804, 65964.1597, 63276.189000000006, 61302.4603, 59315.3391, 56233.3008, 52136.0761, 48956.2762, 45595.5333, 43734.9074, 42261.198, 41487.9329, 42472.1708, 44245.5399, 45488.8938, 47573.1502, 50540.8498, 54385.5694, 58394.2614, 61913.1414, 65215.15, 67703.3801, 68937.6503, 69818.9799, 69136.71, 67606.4389, 64857.3411, 62944.4392, 60702.599, 56769.1695, 52495.5805], \"yaxis\": \"y\"}],\n",
       "                        {\"legend\": {\"tracegroupgap\": 0}, \"template\": {\"data\": {\"bar\": [{\"error_x\": {\"color\": \"#2a3f5f\"}, \"error_y\": {\"color\": \"#2a3f5f\"}, \"marker\": {\"line\": {\"color\": \"#E5ECF6\", \"width\": 0.5}}, \"type\": \"bar\"}], \"barpolar\": [{\"marker\": {\"line\": {\"color\": \"#E5ECF6\", \"width\": 0.5}}, \"type\": \"barpolar\"}], \"carpet\": [{\"aaxis\": {\"endlinecolor\": \"#2a3f5f\", \"gridcolor\": \"white\", \"linecolor\": \"white\", \"minorgridcolor\": \"white\", \"startlinecolor\": \"#2a3f5f\"}, \"baxis\": {\"endlinecolor\": \"#2a3f5f\", \"gridcolor\": \"white\", \"linecolor\": \"white\", \"minorgridcolor\": \"white\", \"startlinecolor\": \"#2a3f5f\"}, \"type\": \"carpet\"}], \"choropleth\": [{\"colorbar\": {\"outlinewidth\": 0, \"ticks\": \"\"}, \"type\": \"choropleth\"}], \"contour\": [{\"colorbar\": {\"outlinewidth\": 0, \"ticks\": \"\"}, \"colorscale\": [[0.0, \"#0d0887\"], [0.1111111111111111, \"#46039f\"], [0.2222222222222222, \"#7201a8\"], [0.3333333333333333, \"#9c179e\"], [0.4444444444444444, \"#bd3786\"], [0.5555555555555556, \"#d8576b\"], [0.6666666666666666, \"#ed7953\"], [0.7777777777777778, \"#fb9f3a\"], [0.8888888888888888, \"#fdca26\"], [1.0, \"#f0f921\"]], \"type\": \"contour\"}], \"contourcarpet\": [{\"colorbar\": {\"outlinewidth\": 0, \"ticks\": \"\"}, \"type\": \"contourcarpet\"}], \"heatmap\": [{\"colorbar\": {\"outlinewidth\": 0, \"ticks\": \"\"}, \"colorscale\": [[0.0, \"#0d0887\"], [0.1111111111111111, \"#46039f\"], [0.2222222222222222, \"#7201a8\"], [0.3333333333333333, \"#9c179e\"], [0.4444444444444444, \"#bd3786\"], [0.5555555555555556, \"#d8576b\"], [0.6666666666666666, \"#ed7953\"], [0.7777777777777778, \"#fb9f3a\"], [0.8888888888888888, \"#fdca26\"], [1.0, \"#f0f921\"]], \"type\": \"heatmap\"}], \"heatmapgl\": [{\"colorbar\": {\"outlinewidth\": 0, \"ticks\": \"\"}, \"colorscale\": [[0.0, \"#0d0887\"], [0.1111111111111111, \"#46039f\"], [0.2222222222222222, \"#7201a8\"], [0.3333333333333333, \"#9c179e\"], [0.4444444444444444, \"#bd3786\"], [0.5555555555555556, \"#d8576b\"], [0.6666666666666666, \"#ed7953\"], [0.7777777777777778, \"#fb9f3a\"], [0.8888888888888888, \"#fdca26\"], [1.0, \"#f0f921\"]], \"type\": \"heatmapgl\"}], \"histogram\": [{\"marker\": {\"colorbar\": {\"outlinewidth\": 0, \"ticks\": \"\"}}, \"type\": \"histogram\"}], \"histogram2d\": [{\"colorbar\": {\"outlinewidth\": 0, \"ticks\": \"\"}, \"colorscale\": [[0.0, \"#0d0887\"], [0.1111111111111111, \"#46039f\"], [0.2222222222222222, \"#7201a8\"], [0.3333333333333333, \"#9c179e\"], [0.4444444444444444, \"#bd3786\"], [0.5555555555555556, \"#d8576b\"], [0.6666666666666666, \"#ed7953\"], [0.7777777777777778, \"#fb9f3a\"], [0.8888888888888888, \"#fdca26\"], [1.0, \"#f0f921\"]], \"type\": \"histogram2d\"}], \"histogram2dcontour\": [{\"colorbar\": {\"outlinewidth\": 0, \"ticks\": \"\"}, \"colorscale\": [[0.0, \"#0d0887\"], [0.1111111111111111, \"#46039f\"], [0.2222222222222222, \"#7201a8\"], [0.3333333333333333, \"#9c179e\"], [0.4444444444444444, \"#bd3786\"], [0.5555555555555556, \"#d8576b\"], [0.6666666666666666, \"#ed7953\"], [0.7777777777777778, \"#fb9f3a\"], [0.8888888888888888, \"#fdca26\"], [1.0, \"#f0f921\"]], \"type\": \"histogram2dcontour\"}], \"mesh3d\": [{\"colorbar\": {\"outlinewidth\": 0, \"ticks\": \"\"}, \"type\": \"mesh3d\"}], \"parcoords\": [{\"line\": {\"colorbar\": {\"outlinewidth\": 0, \"ticks\": \"\"}}, \"type\": \"parcoords\"}], \"pie\": [{\"automargin\": true, \"type\": \"pie\"}], \"scatter\": [{\"marker\": {\"colorbar\": {\"outlinewidth\": 0, \"ticks\": \"\"}}, \"type\": \"scatter\"}], \"scatter3d\": [{\"line\": {\"colorbar\": {\"outlinewidth\": 0, \"ticks\": \"\"}}, \"marker\": {\"colorbar\": {\"outlinewidth\": 0, \"ticks\": \"\"}}, \"type\": \"scatter3d\"}], \"scattercarpet\": [{\"marker\": {\"colorbar\": {\"outlinewidth\": 0, \"ticks\": \"\"}}, \"type\": \"scattercarpet\"}], \"scattergeo\": [{\"marker\": {\"colorbar\": {\"outlinewidth\": 0, \"ticks\": \"\"}}, \"type\": \"scattergeo\"}], \"scattergl\": [{\"marker\": {\"colorbar\": {\"outlinewidth\": 0, \"ticks\": \"\"}}, \"type\": \"scattergl\"}], \"scattermapbox\": [{\"marker\": {\"colorbar\": {\"outlinewidth\": 0, \"ticks\": \"\"}}, \"type\": \"scattermapbox\"}], \"scatterpolar\": [{\"marker\": {\"colorbar\": {\"outlinewidth\": 0, \"ticks\": \"\"}}, \"type\": \"scatterpolar\"}], \"scatterpolargl\": [{\"marker\": {\"colorbar\": {\"outlinewidth\": 0, \"ticks\": \"\"}}, \"type\": \"scatterpolargl\"}], \"scatterternary\": [{\"marker\": {\"colorbar\": {\"outlinewidth\": 0, \"ticks\": \"\"}}, \"type\": \"scatterternary\"}], \"surface\": [{\"colorbar\": {\"outlinewidth\": 0, \"ticks\": \"\"}, \"colorscale\": [[0.0, \"#0d0887\"], [0.1111111111111111, \"#46039f\"], [0.2222222222222222, \"#7201a8\"], [0.3333333333333333, \"#9c179e\"], [0.4444444444444444, \"#bd3786\"], [0.5555555555555556, \"#d8576b\"], [0.6666666666666666, \"#ed7953\"], [0.7777777777777778, \"#fb9f3a\"], [0.8888888888888888, \"#fdca26\"], [1.0, \"#f0f921\"]], \"type\": \"surface\"}], \"table\": [{\"cells\": {\"fill\": {\"color\": \"#EBF0F8\"}, \"line\": {\"color\": \"white\"}}, \"header\": {\"fill\": {\"color\": \"#C8D4E3\"}, \"line\": {\"color\": \"white\"}}, \"type\": \"table\"}]}, \"layout\": {\"annotationdefaults\": {\"arrowcolor\": \"#2a3f5f\", \"arrowhead\": 0, \"arrowwidth\": 1}, \"coloraxis\": {\"colorbar\": {\"outlinewidth\": 0, \"ticks\": \"\"}}, \"colorscale\": {\"diverging\": [[0, \"#8e0152\"], [0.1, \"#c51b7d\"], [0.2, \"#de77ae\"], [0.3, \"#f1b6da\"], [0.4, \"#fde0ef\"], [0.5, \"#f7f7f7\"], [0.6, \"#e6f5d0\"], [0.7, \"#b8e186\"], [0.8, \"#7fbc41\"], [0.9, \"#4d9221\"], [1, \"#276419\"]], \"sequential\": [[0.0, \"#0d0887\"], [0.1111111111111111, \"#46039f\"], [0.2222222222222222, \"#7201a8\"], [0.3333333333333333, \"#9c179e\"], [0.4444444444444444, \"#bd3786\"], [0.5555555555555556, \"#d8576b\"], [0.6666666666666666, \"#ed7953\"], [0.7777777777777778, \"#fb9f3a\"], [0.8888888888888888, \"#fdca26\"], [1.0, \"#f0f921\"]], \"sequentialminus\": [[0.0, \"#0d0887\"], [0.1111111111111111, \"#46039f\"], [0.2222222222222222, \"#7201a8\"], [0.3333333333333333, \"#9c179e\"], [0.4444444444444444, \"#bd3786\"], [0.5555555555555556, \"#d8576b\"], [0.6666666666666666, \"#ed7953\"], [0.7777777777777778, \"#fb9f3a\"], [0.8888888888888888, \"#fdca26\"], [1.0, \"#f0f921\"]]}, \"colorway\": [\"#636efa\", \"#EF553B\", \"#00cc96\", \"#ab63fa\", \"#FFA15A\", \"#19d3f3\", \"#FF6692\", \"#B6E880\", \"#FF97FF\", \"#FECB52\"], \"font\": {\"color\": \"#2a3f5f\"}, \"geo\": {\"bgcolor\": \"white\", \"lakecolor\": \"white\", \"landcolor\": \"#E5ECF6\", \"showlakes\": true, \"showland\": true, \"subunitcolor\": \"white\"}, \"hoverlabel\": {\"align\": \"left\"}, \"hovermode\": \"closest\", \"mapbox\": {\"style\": \"light\"}, \"paper_bgcolor\": \"white\", \"plot_bgcolor\": \"#E5ECF6\", \"polar\": {\"angularaxis\": {\"gridcolor\": \"white\", \"linecolor\": \"white\", \"ticks\": \"\"}, \"bgcolor\": \"#E5ECF6\", \"radialaxis\": {\"gridcolor\": \"white\", \"linecolor\": \"white\", \"ticks\": \"\"}}, \"scene\": {\"xaxis\": {\"backgroundcolor\": \"#E5ECF6\", \"gridcolor\": \"white\", \"gridwidth\": 2, \"linecolor\": \"white\", \"showbackground\": true, \"ticks\": \"\", \"zerolinecolor\": \"white\"}, \"yaxis\": {\"backgroundcolor\": \"#E5ECF6\", \"gridcolor\": \"white\", \"gridwidth\": 2, \"linecolor\": \"white\", \"showbackground\": true, \"ticks\": \"\", \"zerolinecolor\": \"white\"}, \"zaxis\": {\"backgroundcolor\": \"#E5ECF6\", \"gridcolor\": \"white\", \"gridwidth\": 2, \"linecolor\": \"white\", \"showbackground\": true, \"ticks\": \"\", \"zerolinecolor\": \"white\"}}, \"shapedefaults\": {\"line\": {\"color\": \"#2a3f5f\"}}, \"ternary\": {\"aaxis\": {\"gridcolor\": \"white\", \"linecolor\": \"white\", \"ticks\": \"\"}, \"baxis\": {\"gridcolor\": \"white\", \"linecolor\": \"white\", \"ticks\": \"\"}, \"bgcolor\": \"#E5ECF6\", \"caxis\": {\"gridcolor\": \"white\", \"linecolor\": \"white\", \"ticks\": \"\"}}, \"title\": {\"x\": 0.05}, \"xaxis\": {\"automargin\": true, \"gridcolor\": \"white\", \"linecolor\": \"white\", \"ticks\": \"\", \"title\": {\"standoff\": 15}, \"zerolinecolor\": \"white\", \"zerolinewidth\": 2}, \"yaxis\": {\"automargin\": true, \"gridcolor\": \"white\", \"linecolor\": \"white\", \"ticks\": \"\", \"title\": {\"standoff\": 15}, \"zerolinecolor\": \"white\", \"zerolinewidth\": 2}}}, \"title\": {\"text\": \"System Level Forecasts\"}, \"xaxis\": {\"anchor\": \"y\", \"domain\": [0.0, 1.0], \"title\": {\"text\": \"delivery_dt\"}}, \"yaxis\": {\"anchor\": \"x\", \"domain\": [0.0, 1.0], \"title\": {\"text\": \"mw\"}}},\n",
       "                        {\"responsive\": true}\n",
       "                    ).then(function(){\n",
       "                            \n",
       "var gd = document.getElementById('9298f47b-1c9e-4158-92b7-65611665bf77');\n",
       "var x = new MutationObserver(function (mutations, observer) {{\n",
       "        var display = window.getComputedStyle(gd).display;\n",
       "        if (!display || display === 'none') {{\n",
       "            console.log([gd, 'removed!']);\n",
       "            Plotly.purge(gd);\n",
       "            observer.disconnect();\n",
       "        }}\n",
       "}});\n",
       "\n",
       "// Listen for the removal of the full notebook cells\n",
       "var notebookContainer = gd.closest('#notebook-container');\n",
       "if (notebookContainer) {{\n",
       "    x.observe(notebookContainer, {childList: true});\n",
       "}}\n",
       "\n",
       "// Listen for the clearing of the current output cell\n",
       "var outputEl = gd.closest('.output');\n",
       "if (outputEl) {{\n",
       "    x.observe(outputEl, {childList: true});\n",
       "}}\n",
       "\n",
       "                        })\n",
       "                };\n",
       "                });\n",
       "            </script>\n",
       "        </div>"
      ]
     },
     "metadata": {},
     "output_type": "display_data"
    }
   ],
   "source": [
    "system_df = long_load_fcst.loc[long_load_fcst.weather_zone == 'SystemTotal', :] \n",
    "\n",
    "system_df.head()\n",
    "\n",
    "systemFig = px.line(system_df, x=\"delivery_dt\", y=\"mw\", title='System Level Forecasts')\n",
    "\n",
    "systemFig.show('svg')"
   ]
  },
  {
   "cell_type": "code",
   "execution_count": 140,
   "metadata": {},
   "outputs": [],
   "source": [
    "wz_df = long_load_fcst.loc[long_load_fcst.weather_zone != 'SystemTotal', :] "
   ]
  },
  {
   "cell_type": "code",
   "execution_count": 141,
   "metadata": {},
   "outputs": [
    {
     "data": {
      "image/svg+xml": [
       "<svg class=\"main-svg\" xmlns=\"http://www.w3.org/2000/svg\" xmlns:xlink=\"http://www.w3.org/1999/xlink\" width=\"700\" height=\"450\" style=\"\" viewBox=\"0 0 700 450\"><rect x=\"0\" y=\"0\" width=\"700\" height=\"450\" style=\"fill: rgb(255, 255, 255); fill-opacity: 1;\"/><defs id=\"defs-d7c2a9\"><g class=\"clips\"><clipPath id=\"clipd7c2a9xyplot\" class=\"plotclip\"><rect width=\"475\" height=\"270\"/></clipPath><clipPath class=\"axesclip\" id=\"clipd7c2a9x\"><rect x=\"80\" y=\"0\" width=\"475\" height=\"450\"/></clipPath><clipPath class=\"axesclip\" id=\"clipd7c2a9y\"><rect x=\"0\" y=\"100\" width=\"700\" height=\"270\"/></clipPath><clipPath class=\"axesclip\" id=\"clipd7c2a9xy\"><rect x=\"80\" y=\"100\" width=\"475\" height=\"270\"/></clipPath></g><g class=\"gradients\"/></defs><g class=\"bglayer\"><rect class=\"bg\" x=\"80\" y=\"100\" width=\"475\" height=\"270\" style=\"fill: rgb(229, 236, 246); fill-opacity: 1; stroke-width: 0;\"/></g><g class=\"layer-below\"><g class=\"imagelayer\"/><g class=\"shapelayer\"/></g><g class=\"cartesianlayer\"><g class=\"subplot xy\"><g class=\"layer-subplot\"><g class=\"shapelayer\"/><g class=\"imagelayer\"/></g><g class=\"gridlayer\"><g class=\"x\"><path class=\"xgrid crisp\" transform=\"translate(196.88,0)\" d=\"M0,100v270\" style=\"stroke: rgb(255, 255, 255); stroke-opacity: 1; stroke-width: 1px;\"/><path class=\"xgrid crisp\" transform=\"translate(316.26,0)\" d=\"M0,100v270\" style=\"stroke: rgb(255, 255, 255); stroke-opacity: 1; stroke-width: 1px;\"/><path class=\"xgrid crisp\" transform=\"translate(435.63,0)\" d=\"M0,100v270\" style=\"stroke: rgb(255, 255, 255); stroke-opacity: 1; stroke-width: 1px;\"/></g><g class=\"y\"><path class=\"ygrid crisp\" transform=\"translate(0,311.6)\" d=\"M80,0h475\" style=\"stroke: rgb(255, 255, 255); stroke-opacity: 1; stroke-width: 1px;\"/><path class=\"ygrid crisp\" transform=\"translate(0,258.35)\" d=\"M80,0h475\" style=\"stroke: rgb(255, 255, 255); stroke-opacity: 1; stroke-width: 1px;\"/><path class=\"ygrid crisp\" transform=\"translate(0,205.09)\" d=\"M80,0h475\" style=\"stroke: rgb(255, 255, 255); stroke-opacity: 1; stroke-width: 1px;\"/><path class=\"ygrid crisp\" transform=\"translate(0,151.84)\" d=\"M80,0h475\" style=\"stroke: rgb(255, 255, 255); stroke-opacity: 1; stroke-width: 1px;\"/></g></g><g class=\"zerolinelayer\"><path class=\"yzl zl crisp\" transform=\"translate(0,364.85)\" d=\"M80,0h475\" style=\"stroke: rgb(255, 255, 255); stroke-opacity: 1; stroke-width: 2px;\"/></g><path class=\"xlines-below\"/><path class=\"ylines-below\"/><g class=\"overlines-below\"/><g class=\"xaxislayer-below\"/><g class=\"yaxislayer-below\"/><g class=\"overaxes-below\"/><g class=\"plot\" transform=\"translate(80, 100)\" clip-path=\"url('#clipd7c2a9xyplot')\"/><g class=\"overplot\"/><path class=\"xlines-above crisp\" style=\"fill: none;\" d=\"M0,0\"/><path class=\"ylines-above crisp\" style=\"fill: none;\" d=\"M0,0\"/><g class=\"overlines-above\"/><g class=\"xaxislayer-above\"><g class=\"xtick\"><text text-anchor=\"middle\" x=\"0\" y=\"383\" transform=\"translate(196.88,0)\" style=\"font-family: 'Open Sans', verdana, arial, sans-serif; font-size: 12px; fill: rgb(42, 63, 95); fill-opacity: 1; white-space: pre;\"><tspan class=\"line\" dy=\"0em\" x=\"0\" y=\"383\">Jul 29</tspan><tspan class=\"line\" dy=\"1.3em\" x=\"0\" y=\"383\">2020</tspan></text></g><g class=\"xtick\"><text text-anchor=\"middle\" x=\"0\" y=\"383\" transform=\"translate(316.26,0)\" style=\"font-family: 'Open Sans', verdana, arial, sans-serif; font-size: 12px; fill: rgb(42, 63, 95); fill-opacity: 1; white-space: pre;\">Jul 31</text></g><g class=\"xtick\"><text text-anchor=\"middle\" x=\"0\" y=\"383\" transform=\"translate(435.63,0)\" style=\"font-family: 'Open Sans', verdana, arial, sans-serif; font-size: 12px; fill: rgb(42, 63, 95); fill-opacity: 1; white-space: pre;\">Aug 2</text></g><g class=\"xtick\"><text text-anchor=\"middle\" x=\"0\" y=\"383\" transform=\"translate(555,0)\" style=\"font-family: 'Open Sans', verdana, arial, sans-serif; font-size: 12px; fill: rgb(42, 63, 95); fill-opacity: 1; white-space: pre;\">Aug 4</text></g></g><g class=\"yaxislayer-above\"><g class=\"ytick\"><text text-anchor=\"end\" x=\"79\" y=\"4.199999999999999\" transform=\"translate(0,364.85)\" style=\"font-family: 'Open Sans', verdana, arial, sans-serif; font-size: 12px; fill: rgb(42, 63, 95); fill-opacity: 1; white-space: pre;\">0</text></g><g class=\"ytick\"><text text-anchor=\"end\" x=\"79\" y=\"4.199999999999999\" transform=\"translate(0,311.6)\" style=\"font-family: 'Open Sans', verdana, arial, sans-serif; font-size: 12px; fill: rgb(42, 63, 95); fill-opacity: 1; white-space: pre;\">5k</text></g><g class=\"ytick\"><text text-anchor=\"end\" x=\"79\" y=\"4.199999999999999\" transform=\"translate(0,258.35)\" style=\"font-family: 'Open Sans', verdana, arial, sans-serif; font-size: 12px; fill: rgb(42, 63, 95); fill-opacity: 1; white-space: pre;\">10k</text></g><g class=\"ytick\"><text text-anchor=\"end\" x=\"79\" y=\"4.199999999999999\" transform=\"translate(0,205.09)\" style=\"font-family: 'Open Sans', verdana, arial, sans-serif; font-size: 12px; fill: rgb(42, 63, 95); fill-opacity: 1; white-space: pre;\">15k</text></g><g class=\"ytick\"><text text-anchor=\"end\" x=\"79\" y=\"4.199999999999999\" transform=\"translate(0,151.84)\" style=\"font-family: 'Open Sans', verdana, arial, sans-serif; font-size: 12px; fill: rgb(42, 63, 95); fill-opacity: 1; white-space: pre;\">20k</text></g></g><g class=\"overaxes-above\"/></g></g><g class=\"polarlayer\"/><g class=\"ternarylayer\"/><g class=\"geolayer\"/><g class=\"funnelarealayer\"/><g class=\"pielayer\"/><g class=\"treemaplayer\"/><g class=\"sunburstlayer\"/><g class=\"glimages\"><image xmlns=\"http://www.w3.org/2000/svg\" xlink:href=\"data:image/png;base64,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\" preserveAspectRatio=\"none\" x=\"0\" y=\"0\" width=\"700\" height=\"450\"/><image xmlns=\"http://www.w3.org/2000/svg\" xlink:href=\"data:image/png;base64,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\" preserveAspectRatio=\"none\" x=\"0\" y=\"0\" width=\"700\" height=\"450\"/></g><defs id=\"topdefs-d7c2a9\"><g class=\"clips\"/><clipPath id=\"legendd7c2a9\"><rect width=\"124\" height=\"178\" x=\"0\" y=\"0\"/></clipPath></defs><g class=\"layer-above\"><g class=\"imagelayer\"/><g class=\"shapelayer\"/></g><g class=\"infolayer\"><g class=\"legend\" pointer-events=\"all\" transform=\"translate(564.5, 100)\"><rect class=\"bg\" shape-rendering=\"crispEdges\" style=\"stroke: rgb(68, 68, 68); stroke-opacity: 1; fill: rgb(255, 255, 255); fill-opacity: 1; stroke-width: 0px;\" width=\"124\" height=\"178\" x=\"0\" y=\"0\"/><g class=\"scrollbox\" transform=\"translate(0, 0)\" clip-path=\"url('#legendd7c2a9')\"><text class=\"legendtitletext user-select-none\" text-anchor=\"start\" x=\"2\" y=\"15.600000000000001\" style=\"font-family: 'Open Sans', verdana, arial, sans-serif; font-size: 12px; fill: rgb(42, 63, 95); fill-opacity: 1; white-space: pre;\">weather_zone</text><g class=\"groups\" transform=\"translate(0, 0)\"><g class=\"traces\" transform=\"translate(0, 30.1)\" style=\"opacity: 1;\"><text class=\"legendtext user-select-none\" text-anchor=\"start\" x=\"40\" y=\"4.680000000000001\" style=\"font-family: 'Open Sans', verdana, arial, sans-serif; font-size: 12px; fill: rgb(42, 63, 95); fill-opacity: 1; white-space: pre;\">Coast</text><g class=\"layers\" style=\"opacity: 1;\"><g class=\"legendfill\"/><g class=\"legendlines\"><path class=\"js-line\" d=\"M5,0h30\" style=\"fill: none; stroke: rgb(99, 110, 250); stroke-opacity: 1; stroke-width: 2px;\"/></g><g class=\"legendsymbols\"><g class=\"legendpoints\"/></g></g><rect class=\"legendtoggle\" pointer-events=\"all\" x=\"0\" y=\"-9.5\" width=\"118.671875\" height=\"19\" style=\"cursor: pointer; fill: rgb(0, 0, 0); fill-opacity: 0;\"/></g></g><g class=\"groups\" transform=\"translate(0, 0)\"><g class=\"traces\" transform=\"translate(0, 49.1)\" style=\"opacity: 1;\"><text class=\"legendtext user-select-none\" text-anchor=\"start\" x=\"40\" y=\"4.680000000000001\" style=\"font-family: 'Open Sans', verdana, arial, sans-serif; font-size: 12px; fill: rgb(42, 63, 95); fill-opacity: 1; white-space: pre;\">East</text><g class=\"layers\" style=\"opacity: 1;\"><g class=\"legendfill\"/><g class=\"legendlines\"><path class=\"js-line\" d=\"M5,0h30\" style=\"fill: none; stroke: rgb(239, 85, 59); stroke-opacity: 1; stroke-width: 2px;\"/></g><g class=\"legendsymbols\"><g class=\"legendpoints\"/></g></g><rect class=\"legendtoggle\" pointer-events=\"all\" x=\"0\" y=\"-9.5\" width=\"118.671875\" height=\"19\" style=\"cursor: pointer; fill: rgb(0, 0, 0); fill-opacity: 0;\"/></g></g><g class=\"groups\" transform=\"translate(0, 0)\"><g class=\"traces\" transform=\"translate(0, 68.1)\" style=\"opacity: 1;\"><text class=\"legendtext user-select-none\" text-anchor=\"start\" x=\"40\" y=\"4.680000000000001\" style=\"font-family: 'Open Sans', verdana, arial, sans-serif; font-size: 12px; fill: rgb(42, 63, 95); fill-opacity: 1; white-space: pre;\">FarWest</text><g class=\"layers\" style=\"opacity: 1;\"><g class=\"legendfill\"/><g class=\"legendlines\"><path class=\"js-line\" d=\"M5,0h30\" style=\"fill: none; stroke: rgb(0, 204, 150); stroke-opacity: 1; stroke-width: 2px;\"/></g><g class=\"legendsymbols\"><g class=\"legendpoints\"/></g></g><rect class=\"legendtoggle\" pointer-events=\"all\" x=\"0\" y=\"-9.5\" width=\"118.671875\" height=\"19\" style=\"cursor: pointer; fill: rgb(0, 0, 0); fill-opacity: 0;\"/></g></g><g class=\"groups\" transform=\"translate(0, 0)\"><g class=\"traces\" transform=\"translate(0, 87.1)\" style=\"opacity: 1;\"><text class=\"legendtext user-select-none\" text-anchor=\"start\" x=\"40\" y=\"4.680000000000001\" style=\"font-family: 'Open Sans', verdana, arial, sans-serif; font-size: 12px; fill: rgb(42, 63, 95); fill-opacity: 1; white-space: pre;\">North</text><g class=\"layers\" style=\"opacity: 1;\"><g class=\"legendfill\"/><g class=\"legendlines\"><path class=\"js-line\" d=\"M5,0h30\" style=\"fill: none; stroke: rgb(171, 99, 250); stroke-opacity: 1; stroke-width: 2px;\"/></g><g class=\"legendsymbols\"><g class=\"legendpoints\"/></g></g><rect class=\"legendtoggle\" pointer-events=\"all\" x=\"0\" y=\"-9.5\" width=\"118.671875\" height=\"19\" style=\"cursor: pointer; fill: rgb(0, 0, 0); fill-opacity: 0;\"/></g></g><g class=\"groups\" transform=\"translate(0, 0)\"><g class=\"traces\" transform=\"translate(0, 106.1)\" style=\"opacity: 1;\"><text class=\"legendtext user-select-none\" text-anchor=\"start\" x=\"40\" y=\"4.680000000000001\" style=\"font-family: 'Open Sans', verdana, arial, sans-serif; font-size: 12px; fill: rgb(42, 63, 95); fill-opacity: 1; white-space: pre;\">NorthCentral</text><g class=\"layers\" style=\"opacity: 1;\"><g class=\"legendfill\"/><g class=\"legendlines\"><path class=\"js-line\" d=\"M5,0h30\" style=\"fill: none; stroke: rgb(255, 161, 90); stroke-opacity: 1; stroke-width: 2px;\"/></g><g class=\"legendsymbols\"><g class=\"legendpoints\"/></g></g><rect class=\"legendtoggle\" pointer-events=\"all\" x=\"0\" y=\"-9.5\" width=\"118.671875\" height=\"19\" style=\"cursor: pointer; fill: rgb(0, 0, 0); fill-opacity: 0;\"/></g></g><g class=\"groups\" transform=\"translate(0, 0)\"><g class=\"traces\" transform=\"translate(0, 125.1)\" style=\"opacity: 1;\"><text class=\"legendtext user-select-none\" text-anchor=\"start\" x=\"40\" y=\"4.680000000000001\" style=\"font-family: 'Open Sans', verdana, arial, sans-serif; font-size: 12px; fill: rgb(42, 63, 95); fill-opacity: 1; white-space: pre;\">SouthCentral</text><g class=\"layers\" style=\"opacity: 1;\"><g class=\"legendfill\"/><g class=\"legendlines\"><path class=\"js-line\" d=\"M5,0h30\" style=\"fill: none; stroke: rgb(25, 211, 243); stroke-opacity: 1; stroke-width: 2px;\"/></g><g class=\"legendsymbols\"><g class=\"legendpoints\"/></g></g><rect class=\"legendtoggle\" pointer-events=\"all\" x=\"0\" y=\"-9.5\" width=\"118.671875\" height=\"19\" style=\"cursor: pointer; fill: rgb(0, 0, 0); fill-opacity: 0;\"/></g></g><g class=\"groups\" transform=\"translate(0, 0)\"><g class=\"traces\" transform=\"translate(0, 144.1)\" style=\"opacity: 1;\"><text class=\"legendtext user-select-none\" text-anchor=\"start\" x=\"40\" y=\"4.680000000000001\" style=\"font-family: 'Open Sans', verdana, arial, sans-serif; font-size: 12px; fill: rgb(42, 63, 95); fill-opacity: 1; white-space: pre;\">Southern</text><g class=\"layers\" style=\"opacity: 1;\"><g class=\"legendfill\"/><g class=\"legendlines\"><path class=\"js-line\" d=\"M5,0h30\" style=\"fill: none; stroke: rgb(255, 102, 146); stroke-opacity: 1; stroke-width: 2px;\"/></g><g class=\"legendsymbols\"><g class=\"legendpoints\"/></g></g><rect class=\"legendtoggle\" pointer-events=\"all\" x=\"0\" y=\"-9.5\" width=\"118.671875\" height=\"19\" style=\"cursor: pointer; fill: rgb(0, 0, 0); fill-opacity: 0;\"/></g></g><g class=\"groups\" transform=\"translate(0, 0)\"><g class=\"traces\" transform=\"translate(0, 163.1)\" style=\"opacity: 1;\"><text class=\"legendtext user-select-none\" text-anchor=\"start\" x=\"40\" y=\"4.680000000000001\" style=\"font-family: 'Open Sans', verdana, arial, sans-serif; font-size: 12px; fill: rgb(42, 63, 95); fill-opacity: 1; white-space: pre;\">West</text><g class=\"layers\" style=\"opacity: 1;\"><g class=\"legendfill\"/><g class=\"legendlines\"><path class=\"js-line\" d=\"M5,0h30\" style=\"fill: none; stroke: rgb(182, 232, 128); stroke-opacity: 1; stroke-width: 2px;\"/></g><g class=\"legendsymbols\"><g class=\"legendpoints\"/></g></g><rect class=\"legendtoggle\" pointer-events=\"all\" x=\"0\" y=\"-9.5\" width=\"118.671875\" height=\"19\" style=\"cursor: pointer; fill: rgb(0, 0, 0); fill-opacity: 0;\"/></g></g></g><rect class=\"scrollbar\" rx=\"20\" ry=\"3\" width=\"0\" height=\"0\" x=\"0\" y=\"0\" style=\"fill: rgb(128, 139, 164); fill-opacity: 1;\"/></g><g class=\"g-gtitle\"><text class=\"gtitle\" x=\"35\" y=\"50\" text-anchor=\"start\" dy=\"0em\" style=\"font-family: 'Open Sans', verdana, arial, sans-serif; font-size: 17px; fill: rgb(42, 63, 95); opacity: 1; font-weight: normal; white-space: pre;\">Weather Zone Load Forecasts</text></g><g class=\"g-xtitle\"><text class=\"xtitle\" x=\"317.5\" y=\"425.8\" text-anchor=\"middle\" style=\"font-family: 'Open Sans', verdana, arial, sans-serif; font-size: 14px; fill: rgb(42, 63, 95); opacity: 1; font-weight: normal; white-space: pre;\">delivery_dt</text></g><g class=\"g-ytitle\"><text class=\"ytitle\" transform=\"rotate(-90,31.840625000000003,235)\" x=\"31.840625000000003\" y=\"235\" text-anchor=\"middle\" style=\"font-family: 'Open Sans', verdana, arial, sans-serif; font-size: 14px; fill: rgb(42, 63, 95); opacity: 1; font-weight: normal; white-space: pre;\">mw</text></g></g></svg>"
      ]
     },
     "metadata": {},
     "output_type": "display_data"
    }
   ],
   "source": [
    "wzFig = px.line(wz_df, x='delivery_dt', y='mw', color='weather_zone', title='Weather Zone Load Forecasts')\n",
    "wzFig.show('svg')"
   ]
  },
  {
   "cell_type": "markdown",
   "metadata": {},
   "source": [
    "## Load Data to PostgreSQL Database"
   ]
  },
  {
   "cell_type": "code",
   "execution_count": 142,
   "metadata": {},
   "outputs": [],
   "source": [
    "from sqlalchemy import create_engine"
   ]
  },
  {
   "cell_type": "code",
   "execution_count": 143,
   "metadata": {},
   "outputs": [],
   "source": [
    "connection_string = f\"postgres:trumpet5@localhost:5432/ercot_db\"\n",
    "engine = create_engine(f'postgresql://{connection_string}')"
   ]
  },
  {
   "cell_type": "code",
   "execution_count": 144,
   "metadata": {},
   "outputs": [],
   "source": [
    "#fill table\n",
    "long_load_fcst.to_sql(name='da_load_fcst', con=engine, if_exists='append', index=False)"
   ]
  },
  {
   "cell_type": "code",
   "execution_count": 145,
   "metadata": {},
   "outputs": [
    {
     "data": {
      "text/html": [
       "<div>\n",
       "<style scoped>\n",
       "    .dataframe tbody tr th:only-of-type {\n",
       "        vertical-align: middle;\n",
       "    }\n",
       "\n",
       "    .dataframe tbody tr th {\n",
       "        vertical-align: top;\n",
       "    }\n",
       "\n",
       "    .dataframe thead th {\n",
       "        text-align: right;\n",
       "    }\n",
       "</style>\n",
       "<table border=\"1\" class=\"dataframe\">\n",
       "  <thead>\n",
       "    <tr style=\"text-align: right;\">\n",
       "      <th></th>\n",
       "      <th>delivery_dt</th>\n",
       "      <th>delivery_date</th>\n",
       "      <th>delivery_hour</th>\n",
       "      <th>dst_flag</th>\n",
       "      <th>weekday</th>\n",
       "      <th>weather_zone</th>\n",
       "      <th>mw</th>\n",
       "      <th>process_date</th>\n",
       "      <th>process_hour</th>\n",
       "      <th>process_dt</th>\n",
       "      <th>file_name</th>\n",
       "    </tr>\n",
       "  </thead>\n",
       "  <tbody>\n",
       "    <tr>\n",
       "      <td>0</td>\n",
       "      <td>2020-07-27 01:00:00</td>\n",
       "      <td>2020-07-27</td>\n",
       "      <td>1</td>\n",
       "      <td>N</td>\n",
       "      <td>MONDAY</td>\n",
       "      <td>Coast</td>\n",
       "      <td>11542.7998</td>\n",
       "      <td>2020-07-27</td>\n",
       "      <td>20</td>\n",
       "      <td>2020-07-27 20:30:00</td>\n",
       "      <td>cdr.00012312.0000000000000000.20200727.203000....</td>\n",
       "    </tr>\n",
       "    <tr>\n",
       "      <td>1</td>\n",
       "      <td>2020-07-27 02:00:00</td>\n",
       "      <td>2020-07-27</td>\n",
       "      <td>2</td>\n",
       "      <td>N</td>\n",
       "      <td>MONDAY</td>\n",
       "      <td>Coast</td>\n",
       "      <td>11082.9004</td>\n",
       "      <td>2020-07-27</td>\n",
       "      <td>20</td>\n",
       "      <td>2020-07-27 20:30:00</td>\n",
       "      <td>cdr.00012312.0000000000000000.20200727.203000....</td>\n",
       "    </tr>\n",
       "    <tr>\n",
       "      <td>2</td>\n",
       "      <td>2020-07-27 03:00:00</td>\n",
       "      <td>2020-07-27</td>\n",
       "      <td>3</td>\n",
       "      <td>N</td>\n",
       "      <td>MONDAY</td>\n",
       "      <td>Coast</td>\n",
       "      <td>10774.7998</td>\n",
       "      <td>2020-07-27</td>\n",
       "      <td>20</td>\n",
       "      <td>2020-07-27 20:30:00</td>\n",
       "      <td>cdr.00012312.0000000000000000.20200727.203000....</td>\n",
       "    </tr>\n",
       "    <tr>\n",
       "      <td>3</td>\n",
       "      <td>2020-07-27 04:00:00</td>\n",
       "      <td>2020-07-27</td>\n",
       "      <td>4</td>\n",
       "      <td>N</td>\n",
       "      <td>MONDAY</td>\n",
       "      <td>Coast</td>\n",
       "      <td>10524.2002</td>\n",
       "      <td>2020-07-27</td>\n",
       "      <td>20</td>\n",
       "      <td>2020-07-27 20:30:00</td>\n",
       "      <td>cdr.00012312.0000000000000000.20200727.203000....</td>\n",
       "    </tr>\n",
       "    <tr>\n",
       "      <td>4</td>\n",
       "      <td>2020-07-27 05:00:00</td>\n",
       "      <td>2020-07-27</td>\n",
       "      <td>5</td>\n",
       "      <td>N</td>\n",
       "      <td>MONDAY</td>\n",
       "      <td>Coast</td>\n",
       "      <td>10677.7998</td>\n",
       "      <td>2020-07-27</td>\n",
       "      <td>20</td>\n",
       "      <td>2020-07-27 20:30:00</td>\n",
       "      <td>cdr.00012312.0000000000000000.20200727.203000....</td>\n",
       "    </tr>\n",
       "    <tr>\n",
       "      <td>...</td>\n",
       "      <td>...</td>\n",
       "      <td>...</td>\n",
       "      <td>...</td>\n",
       "      <td>...</td>\n",
       "      <td>...</td>\n",
       "      <td>...</td>\n",
       "      <td>...</td>\n",
       "      <td>...</td>\n",
       "      <td>...</td>\n",
       "      <td>...</td>\n",
       "      <td>...</td>\n",
       "    </tr>\n",
       "    <tr>\n",
       "      <td>1723</td>\n",
       "      <td>2020-08-03 20:00:00</td>\n",
       "      <td>2020-08-03</td>\n",
       "      <td>20</td>\n",
       "      <td>N</td>\n",
       "      <td>MONDAY</td>\n",
       "      <td>SystemTotal</td>\n",
       "      <td>64857.3411</td>\n",
       "      <td>2020-07-27</td>\n",
       "      <td>20</td>\n",
       "      <td>2020-07-27 20:30:00</td>\n",
       "      <td>cdr.00012312.0000000000000000.20200727.203000....</td>\n",
       "    </tr>\n",
       "    <tr>\n",
       "      <td>1724</td>\n",
       "      <td>2020-08-03 21:00:00</td>\n",
       "      <td>2020-08-03</td>\n",
       "      <td>21</td>\n",
       "      <td>N</td>\n",
       "      <td>MONDAY</td>\n",
       "      <td>SystemTotal</td>\n",
       "      <td>62944.4392</td>\n",
       "      <td>2020-07-27</td>\n",
       "      <td>20</td>\n",
       "      <td>2020-07-27 20:30:00</td>\n",
       "      <td>cdr.00012312.0000000000000000.20200727.203000....</td>\n",
       "    </tr>\n",
       "    <tr>\n",
       "      <td>1725</td>\n",
       "      <td>2020-08-03 22:00:00</td>\n",
       "      <td>2020-08-03</td>\n",
       "      <td>22</td>\n",
       "      <td>N</td>\n",
       "      <td>MONDAY</td>\n",
       "      <td>SystemTotal</td>\n",
       "      <td>60702.5990</td>\n",
       "      <td>2020-07-27</td>\n",
       "      <td>20</td>\n",
       "      <td>2020-07-27 20:30:00</td>\n",
       "      <td>cdr.00012312.0000000000000000.20200727.203000....</td>\n",
       "    </tr>\n",
       "    <tr>\n",
       "      <td>1726</td>\n",
       "      <td>2020-08-03 23:00:00</td>\n",
       "      <td>2020-08-03</td>\n",
       "      <td>23</td>\n",
       "      <td>N</td>\n",
       "      <td>MONDAY</td>\n",
       "      <td>SystemTotal</td>\n",
       "      <td>56769.1695</td>\n",
       "      <td>2020-07-27</td>\n",
       "      <td>20</td>\n",
       "      <td>2020-07-27 20:30:00</td>\n",
       "      <td>cdr.00012312.0000000000000000.20200727.203000....</td>\n",
       "    </tr>\n",
       "    <tr>\n",
       "      <td>1727</td>\n",
       "      <td>2020-08-04 00:00:00</td>\n",
       "      <td>2020-08-03</td>\n",
       "      <td>24</td>\n",
       "      <td>N</td>\n",
       "      <td>TUESDAY</td>\n",
       "      <td>SystemTotal</td>\n",
       "      <td>52495.5805</td>\n",
       "      <td>2020-07-27</td>\n",
       "      <td>20</td>\n",
       "      <td>2020-07-27 20:30:00</td>\n",
       "      <td>cdr.00012312.0000000000000000.20200727.203000....</td>\n",
       "    </tr>\n",
       "  </tbody>\n",
       "</table>\n",
       "<p>1728 rows × 11 columns</p>\n",
       "</div>"
      ],
      "text/plain": [
       "             delivery_dt delivery_date delivery_hour dst_flag  weekday  \\\n",
       "0    2020-07-27 01:00:00    2020-07-27             1        N   MONDAY   \n",
       "1    2020-07-27 02:00:00    2020-07-27             2        N   MONDAY   \n",
       "2    2020-07-27 03:00:00    2020-07-27             3        N   MONDAY   \n",
       "3    2020-07-27 04:00:00    2020-07-27             4        N   MONDAY   \n",
       "4    2020-07-27 05:00:00    2020-07-27             5        N   MONDAY   \n",
       "...                  ...           ...           ...      ...      ...   \n",
       "1723 2020-08-03 20:00:00    2020-08-03            20        N   MONDAY   \n",
       "1724 2020-08-03 21:00:00    2020-08-03            21        N   MONDAY   \n",
       "1725 2020-08-03 22:00:00    2020-08-03            22        N   MONDAY   \n",
       "1726 2020-08-03 23:00:00    2020-08-03            23        N   MONDAY   \n",
       "1727 2020-08-04 00:00:00    2020-08-03            24        N  TUESDAY   \n",
       "\n",
       "     weather_zone          mw process_date process_hour          process_dt  \\\n",
       "0           Coast  11542.7998   2020-07-27           20 2020-07-27 20:30:00   \n",
       "1           Coast  11082.9004   2020-07-27           20 2020-07-27 20:30:00   \n",
       "2           Coast  10774.7998   2020-07-27           20 2020-07-27 20:30:00   \n",
       "3           Coast  10524.2002   2020-07-27           20 2020-07-27 20:30:00   \n",
       "4           Coast  10677.7998   2020-07-27           20 2020-07-27 20:30:00   \n",
       "...           ...         ...          ...          ...                 ...   \n",
       "1723  SystemTotal  64857.3411   2020-07-27           20 2020-07-27 20:30:00   \n",
       "1724  SystemTotal  62944.4392   2020-07-27           20 2020-07-27 20:30:00   \n",
       "1725  SystemTotal  60702.5990   2020-07-27           20 2020-07-27 20:30:00   \n",
       "1726  SystemTotal  56769.1695   2020-07-27           20 2020-07-27 20:30:00   \n",
       "1727  SystemTotal  52495.5805   2020-07-27           20 2020-07-27 20:30:00   \n",
       "\n",
       "                                              file_name  \n",
       "0     cdr.00012312.0000000000000000.20200727.203000....  \n",
       "1     cdr.00012312.0000000000000000.20200727.203000....  \n",
       "2     cdr.00012312.0000000000000000.20200727.203000....  \n",
       "3     cdr.00012312.0000000000000000.20200727.203000....  \n",
       "4     cdr.00012312.0000000000000000.20200727.203000....  \n",
       "...                                                 ...  \n",
       "1723  cdr.00012312.0000000000000000.20200727.203000....  \n",
       "1724  cdr.00012312.0000000000000000.20200727.203000....  \n",
       "1725  cdr.00012312.0000000000000000.20200727.203000....  \n",
       "1726  cdr.00012312.0000000000000000.20200727.203000....  \n",
       "1727  cdr.00012312.0000000000000000.20200727.203000....  \n",
       "\n",
       "[1728 rows x 11 columns]"
      ]
     },
     "execution_count": 145,
     "metadata": {},
     "output_type": "execute_result"
    }
   ],
   "source": [
    "#Print Table\n",
    "pd.read_sql_query('select * from da_load_fcst', con=engine)"
   ]
  },
  {
   "cell_type": "code",
   "execution_count": null,
   "metadata": {},
   "outputs": [],
   "source": []
  }
 ],
 "metadata": {
  "kernelspec": {
   "display_name": "Python 3",
   "language": "python",
   "name": "python3"
  },
  "language_info": {
   "codemirror_mode": {
    "name": "ipython",
    "version": 3
   },
   "file_extension": ".py",
   "mimetype": "text/x-python",
   "name": "python",
   "nbconvert_exporter": "python",
   "pygments_lexer": "ipython3",
   "version": "3.7.4"
  }
 },
 "nbformat": 4,
 "nbformat_minor": 2
}
